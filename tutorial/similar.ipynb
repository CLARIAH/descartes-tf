{
 "cells": [
  {
   "cell_type": "markdown",
   "id": "4a486875-147d-492a-9003-f05c48d841fc",
   "metadata": {},
   "source": [
    "<img align=\"right\" src=\"images/tf.png\" width=\"200\"/>\n",
    "<img align=\"right\" src=\"images/huc.png\" width=\"200\"/>\n",
    "<img align=\"right\" src=\"images/logo.png\" width=\"200\"/>\n",
    "\n",
    "---\n",
    "\n",
    "To get started: consult [start](start.ipynb)\n",
    "\n",
    "---\n",
    "\n",
    "# Similar sentences\n",
    "\n",
    "We explore the similar sentences in the letters of Descartes.\n",
    "\n",
    "They have already been diagnosed and put in an *edge* feature by running\n",
    "the notebook [parallels](../programs/parallels.ipynb)."
   ]
  },
  {
   "cell_type": "markdown",
   "id": "3f0597b0-6f7d-4610-91bb-6aa93a5c3f7a",
   "metadata": {},
   "source": [
    "# Incantation\n",
    "\n",
    "The ins and outs of installing Text-Fabric, getting the corpus, and initializing a notebook are\n",
    "explained in the [start tutorial](start.ipynb)."
   ]
  },
  {
   "cell_type": "code",
   "execution_count": 1,
   "id": "b8d43d3f-d00a-4ec3-b690-d0fa6fc9dcbe",
   "metadata": {},
   "outputs": [],
   "source": [
    "%load_ext autoreload\n",
    "%autoreload 2"
   ]
  },
  {
   "cell_type": "code",
   "execution_count": 2,
   "id": "156b5da3-563a-4081-967b-afd74cc314a3",
   "metadata": {
    "ExecuteTime": {
     "end_time": "2018-05-24T10:06:39.818664Z",
     "start_time": "2018-05-24T10:06:39.796588Z"
    }
   },
   "outputs": [],
   "source": [
    "from tf.app import use"
   ]
  },
  {
   "cell_type": "code",
   "execution_count": 3,
   "id": "d77aff2b-9f7d-45fb-a1a2-7d31c16c2bca",
   "metadata": {},
   "outputs": [
    {
     "data": {
      "text/markdown": [
       "**Locating corpus resources ...**"
      ],
      "text/plain": [
       "<IPython.core.display.Markdown object>"
      ]
     },
     "metadata": {},
     "output_type": "display_data"
    },
    {
     "data": {
      "text/html": [
       "<b title=\"local github\">app:</b> <span title=\"repo clone offline under /Users/me/github\">~/github/CLARIAH/descartes-tf/app</span>"
      ],
      "text/plain": [
       "<IPython.core.display.HTML object>"
      ]
     },
     "metadata": {},
     "output_type": "display_data"
    },
    {
     "data": {
      "text/html": [
       "<b title=\"local github\">data:</b> <span title=\"repo clone offline under /Users/me/github\">~/github/CLARIAH/descartes-tf/tf/1.1</span>"
      ],
      "text/plain": [
       "<IPython.core.display.HTML object>"
      ]
     },
     "metadata": {},
     "output_type": "display_data"
    },
    {
     "data": {
      "text/html": [
       "<b title=\"local github\">data:</b> <span title=\"repo clone offline under /Users/me/github\">~/github/CLARIAH/descartes-tf/parallels/tf/1.1</span>"
      ],
      "text/plain": [
       "<IPython.core.display.HTML object>"
      ]
     },
     "metadata": {},
     "output_type": "display_data"
    },
    {
     "data": {
      "text/html": [
       "\n",
       "            <b>Text-Fabric:</b> <a target=\"_blank\" href=\"https://annotation.github.io/text-fabric/tf/cheatsheet.html\" title=\"text-fabric-api\">Text-Fabric API 11.1.1</a>, <a target=\"_blank\" href=\"https://github.com/CLARIAH/descartes-tf/blob/master/app\" title=\"CLARIAH/descartes-tf app\">CLARIAH/descartes-tf/app  v3</a>, <a target=\"_blank\" href=\"https://annotation.github.io/text-fabric/tf/about/searchusage.html\" title=\"Search Templates Introduction and Reference\">Search Reference</a><br>\n",
       "            <b>Data:</b> <a target=\"_blank\" href=\"https://github.com/CLARIAH/descartes-tf/blob/master/docs/about.md\" title=\"provenance of Descartes = Descartes, all letters\">DESCARTES-TF</a>, <a target=\"_blank\" href=\"https://annotation.github.io/text-fabric/tf/writing/\" title=\"How TF features represent text\">Character table</a>, <a target=\"_blank\" href=\"https://github.com/CLARIAH/descartes-tf/blob/main/docs/transcription.md\" title=\"DESCARTES-TF feature documentation\">Feature docs</a><br>\n",
       "            <details class=\"nodeinfo\"><summary><b>Node types</b></summary>\n",
       "<table class=\"nodeinfo\">\n",
       "    <tr>\n",
       "        <th>Name</th>\n",
       "        <th># of nodes</th>\n",
       "        <th># slots/node</th>\n",
       "        <th>% coverage</th>\n",
       "    <tr>\n",
       "\n",
       "<tr>\n",
       "    <th>volume</th>\n",
       "    <td>8</td>\n",
       "    <td>85241.88</td>\n",
       "    <td><b>100</b></td>\n",
       "</tr>\n",
       "\n",
       "<tr>\n",
       "    <th>letter</th>\n",
       "    <td>725</td>\n",
       "    <td>940.60</td>\n",
       "    <td><b>100</b></td>\n",
       "</tr>\n",
       "\n",
       "<tr>\n",
       "    <th>page</th>\n",
       "    <td>2884</td>\n",
       "    <td>236.45</td>\n",
       "    <td><b>100</b></td>\n",
       "</tr>\n",
       "\n",
       "<tr>\n",
       "    <th>postscriptum</th>\n",
       "    <td>56</td>\n",
       "    <td>46.79</td>\n",
       "    <td>0</td>\n",
       "</tr>\n",
       "\n",
       "<tr>\n",
       "    <th>opener</th>\n",
       "    <td>545</td>\n",
       "    <td>1.97</td>\n",
       "    <td>0</td>\n",
       "</tr>\n",
       "\n",
       "<tr>\n",
       "    <th>closer</th>\n",
       "    <td>541</td>\n",
       "    <td>13.10</td>\n",
       "    <td>1</td>\n",
       "</tr>\n",
       "\n",
       "<tr>\n",
       "    <th>address</th>\n",
       "    <td>86</td>\n",
       "    <td>15.22</td>\n",
       "    <td>0</td>\n",
       "</tr>\n",
       "\n",
       "<tr>\n",
       "    <th>head</th>\n",
       "    <td>725</td>\n",
       "    <td>23.37</td>\n",
       "    <td>2</td>\n",
       "</tr>\n",
       "\n",
       "<tr>\n",
       "    <th>p</th>\n",
       "    <td>8438</td>\n",
       "    <td>80.82</td>\n",
       "    <td><b>100</b></td>\n",
       "</tr>\n",
       "\n",
       "<tr>\n",
       "    <th>sentence</th>\n",
       "    <td>13074</td>\n",
       "    <td>50.14</td>\n",
       "    <td>96</td>\n",
       "</tr>\n",
       "\n",
       "<tr>\n",
       "    <th>hi</th>\n",
       "    <td>5972</td>\n",
       "    <td>4.63</td>\n",
       "    <td>4</td>\n",
       "</tr>\n",
       "\n",
       "<tr>\n",
       "    <th>formula</th>\n",
       "    <td>6200</td>\n",
       "    <td>1.21</td>\n",
       "    <td>1</td>\n",
       "</tr>\n",
       "\n",
       "<tr>\n",
       "    <th>figure</th>\n",
       "    <td>319</td>\n",
       "    <td>1.00</td>\n",
       "    <td>0</td>\n",
       "</tr>\n",
       "\n",
       "<tr>\n",
       "    <th><i>word</i></th>\n",
       "    <td>681935</td>\n",
       "    <td>1.00</td>\n",
       "    <td><b>100</b></td>\n",
       "</tr>\n",
       "</table></details>\n",
       "            <b>Sets:</b> no custom sets<br>\n",
       "            <b>Features:</b><br>\n",
       "<details><summary><b>Similar Sentences</b></summary>\n",
       "    <div class=\"fcorpus\">\n",
       "\n",
       "<div class=\"frow\">\n",
       "    <div class=\"fnamecat edge\">\n",
       "<span title=\"~/github/CLARIAH/descartes-tf/parallels/tf/1.1/sim.tf\">sim</span>\n",
       "</div>\n",
       "<div class=\"fmono\">int</div>\n",
       "\n",
       "<span> similarity between sentences  based on the Levenshtein ratio</span>\n",
       "\n",
       "</div>\n",
       "\n",
       "    </div>\n",
       "</details>\n",
       "\n",
       "<details><summary><b>Descartes = Descartes, all letters</b></summary>\n",
       "    <div class=\"fcorpus\">\n",
       "\n",
       "<div class=\"frow\">\n",
       "    <div class=\"fnamecat \">\n",
       "<a target=\"_blank\" href=\"https://github.com/CLARIAH/descartes-tf/blob/main/docs/transcription.md\" title=\"~/github/CLARIAH/descartes-tf/tf/1.1/alt_date.tf\">alt_date</a>\n",
       "</div>\n",
       "<div class=\"fmono\">str</div>\n",
       "\n",
       "<span> alternative date of a letter</span>\n",
       "\n",
       "</div>\n",
       "\n",
       "<div class=\"frow\">\n",
       "    <div class=\"fnamecat \">\n",
       "<a target=\"_blank\" href=\"https://github.com/CLARIAH/descartes-tf/blob/main/docs/transcription.md\" title=\"~/github/CLARIAH/descartes-tf/tf/1.1/alt_id.tf\">alt_id</a>\n",
       "</div>\n",
       "<div class=\"fmono\">str</div>\n",
       "\n",
       "<span> alternative ids of a letter, comma separated</span>\n",
       "\n",
       "</div>\n",
       "\n",
       "<div class=\"frow\">\n",
       "    <div class=\"fnamecat \">\n",
       "<a target=\"_blank\" href=\"https://github.com/CLARIAH/descartes-tf/blob/main/docs/transcription.md\" title=\"~/github/CLARIAH/descartes-tf/tf/1.1/cert.tf\">cert</a>\n",
       "</div>\n",
       "<div class=\"fmono\">str</div>\n",
       "\n",
       "<span> certainty of something</span>\n",
       "\n",
       "</div>\n",
       "\n",
       "<div class=\"frow\">\n",
       "    <div class=\"fnamecat \">\n",
       "<a target=\"_blank\" href=\"https://github.com/CLARIAH/descartes-tf/blob/main/docs/transcription.md\" title=\"~/github/CLARIAH/descartes-tf/tf/1.1/date.tf\">date</a>\n",
       "</div>\n",
       "<div class=\"fmono\">str</div>\n",
       "\n",
       "<span> date of a letter</span>\n",
       "\n",
       "</div>\n",
       "\n",
       "<div class=\"frow\">\n",
       "    <div class=\"fnamecat \">\n",
       "<a target=\"_blank\" href=\"https://github.com/CLARIAH/descartes-tf/blob/main/docs/transcription.md\" title=\"~/github/CLARIAH/descartes-tf/tf/1.1/id.tf\">id</a>\n",
       "</div>\n",
       "<div class=\"fmono\">str</div>\n",
       "\n",
       "<span> id of a letter</span>\n",
       "\n",
       "</div>\n",
       "\n",
       "<div class=\"frow\">\n",
       "    <div class=\"fnamecat \">\n",
       "<a target=\"_blank\" href=\"https://github.com/CLARIAH/descartes-tf/blob/main/docs/transcription.md\" title=\"~/github/CLARIAH/descartes-tf/tf/1.1/intermediary.tf\">intermediary</a>\n",
       "</div>\n",
       "<div class=\"fmono\">str</div>\n",
       "\n",
       "<span> person involved in the transmission of the letter from sender to receiver</span>\n",
       "\n",
       "</div>\n",
       "\n",
       "<div class=\"frow\">\n",
       "    <div class=\"fnamecat \">\n",
       "<a target=\"_blank\" href=\"https://github.com/CLARIAH/descartes-tf/blob/main/docs/transcription.md\" title=\"~/github/CLARIAH/descartes-tf/tf/1.1/isitalic.tf\">isitalic</a>\n",
       "</div>\n",
       "<div class=\"fmono\">str</div>\n",
       "\n",
       "<span> whether the word is in italic</span>\n",
       "\n",
       "</div>\n",
       "\n",
       "<div class=\"frow\">\n",
       "    <div class=\"fnamecat \">\n",
       "<a target=\"_blank\" href=\"https://github.com/CLARIAH/descartes-tf/blob/main/docs/transcription.md\" title=\"~/github/CLARIAH/descartes-tf/tf/1.1/ismargin.tf\">ismargin</a>\n",
       "</div>\n",
       "<div class=\"fmono\">str</div>\n",
       "\n",
       "<span> whether the word is in the margin</span>\n",
       "\n",
       "</div>\n",
       "\n",
       "<div class=\"frow\">\n",
       "    <div class=\"fnamecat \">\n",
       "<a target=\"_blank\" href=\"https://github.com/CLARIAH/descartes-tf/blob/main/docs/transcription.md\" title=\"~/github/CLARIAH/descartes-tf/tf/1.1/issub.tf\">issub</a>\n",
       "</div>\n",
       "<div class=\"fmono\">str</div>\n",
       "\n",
       "<span> whether the word is in subscript</span>\n",
       "\n",
       "</div>\n",
       "\n",
       "<div class=\"frow\">\n",
       "    <div class=\"fnamecat \">\n",
       "<a target=\"_blank\" href=\"https://github.com/CLARIAH/descartes-tf/blob/main/docs/transcription.md\" title=\"~/github/CLARIAH/descartes-tf/tf/1.1/issup.tf\">issup</a>\n",
       "</div>\n",
       "<div class=\"fmono\">str</div>\n",
       "\n",
       "<span> whether the word is in supscript</span>\n",
       "\n",
       "</div>\n",
       "\n",
       "<div class=\"frow\">\n",
       "    <div class=\"fnamecat \">\n",
       "<a target=\"_blank\" href=\"https://github.com/CLARIAH/descartes-tf/blob/main/docs/transcription.md\" title=\"~/github/CLARIAH/descartes-tf/tf/1.1/language.tf\">language</a>\n",
       "</div>\n",
       "<div class=\"fmono\">str</div>\n",
       "\n",
       "<span> language of a letter</span>\n",
       "\n",
       "</div>\n",
       "\n",
       "<div class=\"frow\">\n",
       "    <div class=\"fnamecat \">\n",
       "<a target=\"_blank\" href=\"https://github.com/CLARIAH/descartes-tf/blob/main/docs/transcription.md\" title=\"~/github/CLARIAH/descartes-tf/tf/1.1/level.tf\">level</a>\n",
       "</div>\n",
       "<div class=\"fmono\">str</div>\n",
       "\n",
       "<span> level of a paragraph when it acts like a heading</span>\n",
       "\n",
       "</div>\n",
       "\n",
       "<div class=\"frow\">\n",
       "    <div class=\"fnamecat \">\n",
       "<a target=\"_blank\" href=\"https://github.com/CLARIAH/descartes-tf/blob/main/docs/transcription.md\" title=\"~/github/CLARIAH/descartes-tf/tf/1.1/n.tf\">n</a>\n",
       "</div>\n",
       "<div class=\"fmono\">int</div>\n",
       "\n",
       "<span> number of whatever element</span>\n",
       "\n",
       "</div>\n",
       "\n",
       "<div class=\"frow\">\n",
       "    <div class=\"fnamecat \">\n",
       "<a target=\"_blank\" href=\"https://github.com/CLARIAH/descartes-tf/blob/main/docs/transcription.md\" title=\"~/github/CLARIAH/descartes-tf/tf/1.1/notation.tf\">notation</a>\n",
       "</div>\n",
       "<div class=\"fmono\">str</div>\n",
       "\n",
       "<span> notation method of a formula</span>\n",
       "\n",
       "</div>\n",
       "\n",
       "<div class=\"frow\">\n",
       "    <div class=\"fnamecat \">\n",
       "<a target=\"_blank\" href=\"https://github.com/CLARIAH/descartes-tf/blob/main/docs/transcription.md\" title=\"~/github/CLARIAH/descartes-tf/tf/1.1/otype.tf\">otype</a>\n",
       "</div>\n",
       "<div class=\"fmono\">str</div>\n",
       "\n",
       "<span> </span>\n",
       "\n",
       "</div>\n",
       "\n",
       "<div class=\"frow\">\n",
       "    <div class=\"fnamecat \">\n",
       "<a target=\"_blank\" href=\"https://github.com/CLARIAH/descartes-tf/blob/main/docs/transcription.md\" title=\"~/github/CLARIAH/descartes-tf/tf/1.1/punc.tf\">punc</a>\n",
       "</div>\n",
       "<div class=\"fmono\">str</div>\n",
       "\n",
       "<span> nonword chars after a word </span>\n",
       "\n",
       "</div>\n",
       "\n",
       "<div class=\"frow\">\n",
       "    <div class=\"fnamecat \">\n",
       "<a target=\"_blank\" href=\"https://github.com/CLARIAH/descartes-tf/blob/main/docs/transcription.md\" title=\"~/github/CLARIAH/descartes-tf/tf/1.1/recipient.tf\">recipient</a>\n",
       "</div>\n",
       "<div class=\"fmono\">str</div>\n",
       "\n",
       "<span> recipient of a letter</span>\n",
       "\n",
       "</div>\n",
       "\n",
       "<div class=\"frow\">\n",
       "    <div class=\"fnamecat \">\n",
       "<a target=\"_blank\" href=\"https://github.com/CLARIAH/descartes-tf/blob/main/docs/transcription.md\" title=\"~/github/CLARIAH/descartes-tf/tf/1.1/recipientloc.tf\">recipientloc</a>\n",
       "</div>\n",
       "<div class=\"fmono\">str</div>\n",
       "\n",
       "<span> location from where a letter was received</span>\n",
       "\n",
       "</div>\n",
       "\n",
       "<div class=\"frow\">\n",
       "    <div class=\"fnamecat \">\n",
       "<a target=\"_blank\" href=\"https://github.com/CLARIAH/descartes-tf/blob/main/docs/transcription.md\" title=\"~/github/CLARIAH/descartes-tf/tf/1.1/resp.tf\">resp</a>\n",
       "</div>\n",
       "<div class=\"fmono\">str</div>\n",
       "\n",
       "<span> person responsible for something</span>\n",
       "\n",
       "</div>\n",
       "\n",
       "<div class=\"frow\">\n",
       "    <div class=\"fnamecat \">\n",
       "<a target=\"_blank\" href=\"https://github.com/CLARIAH/descartes-tf/blob/main/docs/transcription.md\" title=\"~/github/CLARIAH/descartes-tf/tf/1.1/sender.tf\">sender</a>\n",
       "</div>\n",
       "<div class=\"fmono\">str</div>\n",
       "\n",
       "<span> sender of a letter</span>\n",
       "\n",
       "</div>\n",
       "\n",
       "<div class=\"frow\">\n",
       "    <div class=\"fnamecat \">\n",
       "<a target=\"_blank\" href=\"https://github.com/CLARIAH/descartes-tf/blob/main/docs/transcription.md\" title=\"~/github/CLARIAH/descartes-tf/tf/1.1/senderloc.tf\">senderloc</a>\n",
       "</div>\n",
       "<div class=\"fmono\">str</div>\n",
       "\n",
       "<span> location from where a letter was sent</span>\n",
       "\n",
       "</div>\n",
       "\n",
       "<div class=\"frow\">\n",
       "    <div class=\"fnamecat \">\n",
       "<a target=\"_blank\" href=\"https://github.com/CLARIAH/descartes-tf/blob/main/docs/transcription.md\" title=\"~/github/CLARIAH/descartes-tf/tf/1.1/tex.tf\">tex</a>\n",
       "</div>\n",
       "<div class=\"fmono\">str</div>\n",
       "\n",
       "<span> unformatted TeX code of a formula, without the `$`</span>\n",
       "\n",
       "</div>\n",
       "\n",
       "<div class=\"frow\">\n",
       "    <div class=\"fnamecat \">\n",
       "<a target=\"_blank\" href=\"https://github.com/CLARIAH/descartes-tf/blob/main/docs/transcription.md\" title=\"~/github/CLARIAH/descartes-tf/tf/1.1/trans.tf\">trans</a>\n",
       "</div>\n",
       "<div class=\"fmono\">str</div>\n",
       "\n",
       "<span> transcription of a word </span>\n",
       "\n",
       "</div>\n",
       "\n",
       "<div class=\"frow\">\n",
       "    <div class=\"fnamecat \">\n",
       "<a target=\"_blank\" href=\"https://github.com/CLARIAH/descartes-tf/blob/main/docs/transcription.md\" title=\"~/github/CLARIAH/descartes-tf/tf/1.1/typ.tf\">typ</a>\n",
       "</div>\n",
       "<div class=\"fmono\">str</div>\n",
       "\n",
       "<span> kind of a node; \"empty\"; \"formula\", \"head\", \"symbol\", \"illustration\"</span>\n",
       "\n",
       "</div>\n",
       "\n",
       "<div class=\"frow\">\n",
       "    <div class=\"fnamecat \">\n",
       "<a target=\"_blank\" href=\"https://github.com/CLARIAH/descartes-tf/blob/main/docs/transcription.md\" title=\"~/github/CLARIAH/descartes-tf/tf/1.1/url.tf\">url</a>\n",
       "</div>\n",
       "<div class=\"fmono\">str</div>\n",
       "\n",
       "<span> url of a graphic node</span>\n",
       "\n",
       "</div>\n",
       "\n",
       "<div class=\"frow\">\n",
       "    <div class=\"fnamecat edge\">\n",
       "<a target=\"_blank\" href=\"https://github.com/CLARIAH/descartes-tf/blob/main/docs/transcription.md\" title=\"~/github/CLARIAH/descartes-tf/tf/1.1/oslots.tf\">oslots</a>\n",
       "</div>\n",
       "<div class=\"fmono\">none</div>\n",
       "\n",
       "<span> </span>\n",
       "\n",
       "</div>\n",
       "\n",
       "    </div>\n",
       "</details>\n",
       "\n"
      ],
      "text/plain": [
       "<IPython.core.display.HTML object>"
      ]
     },
     "metadata": {},
     "output_type": "display_data"
    },
    {
     "data": {
      "text/html": [
       "<style>tr.tf.ltr, td.tf.ltr, th.tf.ltr { text-align: left ! important;}\n",
       "tr.tf.rtl, td.tf.rtl, th.tf.rtl { text-align: right ! important;}\n",
       "@font-face {\n",
       "  font-family: \"Gentium Plus\";\n",
       "  src: local('Gentium Plus'), local('GentiumPlus'),\n",
       "    url('/server/static/fonts/GentiumPlus-R.woff') format('woff'),\n",
       "    url('https://github.com/annotation/text-fabric/blob/master/tf/server/static/fonts/GentiumPlus-R.woff?raw=true') format('woff');\n",
       "}\n",
       "\n",
       "@font-face {\n",
       "  font-family: \"Ezra SIL\";\n",
       "  src: local('Ezra SIL'), local('EzraSIL'),\n",
       "    url('/server/static/fonts/SILEOT.woff') format('woff'),\n",
       "    url('https://github.com/annotation/text-fabric/blob/master/tf/server/static/fonts/SILEOT.woff?raw=true') format('woff');\n",
       "}\n",
       "\n",
       "@font-face {\n",
       "  font-family: \"SBL Hebrew\";\n",
       "  src: local('SBL Hebrew'), local('SBLHebrew'),\n",
       "    url('/server/static/fonts/SBL_Hbrw.woff') format('woff'),\n",
       "    url('https://github.com/annotation/text-fabric/blob/master/tf/server/static/fonts/SBL_Hbrw.woff?raw=true') format('woff');\n",
       "}\n",
       "\n",
       "@font-face {\n",
       "  font-family: \"Estrangelo Edessa\";\n",
       "  src: local('Estrangelo Edessa'), local('EstrangeloEdessa');\n",
       "    url('/server/static/fonts/SyrCOMEdessa.woff') format('woff'),\n",
       "    url('https://github.com/annotation/text-fabric/blob/master/tf/server/static/fonts/SyrCOMEdessa.woff?raw=true') format('woff');\n",
       "}\n",
       "\n",
       "@font-face {\n",
       "  font-family: AmiriQuran;\n",
       "  font-style: normal;\n",
       "  font-weight: 400;\n",
       "  src: local('Amiri Quran'), local('AmiriQuran'),\n",
       "    url('/server/static/fonts/AmiriQuran.woff') format('woff'),\n",
       "    url('https://github.com/annotation/text-fabric/blob/master/tf/server/static/fonts/AmiriQuran.woff?raw=true') format('woff');\n",
       "}\n",
       "\n",
       "@font-face {\n",
       "  font-family: AmiriQuranColored;\n",
       "  font-style: normal;\n",
       "  font-weight: 400;\n",
       "  src: local('Amiri Quran Colored'), local('AmiriQuranColored'),\n",
       "    url('/server/static/fonts/AmiriQuranColored.woff') format('woff'),\n",
       "    url('https://github.com/annotation/text-fabric/blob/master/tf/server/static/fonts/AmiriQuranColored.woff?raw=true') format('woff');\n",
       "}\n",
       "\n",
       "@font-face {\n",
       "  font-family: \"Santakku\";\n",
       "  src: local('Santakku'),\n",
       "    url('/server/static/fonts/Santakku.woff') format('woff'),\n",
       "    url('https://github.com/annotation/text-fabric/blob/master/tf/server/static/fonts/Santakku.woff?raw=true') format('woff');\n",
       "}\n",
       "\n",
       "@font-face {\n",
       "  font-family: \"SantakkuM\";\n",
       "  src: local('SantakkuM'),\n",
       "    url('/server/static/fonts/SantakkuM.woff') format('woff'),\n",
       "    url('https://github.com/annotation/text-fabric/blob/master/tf/server/static/fonts/SantakkuM.woff?raw=true') format('woff');\n",
       "}\n",
       "/* bypassing some classical notebook settings */\n",
       "div#notebook {\n",
       "  line-height: unset;\n",
       "}\n",
       "/* neutral text */\n",
       ".txtn,.txtn a:visited,.txtn a:link {\n",
       "    font-family: sans-serif;\n",
       "    font-size: medium;\n",
       "    direction: ltr;\n",
       "    unicode-bidi: embed;\n",
       "    text-decoration: none;\n",
       "    color: var(--text-color);\n",
       "}\n",
       "/* transcription text */\n",
       ".txtt,.txtt a:visited,.txtt a:link {\n",
       "    font-family: monospace;\n",
       "    font-size: medium;\n",
       "    direction: ltr;\n",
       "    unicode-bidi: embed;\n",
       "    text-decoration: none;\n",
       "    color: var(--text-color);\n",
       "}\n",
       "/* source text */\n",
       ".txto,.txto a:visited,.txto a:link {\n",
       "    font-family: serif;\n",
       "    font-size: medium;\n",
       "    direction: ltr;\n",
       "    unicode-bidi: embed;\n",
       "    text-decoration: none;\n",
       "    color: var(--text-color);\n",
       "}\n",
       "/* phonetic text */\n",
       ".txtp,.txtp a:visited,.txtp a:link {\n",
       "    font-family: Gentium, sans-serif;\n",
       "    font-size: medium;\n",
       "    direction: ltr;\n",
       "    unicode-bidi: embed;\n",
       "    text-decoration: none;\n",
       "    color: var(--text-color);\n",
       "}\n",
       "/* original script text */\n",
       ".txtu,.txtu a:visited,.txtu a:link {\n",
       "    font-family: Gentium, sans-serif;\n",
       "    font-size: medium;\n",
       "    text-decoration: none;\n",
       "    color: var(--text-color);\n",
       "}\n",
       "/* hebrew */\n",
       ".txtu.hbo,.lex.hbo {\n",
       "    font-family: \"Ezra SIL\", \"SBL Hebrew\", sans-serif;\n",
       "    font-size: large;\n",
       "    direction: rtl ! important;\n",
       "    unicode-bidi: embed;\n",
       "}\n",
       "/* syriac */\n",
       ".txtu.syc,.lex.syc {\n",
       "    font-family: \"Estrangelo Edessa\", sans-serif;\n",
       "    font-size: medium;\n",
       "    direction: rtl ! important;\n",
       "    unicode-bidi: embed;\n",
       "}\n",
       "/* neo aramaic */\n",
       ".txtu.cld,.lex.cld {\n",
       "    font-family: \"CharisSIL-R\", sans-serif;\n",
       "    font-size: medium;\n",
       "    direction: ltr ! important;\n",
       "    unicode-bidi: embed;\n",
       "}\n",
       "/* standard arabic */\n",
       ".txtu.ara,.lex.ara {\n",
       "    font-family: \"AmiriQuran\", sans-serif;\n",
       "    font-size: large;\n",
       "    direction: rtl ! important;\n",
       "    unicode-bidi: embed;\n",
       "}\n",
       "/* cuneiform */\n",
       ".txtu.akk,.lex.akk {\n",
       "    font-family: Santakku, sans-serif;\n",
       "    font-size: large;\n",
       "    direction: ltr ! important;\n",
       "    unicode-bidi: embed;\n",
       "}\n",
       "/* greek */\n",
       ".txtu.grc,.lex.grc a:link {\n",
       "    font-family: Gentium, sans-serif;\n",
       "    font-size: medium;\n",
       "    direction: ltr ! important;\n",
       "    unicode-bidi: embed;\n",
       "}\n",
       "a:hover {\n",
       "    text-decoration: underline | important;\n",
       "    color: #0000ff | important;\n",
       "}\n",
       ".ltr {\n",
       "    direction: ltr ! important;\n",
       "    unicode-bidi: embed;\n",
       "}\n",
       ".rtl {\n",
       "    direction: rtl ! important;\n",
       "    unicode-bidi: embed;\n",
       "}\n",
       ".ubd {\n",
       "    unicode-bidi: embed;\n",
       "}\n",
       ".col {\n",
       "   display: inline-block;\n",
       "}\n",
       ".features {\n",
       "    font-family: monospace;\n",
       "    font-size: medium;\n",
       "    font-weight: bold;\n",
       "    color: var(--features);\n",
       "    display: flex;\n",
       "    flex-flow: column nowrap;\n",
       "    justify-content: flex-start;\n",
       "    align-items: flex-start;\n",
       "    align-content: flex-start;\n",
       "    padding: 2px;\n",
       "    margin: 2px;\n",
       "    direction: ltr;\n",
       "    unicode-bidi: embed;\n",
       "    border: var(--meta-width) solid var(--meta-color);\n",
       "    border-radius: var(--meta-width);\n",
       "}\n",
       ".features div,.features span {\n",
       "    padding: 0;\n",
       "    margin: -2px 0;\n",
       "}\n",
       ".features .f {\n",
       "    font-family: sans-serif;\n",
       "    font-size: small;\n",
       "    font-weight: normal;\n",
       "    color: #5555bb;\n",
       "}\n",
       ".features .xft {\n",
       "  color: #000000;\n",
       "  background-color: #eeeeee;\n",
       "  font-size: medium;\n",
       "  margin: 2px 0px;\n",
       "}\n",
       ".features .xft .f {\n",
       "  color: #000000;\n",
       "  background-color: #eeeeee;\n",
       "  font-size: small;\n",
       "  font-weight: normal;\n",
       "}\n",
       ".tfsechead {\n",
       "    font-family: sans-serif;\n",
       "    font-size: small;\n",
       "    font-weight: bold;\n",
       "    color: var(--tfsechead);\n",
       "    unicode-bidi: embed;\n",
       "    text-align: start;\n",
       "}\n",
       ".structure {\n",
       "    font-family: sans-serif;\n",
       "    font-size: small;\n",
       "    font-weight: bold;\n",
       "    color: var(--structure);\n",
       "    unicode-bidi: embed;\n",
       "    text-align: start;\n",
       "}\n",
       ".comments {\n",
       "    display: flex;\n",
       "    justify-content: flex-start;\n",
       "    align-items: flex-start;\n",
       "    align-content: flex-start;\n",
       "    flex-flow: column nowrap;\n",
       "}\n",
       ".nd, a:link.nd {\n",
       "    font-family: sans-serif;\n",
       "    font-size: small;\n",
       "    color: var(--node);\n",
       "    vertical-align: super;\n",
       "    direction: ltr ! important;\n",
       "    unicode-bidi: embed;\n",
       "}\n",
       ".lex {\n",
       "  color: var(--lex-color);;\n",
       "}\n",
       ".children,.children.ltr {\n",
       "    display: flex;\n",
       "    border: 0;\n",
       "    background-color: #ffffff;\n",
       "    justify-content: flex-start;\n",
       "    align-items: flex-start;\n",
       "    align-content: flex-start;\n",
       "}\n",
       ".children.stretch {\n",
       "    align-items: stretch;\n",
       "}\n",
       ".children.hor {\n",
       "    flex-flow: row nowrap;\n",
       "}\n",
       ".children.hor.wrap {\n",
       "    flex-flow: row wrap;\n",
       "}\n",
       ".children.ver {\n",
       "    flex-flow: column nowrap;\n",
       "}\n",
       ".children.ver.wrap {\n",
       "    flex-flow: column wrap;\n",
       "}\n",
       ".contnr {\n",
       "    width: fit-content;\n",
       "    display: flex;\n",
       "    justify-content: flex-start;\n",
       "    align-items: flex-start;\n",
       "    align-content: flex-start;\n",
       "    flex-flow: column nowrap;\n",
       "    background: #ffffff none repeat scroll 0 0;\n",
       "    padding:  10px 2px 2px 2px;\n",
       "    margin: 16px 2px 2px 2px;\n",
       "    border-style: solid;\n",
       "    font-size: small;\n",
       "}\n",
       ".contnr.trm {\n",
       "    background-attachment: local;\n",
       "}\n",
       ".contnr.cnul {\n",
       "    padding:  0;\n",
       "    margin: 0;\n",
       "    border-style: solid;\n",
       "    font-size: xx-small;\n",
       "}\n",
       ".contnr.cnul,.lbl.cnul {\n",
       "    border-color: var(--border-color-nul);\n",
       "    border-width: var(--border-width-nul);\n",
       "    border-radius: var(--border-width-nul);\n",
       "}\n",
       ".contnr.c0,.lbl.c0 {\n",
       "    border-color: var(--border-color0);\n",
       "    border-width: var(--border-width0);\n",
       "    border-radius: var(--border-width0);\n",
       "}\n",
       ".contnr.c1,.lbl.c1 {\n",
       "    border-color: var(--border-color1);\n",
       "    border-width: var(--border-width1);\n",
       "    border-radius: var(--border-width1);\n",
       "}\n",
       ".contnr.c2,.lbl.c2 {\n",
       "    border-color: var(--border-color2);\n",
       "    border-width: var(--border-width2);\n",
       "    border-radius: var(--border-width2);\n",
       "}\n",
       ".contnr.c3,.lbl.c3 {\n",
       "    border-color: var(--border-color3);\n",
       "    border-width: var(--border-width3);\n",
       "    border-radius: var(--border-width3);\n",
       "}\n",
       ".contnr.c4,.lbl.c4 {\n",
       "    border-color: var(--border-color4);\n",
       "    border-width: var(--border-width4);\n",
       "    border-radius: var(--border-width4);\n",
       "}\n",
       "span.plain {\n",
       "    /*display: inline-block;*/\n",
       "    display: inline-flex;\n",
       "    flex-flow: row wrap;\n",
       "    white-space: pre-wrap;\n",
       "}\n",
       ".plain {\n",
       "    background-color: #ffffff;\n",
       "}\n",
       ".plain.l,.contnr.l,.contnr.l>.lbl {\n",
       "    border-left-style: dotted\n",
       "}\n",
       ".plain.r,.contnr.r,.contnr.r>.lbl {\n",
       "    border-right-style: dotted\n",
       "}\n",
       ".plain.lno,.contnr.lno,.contnr.lno>.lbl {\n",
       "    border-left-style: none\n",
       "}\n",
       ".plain.rno,.contnr.rno,.contnr.rno>.lbl {\n",
       "    border-right-style: none\n",
       "}\n",
       ".plain.l {\n",
       "    padding-left: 4px;\n",
       "    margin-left: 2px;\n",
       "    border-width: var(--border-width-plain);\n",
       "}\n",
       ".plain.r {\n",
       "    padding-right: 4px;\n",
       "    margin-right: 2px;\n",
       "    border-width: var(--border-width-plain);\n",
       "}\n",
       ".lbl {\n",
       "    font-family: monospace;\n",
       "    margin-top: -24px;\n",
       "    margin-left: 20px;\n",
       "    background: #ffffff none repeat scroll 0 0;\n",
       "    padding: 0 6px;\n",
       "    border-style: solid;\n",
       "    display: block;\n",
       "    color: var(--label)\n",
       "}\n",
       ".lbl.trm {\n",
       "    background-attachment: local;\n",
       "    margin-top: 2px;\n",
       "    margin-left: 2px;\n",
       "    padding: 2px 2px;\n",
       "    border-style: none;\n",
       "}\n",
       ".lbl.cnul {\n",
       "    font-size: xx-small;\n",
       "}\n",
       ".lbl.c0 {\n",
       "    font-size: small;\n",
       "}\n",
       ".lbl.c1 {\n",
       "    font-size: small;\n",
       "}\n",
       ".lbl.c2 {\n",
       "    font-size: medium;\n",
       "}\n",
       ".lbl.c3 {\n",
       "    font-size: medium;\n",
       "}\n",
       ".lbl.c4 {\n",
       "    font-size: large;\n",
       "}\n",
       ".occs, a:link.occs {\n",
       "    font-size: small;\n",
       "}\n",
       "\n",
       "/* PROVENANCE */\n",
       "\n",
       "div.prov {\n",
       "\tmargin: 40px;\n",
       "\tpadding: 20px;\n",
       "\tborder: 2px solid var(--fog-rim);\n",
       "}\n",
       "div.pline {\n",
       "\tdisplay: flex;\n",
       "\tflex-flow: row nowrap;\n",
       "\tjustify-content: stretch;\n",
       "\talign-items: baseline;\n",
       "}\n",
       "div.p2line {\n",
       "\tmargin-left: 2em;\n",
       "\tdisplay: flex;\n",
       "\tflex-flow: row nowrap;\n",
       "\tjustify-content: stretch;\n",
       "\talign-items: baseline;\n",
       "}\n",
       "div.psline {\n",
       "\tdisplay: flex;\n",
       "\tflex-flow: row nowrap;\n",
       "\tjustify-content: stretch;\n",
       "\talign-items: baseline;\n",
       "\tbackground-color: var(--gold-mist-back);\n",
       "}\n",
       "div.pname {\n",
       "\tflex: 0 0 5rem;\n",
       "\tfont-weight: bold;\n",
       "}\n",
       "div.pval {\n",
       "    flex: 1 1 auto;\n",
       "}\n",
       "\n",
       "/* KEYBOARD */\n",
       ".ccoff {\n",
       "  background-color: inherit;\n",
       "}\n",
       ".ccon {\n",
       "  background-color: yellow ! important;\n",
       "}\n",
       ".ccon,.ccoff {\n",
       "  padding: 0.2rem;\n",
       "  margin: 0.2rem;\n",
       "  border: 0.1rem solid var(--letter-box-border);\n",
       "  border-radius: 0.1rem;\n",
       "}\n",
       ".ccline {\n",
       "  font-size: xx-large ! important;\n",
       "  font-weight: bold;\n",
       "  line-height: 2em ! important;\n",
       "}\n",
       "/* TF header */\n",
       "\n",
       "summary {\n",
       "  /* needed to override the normalize.less\n",
       "   * in the classical jupyter notebook\n",
       "   */\n",
       "  display: list-item ! important;\n",
       "}\n",
       "\n",
       ".fcorpus {\n",
       "  display: flex;\n",
       "  flex-flow: column nowrap;\n",
       "  justify-content: flex-start;\n",
       "  align-items: flex-start;\n",
       "  align-content: flex-start;\n",
       "}\n",
       ".frow {\n",
       "  display: flex;\n",
       "  flex-flow: row nowrap;\n",
       "  justify-content: flex-start;\n",
       "  align-items: flex-start;\n",
       "  align-content: flex-start;\n",
       "}\n",
       ".fmeta {\n",
       "  display: flex;\n",
       "  flex-flow: column nowrap;\n",
       "  justify-content: flex-start;\n",
       "  align-items: flex-start;\n",
       "  align-content: flex-start;\n",
       "}\n",
       ".fmetarow {\n",
       "  display: flex;\n",
       "  flex-flow: row nowrap;\n",
       "  justify-content: flex-start;\n",
       "  align-items: flex-start;\n",
       "  align-content: flex-start;\n",
       "}\n",
       ".fmetakey {\n",
       "  min-width: 8em;\n",
       "  font-family: monospace;\n",
       "}\n",
       ".fnamecat {\n",
       "  min-width: 8em;\n",
       "}\n",
       ".fnamecat.edge {\n",
       "  font-weight: bold;\n",
       "  font-style: italic;\n",
       "}\n",
       ".fmono {\n",
       "    font-family: monospace;\n",
       "}\n",
       "\n",
       ":root {\n",
       "\t--node:               hsla(120, 100%,  20%, 1.0  );\n",
       "\t--label:              hsla(  0, 100%,  20%, 1.0  );\n",
       "\t--tfsechead:          hsla(  0, 100%,  25%, 1.0  );\n",
       "\t--structure:          hsla(120, 100%,  25%, 1.0  );\n",
       "\t--features:           hsla(  0,   0%,  30%, 1.0  );\n",
       "  --text-color:         hsla( 60,  80%,  10%, 1.0  );\n",
       "  --lex-color:          hsla(220,  90%,  60%, 1.0  );\n",
       "  --meta-color:         hsla(  0,   0%,  90%, 0.7  );\n",
       "  --meta-width:         3px;\n",
       "  --border-color-nul:   hsla(  0,   0%,  90%, 0.5  );\n",
       "  --border-color0:      hsla(  0,   0%,  90%, 0.9  );\n",
       "  --border-color1:      hsla(  0,   0%,  80%, 0.9  );\n",
       "  --border-color2:      hsla(  0,   0%,  70%, 0.9  );\n",
       "  --border-color3:      hsla(  0,   0%,  80%, 0.8  );\n",
       "  --border-color4:      hsla(  0,   0%,  60%, 0.9  );\n",
       "\t--letter-box-border:  hsla(  0,   0%,  80%, 0.5  );\n",
       "  --border-width-nul:   2px;\n",
       "  --border-width0:      2px;\n",
       "  --border-width1:      3px;\n",
       "  --border-width2:      4px;\n",
       "  --border-width3:      6px;\n",
       "  --border-width4:      5px;\n",
       "  --border-width-plain: 2px;\n",
       "}\n",
       ".hl {\n",
       "  background-color: var(--hl-strong);\n",
       "}\n",
       "span.hl {\n",
       "\tbackground-color: var(--hl-strong);\n",
       "\tborder-width: 0;\n",
       "\tborder-radius: 2px;\n",
       "\tborder-style: solid;\n",
       "}\n",
       "div.contnr.hl,div.lbl.hl {\n",
       "  background-color: var(--hl-strong);\n",
       "}\n",
       "div.contnr.hl {\n",
       "  border-color: var(--hl-rim) ! important;\n",
       "\tborder-width: 4px ! important;\n",
       "}\n",
       "\n",
       "span.hlbx {\n",
       "\tborder-color: var(--hl-rim);\n",
       "\tborder-width: 4px ! important;\n",
       "\tborder-style: solid;\n",
       "\tborder-radius: 6px;\n",
       "  padding: 4px;\n",
       "  margin: 4px;\n",
       "}\n",
       "\n",
       ":root {\n",
       "\t--hl-strong:        hsla( 60, 100%,  70%, 0.9  );\n",
       "\t--hl-rim:           hsla( 55,  80%,  50%, 1.0  );\n",
       "}\n",
       ".italic {\n",
       "  font-style: italic;\n",
       "}\n",
       ".margin {\n",
       "  position: relative;\n",
       "  top: -0.3em;\n",
       "  font-weight: bold;\n",
       "  color: #0000ee;\n",
       "}\n",
       ".sub {\n",
       "  vertical-align: sub;\n",
       "  font-size: small;\n",
       "}\n",
       ".sup {\n",
       "  vertical-align: super;\n",
       "  font-size: small;\n",
       "}\n",
       "</style>"
      ],
      "text/plain": [
       "<IPython.core.display.HTML object>"
      ]
     },
     "metadata": {},
     "output_type": "display_data"
    },
    {
     "data": {
      "text/html": [
       "\n",
       "<script>\n",
       "globalThis.copyChar = (el, c) => {\n",
       "    for (const el of document.getElementsByClassName('ccon')) {\n",
       "        el.className = 'ccoff'\n",
       "    }\n",
       "    el.className = 'ccon'\n",
       "    navigator.clipboard.writeText(String.fromCharCode(c))\n",
       "}\n",
       "</script>\n"
      ],
      "text/plain": [
       "<IPython.core.display.HTML object>"
      ]
     },
     "metadata": {},
     "output_type": "display_data"
    },
    {
     "data": {
      "text/html": [
       "<div><b>Text-Fabric API:</b> names <a target=\"_blank\" href=\"https://annotation.github.io/text-fabric/tf/cheatsheet.html\" title=\"doc\">N F E L T S C TF</a> directly usable</div><hr>"
      ],
      "text/plain": [
       "<IPython.core.display.HTML object>"
      ]
     },
     "metadata": {},
     "output_type": "display_data"
    },
    {
     "data": {
      "text/html": [
       "<b title=\"local github\">data:</b> <span title=\"repo clone offline under /Users/me/github\">~/github/CLARIAH/descartes-tf/source/illustrations</span>"
      ],
      "text/plain": [
       "<IPython.core.display.HTML object>"
      ]
     },
     "metadata": {},
     "output_type": "display_data"
    },
    {
     "data": {
      "text/html": [
       "Found 5 symbols<br>"
      ],
      "text/plain": [
       "<IPython.core.display.HTML object>"
      ]
     },
     "metadata": {},
     "output_type": "display_data"
    },
    {
     "data": {
      "text/html": [
       "Found 310 illustrations<br>"
      ],
      "text/plain": [
       "<IPython.core.display.HTML object>"
      ]
     },
     "metadata": {},
     "output_type": "display_data"
    }
   ],
   "source": [
    "A = use(\"CLARIAH/descartes-tf:clone\", checkout=\"clone\", hoist=globals())"
   ]
  },
  {
   "cell_type": "markdown",
   "id": "f100a88e-ae13-4921-abb8-6bf5ee732af2",
   "metadata": {},
   "source": [
    "# Use the similar sentences module\n",
    "\n",
    "You see an extra module **Similar Sentences** listed with one feature: `sim`.\n",
    "It is in *italics*, which indicates it is an edge feature.\n",
    "\n",
    "We count how many similar pairs their are, how many 100% similar pairs there are,\n",
    "and how many more than 90% but not 100%."
   ]
  },
  {
   "cell_type": "code",
   "execution_count": 4,
   "id": "055e8536-98e4-4c30-a7a2-aba9d581d7f7",
   "metadata": {},
   "outputs": [
    {
     "name": "stdout",
     "output_type": "stream",
     "text": [
      "  0.02s 519 results\n"
     ]
    }
   ],
   "source": [
    "query = \"\"\"\n",
    "sentence\n",
    "-sim> sentence\n",
    "\"\"\"\n",
    "results = A.search(query)"
   ]
  },
  {
   "cell_type": "markdown",
   "id": "ba934873-7783-49ab-a10a-3d62bb3fe776",
   "metadata": {},
   "source": [
    "We collect the 100% results, in bidirectional form."
   ]
  },
  {
   "cell_type": "code",
   "execution_count": 5,
   "id": "16e963dd-5be2-4cbb-9b8f-a366b6fb506b",
   "metadata": {},
   "outputs": [
    {
     "name": "stdout",
     "output_type": "stream",
     "text": [
      "  0.01s 866 results\n"
     ]
    }
   ],
   "source": [
    "query100 = \"\"\"\n",
    "sentence\n",
    "<sim=100> sentence\n",
    "\"\"\"\n",
    "results100 = A.search(query100)"
   ]
  },
  {
   "cell_type": "markdown",
   "id": "4958ee6b-2d67-428f-a8e3-5d9b39284f0e",
   "metadata": {},
   "source": [
    "Let's show the 90+% pairs."
   ]
  },
  {
   "cell_type": "code",
   "execution_count": 6,
   "id": "e97d4c90-e166-4e35-ac33-18fdb8ef0d3a",
   "metadata": {},
   "outputs": [
    {
     "name": "stdout",
     "output_type": "stream",
     "text": [
      "  0.01s 468 results\n"
     ]
    }
   ],
   "source": [
    "query90 = \"\"\"\n",
    "sentence\n",
    "-sim>90> sentence\n",
    "\"\"\"\n",
    "results90 = A.search(query90)"
   ]
  },
  {
   "cell_type": "markdown",
   "id": "9adf7387-f2c9-4b4d-8e0b-8431dcb083f4",
   "metadata": {},
   "source": [
    "Let's weed out the 100% pairs:"
   ]
  },
  {
   "cell_type": "code",
   "execution_count": 7,
   "id": "55e7a921-a323-44a7-9fdd-7b66fe94ea5a",
   "metadata": {},
   "outputs": [
    {
     "data": {
      "text/plain": [
       "35"
      ]
     },
     "execution_count": 7,
     "metadata": {},
     "output_type": "execute_result"
    }
   ],
   "source": [
    "results100set = set(results100)\n",
    "\n",
    "results = tuple(r for r in results90 if r not in results100set)\n",
    "len(results)"
   ]
  },
  {
   "cell_type": "markdown",
   "id": "d06355a8-e1f9-4d94-9c45-1b62f06016d3",
   "metadata": {},
   "source": [
    "We show some of these highly similar sentence pairs:"
   ]
  },
  {
   "cell_type": "code",
   "execution_count": 10,
   "id": "6ad33c70-5837-4b43-958f-be8f34995313",
   "metadata": {},
   "outputs": [
    {
     "data": {
      "text/html": [
       "<table><tr class=\"tf ltr\"><th class=\"tf ltr\">n</th><th class=\"tf ltr\">p</th><th class=\"tf ltr\">sentence</th><th class=\"tf\">sentence</th></tr>\n",
       "<tr class=\"tf ltr\"><td class=\"tf ltr\">1</td><td class=\"tf ltr\"><span class=\"tfsechead ltr\"><span class=\"ltr\">1 1018:4</span></span></td><td class=\"tf ltr\"><span class=\" ubd\"><span class=\"plain   \" ><span class=\"nd\">708667</span><span class=\"txtu \"> </span><span class=\"txtu\">Il </span><span class=\"txtu\">faut </span><span class=\"txtu\">observer </span><span class=\"txtu\">que </span><span class=\"txtu\">la </span><span class=\"txtu\">ligne </span><span class=\"txtu \"> </span><span class=\"txtu\">NM</span><span class=\"txtu\">, </span><span class=\"txtu\">qui </span><span class=\"txtu\">est </span><span class=\"txtu\">le </span><span class=\"txtu\">milieu </span><span class=\"txtu\">de </span><span class=\"txtu\">la </span><span class=\"txtu\">lame </span><span class=\"txtu \"> </span><span class=\"txtu\">PNOM</span><span class=\"txtu\">, </span><span class=\"txtu\">doit </span><span class=\"txtu\">être </span><span class=\"txtu\">exactement </span><span class=\"txtu\">parallèle </span><span class=\"txtu\">à </span><span class=\"txtu\">l'</span><span class=\"txtu\">axe </span><span class=\"txtu \"> </span><span class=\"txtu\">AB</span><span class=\"txtu\"> </span><span class=\"txtu\">de </span><span class=\"txtu\">la </span><span class=\"txtu\">première </span><span class=\"txtu\">machine, </span><span class=\"txtu\">et </span><span class=\"txtu\">que </span><span class=\"txtu\">la </span><span class=\"txtu\">ligne </span><span class=\"txtu\">perpendiculaire </span><span class=\"txtu\">qui </span><span class=\"txtu\">tomberait </span><span class=\"txtu\">de </span><span class=\"txtu\">l'</span><span class=\"txtu\">axe </span><span class=\"txtu \"> </span><span class=\"txtu\">AB</span><span class=\"txtu\"> </span><span class=\"txtu\">sur </span><span class=\"txtu\">les </span><span class=\"txtu\">planches </span><span class=\"txtu \"> </span><span class=\"txtu\">GH</span><span class=\"txtu\"> </span><span class=\"txtu\">et </span><span class=\"txtu \"> </span><span class=\"txtu\">IK</span><span class=\"txtu\">, </span><span class=\"txtu\">tombe </span><span class=\"txtu\">justement </span><span class=\"txtu\">sur </span><span class=\"txtu\">cette </span><span class=\"txtu\">ligne </span><span class=\"txtu \"> </span><span class=\"txtu\">NM</span><span class=\"txtu\">.\n",
       "</span><span class=\"txtu\">De </span><span class=\"txtu\">plus, </span><span class=\"txtu\">aux </span><span class=\"txtu\">dernières </span><span class=\"txtu\">figures, </span><span class=\"txtu\">il </span><span class=\"txtu\">faut </span><span class=\"txtu\">que </span><span class=\"txtu\">la </span><span class=\"txtu\">même </span><span class=\"txtu\">ligne </span><span class=\"txtu \"> </span><span class=\"txtu\">NM</span><span class=\"txtu\">, </span><span class=\"txtu\">prolongée, </span><span class=\"txtu\">passe </span><span class=\"txtu\">justement </span><span class=\"txtu\">par </span><span class=\"txtu\">le </span><span class=\"txtu\">centre </span><span class=\"txtu\">de </span><span class=\"txtu\">la </span><span class=\"txtu\">roue </span><span class=\"txtu \"> </span><span class=\"txtu\">Q</span><span class=\"txtu\">,\n",
       "</span><span class=\"txtu\">et </span><span class=\"txtu\">se </span><span class=\"txtu\">rencontre </span><span class=\"txtu\">faire </span><span class=\"txtu\">une </span><span class=\"txtu\">ligne </span><span class=\"txtu\">droite </span><span class=\"txtu\">avec </span><span class=\"txtu\">l'</span><span class=\"txtu\">axe </span><span class=\"txtu \"> </span><span class=\"txtu\">RS</span><span class=\"txtu\">, </span><span class=\"txtu\">sur </span><span class=\"txtu\">lequel </span><span class=\"txtu\">tourne </span><span class=\"txtu\">le </span><span class=\"txtu\">verre.</span></span></span></td><td class=\"tf ltr\"><span class=\" ubd\"><span class=\"plain   \" ><span class=\"nd\">708696</span><span class=\"txtu \"> </span><span class=\"txtu\">Enfin </span><span class=\"txtu\">vous </span><span class=\"txtu\">dites </span><span class=\"txtu\">qu'</span><span class=\"txtu\">il </span><span class=\"txtu\">faut </span><span class=\"txtu\">aussi </span><span class=\"txtu\">observer </span><span class=\"txtu\">que </span><span class=\"txtu\">la </span><span class=\"txtu\">ligne </span><span class=\"txtu \"> </span><span class=\"txtu\">NM</span><span class=\"txtu\">, </span><span class=\"txtu\">qui </span><span class=\"txtu\">fait </span><span class=\"txtu\">le </span><span class=\"txtu\">milieu </span><span class=\"txtu\">de </span><span class=\"txtu\">la </span><span class=\"txtu\">lame </span><span class=\"txtu \"> </span><span class=\"txtu\">PNOM</span><span class=\"txtu\">, </span><span class=\"txtu\">doit </span><span class=\"txtu\">être </span><span class=\"txtu\">exactement </span><span class=\"txtu\">parallèle </span><span class=\"txtu\">à </span><span class=\"txtu\">l'</span><span class=\"txtu\">axe </span><span class=\"txtu \"> </span><span class=\"txtu\">AB</span><span class=\"txtu\"> </span><span class=\"txtu\">de </span><span class=\"txtu\">la </span><span class=\"txtu\">première </span><span class=\"txtu\">machine, </span><span class=\"txtu\">et </span><span class=\"txtu\">que </span><span class=\"txtu\">la </span><span class=\"txtu\">ligne </span><span class=\"txtu\">perpendiculaire </span><span class=\"txtu\">qui </span><span class=\"txtu\">tomberait </span><span class=\"txtu\">de </span><span class=\"txtu\">l'</span><span class=\"txtu\">axe </span><span class=\"txtu \"> </span><span class=\"txtu\">AB</span><span class=\"txtu\"> </span><span class=\"txtu\">sur </span><span class=\"txtu\">les </span><span class=\"txtu\">planches </span><span class=\"txtu \"> </span><span class=\"txtu\">GH</span><span class=\"txtu\"> </span><span class=\"txtu\">et </span><span class=\"txtu \"> </span><span class=\"txtu\">IK</span><span class=\"txtu\">, </span><span class=\"txtu\">tombe </span><span class=\"txtu \"> </span> <img src=\"illustrations/illustration-682575.gif\" style=\"display: inline;\" /><span class=\"txtu\"> </span><span class=\"txtu\"> </span><span class=\"txtu\">E</span><span class=\"txtu\"> </span><span class=\"txtu\">justement </span><span class=\"txtu\">sur </span><span class=\"txtu\">cette </span><span class=\"txtu\">ligne </span><span class=\"txtu \"> </span><span class=\"txtu\">NM</span><span class=\"txtu\">. </span><span class=\"txtu\">De </span><span class=\"txtu\">plus, </span><span class=\"txtu\">aux </span><span class=\"txtu\">dernières </span><span class=\"txtu\">figures, </span><span class=\"txtu\">il </span><span class=\"txtu\">faut </span><span class=\"txtu\">que </span><span class=\"txtu\">la </span><span class=\"txtu\">même </span><span class=\"txtu\">ligne </span><span class=\"txtu \"> </span><span class=\"txtu\">NM</span><span class=\"txtu\"> </span><span class=\"txtu\">prolongée </span><span class=\"txtu\">passe </span><span class=\"txtu\">justement </span><span class=\"txtu\">par </span><span class=\"txtu\">le </span><span class=\"txtu\">centre </span><span class=\"txtu\">de </span><span class=\"txtu\">la </span><span class=\"txtu\">roue </span><span class=\"txtu \"> </span><span class=\"txtu\">Q</span><span class=\"txtu\"> </span><span class=\"txtu\">et </span><span class=\"txtu\">se </span><span class=\"txtu\">rencontre </span><span class=\"txtu\">faire </span><span class=\"txtu\">une </span><span class=\"txtu\">ligne </span><span class=\"txtu\">droite </span><span class=\"txtu\">avec </span><span class=\"txtu\">l'</span><span class=\"txtu\">axe </span><span class=\"txtu \"> </span><span class=\"txtu\">RS</span><span class=\"txtu\">, </span><span class=\"txtu\">sur </span><span class=\"txtu\">lequel </span><span class=\"txtu\">tourne </span><span class=\"txtu\">le </span><span class=\"txtu\">verre.</span></span></span></td></tr>\n",
       "<tr class=\"tf ltr\"><td class=\"tf ltr\">2</td><td class=\"tf ltr\"><span class=\"tfsechead ltr\"><span class=\"ltr\">2 2122:10</span></span></td><td class=\"tf ltr\"><span class=\" ubd\"><span class=\"plain   \" ><span class=\"nd\">710499</span><span class=\"txtu \"> </span><span class=\"txtu\">Faisons </span><span class=\"txtu\">après </span><span class=\"txtu\">cela </span><span class=\"txtu\">qu'</span><span class=\"txtu \"> </span><span class=\"txtu\">A</span><span class=\"txtu\">, </span><span class=\"txtu\">l'</span><span class=\"txtu\">un </span><span class=\"txtu\">des </span><span class=\"txtu\">bouts </span><span class=\"txtu\">de </span><span class=\"txtu\">cette </span><span class=\"txtu\">corde, </span><span class=\"txtu\">étant </span><span class=\"txtu\">attaché </span><span class=\"txtu\">ferme </span><span class=\"txtu\">à </span><span class=\"txtu\">quelque </span><span class=\"txtu\">clou, </span><span class=\"txtu\">l'</span><span class=\"txtu\">autre </span><span class=\"txtu \"> </span><span class=\"txtu\">C</span><span class=\"txtu\"> </span><span class=\"txtu\">soit </span><span class=\"txtu\">derechef </span><span class=\"txtu\">soutenu </span><span class=\"txtu\">par </span><span class=\"txtu\">un </span><span class=\"txtu\">homme; </span><span class=\"txtu\">et </span><span class=\"txtu\">il </span><span class=\"txtu\">est </span><span class=\"txtu\">évident </span><span class=\"txtu\">que </span><span class=\"txtu\">cet </span><span class=\"txtu\">homme, </span><span class=\"txtu\">en </span><span class=\"txtu \"> </span><span class=\"txtu\">C</span><span class=\"txtu\">, </span><span class=\"txtu\">n'</span><span class=\"txtu\">aura </span><span class=\"txtu\">besoin, </span><span class=\"txtu\">non </span><span class=\"txtu\">plus </span><span class=\"txtu\">que </span><span class=\"txtu\">devant, </span><span class=\"txtu\">pour </span><span class=\"txtu\">soutenir </span><span class=\"txtu\">le </span><span class=\"txtu\">poids </span><span class=\"txtu \"> </span><span class=\"txtu\">E</span><span class=\"txtu\">, </span><span class=\"txtu\">que </span><span class=\"txtu\">de </span><span class=\"txtu\">la </span><span class=\"txtu\">force </span><span class=\"txtu\">qu'</span><span class=\"txtu\">il </span><span class=\"txtu\">faut </span><span class=\"txtu\">pour </span><span class=\"txtu\">soutenir </span><span class=\"txtu\">cent </span><span class=\"txtu\">livres: </span><span class=\"txtu\">à </span><span class=\"txtu \"> </span> <img src=\"illustrations/illustration-682632.gif\" style=\"display: inline;\" /><span class=\"txtu\"> </span><span class=\"txtu\"> </span><span class=\"txtu\">cause </span><span class=\"txtu\">que </span><span class=\"txtu\">le </span><span class=\"txtu\">clou </span><span class=\"txtu\">qui </span><span class=\"txtu\">est </span><span class=\"txtu\">vers </span><span class=\"txtu \"> </span><span class=\"txtu\">A</span><span class=\"txtu\"> </span><span class=\"txtu\">y </span><span class=\"txtu\">fait </span><span class=\"txtu\">le </span><span class=\"txtu\">même </span><span class=\"txtu\">office </span><span class=\"txtu\">que </span><span class=\"txtu\">l'</span><span class=\"txtu\">homme </span><span class=\"txtu\">que </span><span class=\"txtu\">nous </span><span class=\"txtu\">y </span><span class=\"txtu\">supposions </span><span class=\"txtu\">auparavant. </span></span></span></td><td class=\"tf ltr\"><span class=\" ubd\"><span class=\"plain   \" ><span class=\"nd\">711979</span><span class=\"txtu \"> </span><span class=\"txtu\">Puis, </span><span class=\"txtu\">si </span><span class=\"txtu\">on </span><span class=\"txtu\">suppose </span><span class=\"txtu\">que </span><span class=\"txtu \"> </span><span class=\"txtu\">A</span><span class=\"txtu\">, </span><span class=\"txtu\">l'</span><span class=\"txtu\">un </span><span class=\"txtu\">des </span><span class=\"txtu\">bouts </span><span class=\"txtu\">de </span><span class=\"txtu\">cette </span><span class=\"txtu\">corde, </span><span class=\"txtu\">soit </span><span class=\"txtu\">attaché </span><span class=\"txtu\">ferme </span><span class=\"txtu\">à </span><span class=\"txtu\">quelque </span><span class=\"txtu\">clou, </span><span class=\"txtu\">et </span><span class=\"txtu\">que </span><span class=\"txtu\">l'</span><span class=\"txtu\">autre </span><span class=\"txtu \"> </span><span class=\"txtu\">C</span><span class=\"txtu\"> </span><span class=\"txtu\">soit </span><span class=\"txtu\">derechef </span><span class=\"txtu\">soutenu </span><span class=\"txtu\">par </span><span class=\"txtu\">un </span><span class=\"txtu\">homme, </span><span class=\"txtu\">il </span><span class=\"txtu\">est </span><span class=\"txtu\">évident </span><span class=\"txtu\">que </span><span class=\"txtu\">cet </span><span class=\"txtu\">homme </span><span class=\"txtu\">en </span><span class=\"txtu \"> </span><span class=\"txtu\">C</span><span class=\"txtu\"> </span><span class=\"txtu\">n'</span><span class=\"txtu\">aura </span><span class=\"txtu\">besoin </span><span class=\"txtu\">non </span><span class=\"txtu\">plus </span><span class=\"txtu\">que </span><span class=\"txtu\">devant, </span><span class=\"txtu\">pour </span><span class=\"txtu\">soutenir </span><span class=\"txtu\">ce </span><span class=\"txtu\">poids </span><span class=\"txtu \"> </span><span class=\"txtu\">E</span><span class=\"txtu\">, </span><span class=\"txtu\">que </span><span class=\"txtu\">de </span><span class=\"txtu\">la </span><span class=\"txtu\">force </span><span class=\"txtu\">qu'</span><span class=\"txtu\">il </span><span class=\"txtu\">faut </span><span class=\"txtu\">pour </span><span class=\"txtu\">soutenir </span><span class=\"txtu\">100 </span><span class=\"txtu\">livres, </span><span class=\"txtu\">à </span><span class=\"txtu\">cause </span><span class=\"txtu\">que </span><span class=\"txtu\">le </span><span class=\"txtu\">clou </span><span class=\"txtu\">qui </span><span class=\"txtu\">sera </span><span class=\"txtu\">vers </span><span class=\"txtu \"> </span><span class=\"txtu\">A</span><span class=\"txtu\"> </span><span class=\"txtu\">y </span><span class=\"txtu\">fera </span><span class=\"txtu\">le </span><span class=\"txtu\">même </span><span class=\"txtu\">office </span><span class=\"txtu\">que </span><span class=\"txtu\">l'</span><span class=\"txtu\">homme </span><span class=\"txtu\">que </span><span class=\"txtu\">nous </span><span class=\"txtu\">y </span><span class=\"txtu\">supposions </span><span class=\"txtu\">auparavant. </span></span></span></td></tr></table>"
      ],
      "text/plain": [
       "<IPython.core.display.HTML object>"
      ]
     },
     "metadata": {},
     "output_type": "display_data"
    }
   ],
   "source": [
    "A.table(results, withNodes=True, end=2)"
   ]
  },
  {
   "cell_type": "markdown",
   "id": "51419d90-d1b8-4421-b81b-52a1eba0726d",
   "metadata": {},
   "source": [
    "Unfortunately, the generic mechanism of text-fabric does not show the passage of the second sentence of each similar pair.\n",
    "\n",
    "We can make a display by hand, and also show the similarity:"
   ]
  },
  {
   "cell_type": "code",
   "execution_count": 11,
   "id": "d82e9b4e-e565-407b-80c5-5d67a9afe2f5",
   "metadata": {},
   "outputs": [
    {
     "data": {
      "text/markdown": [
       "### 1 similarity 96\n"
      ],
      "text/plain": [
       "<IPython.core.display.Markdown object>"
      ]
     },
     "metadata": {},
     "output_type": "display_data"
    },
    {
     "data": {
      "text/html": [
       "<div class=\"\"><span class=\"tfsechead \"><span class=\"ltr\">1 1018</span></span>  <span class=\"txtu \"><span title=\"id\">1018</span> <span title=\"date\">1629-10-08</span> from <span title=\"sender\">Descartes:Rene:1596-1650</span> to <span title=\"recipient\">Ferrier:Jean:fl-1630</span> </span></div>"
      ],
      "text/plain": [
       "<IPython.core.display.HTML object>"
      ]
     },
     "metadata": {},
     "output_type": "display_data"
    },
    {
     "data": {
      "text/html": [
       "<div class=\"\"><span class=\"tfsechead \"><span class=\"ltr\">1 1018:4</span></span>  <span class=\"txtu \"> </span><span class=\"txtu\">Il </span><span class=\"txtu\">faut </span><span class=\"txtu\">observer </span><span class=\"txtu\">que </span><span class=\"txtu\">la </span><span class=\"txtu\">ligne </span><span class=\"txtu \"> </span><span class=\"txtu\">NM</span><span class=\"txtu\">, </span><span class=\"txtu\">qui </span><span class=\"txtu\">est </span><span class=\"txtu\">le </span><span class=\"txtu\">milieu </span><span class=\"txtu\">de </span><span class=\"txtu\">la </span><span class=\"txtu\">lame </span><span class=\"txtu \"> </span><span class=\"txtu\">PNOM</span><span class=\"txtu\">, </span><span class=\"txtu\">doit </span><span class=\"txtu\">être </span><span class=\"txtu\">exactement </span><span class=\"txtu\">parallèle </span><span class=\"txtu\">à </span><span class=\"txtu\">l'</span><span class=\"txtu\">axe </span><span class=\"txtu \"> </span><span class=\"txtu\">AB</span><span class=\"txtu\"> </span><span class=\"txtu\">de </span><span class=\"txtu\">la </span><span class=\"txtu\">première </span><span class=\"txtu\">machine, </span><span class=\"txtu\">et </span><span class=\"txtu\">que </span><span class=\"txtu\">la </span><span class=\"txtu\">ligne </span><span class=\"txtu\">perpendiculaire </span><span class=\"txtu\">qui </span><span class=\"txtu\">tomberait </span><span class=\"txtu\">de </span><span class=\"txtu\">l'</span><span class=\"txtu\">axe </span><span class=\"txtu \"> </span><span class=\"txtu\">AB</span><span class=\"txtu\"> </span><span class=\"txtu\">sur </span><span class=\"txtu\">les </span><span class=\"txtu\">planches </span><span class=\"txtu \"> </span><span class=\"txtu\">GH</span><span class=\"txtu\"> </span><span class=\"txtu\">et </span><span class=\"txtu \"> </span><span class=\"txtu\">IK</span><span class=\"txtu\">, </span><span class=\"txtu\">tombe </span><span class=\"txtu\">justement </span><span class=\"txtu\">sur </span><span class=\"txtu\">cette </span><span class=\"txtu\">ligne </span><span class=\"txtu \"> </span><span class=\"txtu\">NM</span><span class=\"txtu\">.\n",
       "</span><span class=\"txtu\">De </span><span class=\"txtu\">plus, </span><span class=\"txtu\">aux </span><span class=\"txtu\">dernières </span><span class=\"txtu\">figures, </span><span class=\"txtu\">il </span><span class=\"txtu\">faut </span><span class=\"txtu\">que </span><span class=\"txtu\">la </span><span class=\"txtu\">même </span><span class=\"txtu\">ligne </span><span class=\"txtu \"> </span><span class=\"txtu\">NM</span><span class=\"txtu\">, </span><span class=\"txtu\">prolongée, </span><span class=\"txtu\">passe </span><span class=\"txtu\">justement </span><span class=\"txtu\">par </span><span class=\"txtu\">le </span><span class=\"txtu\">centre </span><span class=\"txtu\">de </span><span class=\"txtu\">la </span><span class=\"txtu\">roue </span><span class=\"txtu \"> </span><span class=\"txtu\">Q</span><span class=\"txtu\">,\n",
       "</span><span class=\"txtu\">et </span><span class=\"txtu\">se </span><span class=\"txtu\">rencontre </span><span class=\"txtu\">faire </span><span class=\"txtu\">une </span><span class=\"txtu\">ligne </span><span class=\"txtu\">droite </span><span class=\"txtu\">avec </span><span class=\"txtu\">l'</span><span class=\"txtu\">axe </span><span class=\"txtu \"> </span><span class=\"txtu\">RS</span><span class=\"txtu\">, </span><span class=\"txtu\">sur </span><span class=\"txtu\">lequel </span><span class=\"txtu\">tourne </span><span class=\"txtu\">le </span><span class=\"txtu\">verre.</span></div>"
      ],
      "text/plain": [
       "<IPython.core.display.HTML object>"
      ]
     },
     "metadata": {},
     "output_type": "display_data"
    },
    {
     "data": {
      "text/markdown": [
       "---\n"
      ],
      "text/plain": [
       "<IPython.core.display.Markdown object>"
      ]
     },
     "metadata": {},
     "output_type": "display_data"
    },
    {
     "data": {
      "text/html": [
       "<div class=\"\"><span class=\"tfsechead \"><span class=\"ltr\">1 1018</span></span>  <span class=\"txtu \"><span title=\"id\">1018</span> <span title=\"date\">1629-10-08</span> from <span title=\"sender\">Descartes:Rene:1596-1650</span> to <span title=\"recipient\">Ferrier:Jean:fl-1630</span> </span></div>"
      ],
      "text/plain": [
       "<IPython.core.display.HTML object>"
      ]
     },
     "metadata": {},
     "output_type": "display_data"
    },
    {
     "data": {
      "text/html": [
       "<div class=\"\"><span class=\"tfsechead \"><span class=\"ltr\">1 1019:11</span></span>  <span class=\"txtu \"> </span><span class=\"txtu\">Enfin </span><span class=\"txtu\">vous </span><span class=\"txtu\">dites </span><span class=\"txtu\">qu'</span><span class=\"txtu\">il </span><span class=\"txtu\">faut </span><span class=\"txtu\">aussi </span><span class=\"txtu\">observer </span><span class=\"txtu\">que </span><span class=\"txtu\">la </span><span class=\"txtu\">ligne </span><span class=\"txtu \"> </span><span class=\"txtu\">NM</span><span class=\"txtu\">, </span><span class=\"txtu\">qui </span><span class=\"txtu\">fait </span><span class=\"txtu\">le </span><span class=\"txtu\">milieu </span><span class=\"txtu\">de </span><span class=\"txtu\">la </span><span class=\"txtu\">lame </span><span class=\"txtu \"> </span><span class=\"txtu\">PNOM</span><span class=\"txtu\">, </span><span class=\"txtu\">doit </span><span class=\"txtu\">être </span><span class=\"txtu\">exactement </span><span class=\"txtu\">parallèle </span><span class=\"txtu\">à </span><span class=\"txtu\">l'</span><span class=\"txtu\">axe </span><span class=\"txtu \"> </span><span class=\"txtu\">AB</span><span class=\"txtu\"> </span><span class=\"txtu\">de </span><span class=\"txtu\">la </span><span class=\"txtu\">première </span><span class=\"txtu\">machine, </span><span class=\"txtu\">et </span><span class=\"txtu\">que </span><span class=\"txtu\">la </span><span class=\"txtu\">ligne </span><span class=\"txtu\">perpendiculaire </span><span class=\"txtu\">qui </span><span class=\"txtu\">tomberait </span><span class=\"txtu\">de </span><span class=\"txtu\">l'</span><span class=\"txtu\">axe </span><span class=\"txtu \"> </span><span class=\"txtu\">AB</span><span class=\"txtu\"> </span><span class=\"txtu\">sur </span><span class=\"txtu\">les </span><span class=\"txtu\">planches </span><span class=\"txtu \"> </span><span class=\"txtu\">GH</span><span class=\"txtu\"> </span><span class=\"txtu\">et </span><span class=\"txtu \"> </span><span class=\"txtu\">IK</span><span class=\"txtu\">, </span><span class=\"txtu\">tombe </span><span class=\"txtu \"> </span> <img src=\"illustrations/illustration-682575.gif\" style=\"display: inline;\" /><span class=\"txtu\"> </span><span class=\"txtu\"> </span><span class=\"txtu\">E</span><span class=\"txtu\"> </span><span class=\"txtu\">justement </span><span class=\"txtu\">sur </span><span class=\"txtu\">cette </span><span class=\"txtu\">ligne </span><span class=\"txtu \"> </span><span class=\"txtu\">NM</span><span class=\"txtu\">. </span><span class=\"txtu\">De </span><span class=\"txtu\">plus, </span><span class=\"txtu\">aux </span><span class=\"txtu\">dernières </span><span class=\"txtu\">figures, </span><span class=\"txtu\">il </span><span class=\"txtu\">faut </span><span class=\"txtu\">que </span><span class=\"txtu\">la </span><span class=\"txtu\">même </span><span class=\"txtu\">ligne </span><span class=\"txtu \"> </span><span class=\"txtu\">NM</span><span class=\"txtu\"> </span><span class=\"txtu\">prolongée </span><span class=\"txtu\">passe </span><span class=\"txtu\">justement </span><span class=\"txtu\">par </span><span class=\"txtu\">le </span><span class=\"txtu\">centre </span><span class=\"txtu\">de </span><span class=\"txtu\">la </span><span class=\"txtu\">roue </span><span class=\"txtu \"> </span><span class=\"txtu\">Q</span><span class=\"txtu\"> </span><span class=\"txtu\">et </span><span class=\"txtu\">se </span><span class=\"txtu\">rencontre </span><span class=\"txtu\">faire </span><span class=\"txtu\">une </span><span class=\"txtu\">ligne </span><span class=\"txtu\">droite </span><span class=\"txtu\">avec </span><span class=\"txtu\">l'</span><span class=\"txtu\">axe </span><span class=\"txtu \"> </span><span class=\"txtu\">RS</span><span class=\"txtu\">, </span><span class=\"txtu\">sur </span><span class=\"txtu\">lequel </span><span class=\"txtu\">tourne </span><span class=\"txtu\">le </span><span class=\"txtu\">verre.</span></div>"
      ],
      "text/plain": [
       "<IPython.core.display.HTML object>"
      ]
     },
     "metadata": {},
     "output_type": "display_data"
    },
    {
     "data": {
      "text/markdown": [
       "---\n"
      ],
      "text/plain": [
       "<IPython.core.display.Markdown object>"
      ]
     },
     "metadata": {},
     "output_type": "display_data"
    },
    {
     "data": {
      "text/markdown": [
       "---\n"
      ],
      "text/plain": [
       "<IPython.core.display.Markdown object>"
      ]
     },
     "metadata": {},
     "output_type": "display_data"
    },
    {
     "data": {
      "text/markdown": [
       "### 2 similarity 92\n"
      ],
      "text/plain": [
       "<IPython.core.display.Markdown object>"
      ]
     },
     "metadata": {},
     "output_type": "display_data"
    },
    {
     "data": {
      "text/html": [
       "<div class=\"\"><span class=\"tfsechead \"><span class=\"ltr\">2 2122</span></span>  <span class=\"txtu \"><span title=\"id\">2122</span> <span title=\"date\">1637-10-05</span> from <span title=\"sender\">Descartes:Rene:1596-1650</span> to <span title=\"recipient\">Huygens:Constantijn:1596-1687</span> </span></div>"
      ],
      "text/plain": [
       "<IPython.core.display.HTML object>"
      ]
     },
     "metadata": {},
     "output_type": "display_data"
    },
    {
     "data": {
      "text/html": [
       "<div class=\"\"><span class=\"tfsechead \"><span class=\"ltr\">2 2122:10</span></span>  <span class=\"txtu \"> </span><span class=\"txtu\">Faisons </span><span class=\"txtu\">après </span><span class=\"txtu\">cela </span><span class=\"txtu\">qu'</span><span class=\"txtu \"> </span><span class=\"txtu\">A</span><span class=\"txtu\">, </span><span class=\"txtu\">l'</span><span class=\"txtu\">un </span><span class=\"txtu\">des </span><span class=\"txtu\">bouts </span><span class=\"txtu\">de </span><span class=\"txtu\">cette </span><span class=\"txtu\">corde, </span><span class=\"txtu\">étant </span><span class=\"txtu\">attaché </span><span class=\"txtu\">ferme </span><span class=\"txtu\">à </span><span class=\"txtu\">quelque </span><span class=\"txtu\">clou, </span><span class=\"txtu\">l'</span><span class=\"txtu\">autre </span><span class=\"txtu \"> </span><span class=\"txtu\">C</span><span class=\"txtu\"> </span><span class=\"txtu\">soit </span><span class=\"txtu\">derechef </span><span class=\"txtu\">soutenu </span><span class=\"txtu\">par </span><span class=\"txtu\">un </span><span class=\"txtu\">homme; </span><span class=\"txtu\">et </span><span class=\"txtu\">il </span><span class=\"txtu\">est </span><span class=\"txtu\">évident </span><span class=\"txtu\">que </span><span class=\"txtu\">cet </span><span class=\"txtu\">homme, </span><span class=\"txtu\">en </span><span class=\"txtu \"> </span><span class=\"txtu\">C</span><span class=\"txtu\">, </span><span class=\"txtu\">n'</span><span class=\"txtu\">aura </span><span class=\"txtu\">besoin, </span><span class=\"txtu\">non </span><span class=\"txtu\">plus </span><span class=\"txtu\">que </span><span class=\"txtu\">devant, </span><span class=\"txtu\">pour </span><span class=\"txtu\">soutenir </span><span class=\"txtu\">le </span><span class=\"txtu\">poids </span><span class=\"txtu \"> </span><span class=\"txtu\">E</span><span class=\"txtu\">, </span><span class=\"txtu\">que </span><span class=\"txtu\">de </span><span class=\"txtu\">la </span><span class=\"txtu\">force </span><span class=\"txtu\">qu'</span><span class=\"txtu\">il </span><span class=\"txtu\">faut </span><span class=\"txtu\">pour </span><span class=\"txtu\">soutenir </span><span class=\"txtu\">cent </span><span class=\"txtu\">livres: </span><span class=\"txtu\">à </span><span class=\"txtu \"> </span> <img src=\"illustrations/illustration-682632.gif\" style=\"display: inline;\" /><span class=\"txtu\"> </span><span class=\"txtu\"> </span><span class=\"txtu\">cause </span><span class=\"txtu\">que </span><span class=\"txtu\">le </span><span class=\"txtu\">clou </span><span class=\"txtu\">qui </span><span class=\"txtu\">est </span><span class=\"txtu\">vers </span><span class=\"txtu \"> </span><span class=\"txtu\">A</span><span class=\"txtu\"> </span><span class=\"txtu\">y </span><span class=\"txtu\">fait </span><span class=\"txtu\">le </span><span class=\"txtu\">même </span><span class=\"txtu\">office </span><span class=\"txtu\">que </span><span class=\"txtu\">l'</span><span class=\"txtu\">homme </span><span class=\"txtu\">que </span><span class=\"txtu\">nous </span><span class=\"txtu\">y </span><span class=\"txtu\">supposions </span><span class=\"txtu\">auparavant. </span></div>"
      ],
      "text/plain": [
       "<IPython.core.display.HTML object>"
      ]
     },
     "metadata": {},
     "output_type": "display_data"
    },
    {
     "data": {
      "text/markdown": [
       "---\n"
      ],
      "text/plain": [
       "<IPython.core.display.Markdown object>"
      ]
     },
     "metadata": {},
     "output_type": "display_data"
    },
    {
     "data": {
      "text/html": [
       "<div class=\"\"><span class=\"tfsechead \"><span class=\"ltr\">2 2122</span></span>  <span class=\"txtu \"><span title=\"id\">2122</span> <span title=\"date\">1637-10-05</span> from <span title=\"sender\">Descartes:Rene:1596-1650</span> to <span title=\"recipient\">Huygens:Constantijn:1596-1687</span> </span></div>"
      ],
      "text/plain": [
       "<IPython.core.display.HTML object>"
      ]
     },
     "metadata": {},
     "output_type": "display_data"
    },
    {
     "data": {
      "text/html": [
       "<div class=\"\"><span class=\"tfsechead \"><span class=\"ltr\">2 2164:15</span></span>  <span class=\"txtu \"> </span><span class=\"txtu\">Puis, </span><span class=\"txtu\">si </span><span class=\"txtu\">on </span><span class=\"txtu\">suppose </span><span class=\"txtu\">que </span><span class=\"txtu \"> </span><span class=\"txtu\">A</span><span class=\"txtu\">, </span><span class=\"txtu\">l'</span><span class=\"txtu\">un </span><span class=\"txtu\">des </span><span class=\"txtu\">bouts </span><span class=\"txtu\">de </span><span class=\"txtu\">cette </span><span class=\"txtu\">corde, </span><span class=\"txtu\">soit </span><span class=\"txtu\">attaché </span><span class=\"txtu\">ferme </span><span class=\"txtu\">à </span><span class=\"txtu\">quelque </span><span class=\"txtu\">clou, </span><span class=\"txtu\">et </span><span class=\"txtu\">que </span><span class=\"txtu\">l'</span><span class=\"txtu\">autre </span><span class=\"txtu \"> </span><span class=\"txtu\">C</span><span class=\"txtu\"> </span><span class=\"txtu\">soit </span><span class=\"txtu\">derechef </span><span class=\"txtu\">soutenu </span><span class=\"txtu\">par </span><span class=\"txtu\">un </span><span class=\"txtu\">homme, </span><span class=\"txtu\">il </span><span class=\"txtu\">est </span><span class=\"txtu\">évident </span><span class=\"txtu\">que </span><span class=\"txtu\">cet </span><span class=\"txtu\">homme </span><span class=\"txtu\">en </span><span class=\"txtu \"> </span><span class=\"txtu\">C</span><span class=\"txtu\"> </span><span class=\"txtu\">n'</span><span class=\"txtu\">aura </span><span class=\"txtu\">besoin </span><span class=\"txtu\">non </span><span class=\"txtu\">plus </span><span class=\"txtu\">que </span><span class=\"txtu\">devant, </span><span class=\"txtu\">pour </span><span class=\"txtu\">soutenir </span><span class=\"txtu\">ce </span><span class=\"txtu\">poids </span><span class=\"txtu \"> </span><span class=\"txtu\">E</span><span class=\"txtu\">, </span><span class=\"txtu\">que </span><span class=\"txtu\">de </span><span class=\"txtu\">la </span><span class=\"txtu\">force </span><span class=\"txtu\">qu'</span><span class=\"txtu\">il </span><span class=\"txtu\">faut </span><span class=\"txtu\">pour </span><span class=\"txtu\">soutenir </span><span class=\"txtu\">100 </span><span class=\"txtu\">livres, </span><span class=\"txtu\">à </span><span class=\"txtu\">cause </span><span class=\"txtu\">que </span><span class=\"txtu\">le </span><span class=\"txtu\">clou </span><span class=\"txtu\">qui </span><span class=\"txtu\">sera </span><span class=\"txtu\">vers </span><span class=\"txtu \"> </span><span class=\"txtu\">A</span><span class=\"txtu\"> </span><span class=\"txtu\">y </span><span class=\"txtu\">fera </span><span class=\"txtu\">le </span><span class=\"txtu\">même </span><span class=\"txtu\">office </span><span class=\"txtu\">que </span><span class=\"txtu\">l'</span><span class=\"txtu\">homme </span><span class=\"txtu\">que </span><span class=\"txtu\">nous </span><span class=\"txtu\">y </span><span class=\"txtu\">supposions </span><span class=\"txtu\">auparavant. </span></div>"
      ],
      "text/plain": [
       "<IPython.core.display.HTML object>"
      ]
     },
     "metadata": {},
     "output_type": "display_data"
    },
    {
     "data": {
      "text/markdown": [
       "---\n"
      ],
      "text/plain": [
       "<IPython.core.display.Markdown object>"
      ]
     },
     "metadata": {},
     "output_type": "display_data"
    },
    {
     "data": {
      "text/markdown": [
       "---\n"
      ],
      "text/plain": [
       "<IPython.core.display.Markdown object>"
      ]
     },
     "metadata": {},
     "output_type": "display_data"
    },
    {
     "data": {
      "text/markdown": [
       "### 3 similarity 97\n"
      ],
      "text/plain": [
       "<IPython.core.display.Markdown object>"
      ]
     },
     "metadata": {},
     "output_type": "display_data"
    },
    {
     "data": {
      "text/html": [
       "<div class=\"\"><span class=\"tfsechead \"><span class=\"ltr\">2 2122</span></span>  <span class=\"txtu \"><span title=\"id\">2122</span> <span title=\"date\">1637-10-05</span> from <span title=\"sender\">Descartes:Rene:1596-1650</span> to <span title=\"recipient\">Huygens:Constantijn:1596-1687</span> </span></div>"
      ],
      "text/plain": [
       "<IPython.core.display.HTML object>"
      ]
     },
     "metadata": {},
     "output_type": "display_data"
    },
    {
     "data": {
      "text/html": [
       "<div class=\"\"><span class=\"tfsechead \"><span class=\"ltr\">2 2122:10</span></span>  <span class=\"txtu \"> </span><span class=\"txtu\">Enfin, </span><span class=\"txtu\">posons </span><span class=\"txtu\">que </span><span class=\"txtu\">cet </span><span class=\"txtu\">homme </span><span class=\"txtu\">qui </span><span class=\"txtu\">est </span><span class=\"txtu\">vers </span><span class=\"txtu \"> </span><span class=\"txtu\">C</span><span class=\"txtu\"> </span><span class=\"txtu\">tire </span><span class=\"txtu\">la </span><span class=\"txtu\">corde </span><span class=\"txtu\">pour </span><span class=\"txtu\">faire </span><span class=\"txtu\">hausser </span><span class=\"txtu\">le </span><span class=\"txtu\">poids </span><span class=\"txtu \"> </span><span class=\"txtu\">E</span><span class=\"txtu\">; </span><span class=\"txtu\">et </span><span class=\"txtu\">il </span><span class=\"txtu\">est </span><span class=\"txtu\">évident </span><span class=\"txtu\">que, </span><span class=\"txtu\">s'</span><span class=\"txtu\">il </span><span class=\"txtu\">y </span><span class=\"txtu\">emploie </span><span class=\"txtu\">la </span><span class=\"txtu\">force </span><span class=\"txtu\">qu'</span><span class=\"txtu\">il </span><span class=\"txtu\">faut </span><span class=\"txtu\">pour </span><span class=\"txtu\">lever </span><span class=\"txtu\">100 </span><span class=\"txtu\">livres </span><span class=\"txtu\">à </span><span class=\"txtu\">la </span><span class=\"txtu\">hauteur </span><span class=\"txtu\">de </span><span class=\"txtu\">deux </span><span class=\"txtu\">pieds, </span><span class=\"txtu\">il </span><span class=\"txtu\">fera </span><span class=\"txtu\">hausser </span><span class=\"txtu\">ce </span><span class=\"txtu\">poids </span><span class=\"txtu \"> </span><span class=\"txtu\">E</span><span class=\"txtu\">, </span><span class=\"txtu\">qui </span><span class=\"txtu\">en </span><span class=\"txtu\">pèse </span><span class=\"txtu\">200, </span><span class=\"txtu\">de </span><span class=\"txtu\">la </span><span class=\"txtu\">hauteur </span><span class=\"txtu\">d'</span><span class=\"txtu\">un </span><span class=\"txtu\">pied: </span><span class=\"txtu\">car </span><span class=\"txtu\">la </span><span class=\"txtu\">corde </span><span class=\"txtu \"> </span><span class=\"txtu\">ABC</span><span class=\"txtu\"> </span><span class=\"txtu\">étant </span><span class=\"txtu\">doublée </span><span class=\"txtu\">comme </span><span class=\"txtu\">elle </span><span class=\"txtu\">est, </span><span class=\"txtu\">on </span><span class=\"txtu\">la </span><span class=\"txtu\">doit </span><span class=\"txtu\">tirer </span><span class=\"txtu\">de </span><span class=\"txtu\">deux </span><span class=\"txtu\">pieds </span><span class=\"txtu\">par </span><span class=\"txtu\">le </span><span class=\"txtu\">bout </span><span class=\"txtu \"> </span><span class=\"txtu\">C</span><span class=\"txtu\">, </span><span class=\"txtu\">pour </span><span class=\"txtu\">faire </span><span class=\"txtu\">autant </span><span class=\"txtu\">hausser </span><span class=\"txtu\">le </span><span class=\"txtu\">poids </span><span class=\"txtu \"> </span><span class=\"txtu\">E</span><span class=\"txtu\"> </span><span class=\"txtu\">que </span><span class=\"txtu\">si </span><span class=\"txtu\">deux </span><span class=\"txtu\">hommes </span><span class=\"txtu\">la </span><span class=\"txtu\">tiraient, </span><span class=\"txtu\">l'</span><span class=\"txtu\">un </span><span class=\"txtu\">par </span><span class=\"txtu\">le </span><span class=\"txtu\">bout </span><span class=\"txtu \"> </span><span class=\"txtu\">A</span><span class=\"txtu\"> </span><span class=\"txtu\">et </span><span class=\"txtu\">l'</span><span class=\"txtu\">autre </span><span class=\"txtu\">par </span><span class=\"txtu\">le </span><span class=\"txtu\">bout </span><span class=\"txtu \"> </span><span class=\"txtu\">C</span><span class=\"txtu\">, </span><span class=\"txtu\">chacun </span><span class=\"txtu\">de </span><span class=\"txtu\">la </span><span class=\"txtu\">longueur </span><span class=\"txtu\">d'</span><span class=\"txtu\">un </span><span class=\"txtu\">pied </span><span class=\"txtu\">seulement.</span></div>"
      ],
      "text/plain": [
       "<IPython.core.display.HTML object>"
      ]
     },
     "metadata": {},
     "output_type": "display_data"
    },
    {
     "data": {
      "text/markdown": [
       "---\n"
      ],
      "text/plain": [
       "<IPython.core.display.Markdown object>"
      ]
     },
     "metadata": {},
     "output_type": "display_data"
    },
    {
     "data": {
      "text/html": [
       "<div class=\"\"><span class=\"tfsechead \"><span class=\"ltr\">2 2122</span></span>  <span class=\"txtu \"><span title=\"id\">2122</span> <span title=\"date\">1637-10-05</span> from <span title=\"sender\">Descartes:Rene:1596-1650</span> to <span title=\"recipient\">Huygens:Constantijn:1596-1687</span> </span></div>"
      ],
      "text/plain": [
       "<IPython.core.display.HTML object>"
      ]
     },
     "metadata": {},
     "output_type": "display_data"
    },
    {
     "data": {
      "text/html": [
       "<div class=\"\"><span class=\"tfsechead \"><span class=\"ltr\">2 2164:15</span></span>  <span class=\"txtu \"> </span><span class=\"txtu\">Enfin, </span><span class=\"txtu\">supposant </span><span class=\"txtu\">que </span><span class=\"txtu\">cet </span><span class=\"txtu\">homme, </span><span class=\"txtu\">qui </span><span class=\"txtu\">est </span><span class=\"txtu\">vers </span><span class=\"txtu \"> </span><span class=\"txtu\">C</span><span class=\"txtu\">, </span><span class=\"txtu\">tire </span><span class=\"txtu\">la </span><span class=\"txtu\">corde </span><span class=\"txtu\">pour </span><span class=\"txtu\">faire </span><span class=\"txtu\">hausser </span><span class=\"txtu\">le </span><span class=\"txtu\">poids </span><span class=\"txtu \"> </span><span class=\"txtu\">E</span><span class=\"txtu\">, </span><span class=\"txtu\">il </span><span class=\"txtu\">est </span><span class=\"txtu\">évident </span><span class=\"txtu\">que, </span><span class=\"txtu\">s'</span><span class=\"txtu\">il </span><span class=\"txtu\">y </span><span class=\"txtu\">emploie </span><span class=\"txtu\">la </span><span class=\"txtu\">force </span><span class=\"txtu\">qu'</span><span class=\"txtu\">il </span><span class=\"txtu\">faut </span><span class=\"txtu\">pour </span><span class=\"txtu\"> </span><span class=\"txtu\">lever </span><span class=\"txtu\">100 </span><span class=\"txtu\">livres </span><span class=\"txtu\">à </span><span class=\"txtu\">la </span><span class=\"txtu\">hauteur </span><span class=\"txtu\">de </span><span class=\"txtu\">deux </span><span class=\"txtu\">pieds, </span><span class=\"txtu\">il </span><span class=\"txtu\">fera </span><span class=\"txtu\">hausser </span><span class=\"txtu\">ce </span><span class=\"txtu\">poids </span><span class=\"txtu \"> </span><span class=\"txtu\">E</span><span class=\"txtu\">, </span><span class=\"txtu\">qui </span><span class=\"txtu\">en </span><span class=\"txtu\">pèse </span><span class=\"txtu\">deux </span><span class=\"txtu\">cents, </span><span class=\"txtu\">de </span><span class=\"txtu\">la </span><span class=\"txtu\">hauteur </span><span class=\"txtu\">d'</span><span class=\"txtu\">un </span><span class=\"txtu\">pied; </span><span class=\"txtu\">car </span><span class=\"txtu\">la </span><span class=\"txtu\">corde </span><span class=\"txtu \"> </span><span class=\"txtu\">ABC</span><span class=\"txtu\"> </span><span class=\"txtu\">étant </span><span class=\"txtu\">doublée </span><span class=\"txtu\">comme </span><span class=\"txtu\">elle </span><span class=\"txtu\">est, </span><span class=\"txtu\">on </span><span class=\"txtu\">la </span><span class=\"txtu\">doit </span><span class=\"txtu\">tirer </span><span class=\"txtu\">de </span><span class=\"txtu\">deux </span><span class=\"txtu\">pieds, </span><span class=\"txtu\">par </span><span class=\"txtu\">le </span><span class=\"txtu\">bout </span><span class=\"txtu \"> </span><span class=\"txtu\">C</span><span class=\"txtu\">, </span><span class=\"txtu\">pour </span><span class=\"txtu\">faire </span><span class=\"txtu\">autant </span><span class=\"txtu\">hausser </span><span class=\"txtu\">ce </span><span class=\"txtu\">poids </span><span class=\"txtu \"> </span><span class=\"txtu\">E</span><span class=\"txtu\"> </span><span class=\"txtu\">que </span><span class=\"txtu\">si </span><span class=\"txtu\">deux </span><span class=\"txtu\">hommes </span><span class=\"txtu\">la </span><span class=\"txtu\">tiraient, </span><span class=\"txtu\">l'</span><span class=\"txtu\">un </span><span class=\"txtu\">par </span><span class=\"txtu\">le </span><span class=\"txtu\">bout </span><span class=\"txtu \"> </span><span class=\"txtu\">A</span><span class=\"txtu\"> </span><span class=\"txtu\">et </span><span class=\"txtu\">l'</span><span class=\"txtu\">autre </span><span class=\"txtu\">par </span><span class=\"txtu\">le </span><span class=\"txtu\">bout </span><span class=\"txtu \"> </span><span class=\"txtu\">C</span><span class=\"txtu\">, </span><span class=\"txtu\">chacun </span><span class=\"txtu\">de </span><span class=\"txtu\">la </span><span class=\"txtu\">longueur </span><span class=\"txtu\">d'</span><span class=\"txtu\">un </span><span class=\"txtu\">pied </span><span class=\"txtu\">seulement. </span></div>"
      ],
      "text/plain": [
       "<IPython.core.display.HTML object>"
      ]
     },
     "metadata": {},
     "output_type": "display_data"
    },
    {
     "data": {
      "text/markdown": [
       "---\n"
      ],
      "text/plain": [
       "<IPython.core.display.Markdown object>"
      ]
     },
     "metadata": {},
     "output_type": "display_data"
    },
    {
     "data": {
      "text/markdown": [
       "---\n"
      ],
      "text/plain": [
       "<IPython.core.display.Markdown object>"
      ]
     },
     "metadata": {},
     "output_type": "display_data"
    },
    {
     "data": {
      "text/markdown": [
       "### 4 similarity 95\n"
      ],
      "text/plain": [
       "<IPython.core.display.Markdown object>"
      ]
     },
     "metadata": {},
     "output_type": "display_data"
    },
    {
     "data": {
      "text/html": [
       "<div class=\"\"><span class=\"tfsechead \"><span class=\"ltr\">2 2122</span></span>  <span class=\"txtu \"><span title=\"id\">2122</span> <span title=\"date\">1637-10-05</span> from <span title=\"sender\">Descartes:Rene:1596-1650</span> to <span title=\"recipient\">Huygens:Constantijn:1596-1687</span> </span></div>"
      ],
      "text/plain": [
       "<IPython.core.display.HTML object>"
      ]
     },
     "metadata": {},
     "output_type": "display_data"
    },
    {
     "data": {
      "text/html": [
       "<div class=\"\"><span class=\"tfsechead \"><span class=\"ltr\">2 2122:29</span></span>  <span class=\"txtu \"> </span><span class=\"txtu\">Et </span><span class=\"txtu\">pour </span><span class=\"txtu\">mesurer </span><span class=\"txtu\">exactement </span><span class=\"txtu\">quelle </span><span class=\"txtu\">doit </span><span class=\"txtu\">être </span><span class=\"txtu\">cette </span><span class=\"txtu\">force </span><span class=\"txtu\">en </span><span class=\"txtu\">chaque </span><span class=\"txtu\">point </span><span class=\"txtu\">de </span><span class=\"txtu\">la </span><span class=\"txtu\">ligne </span><span class=\"txtu\">courbe </span><span class=\"txtu \"> </span><span class=\"txtu\">ABCDE</span><span class=\"txtu\">, </span><span class=\"txtu\">il </span><span class=\"txtu\">faut </span><span class=\"txtu\">savoir </span><span class=\"txtu\">qu'</span><span class=\"txtu\">elle </span><span class=\"txtu\">y </span><span class=\"txtu\">agit </span><span class=\"txtu\">tout </span><span class=\"txtu\">de </span><span class=\"txtu\">même </span><span class=\"txtu\">que </span><span class=\"txtu\">si </span><span class=\"txtu\">elle </span><span class=\"txtu\">traînait </span><span class=\"txtu\">le </span><span class=\"txtu\">poids </span><span class=\"txtu\">sur </span><span class=\"txtu\">un </span><span class=\"txtu\">plan </span><span class=\"txtu\">circulairement </span><span class=\"txtu\">incliné, </span><span class=\"txtu\">et </span><span class=\"txtu\">que </span><span class=\"txtu\">l'</span><span class=\"txtu\">inclination </span><span class=\"txtu\">de </span><span class=\"txtu\">chacun </span><span class=\"txtu\">des </span><span class=\"txtu\">points </span><span class=\"txtu\">de </span><span class=\"txtu\">ce </span><span class=\"txtu\">plan </span><span class=\"txtu\">circulaire </span><span class=\"txtu\">se </span><span class=\"txtu\">doit </span><span class=\"txtu\">mesurer </span><span class=\"txtu\">par </span><span class=\"txtu\">celle </span><span class=\"txtu\">de </span><span class=\"txtu\">la </span><span class=\"txtu\">ligne </span><span class=\"txtu\">droite </span><span class=\"txtu\">qui </span><span class=\"txtu\">touche </span><span class=\"txtu\">le </span><span class=\"txtu\">cercle </span><span class=\"txtu\">en </span><span class=\"txtu\">ce </span><span class=\"txtu\">point. </span></div>"
      ],
      "text/plain": [
       "<IPython.core.display.HTML object>"
      ]
     },
     "metadata": {},
     "output_type": "display_data"
    },
    {
     "data": {
      "text/markdown": [
       "---\n"
      ],
      "text/plain": [
       "<IPython.core.display.Markdown object>"
      ]
     },
     "metadata": {},
     "output_type": "display_data"
    },
    {
     "data": {
      "text/html": [
       "<div class=\"\"><span class=\"tfsechead \"><span class=\"ltr\">2 2122</span></span>  <span class=\"txtu \"><span title=\"id\">2122</span> <span title=\"date\">1637-10-05</span> from <span title=\"sender\">Descartes:Rene:1596-1650</span> to <span title=\"recipient\">Huygens:Constantijn:1596-1687</span> </span></div>"
      ],
      "text/plain": [
       "<IPython.core.display.HTML object>"
      ]
     },
     "metadata": {},
     "output_type": "display_data"
    },
    {
     "data": {
      "text/html": [
       "<div class=\"\"><span class=\"tfsechead \"><span class=\"ltr\">2 2164:25</span></span>  <span class=\"txtu \"> </span><span class=\"txtu\">Or, </span><span class=\"txtu\">pour </span><span class=\"txtu\">mesurer </span><span class=\"txtu\">exactement </span><span class=\"txtu\">quelle </span><span class=\"txtu\">doit </span><span class=\"txtu\">être </span><span class=\"txtu\">cette </span><span class=\"txtu\">force </span><span class=\"txtu\">en </span><span class=\"txtu\">chaque </span><span class=\"txtu\">point </span><span class=\"txtu\">de </span><span class=\"txtu\">la </span><span class=\"txtu\">ligne </span><span class=\"txtu\">courbe </span><span class=\"txtu \"> </span><span class=\"txtu\">ABCDE</span><span class=\"txtu\">, </span><span class=\"txtu\">il </span><span class=\"txtu\">faut </span><span class=\"txtu\">penser </span><span class=\"txtu\">qu'</span><span class=\"txtu\">elle </span><span class=\"txtu\">y </span><span class=\"txtu\">agit </span><span class=\"txtu\">tout </span><span class=\"txtu\">de </span><span class=\"txtu\">même </span><span class=\"txtu\">que </span><span class=\"txtu\">si </span><span class=\"txtu\">elle </span><span class=\"txtu\">traînait </span><span class=\"txtu\">le </span><span class=\"txtu\">poids </span><span class=\"txtu\">sur </span><span class=\"txtu\">un </span><span class=\"txtu\">plan </span><span class=\"txtu\">circulairement </span><span class=\"txtu\">incliné, </span><span class=\"txtu\">et </span><span class=\"txtu\">l'</span><span class=\"txtu\">inclination </span><span class=\"txtu\">de </span><span class=\"txtu\">chacun </span><span class=\"txtu\">des </span><span class=\"txtu\">points </span><span class=\"txtu\">de </span><span class=\"txtu\">ce </span><span class=\"txtu\">plan </span><span class=\"txtu\">circulaire, </span><span class=\"txtu\">ou </span><span class=\"txtu\">sphérique, </span><span class=\"txtu\">se </span><span class=\"txtu\">doit </span><span class=\"txtu\">mesurer </span><span class=\"txtu\">par </span><span class=\"txtu\">celle </span><span class=\"txtu\">de </span><span class=\"txtu\">la </span><span class=\"txtu\">ligne </span><span class=\"txtu\">droite </span><span class=\"txtu\">qui </span><span class=\"txtu\">touche </span><span class=\"txtu\">le </span><span class=\"txtu\">cercle </span><span class=\"txtu\">en </span><span class=\"txtu\">ce </span><span class=\"txtu\">point-</span><span class=\"txtu\">là. </span></div>"
      ],
      "text/plain": [
       "<IPython.core.display.HTML object>"
      ]
     },
     "metadata": {},
     "output_type": "display_data"
    },
    {
     "data": {
      "text/markdown": [
       "---\n"
      ],
      "text/plain": [
       "<IPython.core.display.Markdown object>"
      ]
     },
     "metadata": {},
     "output_type": "display_data"
    },
    {
     "data": {
      "text/markdown": [
       "---\n"
      ],
      "text/plain": [
       "<IPython.core.display.Markdown object>"
      ]
     },
     "metadata": {},
     "output_type": "display_data"
    },
    {
     "data": {
      "text/markdown": [
       "### 5 similarity 96\n"
      ],
      "text/plain": [
       "<IPython.core.display.Markdown object>"
      ]
     },
     "metadata": {},
     "output_type": "display_data"
    },
    {
     "data": {
      "text/html": [
       "<div class=\"\"><span class=\"tfsechead \"><span class=\"ltr\">2 2144</span></span>  <span class=\"txtu \"><span title=\"id\">2144</span> <span title=\"date\">1638-03-01</span> from <span title=\"sender\">Descartes:Rene:1596-1650</span> to <span title=\"recipient\">Pascal:Étienne:1588-1651</span> </span></div>"
      ],
      "text/plain": [
       "<IPython.core.display.HTML object>"
      ]
     },
     "metadata": {},
     "output_type": "display_data"
    },
    {
     "data": {
      "text/html": [
       "<div class=\"\"><span class=\"tfsechead \"><span class=\"ltr\">2 2144:8</span></span>  <span class=\"txtu \"> </span><span class=\"txtu\">Ergo </span><span class=\"txtu\">sumendo </span><span class=\"txtu\">quodlibet </span><span class=\"txtu\">punctum </span><span class=\"txtu\">in </span><span class=\"txtu\">recta </span><span class=\"txtu \"> </span><span class=\"txtu\">BE</span><span class=\"txtu\">, </span><span class=\"txtu\">et </span><span class=\"txtu\">ab </span><span class=\"txtu\">eo </span><span class=\"txtu\">ducendo </span><span class=\"txtu\">ordinatam </span><span class=\"txtu \"> </span><span class=\"txtu\">OI</span><span class=\"txtu\">, </span><span class=\"txtu\">a </span><span class=\"txtu\">puncto </span><span class=\"txtu\">autem </span><span class=\"txtu \"> </span><span class=\"txtu\">B</span><span class=\"txtu\"> </span><span class=\"txtu\">ordinatam </span><span class=\"txtu \"> </span><span class=\"txtu\">BC</span><span class=\"txtu\">, </span><span class=\"txtu\">major </span><span class=\"txtu\">erit </span><span class=\"txtu\">proportio </span><span class=\"txtu \"> </span><span class=\"txtu\">CD</span><span class=\"txtu\"> </span><span class=\"txtu\">ad </span><span class=\"txtu \"> </span><span class=\"txtu\">DI</span><span class=\"txtu\">,\n",
       "</span><span class=\"txtu\">quam </span><span class=\"txtu\">quadrati </span><span class=\"txtu \"> </span><span class=\"txtu\">BC</span><span class=\"txtu\"> </span><span class=\"txtu\">ad </span><span class=\"txtu\">quadratum </span><span class=\"txtu \"> </span><span class=\"txtu\">OI</span><span class=\"txtu\">, </span><span class=\"txtu\">quia </span><span class=\"txtu\">punctum &lt;</span><span class=\"txtu \"> </span><span class=\"txtu\">O</span><span class=\"txtu\">> </span><span class=\"txtu\">est </span><span class=\"txtu\">extra </span><span class=\"txtu\">parabolen.</span></div>"
      ],
      "text/plain": [
       "<IPython.core.display.HTML object>"
      ]
     },
     "metadata": {},
     "output_type": "display_data"
    },
    {
     "data": {
      "text/markdown": [
       "---\n"
      ],
      "text/plain": [
       "<IPython.core.display.Markdown object>"
      ]
     },
     "metadata": {},
     "output_type": "display_data"
    },
    {
     "data": {
      "text/html": [
       "<div class=\"\"><span class=\"tfsechead \"><span class=\"ltr\">2 2144</span></span>  <span class=\"txtu \"><span title=\"id\">2144</span> <span title=\"date\">1638-03-01</span> from <span title=\"sender\">Descartes:Rene:1596-1650</span> to <span title=\"recipient\">Pascal:Étienne:1588-1651</span> </span></div>"
      ],
      "text/plain": [
       "<IPython.core.display.HTML object>"
      ]
     },
     "metadata": {},
     "output_type": "display_data"
    },
    {
     "data": {
      "text/html": [
       "<div class=\"\"><span class=\"tfsechead \"><span class=\"ltr\">2 2144:10</span></span>  <span class=\"txtu \"> </span><span class=\"txtu\">Ergo </span><span class=\"txtu\">sumendo </span><span class=\"txtu\">quodlibet </span><span class=\"txtu\">punctum </span><span class=\"txtu\">in </span><span class=\"txtu\">recta </span><span class=\"txtu \"> </span><span class=\"txtu\">BE</span><span class=\"txtu\">, </span><span class=\"txtu\">et </span><span class=\"txtu\">ab </span><span class=\"txtu\">eo </span><span class=\"txtu\">ducendo </span><span class=\"txtu\">ordinatam </span><span class=\"txtu \"> </span><span class=\"txtu\">OI</span><span class=\"txtu\">, </span><span class=\"txtu\">a </span><span class=\"txtu\">puncto </span><span class=\"txtu\">autem </span><span class=\"txtu \"> </span><span class=\"txtu\">B</span><span class=\"txtu\"> </span><span class=\"txtu\">ordinatam </span><span class=\"txtu \"> </span><span class=\"txtu\">BC</span><span class=\"txtu\">, </span><span class=\"txtu\">major </span><span class=\"txtu\">erit </span><span class=\"txtu\">proportio </span><span class=\"txtu \"> </span><span class=\"txtu\">CD</span><span class=\"txtu\"> </span><span class=\"txtu\">ad </span><span class=\"txtu \"> </span><span class=\"txtu\">DI</span><span class=\"txtu\">,\n",
       "</span><span class=\"txtu\">quam </span><span class=\"txtu\">quadrati </span><span class=\"txtu \"> </span><span class=\"txtu\">BC</span><span class=\"txtu\"> </span><span class=\"txtu\">ad </span><span class=\"txtu\">quadratum </span><span class=\"txtu \"> </span><span class=\"txtu\">OI</span><span class=\"txtu\">, </span><span class=\"txtu\">quia </span><span class=\"txtu\">punctum </span><span class=\"txtu \"> </span><span class=\"txtu\">O</span><span class=\"txtu\"> </span><span class=\"txtu\">est </span><span class=\"txtu\">extra </span><span class=\"txtu\">ellipsim.</span></div>"
      ],
      "text/plain": [
       "<IPython.core.display.HTML object>"
      ]
     },
     "metadata": {},
     "output_type": "display_data"
    },
    {
     "data": {
      "text/markdown": [
       "---\n"
      ],
      "text/plain": [
       "<IPython.core.display.Markdown object>"
      ]
     },
     "metadata": {},
     "output_type": "display_data"
    },
    {
     "data": {
      "text/markdown": [
       "---\n"
      ],
      "text/plain": [
       "<IPython.core.display.Markdown object>"
      ]
     },
     "metadata": {},
     "output_type": "display_data"
    },
    {
     "data": {
      "text/markdown": [
       "### 6 similarity 93\n"
      ],
      "text/plain": [
       "<IPython.core.display.Markdown object>"
      ]
     },
     "metadata": {},
     "output_type": "display_data"
    },
    {
     "data": {
      "text/html": [
       "<div class=\"\"><span class=\"tfsechead \"><span class=\"ltr\">2 2144</span></span>  <span class=\"txtu \"><span title=\"id\">2144</span> <span title=\"date\">1638-03-01</span> from <span title=\"sender\">Descartes:Rene:1596-1650</span> to <span title=\"recipient\">Pascal:Étienne:1588-1651</span> </span></div>"
      ],
      "text/plain": [
       "<IPython.core.display.HTML object>"
      ]
     },
     "metadata": {},
     "output_type": "display_data"
    },
    {
     "data": {
      "text/html": [
       "<div class=\"\"><span class=\"tfsechead \"><span class=\"ltr\">2 2144:8</span></span>  <span class=\"txtu \"> </span><span class=\"txtu\">Ergo </span><span class=\"txtu\">sumendo </span><span class=\"txtu\">quodlibet </span><span class=\"txtu\">punctum </span><span class=\"txtu\">in </span><span class=\"txtu\">recta </span><span class=\"txtu \"> </span><span class=\"txtu\">BE</span><span class=\"txtu\">, </span><span class=\"txtu\">et </span><span class=\"txtu\">ab </span><span class=\"txtu\">eo </span><span class=\"txtu\">ducendo </span><span class=\"txtu\">ordinatam </span><span class=\"txtu \"> </span><span class=\"txtu\">OI</span><span class=\"txtu\">, </span><span class=\"txtu\">a </span><span class=\"txtu\">puncto </span><span class=\"txtu\">autem </span><span class=\"txtu \"> </span><span class=\"txtu\">B</span><span class=\"txtu\"> </span><span class=\"txtu\">ordinatam </span><span class=\"txtu \"> </span><span class=\"txtu\">BC</span><span class=\"txtu\">, </span><span class=\"txtu\">major </span><span class=\"txtu\">erit </span><span class=\"txtu\">proportio </span><span class=\"txtu \"> </span><span class=\"txtu\">CD</span><span class=\"txtu\"> </span><span class=\"txtu\">ad </span><span class=\"txtu \"> </span><span class=\"txtu\">DI</span><span class=\"txtu\">,\n",
       "</span><span class=\"txtu\">quam </span><span class=\"txtu\">quadrati </span><span class=\"txtu \"> </span><span class=\"txtu\">BC</span><span class=\"txtu\"> </span><span class=\"txtu\">ad </span><span class=\"txtu\">quadratum </span><span class=\"txtu \"> </span><span class=\"txtu\">OI</span><span class=\"txtu\">, </span><span class=\"txtu\">quia </span><span class=\"txtu\">punctum &lt;</span><span class=\"txtu \"> </span><span class=\"txtu\">O</span><span class=\"txtu\">> </span><span class=\"txtu\">est </span><span class=\"txtu\">extra </span><span class=\"txtu\">parabolen.</span></div>"
      ],
      "text/plain": [
       "<IPython.core.display.HTML object>"
      ]
     },
     "metadata": {},
     "output_type": "display_data"
    },
    {
     "data": {
      "text/markdown": [
       "---\n"
      ],
      "text/plain": [
       "<IPython.core.display.Markdown object>"
      ]
     },
     "metadata": {},
     "output_type": "display_data"
    },
    {
     "data": {
      "text/html": [
       "<div class=\"\"><span class=\"tfsechead \"><span class=\"ltr\">2 2144</span></span>  <span class=\"txtu \"><span title=\"id\">2144</span> <span title=\"date\">1638-03-01</span> from <span title=\"sender\">Descartes:Rene:1596-1650</span> to <span title=\"recipient\">Pascal:Étienne:1588-1651</span> </span></div>"
      ],
      "text/plain": [
       "<IPython.core.display.HTML object>"
      ]
     },
     "metadata": {},
     "output_type": "display_data"
    },
    {
     "data": {
      "text/html": [
       "<div class=\"\"><span class=\"tfsechead \"><span class=\"ltr\">2 2144:12</span></span>  <span class=\"txtu \"> </span><span class=\"txtu\">Ergo </span><span class=\"txtu\">sumendo </span><span class=\"txtu\">quodlibet </span><span class=\"txtu\">punctum </span><span class=\"txtu\">in </span><span class=\"txtu\">recta </span><span class=\"txtu \"> </span><span class=\"txtu\">BE</span><span class=\"txtu\">, </span><span class=\"txtu\">et </span><span class=\"txtu\">ab </span><span class=\"txtu\">eo </span><span class=\"txtu\">ducendo </span><span class=\"txtu\">ordinatam </span><span class=\"txtu \"> </span><span class=\"txtu\">OI</span><span class=\"txtu\">, </span><span class=\"txtu\">a </span><span class=\"txtu\">puncto </span><span class=\"txtu\">autem </span><span class=\"txtu \"> </span><span class=\"txtu\">B</span><span class=\"txtu\"> </span><span class=\"txtu\">ordinatam </span><span class=\"txtu \"> </span><span class=\"txtu\">BC</span><span class=\"txtu\">, </span><span class=\"txtu\">major </span><span class=\"txtu\">erit </span><span class=\"txtu\">proportio </span><span class=\"txtu \"> </span><span class=\"txtu\">CD</span><span class=\"txtu\"> </span><span class=\"txtu\">ad </span><span class=\"txtu \"> </span><span class=\"txtu\">DI</span><span class=\"txtu\">,\n",
       "</span><span class=\"txtu\">quam </span><span class=\"txtu \"> </span><span class=\"txtu\">BC</span><span class=\"txtu\"> </span><span class=\"txtu\">ad </span><span class=\"txtu \"> </span><span class=\"txtu\">OI</span><span class=\"txtu\">, </span><span class=\"txtu\">quia </span><span class=\"txtu\">punctum </span><span class=\"txtu \"> </span><span class=\"txtu\">O</span><span class=\"txtu\"> </span><span class=\"txtu\">est </span><span class=\"txtu\">extra </span><span class=\"txtu\">hyperbolen.</span></div>"
      ],
      "text/plain": [
       "<IPython.core.display.HTML object>"
      ]
     },
     "metadata": {},
     "output_type": "display_data"
    },
    {
     "data": {
      "text/markdown": [
       "---\n"
      ],
      "text/plain": [
       "<IPython.core.display.Markdown object>"
      ]
     },
     "metadata": {},
     "output_type": "display_data"
    },
    {
     "data": {
      "text/markdown": [
       "---\n"
      ],
      "text/plain": [
       "<IPython.core.display.Markdown object>"
      ]
     },
     "metadata": {},
     "output_type": "display_data"
    },
    {
     "data": {
      "text/markdown": [
       "### 7 similarity 97\n"
      ],
      "text/plain": [
       "<IPython.core.display.Markdown object>"
      ]
     },
     "metadata": {},
     "output_type": "display_data"
    },
    {
     "data": {
      "text/html": [
       "<div class=\"\"><span class=\"tfsechead \"><span class=\"ltr\">2 2144</span></span>  <span class=\"txtu \"><span title=\"id\">2144</span> <span title=\"date\">1638-03-01</span> from <span title=\"sender\">Descartes:Rene:1596-1650</span> to <span title=\"recipient\">Pascal:Étienne:1588-1651</span> </span></div>"
      ],
      "text/plain": [
       "<IPython.core.display.HTML object>"
      ]
     },
     "metadata": {},
     "output_type": "display_data"
    },
    {
     "data": {
      "text/html": [
       "<div class=\"\"><span class=\"tfsechead \"><span class=\"ltr\">2 2144:9</span></span>  <span class=\"txtu \"> </span><span class=\"txtu\">Sed </span><span class=\"txtu\">propter </span><span class=\"txtu\">similitudinem </span><span class=\"txtu\">triangulorum, </span><span class=\"txtu\">ut </span><span class=\"txtu \"> </span> <img src=\"illustrations/illustration-682657.gif\" style=\"display: inline;\" /><span class=\"txtu\"> </span><span class=\"txtu\"> </span><span class=\"txtu \"> </span><span class=\"txtu\">BC</span><span class=\"txtu\"> </span><span class=\"txtu\">quadratum </span><span class=\"txtu\">ad </span><span class=\"txtu \"> </span><span class=\"txtu\">OI</span><span class=\"txtu\"> </span><span class=\"txtu\">quadratum, </span><span class=\"txtu\">ita </span><span class=\"txtu \"> </span><span class=\"txtu\">CE</span><span class=\"txtu\"> </span><span class=\"txtu\">quadratum </span><span class=\"txtu\">ad </span><span class=\"txtu \"> </span><span class=\"txtu\">IE</span><span class=\"txtu\"> </span><span class=\"txtu\">quadratum; </span><span class=\"txtu\">major &lt;</span><span class=\"txtu\">igitur> </span><span class=\"txtu\">erit </span><span class=\"txtu\">proportio </span><span class=\"txtu \"> </span><span class=\"txtu\">CD</span><span class=\"txtu\"> </span><span class=\"txtu\">ad </span><span class=\"txtu \"> </span><span class=\"txtu\">DI</span><span class=\"txtu\">, </span><span class=\"txtu\">quam </span><span class=\"txtu\">quadrati </span><span class=\"txtu \"> </span><span class=\"txtu\">CE</span><span class=\"txtu\"> </span><span class=\"txtu\">ad </span><span class=\"txtu\">quadratum </span><span class=\"txtu \"> </span><span class=\"txtu\">IE</span><span class=\"txtu\">.\n",
       "&lt;</span><span class=\"txtu\">c> </span><span class=\"txtu\">cum </span><span class=\"txtu\">diametro </span><span class=\"txtu\">concurrens.</span></div>"
      ],
      "text/plain": [
       "<IPython.core.display.HTML object>"
      ]
     },
     "metadata": {},
     "output_type": "display_data"
    },
    {
     "data": {
      "text/markdown": [
       "---\n"
      ],
      "text/plain": [
       "<IPython.core.display.Markdown object>"
      ]
     },
     "metadata": {},
     "output_type": "display_data"
    },
    {
     "data": {
      "text/html": [
       "<div class=\"\"><span class=\"tfsechead \"><span class=\"ltr\">2 2144</span></span>  <span class=\"txtu \"><span title=\"id\">2144</span> <span title=\"date\">1638-03-01</span> from <span title=\"sender\">Descartes:Rene:1596-1650</span> to <span title=\"recipient\">Pascal:Étienne:1588-1651</span> </span></div>"
      ],
      "text/plain": [
       "<IPython.core.display.HTML object>"
      ]
     },
     "metadata": {},
     "output_type": "display_data"
    },
    {
     "data": {
      "text/html": [
       "<div class=\"\"><span class=\"tfsechead \"><span class=\"ltr\">2 2144:11</span></span>  <span class=\"txtu \"> </span><span class=\"txtu\">Sed </span><span class=\"txtu\">propter </span><span class=\"txtu\">similitudinem </span><span class=\"txtu\">triangulorum, </span><span class=\"txtu\">ut </span><span class=\"txtu \"> </span><span class=\"txtu\">BC</span><span class=\"txtu\"> </span><span class=\"txtu\">quadratum </span><span class=\"txtu\">ad </span><span class=\"txtu \"> </span><span class=\"txtu\">OI</span><span class=\"txtu\"> </span><span class=\"txtu\">quadratum, </span><span class=\"txtu\">ita </span><span class=\"txtu \"> </span><span class=\"txtu\">CE</span><span class=\"txtu\"> </span><span class=\"txtu\">quadratum </span><span class=\"txtu\">ad </span><span class=\"txtu \"> </span><span class=\"txtu\">IE</span><span class=\"txtu\"> </span><span class=\"txtu\">quadratum; </span><span class=\"txtu\">major </span><span class=\"txtu\">igitur </span><span class=\"txtu\">erit </span><span class=\"txtu\">proportio </span><span class=\"txtu \"> </span><span class=\"txtu\">CD</span><span class=\"txtu\"> </span><span class=\"txtu\">ad </span><span class=\"txtu \"> </span><span class=\"txtu\">DI</span><span class=\"txtu\">, </span><span class=\"txtu\">quam </span><span class=\"txtu\">quadrati </span><span class=\"txtu \"> </span><span class=\"txtu\">CE</span><span class=\"txtu\"> </span><span class=\"txtu\">ad </span><span class=\"txtu\">quadratum </span><span class=\"txtu \"> </span><span class=\"txtu\">IE</span><span class=\"txtu\">.\n",
       " \n",
       "&lt;</span><span class=\"txtu\">d> </span><span class=\"txtu \"> </span> <img src=\"illustrations/illustration-682658.gif\" style=\"display: inline;\" /><span class=\"txtu\"> </span><span class=\"txtu\"> </span><span class=\"txtu\">cto </span><span class=\"txtu \"> </span><span class=\"txtu\">E</span><span class=\"txtu\"> </span><span class=\"txtu\">cum </span><span class=\"txtu\">diametro </span><span class=\"txtu\">concurrens.</span></div>"
      ],
      "text/plain": [
       "<IPython.core.display.HTML object>"
      ]
     },
     "metadata": {},
     "output_type": "display_data"
    },
    {
     "data": {
      "text/markdown": [
       "---\n"
      ],
      "text/plain": [
       "<IPython.core.display.Markdown object>"
      ]
     },
     "metadata": {},
     "output_type": "display_data"
    },
    {
     "data": {
      "text/markdown": [
       "---\n"
      ],
      "text/plain": [
       "<IPython.core.display.Markdown object>"
      ]
     },
     "metadata": {},
     "output_type": "display_data"
    },
    {
     "data": {
      "text/markdown": [
       "### 8 similarity 92\n"
      ],
      "text/plain": [
       "<IPython.core.display.Markdown object>"
      ]
     },
     "metadata": {},
     "output_type": "display_data"
    },
    {
     "data": {
      "text/html": [
       "<div class=\"\"><span class=\"tfsechead \"><span class=\"ltr\">2 2144</span></span>  <span class=\"txtu \"><span title=\"id\">2144</span> <span title=\"date\">1638-03-01</span> from <span title=\"sender\">Descartes:Rene:1596-1650</span> to <span title=\"recipient\">Pascal:Étienne:1588-1651</span> </span></div>"
      ],
      "text/plain": [
       "<IPython.core.display.HTML object>"
      ]
     },
     "metadata": {},
     "output_type": "display_data"
    },
    {
     "data": {
      "text/html": [
       "<div class=\"\"><span class=\"tfsechead \"><span class=\"ltr\">2 2144:10</span></span>  <span class=\"txtu \"> </span><span class=\"txtu\">Ergo </span><span class=\"txtu\">sumendo </span><span class=\"txtu\">quodlibet </span><span class=\"txtu\">punctum </span><span class=\"txtu\">in </span><span class=\"txtu\">recta </span><span class=\"txtu \"> </span><span class=\"txtu\">BE</span><span class=\"txtu\">, </span><span class=\"txtu\">et </span><span class=\"txtu\">ab </span><span class=\"txtu\">eo </span><span class=\"txtu\">ducendo </span><span class=\"txtu\">ordinatam </span><span class=\"txtu \"> </span><span class=\"txtu\">OI</span><span class=\"txtu\">, </span><span class=\"txtu\">a </span><span class=\"txtu\">puncto </span><span class=\"txtu\">autem </span><span class=\"txtu \"> </span><span class=\"txtu\">B</span><span class=\"txtu\"> </span><span class=\"txtu\">ordinatam </span><span class=\"txtu \"> </span><span class=\"txtu\">BC</span><span class=\"txtu\">, </span><span class=\"txtu\">major </span><span class=\"txtu\">erit </span><span class=\"txtu\">proportio </span><span class=\"txtu \"> </span><span class=\"txtu\">CD</span><span class=\"txtu\"> </span><span class=\"txtu\">ad </span><span class=\"txtu \"> </span><span class=\"txtu\">DI</span><span class=\"txtu\">,\n",
       "</span><span class=\"txtu\">quam </span><span class=\"txtu\">quadrati </span><span class=\"txtu \"> </span><span class=\"txtu\">BC</span><span class=\"txtu\"> </span><span class=\"txtu\">ad </span><span class=\"txtu\">quadratum </span><span class=\"txtu \"> </span><span class=\"txtu\">OI</span><span class=\"txtu\">, </span><span class=\"txtu\">quia </span><span class=\"txtu\">punctum </span><span class=\"txtu \"> </span><span class=\"txtu\">O</span><span class=\"txtu\"> </span><span class=\"txtu\">est </span><span class=\"txtu\">extra </span><span class=\"txtu\">ellipsim.</span></div>"
      ],
      "text/plain": [
       "<IPython.core.display.HTML object>"
      ]
     },
     "metadata": {},
     "output_type": "display_data"
    },
    {
     "data": {
      "text/markdown": [
       "---\n"
      ],
      "text/plain": [
       "<IPython.core.display.Markdown object>"
      ]
     },
     "metadata": {},
     "output_type": "display_data"
    },
    {
     "data": {
      "text/html": [
       "<div class=\"\"><span class=\"tfsechead \"><span class=\"ltr\">2 2144</span></span>  <span class=\"txtu \"><span title=\"id\">2144</span> <span title=\"date\">1638-03-01</span> from <span title=\"sender\">Descartes:Rene:1596-1650</span> to <span title=\"recipient\">Pascal:Étienne:1588-1651</span> </span></div>"
      ],
      "text/plain": [
       "<IPython.core.display.HTML object>"
      ]
     },
     "metadata": {},
     "output_type": "display_data"
    },
    {
     "data": {
      "text/html": [
       "<div class=\"\"><span class=\"tfsechead \"><span class=\"ltr\">2 2144:12</span></span>  <span class=\"txtu \"> </span><span class=\"txtu\">Ergo </span><span class=\"txtu\">sumendo </span><span class=\"txtu\">quodlibet </span><span class=\"txtu\">punctum </span><span class=\"txtu\">in </span><span class=\"txtu\">recta </span><span class=\"txtu \"> </span><span class=\"txtu\">BE</span><span class=\"txtu\">, </span><span class=\"txtu\">et </span><span class=\"txtu\">ab </span><span class=\"txtu\">eo </span><span class=\"txtu\">ducendo </span><span class=\"txtu\">ordinatam </span><span class=\"txtu \"> </span><span class=\"txtu\">OI</span><span class=\"txtu\">, </span><span class=\"txtu\">a </span><span class=\"txtu\">puncto </span><span class=\"txtu\">autem </span><span class=\"txtu \"> </span><span class=\"txtu\">B</span><span class=\"txtu\"> </span><span class=\"txtu\">ordinatam </span><span class=\"txtu \"> </span><span class=\"txtu\">BC</span><span class=\"txtu\">, </span><span class=\"txtu\">major </span><span class=\"txtu\">erit </span><span class=\"txtu\">proportio </span><span class=\"txtu \"> </span><span class=\"txtu\">CD</span><span class=\"txtu\"> </span><span class=\"txtu\">ad </span><span class=\"txtu \"> </span><span class=\"txtu\">DI</span><span class=\"txtu\">,\n",
       "</span><span class=\"txtu\">quam </span><span class=\"txtu \"> </span><span class=\"txtu\">BC</span><span class=\"txtu\"> </span><span class=\"txtu\">ad </span><span class=\"txtu \"> </span><span class=\"txtu\">OI</span><span class=\"txtu\">, </span><span class=\"txtu\">quia </span><span class=\"txtu\">punctum </span><span class=\"txtu \"> </span><span class=\"txtu\">O</span><span class=\"txtu\"> </span><span class=\"txtu\">est </span><span class=\"txtu\">extra </span><span class=\"txtu\">hyperbolen.</span></div>"
      ],
      "text/plain": [
       "<IPython.core.display.HTML object>"
      ]
     },
     "metadata": {},
     "output_type": "display_data"
    },
    {
     "data": {
      "text/markdown": [
       "---\n"
      ],
      "text/plain": [
       "<IPython.core.display.Markdown object>"
      ]
     },
     "metadata": {},
     "output_type": "display_data"
    },
    {
     "data": {
      "text/markdown": [
       "---\n"
      ],
      "text/plain": [
       "<IPython.core.display.Markdown object>"
      ]
     },
     "metadata": {},
     "output_type": "display_data"
    },
    {
     "data": {
      "text/markdown": [
       "### 9 similarity 98\n"
      ],
      "text/plain": [
       "<IPython.core.display.Markdown object>"
      ]
     },
     "metadata": {},
     "output_type": "display_data"
    },
    {
     "data": {
      "text/html": [
       "<div class=\"\"><span class=\"tfsechead \"><span class=\"ltr\">2 2144</span></span>  <span class=\"txtu \"><span title=\"id\">2144</span> <span title=\"date\">1638-03-01</span> from <span title=\"sender\">Descartes:Rene:1596-1650</span> to <span title=\"recipient\">Pascal:Étienne:1588-1651</span> </span></div>"
      ],
      "text/plain": [
       "<IPython.core.display.HTML object>"
      ]
     },
     "metadata": {},
     "output_type": "display_data"
    },
    {
     "data": {
      "text/html": [
       "<div class=\"\"><span class=\"tfsechead \"><span class=\"ltr\">2 2144:14</span></span>  <span class=\"txtu \"> </span><span class=\"txtu\">Cum </span><span class=\"txtu\">autem </span><span class=\"txtu\">punctum </span><span class=\"txtu \"> </span><span class=\"txtu\">B</span><span class=\"txtu\"> </span><span class=\"txtu\">detur, &lt;</span><span class=\"txtu\">datur </span><span class=\"txtu\">applicata </span><span class=\"txtu \"> </span><span class=\"txtu\">BC</span><span class=\"txtu\">; </span><span class=\"txtu\">ergo </span><span class=\"txtu\">punctum </span><span class=\"txtu \"> </span><span class=\"txtu\">C</span><span class=\"txtu\">>. </span><span class=\"txtu\">Datur </span><span class=\"txtu\">etiam </span><span class=\"txtu \"> </span><span class=\"txtu\">CD</span><span class=\"txtu\">. </span><span class=\"txtu\">Sit </span><span class=\"txtu\">igitur </span><span class=\"txtu \"> </span><span class=\"txtu\">CD</span><span class=\"txtu\"> </span><span class=\"txtu\">aequalis </span><span class=\"txtu \"> </span><span class=\"txtu \"> </span><span class=\"txtu\">B</span><span class=\"txtu\"> </span><span class=\"txtu\">datae. </span></div>"
      ],
      "text/plain": [
       "<IPython.core.display.HTML object>"
      ]
     },
     "metadata": {},
     "output_type": "display_data"
    },
    {
     "data": {
      "text/markdown": [
       "---\n"
      ],
      "text/plain": [
       "<IPython.core.display.Markdown object>"
      ]
     },
     "metadata": {},
     "output_type": "display_data"
    },
    {
     "data": {
      "text/html": [
       "<div class=\"\"><span class=\"tfsechead \"><span class=\"ltr\">2 2144</span></span>  <span class=\"txtu \"><span title=\"id\">2144</span> <span title=\"date\">1638-03-01</span> from <span title=\"sender\">Descartes:Rene:1596-1650</span> to <span title=\"recipient\">Pascal:Étienne:1588-1651</span> </span></div>"
      ],
      "text/plain": [
       "<IPython.core.display.HTML object>"
      ]
     },
     "metadata": {},
     "output_type": "display_data"
    },
    {
     "data": {
      "text/html": [
       "<div class=\"\"><span class=\"tfsechead \"><span class=\"ltr\">2 2144:17</span></span>  <span class=\"txtu \"> </span><span class=\"txtu\">Cum </span><span class=\"txtu\">autem </span><span class=\"txtu\">punctum </span><span class=\"txtu \"> </span><span class=\"txtu\">B</span><span class=\"txtu\"> </span><span class=\"txtu\">detur, </span><span class=\"txtu\">datur </span><span class=\"txtu\">applicata </span><span class=\"txtu \"> </span><span class=\"txtu\">BC</span><span class=\"txtu\">; </span><span class=\"txtu\">ergo </span><span class=\"txtu\">punctum </span><span class=\"txtu \"> </span><span class=\"txtu\">C</span><span class=\"txtu\">. </span><span class=\"txtu\">Datur </span><span class=\"txtu\">etiam </span><span class=\"txtu \"> </span><span class=\"txtu\">CD</span><span class=\"txtu\">. </span><span class=\"txtu\">Sit </span><span class=\"txtu\">igitur </span><span class=\"txtu \"> </span><span class=\"txtu\">CD</span><span class=\"txtu\"> </span><span class=\"txtu\">aequalis </span><span class=\"txtu \"> </span><span class=\"txtu \"> </span><span class=\"txtu\">D</span><span class=\"txtu\"> </span><span class=\"txtu\">datae. </span></div>"
      ],
      "text/plain": [
       "<IPython.core.display.HTML object>"
      ]
     },
     "metadata": {},
     "output_type": "display_data"
    },
    {
     "data": {
      "text/markdown": [
       "---\n"
      ],
      "text/plain": [
       "<IPython.core.display.Markdown object>"
      ]
     },
     "metadata": {},
     "output_type": "display_data"
    },
    {
     "data": {
      "text/markdown": [
       "---\n"
      ],
      "text/plain": [
       "<IPython.core.display.Markdown object>"
      ]
     },
     "metadata": {},
     "output_type": "display_data"
    },
    {
     "data": {
      "text/markdown": [
       "### 10 similarity 98\n"
      ],
      "text/plain": [
       "<IPython.core.display.Markdown object>"
      ]
     },
     "metadata": {},
     "output_type": "display_data"
    },
    {
     "data": {
      "text/html": [
       "<div class=\"\"><span class=\"tfsechead \"><span class=\"ltr\">2 2144</span></span>  <span class=\"txtu \"><span title=\"id\">2144</span> <span title=\"date\">1638-03-01</span> from <span title=\"sender\">Descartes:Rene:1596-1650</span> to <span title=\"recipient\">Pascal:Étienne:1588-1651</span> </span></div>"
      ],
      "text/plain": [
       "<IPython.core.display.HTML object>"
      ]
     },
     "metadata": {},
     "output_type": "display_data"
    },
    {
     "data": {
      "text/html": [
       "<div class=\"\"><span class=\"tfsechead \"><span class=\"ltr\">2 2144:14</span></span>  <span class=\"txtu \"> </span><span class=\"txtu\">Cum </span><span class=\"txtu\">autem </span><span class=\"txtu\">punctum </span><span class=\"txtu \"> </span><span class=\"txtu\">B</span><span class=\"txtu\"> </span><span class=\"txtu\">detur, &lt;</span><span class=\"txtu\">datur </span><span class=\"txtu\">applicata </span><span class=\"txtu \"> </span><span class=\"txtu\">BC</span><span class=\"txtu\">; </span><span class=\"txtu\">ergo </span><span class=\"txtu\">punctum </span><span class=\"txtu \"> </span><span class=\"txtu\">C</span><span class=\"txtu\">>. </span><span class=\"txtu\">Datur </span><span class=\"txtu\">etiam </span><span class=\"txtu \"> </span><span class=\"txtu\">CD</span><span class=\"txtu\">. </span><span class=\"txtu\">Sit </span><span class=\"txtu\">igitur </span><span class=\"txtu \"> </span><span class=\"txtu\">CD</span><span class=\"txtu\"> </span><span class=\"txtu\">aequalis </span><span class=\"txtu \"> </span><span class=\"txtu \"> </span><span class=\"txtu\">B</span><span class=\"txtu\"> </span><span class=\"txtu\">datae. </span></div>"
      ],
      "text/plain": [
       "<IPython.core.display.HTML object>"
      ]
     },
     "metadata": {},
     "output_type": "display_data"
    },
    {
     "data": {
      "text/markdown": [
       "---\n"
      ],
      "text/plain": [
       "<IPython.core.display.Markdown object>"
      ]
     },
     "metadata": {},
     "output_type": "display_data"
    },
    {
     "data": {
      "text/html": [
       "<div class=\"\"><span class=\"tfsechead \"><span class=\"ltr\">2 2144</span></span>  <span class=\"txtu \"><span title=\"id\">2144</span> <span title=\"date\">1638-03-01</span> from <span title=\"sender\">Descartes:Rene:1596-1650</span> to <span title=\"recipient\">Pascal:Étienne:1588-1651</span> </span></div>"
      ],
      "text/plain": [
       "<IPython.core.display.HTML object>"
      ]
     },
     "metadata": {},
     "output_type": "display_data"
    },
    {
     "data": {
      "text/html": [
       "<div class=\"\"><span class=\"tfsechead \"><span class=\"ltr\">2 2144:20</span></span>  <span class=\"txtu \"> </span><span class=\"txtu\">Cum </span><span class=\"txtu\">autem </span><span class=\"txtu\">punctum </span><span class=\"txtu \"> </span><span class=\"txtu\">B</span><span class=\"txtu\"> </span><span class=\"txtu\">detur, </span><span class=\"txtu\">datur </span><span class=\"txtu\">applicata </span><span class=\"txtu \"> </span><span class=\"txtu\">BC</span><span class=\"txtu\">; </span><span class=\"txtu\">ergo </span><span class=\"txtu\">punctum </span><span class=\"txtu \"> </span><span class=\"txtu\">C</span><span class=\"txtu\">. </span><span class=\"txtu\">Datur </span><span class=\"txtu\">etiam </span><span class=\"txtu \"> </span><span class=\"txtu\">CD</span><span class=\"txtu\">. </span><span class=\"txtu\">Sit </span><span class=\"txtu\">igitur </span><span class=\"txtu \"> </span><span class=\"txtu\">CD</span><span class=\"txtu\"> </span><span class=\"txtu\">aequalis </span><span class=\"txtu \"> </span><span class=\"txtu \"> </span><span class=\"txtu\">D</span><span class=\"txtu\"> </span><span class=\"txtu\">datae. </span></div>"
      ],
      "text/plain": [
       "<IPython.core.display.HTML object>"
      ]
     },
     "metadata": {},
     "output_type": "display_data"
    },
    {
     "data": {
      "text/markdown": [
       "---\n"
      ],
      "text/plain": [
       "<IPython.core.display.Markdown object>"
      ]
     },
     "metadata": {},
     "output_type": "display_data"
    },
    {
     "data": {
      "text/markdown": [
       "---\n"
      ],
      "text/plain": [
       "<IPython.core.display.Markdown object>"
      ]
     },
     "metadata": {},
     "output_type": "display_data"
    }
   ],
   "source": [
    "for (i, (s1, s2)) in enumerate(results[0:10]):\n",
    "    sim = dict(E.sim.f(s1))[s2]\n",
    "    A.dm(f\"### {i+1} similarity {sim}\\n\")\n",
    "    letter1 = L.u(s1, otype=\"letter\")[0]\n",
    "    letter2 = L.u(s2, otype=\"letter\")[0]\n",
    "    A.plain(letter1)\n",
    "    A.plain(s1)\n",
    "    A.dm(\"---\\n\")\n",
    "    A.plain(letter1)\n",
    "    A.plain(s2)\n",
    "    A.dm(\"---\\n\")\n",
    "    A.dm(\"---\\n\")"
   ]
  },
  {
   "cell_type": "markdown",
   "id": "83ab330a-f78a-46a0-b62f-dfd88db4b247",
   "metadata": {},
   "source": [
    "## Edges: low-level\n",
    "\n",
    "We can list all edges going out from a reference node.\n",
    "What we see is tuple of pairs: the target node and the similarity between the reference node and that target node."
   ]
  },
  {
   "cell_type": "code",
   "execution_count": 12,
   "id": "246c6cc2-92c7-4e99-8c6b-776280a7f337",
   "metadata": {},
   "outputs": [
    {
     "name": "stdout",
     "output_type": "stream",
     "text": [
      "refNode1=720595\n"
     ]
    },
    {
     "data": {
      "text/plain": [
       "((720785, 98),)"
      ]
     },
     "execution_count": 12,
     "metadata": {},
     "output_type": "execute_result"
    }
   ],
   "source": [
    "refNode1 = results[-1][0]\n",
    "print(f\"{refNode1=}\")\n",
    "\n",
    "E.sim.f(refNode1)"
   ]
  },
  {
   "cell_type": "markdown",
   "id": "e48070ee-eb27-4adc-adaf-68e0af1c8c1e",
   "metadata": {},
   "source": [
    "Likewise, we can observe the nodes that target the reference node:"
   ]
  },
  {
   "cell_type": "code",
   "execution_count": 13,
   "id": "f1f3cc0b-df96-4e29-9d9b-779e1660b50a",
   "metadata": {},
   "outputs": [
    {
     "name": "stdout",
     "output_type": "stream",
     "text": [
      "refNode2=720785\n"
     ]
    },
    {
     "data": {
      "text/plain": [
       "((720595, 98),)"
      ]
     },
     "execution_count": 13,
     "metadata": {},
     "output_type": "execute_result"
    }
   ],
   "source": [
    "refNode2 = results[-1][1]\n",
    "print(f\"{refNode2=}\")\n",
    "\n",
    "E.sim.t(refNode2)"
   ]
  },
  {
   "cell_type": "markdown",
   "id": "333412e0-75a8-4901-b062-07a1673293a8",
   "metadata": {},
   "source": [
    "Both sets of nodes are similar to the reference node and it is inconvenient to use both `.f()` and `.t()` to get the similar lines.\n",
    "\n",
    "But there is another way:"
   ]
  },
  {
   "cell_type": "code",
   "execution_count": 14,
   "id": "a3a37416-96d9-49f8-92d5-b74cb7af6f9d",
   "metadata": {},
   "outputs": [
    {
     "data": {
      "text/plain": [
       "((720785, 98),)"
      ]
     },
     "execution_count": 14,
     "metadata": {},
     "output_type": "execute_result"
    }
   ],
   "source": [
    "E.sim.b(refNode1)"
   ]
  },
  {
   "cell_type": "code",
   "execution_count": 15,
   "id": "1d6ecc9b-b990-41ee-9b35-babec04d03f0",
   "metadata": {},
   "outputs": [
    {
     "data": {
      "text/plain": [
       "((720595, 98),)"
      ]
     },
     "execution_count": 15,
     "metadata": {},
     "output_type": "execute_result"
    }
   ],
   "source": [
    "E.sim.b(refNode2)"
   ]
  },
  {
   "cell_type": "markdown",
   "id": "09577595-dbb0-4322-a61f-1615613325d3",
   "metadata": {
    "tags": []
   },
   "source": [
    "---\n",
    "\n",
    "# Contents\n",
    "\n",
    "* **[start](start.ipynb)** intro and highlights\n",
    "* **[search](search.ipynb)** turbo charge your hand-coding with search templates\n",
    "* **[compute](compute.ipynb)** sink down a level and compute it yourself\n",
    "* **[exportExcel](exportExcel.ipynb)** make tailor-made spreadsheets out of your results\n",
    "\n",
    "Advanced\n",
    "\n",
    "* **similar sentences** find similar sentences\n",
    "\n",
    "CC-BY Dirk Roorda"
   ]
  }
 ],
 "metadata": {
  "kernelspec": {
   "display_name": "Python 3 (ipykernel)",
   "language": "python",
   "name": "python3"
  },
  "language_info": {
   "codemirror_mode": {
    "name": "ipython",
    "version": 3
   },
   "file_extension": ".py",
   "mimetype": "text/x-python",
   "name": "python",
   "nbconvert_exporter": "python",
   "pygments_lexer": "ipython3",
   "version": "3.11.1"
  }
 },
 "nbformat": 4,
 "nbformat_minor": 5
}
