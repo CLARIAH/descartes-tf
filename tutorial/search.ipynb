{
 "cells": [
  {
   "cell_type": "markdown",
   "id": "4a486875-147d-492a-9003-f05c48d841fc",
   "metadata": {},
   "source": [
    "<img align=\"right\" src=\"images/tf.png\" width=\"200\"/>\n",
    "<img align=\"right\" src=\"images/huc.png\" width=\"200\"/>\n",
    "<img align=\"right\" src=\"images/logo.png\" width=\"200\"/>\n",
    "\n",
    "---\n",
    "\n",
    "To get started: consult [start](start.ipynb)\n",
    "\n",
    "---\n",
    "\n",
    "# Search Introduction\n",
    "\n",
    "*Search* in Text-Fabric is a template based way of looking for structural patterns in your dataset.\n",
    "\n",
    "Within Text-Fabric we have the unique possibility to combine the ease of formulating search templates for\n",
    "complicated syntactical patterns with the power of programmatically processing the results.\n",
    "\n",
    "This notebook will show you how to get up and running.\n",
    "\n",
    "## Easy command\n",
    "\n",
    "Search is as simple as saying (just an example)\n",
    "\n",
    "```python\n",
    "results = A.search(template)\n",
    "A.show(results)\n",
    "```\n",
    "\n",
    "See all ins and outs in the\n",
    "[search template docs](https://annotation.github.io/text-fabric/tf/about/searchusage.html)."
   ]
  },
  {
   "cell_type": "markdown",
   "id": "3f0597b0-6f7d-4610-91bb-6aa93a5c3f7a",
   "metadata": {},
   "source": [
    "# Incantation\n",
    "\n",
    "The ins and outs of installing Text-Fabric, getting the corpus, and initializing a notebook are\n",
    "explained in the [start tutorial](start.ipynb)."
   ]
  },
  {
   "cell_type": "code",
   "execution_count": 1,
   "id": "b8d43d3f-d00a-4ec3-b690-d0fa6fc9dcbe",
   "metadata": {},
   "outputs": [],
   "source": [
    "%load_ext autoreload\n",
    "%autoreload 2"
   ]
  },
  {
   "cell_type": "code",
   "execution_count": 2,
   "id": "156b5da3-563a-4081-967b-afd74cc314a3",
   "metadata": {
    "ExecuteTime": {
     "end_time": "2018-05-24T10:06:39.818664Z",
     "start_time": "2018-05-24T10:06:39.796588Z"
    }
   },
   "outputs": [],
   "source": [
    "from tf.app import use"
   ]
  },
  {
   "cell_type": "code",
   "execution_count": 3,
   "id": "d77aff2b-9f7d-45fb-a1a2-7d31c16c2bca",
   "metadata": {},
   "outputs": [
    {
     "data": {
      "text/markdown": [
       "**Locating corpus resources ...**"
      ],
      "text/plain": [
       "<IPython.core.display.Markdown object>"
      ]
     },
     "metadata": {},
     "output_type": "display_data"
    },
    {
     "data": {
      "text/html": [
       "<b title=\"local github\">app:</b> <span title=\"repo clone offline under /Users/me/github\">~/github/CLARIAH/descartes-tf/app</span>"
      ],
      "text/plain": [
       "<IPython.core.display.HTML object>"
      ]
     },
     "metadata": {},
     "output_type": "display_data"
    },
    {
     "data": {
      "text/html": [
       "<b title=\"local github\">data:</b> <span title=\"repo clone offline under /Users/me/github\">~/github/CLARIAH/descartes-tf/tf/1.1</span>"
      ],
      "text/plain": [
       "<IPython.core.display.HTML object>"
      ]
     },
     "metadata": {},
     "output_type": "display_data"
    },
    {
     "data": {
      "text/html": [
       "<b title=\"local github\">data:</b> <span title=\"repo clone offline under /Users/me/github\">~/github/CLARIAH/descartes-tf/parallels/tf/1.1</span>"
      ],
      "text/plain": [
       "<IPython.core.display.HTML object>"
      ]
     },
     "metadata": {},
     "output_type": "display_data"
    },
    {
     "data": {
      "text/html": [
       "\n",
       "            <b>Text-Fabric:</b> <a target=\"_blank\" href=\"https://annotation.github.io/text-fabric/tf/cheatsheet.html\" title=\"text-fabric-api\">Text-Fabric API 11.1.1</a>, <a target=\"_blank\" href=\"https://github.com/CLARIAH/descartes-tf/blob/master/app\" title=\"CLARIAH/descartes-tf app\">CLARIAH/descartes-tf/app  v3</a>, <a target=\"_blank\" href=\"https://annotation.github.io/text-fabric/tf/about/searchusage.html\" title=\"Search Templates Introduction and Reference\">Search Reference</a><br>\n",
       "            <b>Data:</b> <a target=\"_blank\" href=\"https://github.com/CLARIAH/descartes-tf/blob/master/docs/about.md\" title=\"provenance of Descartes = Descartes, all letters\">DESCARTES-TF</a>, <a target=\"_blank\" href=\"https://annotation.github.io/text-fabric/tf/writing/\" title=\"How TF features represent text\">Character table</a>, <a target=\"_blank\" href=\"https://github.com/CLARIAH/descartes-tf/blob/main/docs/transcription.md\" title=\"DESCARTES-TF feature documentation\">Feature docs</a><br>\n",
       "            <details class=\"nodeinfo\"><summary><b>Node types</b></summary>\n",
       "<table class=\"nodeinfo\">\n",
       "    <tr>\n",
       "        <th>Name</th>\n",
       "        <th># of nodes</th>\n",
       "        <th># slots/node</th>\n",
       "        <th>% coverage</th>\n",
       "    <tr>\n",
       "\n",
       "<tr>\n",
       "    <th>volume</th>\n",
       "    <td>8</td>\n",
       "    <td>85241.88</td>\n",
       "    <td><b>100</b></td>\n",
       "</tr>\n",
       "\n",
       "<tr>\n",
       "    <th>letter</th>\n",
       "    <td>725</td>\n",
       "    <td>940.60</td>\n",
       "    <td><b>100</b></td>\n",
       "</tr>\n",
       "\n",
       "<tr>\n",
       "    <th>page</th>\n",
       "    <td>2884</td>\n",
       "    <td>236.45</td>\n",
       "    <td><b>100</b></td>\n",
       "</tr>\n",
       "\n",
       "<tr>\n",
       "    <th>postscriptum</th>\n",
       "    <td>56</td>\n",
       "    <td>46.79</td>\n",
       "    <td>0</td>\n",
       "</tr>\n",
       "\n",
       "<tr>\n",
       "    <th>opener</th>\n",
       "    <td>545</td>\n",
       "    <td>1.97</td>\n",
       "    <td>0</td>\n",
       "</tr>\n",
       "\n",
       "<tr>\n",
       "    <th>closer</th>\n",
       "    <td>541</td>\n",
       "    <td>13.10</td>\n",
       "    <td>1</td>\n",
       "</tr>\n",
       "\n",
       "<tr>\n",
       "    <th>address</th>\n",
       "    <td>86</td>\n",
       "    <td>15.22</td>\n",
       "    <td>0</td>\n",
       "</tr>\n",
       "\n",
       "<tr>\n",
       "    <th>head</th>\n",
       "    <td>725</td>\n",
       "    <td>23.37</td>\n",
       "    <td>2</td>\n",
       "</tr>\n",
       "\n",
       "<tr>\n",
       "    <th>p</th>\n",
       "    <td>8438</td>\n",
       "    <td>80.82</td>\n",
       "    <td><b>100</b></td>\n",
       "</tr>\n",
       "\n",
       "<tr>\n",
       "    <th>sentence</th>\n",
       "    <td>13074</td>\n",
       "    <td>50.14</td>\n",
       "    <td>96</td>\n",
       "</tr>\n",
       "\n",
       "<tr>\n",
       "    <th>hi</th>\n",
       "    <td>5972</td>\n",
       "    <td>4.63</td>\n",
       "    <td>4</td>\n",
       "</tr>\n",
       "\n",
       "<tr>\n",
       "    <th>formula</th>\n",
       "    <td>6200</td>\n",
       "    <td>1.21</td>\n",
       "    <td>1</td>\n",
       "</tr>\n",
       "\n",
       "<tr>\n",
       "    <th>figure</th>\n",
       "    <td>319</td>\n",
       "    <td>1.00</td>\n",
       "    <td>0</td>\n",
       "</tr>\n",
       "\n",
       "<tr>\n",
       "    <th><i>word</i></th>\n",
       "    <td>681935</td>\n",
       "    <td>1.00</td>\n",
       "    <td><b>100</b></td>\n",
       "</tr>\n",
       "</table></details>\n",
       "            <b>Sets:</b> no custom sets<br>\n",
       "            <b>Features:</b><br>\n",
       "<details><summary><b>Similar Sentences</b></summary>\n",
       "    <div class=\"fcorpus\">\n",
       "\n",
       "<div class=\"frow\">\n",
       "    <div class=\"fnamecat edge\">\n",
       "<span title=\"~/github/CLARIAH/descartes-tf/parallels/tf/1.1/sim.tf\">sim</span>\n",
       "</div>\n",
       "<div class=\"fmono\">int</div>\n",
       "\n",
       "<span> similarity between sentences  based on the Levenshtein ratio</span>\n",
       "\n",
       "</div>\n",
       "\n",
       "    </div>\n",
       "</details>\n",
       "\n",
       "<details><summary><b>Descartes = Descartes, all letters</b></summary>\n",
       "    <div class=\"fcorpus\">\n",
       "\n",
       "<div class=\"frow\">\n",
       "    <div class=\"fnamecat \">\n",
       "<a target=\"_blank\" href=\"https://github.com/CLARIAH/descartes-tf/blob/main/docs/transcription.md\" title=\"~/github/CLARIAH/descartes-tf/tf/1.1/alt_date.tf\">alt_date</a>\n",
       "</div>\n",
       "<div class=\"fmono\">str</div>\n",
       "\n",
       "<span> alternative date of a letter</span>\n",
       "\n",
       "</div>\n",
       "\n",
       "<div class=\"frow\">\n",
       "    <div class=\"fnamecat \">\n",
       "<a target=\"_blank\" href=\"https://github.com/CLARIAH/descartes-tf/blob/main/docs/transcription.md\" title=\"~/github/CLARIAH/descartes-tf/tf/1.1/alt_id.tf\">alt_id</a>\n",
       "</div>\n",
       "<div class=\"fmono\">str</div>\n",
       "\n",
       "<span> alternative ids of a letter, comma separated</span>\n",
       "\n",
       "</div>\n",
       "\n",
       "<div class=\"frow\">\n",
       "    <div class=\"fnamecat \">\n",
       "<a target=\"_blank\" href=\"https://github.com/CLARIAH/descartes-tf/blob/main/docs/transcription.md\" title=\"~/github/CLARIAH/descartes-tf/tf/1.1/cert.tf\">cert</a>\n",
       "</div>\n",
       "<div class=\"fmono\">str</div>\n",
       "\n",
       "<span> certainty of something</span>\n",
       "\n",
       "</div>\n",
       "\n",
       "<div class=\"frow\">\n",
       "    <div class=\"fnamecat \">\n",
       "<a target=\"_blank\" href=\"https://github.com/CLARIAH/descartes-tf/blob/main/docs/transcription.md\" title=\"~/github/CLARIAH/descartes-tf/tf/1.1/date.tf\">date</a>\n",
       "</div>\n",
       "<div class=\"fmono\">str</div>\n",
       "\n",
       "<span> date of a letter</span>\n",
       "\n",
       "</div>\n",
       "\n",
       "<div class=\"frow\">\n",
       "    <div class=\"fnamecat \">\n",
       "<a target=\"_blank\" href=\"https://github.com/CLARIAH/descartes-tf/blob/main/docs/transcription.md\" title=\"~/github/CLARIAH/descartes-tf/tf/1.1/id.tf\">id</a>\n",
       "</div>\n",
       "<div class=\"fmono\">str</div>\n",
       "\n",
       "<span> id of a letter</span>\n",
       "\n",
       "</div>\n",
       "\n",
       "<div class=\"frow\">\n",
       "    <div class=\"fnamecat \">\n",
       "<a target=\"_blank\" href=\"https://github.com/CLARIAH/descartes-tf/blob/main/docs/transcription.md\" title=\"~/github/CLARIAH/descartes-tf/tf/1.1/intermediary.tf\">intermediary</a>\n",
       "</div>\n",
       "<div class=\"fmono\">str</div>\n",
       "\n",
       "<span> person involved in the transmission of the letter from sender to receiver</span>\n",
       "\n",
       "</div>\n",
       "\n",
       "<div class=\"frow\">\n",
       "    <div class=\"fnamecat \">\n",
       "<a target=\"_blank\" href=\"https://github.com/CLARIAH/descartes-tf/blob/main/docs/transcription.md\" title=\"~/github/CLARIAH/descartes-tf/tf/1.1/isitalic.tf\">isitalic</a>\n",
       "</div>\n",
       "<div class=\"fmono\">str</div>\n",
       "\n",
       "<span> whether the word is in italic</span>\n",
       "\n",
       "</div>\n",
       "\n",
       "<div class=\"frow\">\n",
       "    <div class=\"fnamecat \">\n",
       "<a target=\"_blank\" href=\"https://github.com/CLARIAH/descartes-tf/blob/main/docs/transcription.md\" title=\"~/github/CLARIAH/descartes-tf/tf/1.1/ismargin.tf\">ismargin</a>\n",
       "</div>\n",
       "<div class=\"fmono\">str</div>\n",
       "\n",
       "<span> whether the word is in the margin</span>\n",
       "\n",
       "</div>\n",
       "\n",
       "<div class=\"frow\">\n",
       "    <div class=\"fnamecat \">\n",
       "<a target=\"_blank\" href=\"https://github.com/CLARIAH/descartes-tf/blob/main/docs/transcription.md\" title=\"~/github/CLARIAH/descartes-tf/tf/1.1/issub.tf\">issub</a>\n",
       "</div>\n",
       "<div class=\"fmono\">str</div>\n",
       "\n",
       "<span> whether the word is in subscript</span>\n",
       "\n",
       "</div>\n",
       "\n",
       "<div class=\"frow\">\n",
       "    <div class=\"fnamecat \">\n",
       "<a target=\"_blank\" href=\"https://github.com/CLARIAH/descartes-tf/blob/main/docs/transcription.md\" title=\"~/github/CLARIAH/descartes-tf/tf/1.1/issup.tf\">issup</a>\n",
       "</div>\n",
       "<div class=\"fmono\">str</div>\n",
       "\n",
       "<span> whether the word is in supscript</span>\n",
       "\n",
       "</div>\n",
       "\n",
       "<div class=\"frow\">\n",
       "    <div class=\"fnamecat \">\n",
       "<a target=\"_blank\" href=\"https://github.com/CLARIAH/descartes-tf/blob/main/docs/transcription.md\" title=\"~/github/CLARIAH/descartes-tf/tf/1.1/language.tf\">language</a>\n",
       "</div>\n",
       "<div class=\"fmono\">str</div>\n",
       "\n",
       "<span> language of a letter</span>\n",
       "\n",
       "</div>\n",
       "\n",
       "<div class=\"frow\">\n",
       "    <div class=\"fnamecat \">\n",
       "<a target=\"_blank\" href=\"https://github.com/CLARIAH/descartes-tf/blob/main/docs/transcription.md\" title=\"~/github/CLARIAH/descartes-tf/tf/1.1/level.tf\">level</a>\n",
       "</div>\n",
       "<div class=\"fmono\">str</div>\n",
       "\n",
       "<span> level of a paragraph when it acts like a heading</span>\n",
       "\n",
       "</div>\n",
       "\n",
       "<div class=\"frow\">\n",
       "    <div class=\"fnamecat \">\n",
       "<a target=\"_blank\" href=\"https://github.com/CLARIAH/descartes-tf/blob/main/docs/transcription.md\" title=\"~/github/CLARIAH/descartes-tf/tf/1.1/n.tf\">n</a>\n",
       "</div>\n",
       "<div class=\"fmono\">int</div>\n",
       "\n",
       "<span> number of whatever element</span>\n",
       "\n",
       "</div>\n",
       "\n",
       "<div class=\"frow\">\n",
       "    <div class=\"fnamecat \">\n",
       "<a target=\"_blank\" href=\"https://github.com/CLARIAH/descartes-tf/blob/main/docs/transcription.md\" title=\"~/github/CLARIAH/descartes-tf/tf/1.1/notation.tf\">notation</a>\n",
       "</div>\n",
       "<div class=\"fmono\">str</div>\n",
       "\n",
       "<span> notation method of a formula</span>\n",
       "\n",
       "</div>\n",
       "\n",
       "<div class=\"frow\">\n",
       "    <div class=\"fnamecat \">\n",
       "<a target=\"_blank\" href=\"https://github.com/CLARIAH/descartes-tf/blob/main/docs/transcription.md\" title=\"~/github/CLARIAH/descartes-tf/tf/1.1/otype.tf\">otype</a>\n",
       "</div>\n",
       "<div class=\"fmono\">str</div>\n",
       "\n",
       "<span> </span>\n",
       "\n",
       "</div>\n",
       "\n",
       "<div class=\"frow\">\n",
       "    <div class=\"fnamecat \">\n",
       "<a target=\"_blank\" href=\"https://github.com/CLARIAH/descartes-tf/blob/main/docs/transcription.md\" title=\"~/github/CLARIAH/descartes-tf/tf/1.1/punc.tf\">punc</a>\n",
       "</div>\n",
       "<div class=\"fmono\">str</div>\n",
       "\n",
       "<span> nonword chars after a word </span>\n",
       "\n",
       "</div>\n",
       "\n",
       "<div class=\"frow\">\n",
       "    <div class=\"fnamecat \">\n",
       "<a target=\"_blank\" href=\"https://github.com/CLARIAH/descartes-tf/blob/main/docs/transcription.md\" title=\"~/github/CLARIAH/descartes-tf/tf/1.1/recipient.tf\">recipient</a>\n",
       "</div>\n",
       "<div class=\"fmono\">str</div>\n",
       "\n",
       "<span> recipient of a letter</span>\n",
       "\n",
       "</div>\n",
       "\n",
       "<div class=\"frow\">\n",
       "    <div class=\"fnamecat \">\n",
       "<a target=\"_blank\" href=\"https://github.com/CLARIAH/descartes-tf/blob/main/docs/transcription.md\" title=\"~/github/CLARIAH/descartes-tf/tf/1.1/recipientloc.tf\">recipientloc</a>\n",
       "</div>\n",
       "<div class=\"fmono\">str</div>\n",
       "\n",
       "<span> location from where a letter was received</span>\n",
       "\n",
       "</div>\n",
       "\n",
       "<div class=\"frow\">\n",
       "    <div class=\"fnamecat \">\n",
       "<a target=\"_blank\" href=\"https://github.com/CLARIAH/descartes-tf/blob/main/docs/transcription.md\" title=\"~/github/CLARIAH/descartes-tf/tf/1.1/resp.tf\">resp</a>\n",
       "</div>\n",
       "<div class=\"fmono\">str</div>\n",
       "\n",
       "<span> person responsible for something</span>\n",
       "\n",
       "</div>\n",
       "\n",
       "<div class=\"frow\">\n",
       "    <div class=\"fnamecat \">\n",
       "<a target=\"_blank\" href=\"https://github.com/CLARIAH/descartes-tf/blob/main/docs/transcription.md\" title=\"~/github/CLARIAH/descartes-tf/tf/1.1/sender.tf\">sender</a>\n",
       "</div>\n",
       "<div class=\"fmono\">str</div>\n",
       "\n",
       "<span> sender of a letter</span>\n",
       "\n",
       "</div>\n",
       "\n",
       "<div class=\"frow\">\n",
       "    <div class=\"fnamecat \">\n",
       "<a target=\"_blank\" href=\"https://github.com/CLARIAH/descartes-tf/blob/main/docs/transcription.md\" title=\"~/github/CLARIAH/descartes-tf/tf/1.1/senderloc.tf\">senderloc</a>\n",
       "</div>\n",
       "<div class=\"fmono\">str</div>\n",
       "\n",
       "<span> location from where a letter was sent</span>\n",
       "\n",
       "</div>\n",
       "\n",
       "<div class=\"frow\">\n",
       "    <div class=\"fnamecat \">\n",
       "<a target=\"_blank\" href=\"https://github.com/CLARIAH/descartes-tf/blob/main/docs/transcription.md\" title=\"~/github/CLARIAH/descartes-tf/tf/1.1/tex.tf\">tex</a>\n",
       "</div>\n",
       "<div class=\"fmono\">str</div>\n",
       "\n",
       "<span> unformatted TeX code of a formula, without the `$`</span>\n",
       "\n",
       "</div>\n",
       "\n",
       "<div class=\"frow\">\n",
       "    <div class=\"fnamecat \">\n",
       "<a target=\"_blank\" href=\"https://github.com/CLARIAH/descartes-tf/blob/main/docs/transcription.md\" title=\"~/github/CLARIAH/descartes-tf/tf/1.1/trans.tf\">trans</a>\n",
       "</div>\n",
       "<div class=\"fmono\">str</div>\n",
       "\n",
       "<span> transcription of a word </span>\n",
       "\n",
       "</div>\n",
       "\n",
       "<div class=\"frow\">\n",
       "    <div class=\"fnamecat \">\n",
       "<a target=\"_blank\" href=\"https://github.com/CLARIAH/descartes-tf/blob/main/docs/transcription.md\" title=\"~/github/CLARIAH/descartes-tf/tf/1.1/typ.tf\">typ</a>\n",
       "</div>\n",
       "<div class=\"fmono\">str</div>\n",
       "\n",
       "<span> kind of a node; \"empty\"; \"formula\", \"head\", \"symbol\", \"illustration\"</span>\n",
       "\n",
       "</div>\n",
       "\n",
       "<div class=\"frow\">\n",
       "    <div class=\"fnamecat \">\n",
       "<a target=\"_blank\" href=\"https://github.com/CLARIAH/descartes-tf/blob/main/docs/transcription.md\" title=\"~/github/CLARIAH/descartes-tf/tf/1.1/url.tf\">url</a>\n",
       "</div>\n",
       "<div class=\"fmono\">str</div>\n",
       "\n",
       "<span> url of a graphic node</span>\n",
       "\n",
       "</div>\n",
       "\n",
       "<div class=\"frow\">\n",
       "    <div class=\"fnamecat edge\">\n",
       "<a target=\"_blank\" href=\"https://github.com/CLARIAH/descartes-tf/blob/main/docs/transcription.md\" title=\"~/github/CLARIAH/descartes-tf/tf/1.1/oslots.tf\">oslots</a>\n",
       "</div>\n",
       "<div class=\"fmono\">none</div>\n",
       "\n",
       "<span> </span>\n",
       "\n",
       "</div>\n",
       "\n",
       "    </div>\n",
       "</details>\n",
       "\n"
      ],
      "text/plain": [
       "<IPython.core.display.HTML object>"
      ]
     },
     "metadata": {},
     "output_type": "display_data"
    },
    {
     "data": {
      "text/html": [
       "<style>tr.tf.ltr, td.tf.ltr, th.tf.ltr { text-align: left ! important;}\n",
       "tr.tf.rtl, td.tf.rtl, th.tf.rtl { text-align: right ! important;}\n",
       "@font-face {\n",
       "  font-family: \"Gentium Plus\";\n",
       "  src: local('Gentium Plus'), local('GentiumPlus'),\n",
       "    url('/server/static/fonts/GentiumPlus-R.woff') format('woff'),\n",
       "    url('https://github.com/annotation/text-fabric/blob/master/tf/server/static/fonts/GentiumPlus-R.woff?raw=true') format('woff');\n",
       "}\n",
       "\n",
       "@font-face {\n",
       "  font-family: \"Ezra SIL\";\n",
       "  src: local('Ezra SIL'), local('EzraSIL'),\n",
       "    url('/server/static/fonts/SILEOT.woff') format('woff'),\n",
       "    url('https://github.com/annotation/text-fabric/blob/master/tf/server/static/fonts/SILEOT.woff?raw=true') format('woff');\n",
       "}\n",
       "\n",
       "@font-face {\n",
       "  font-family: \"SBL Hebrew\";\n",
       "  src: local('SBL Hebrew'), local('SBLHebrew'),\n",
       "    url('/server/static/fonts/SBL_Hbrw.woff') format('woff'),\n",
       "    url('https://github.com/annotation/text-fabric/blob/master/tf/server/static/fonts/SBL_Hbrw.woff?raw=true') format('woff');\n",
       "}\n",
       "\n",
       "@font-face {\n",
       "  font-family: \"Estrangelo Edessa\";\n",
       "  src: local('Estrangelo Edessa'), local('EstrangeloEdessa');\n",
       "    url('/server/static/fonts/SyrCOMEdessa.woff') format('woff'),\n",
       "    url('https://github.com/annotation/text-fabric/blob/master/tf/server/static/fonts/SyrCOMEdessa.woff?raw=true') format('woff');\n",
       "}\n",
       "\n",
       "@font-face {\n",
       "  font-family: AmiriQuran;\n",
       "  font-style: normal;\n",
       "  font-weight: 400;\n",
       "  src: local('Amiri Quran'), local('AmiriQuran'),\n",
       "    url('/server/static/fonts/AmiriQuran.woff') format('woff'),\n",
       "    url('https://github.com/annotation/text-fabric/blob/master/tf/server/static/fonts/AmiriQuran.woff?raw=true') format('woff');\n",
       "}\n",
       "\n",
       "@font-face {\n",
       "  font-family: AmiriQuranColored;\n",
       "  font-style: normal;\n",
       "  font-weight: 400;\n",
       "  src: local('Amiri Quran Colored'), local('AmiriQuranColored'),\n",
       "    url('/server/static/fonts/AmiriQuranColored.woff') format('woff'),\n",
       "    url('https://github.com/annotation/text-fabric/blob/master/tf/server/static/fonts/AmiriQuranColored.woff?raw=true') format('woff');\n",
       "}\n",
       "\n",
       "@font-face {\n",
       "  font-family: \"Santakku\";\n",
       "  src: local('Santakku'),\n",
       "    url('/server/static/fonts/Santakku.woff') format('woff'),\n",
       "    url('https://github.com/annotation/text-fabric/blob/master/tf/server/static/fonts/Santakku.woff?raw=true') format('woff');\n",
       "}\n",
       "\n",
       "@font-face {\n",
       "  font-family: \"SantakkuM\";\n",
       "  src: local('SantakkuM'),\n",
       "    url('/server/static/fonts/SantakkuM.woff') format('woff'),\n",
       "    url('https://github.com/annotation/text-fabric/blob/master/tf/server/static/fonts/SantakkuM.woff?raw=true') format('woff');\n",
       "}\n",
       "/* bypassing some classical notebook settings */\n",
       "div#notebook {\n",
       "  line-height: unset;\n",
       "}\n",
       "/* neutral text */\n",
       ".txtn,.txtn a:visited,.txtn a:link {\n",
       "    font-family: sans-serif;\n",
       "    font-size: medium;\n",
       "    direction: ltr;\n",
       "    unicode-bidi: embed;\n",
       "    text-decoration: none;\n",
       "    color: var(--text-color);\n",
       "}\n",
       "/* transcription text */\n",
       ".txtt,.txtt a:visited,.txtt a:link {\n",
       "    font-family: monospace;\n",
       "    font-size: medium;\n",
       "    direction: ltr;\n",
       "    unicode-bidi: embed;\n",
       "    text-decoration: none;\n",
       "    color: var(--text-color);\n",
       "}\n",
       "/* source text */\n",
       ".txto,.txto a:visited,.txto a:link {\n",
       "    font-family: serif;\n",
       "    font-size: medium;\n",
       "    direction: ltr;\n",
       "    unicode-bidi: embed;\n",
       "    text-decoration: none;\n",
       "    color: var(--text-color);\n",
       "}\n",
       "/* phonetic text */\n",
       ".txtp,.txtp a:visited,.txtp a:link {\n",
       "    font-family: Gentium, sans-serif;\n",
       "    font-size: medium;\n",
       "    direction: ltr;\n",
       "    unicode-bidi: embed;\n",
       "    text-decoration: none;\n",
       "    color: var(--text-color);\n",
       "}\n",
       "/* original script text */\n",
       ".txtu,.txtu a:visited,.txtu a:link {\n",
       "    font-family: Gentium, sans-serif;\n",
       "    font-size: medium;\n",
       "    text-decoration: none;\n",
       "    color: var(--text-color);\n",
       "}\n",
       "/* hebrew */\n",
       ".txtu.hbo,.lex.hbo {\n",
       "    font-family: \"Ezra SIL\", \"SBL Hebrew\", sans-serif;\n",
       "    font-size: large;\n",
       "    direction: rtl ! important;\n",
       "    unicode-bidi: embed;\n",
       "}\n",
       "/* syriac */\n",
       ".txtu.syc,.lex.syc {\n",
       "    font-family: \"Estrangelo Edessa\", sans-serif;\n",
       "    font-size: medium;\n",
       "    direction: rtl ! important;\n",
       "    unicode-bidi: embed;\n",
       "}\n",
       "/* neo aramaic */\n",
       ".txtu.cld,.lex.cld {\n",
       "    font-family: \"CharisSIL-R\", sans-serif;\n",
       "    font-size: medium;\n",
       "    direction: ltr ! important;\n",
       "    unicode-bidi: embed;\n",
       "}\n",
       "/* standard arabic */\n",
       ".txtu.ara,.lex.ara {\n",
       "    font-family: \"AmiriQuran\", sans-serif;\n",
       "    font-size: large;\n",
       "    direction: rtl ! important;\n",
       "    unicode-bidi: embed;\n",
       "}\n",
       "/* cuneiform */\n",
       ".txtu.akk,.lex.akk {\n",
       "    font-family: Santakku, sans-serif;\n",
       "    font-size: large;\n",
       "    direction: ltr ! important;\n",
       "    unicode-bidi: embed;\n",
       "}\n",
       "/* greek */\n",
       ".txtu.grc,.lex.grc a:link {\n",
       "    font-family: Gentium, sans-serif;\n",
       "    font-size: medium;\n",
       "    direction: ltr ! important;\n",
       "    unicode-bidi: embed;\n",
       "}\n",
       "a:hover {\n",
       "    text-decoration: underline | important;\n",
       "    color: #0000ff | important;\n",
       "}\n",
       ".ltr {\n",
       "    direction: ltr ! important;\n",
       "    unicode-bidi: embed;\n",
       "}\n",
       ".rtl {\n",
       "    direction: rtl ! important;\n",
       "    unicode-bidi: embed;\n",
       "}\n",
       ".ubd {\n",
       "    unicode-bidi: embed;\n",
       "}\n",
       ".col {\n",
       "   display: inline-block;\n",
       "}\n",
       ".features {\n",
       "    font-family: monospace;\n",
       "    font-size: medium;\n",
       "    font-weight: bold;\n",
       "    color: var(--features);\n",
       "    display: flex;\n",
       "    flex-flow: column nowrap;\n",
       "    justify-content: flex-start;\n",
       "    align-items: flex-start;\n",
       "    align-content: flex-start;\n",
       "    padding: 2px;\n",
       "    margin: 2px;\n",
       "    direction: ltr;\n",
       "    unicode-bidi: embed;\n",
       "    border: var(--meta-width) solid var(--meta-color);\n",
       "    border-radius: var(--meta-width);\n",
       "}\n",
       ".features div,.features span {\n",
       "    padding: 0;\n",
       "    margin: -2px 0;\n",
       "}\n",
       ".features .f {\n",
       "    font-family: sans-serif;\n",
       "    font-size: small;\n",
       "    font-weight: normal;\n",
       "    color: #5555bb;\n",
       "}\n",
       ".features .xft {\n",
       "  color: #000000;\n",
       "  background-color: #eeeeee;\n",
       "  font-size: medium;\n",
       "  margin: 2px 0px;\n",
       "}\n",
       ".features .xft .f {\n",
       "  color: #000000;\n",
       "  background-color: #eeeeee;\n",
       "  font-size: small;\n",
       "  font-weight: normal;\n",
       "}\n",
       ".tfsechead {\n",
       "    font-family: sans-serif;\n",
       "    font-size: small;\n",
       "    font-weight: bold;\n",
       "    color: var(--tfsechead);\n",
       "    unicode-bidi: embed;\n",
       "    text-align: start;\n",
       "}\n",
       ".structure {\n",
       "    font-family: sans-serif;\n",
       "    font-size: small;\n",
       "    font-weight: bold;\n",
       "    color: var(--structure);\n",
       "    unicode-bidi: embed;\n",
       "    text-align: start;\n",
       "}\n",
       ".comments {\n",
       "    display: flex;\n",
       "    justify-content: flex-start;\n",
       "    align-items: flex-start;\n",
       "    align-content: flex-start;\n",
       "    flex-flow: column nowrap;\n",
       "}\n",
       ".nd, a:link.nd {\n",
       "    font-family: sans-serif;\n",
       "    font-size: small;\n",
       "    color: var(--node);\n",
       "    vertical-align: super;\n",
       "    direction: ltr ! important;\n",
       "    unicode-bidi: embed;\n",
       "}\n",
       ".lex {\n",
       "  color: var(--lex-color);;\n",
       "}\n",
       ".children,.children.ltr {\n",
       "    display: flex;\n",
       "    border: 0;\n",
       "    background-color: #ffffff;\n",
       "    justify-content: flex-start;\n",
       "    align-items: flex-start;\n",
       "    align-content: flex-start;\n",
       "}\n",
       ".children.stretch {\n",
       "    align-items: stretch;\n",
       "}\n",
       ".children.hor {\n",
       "    flex-flow: row nowrap;\n",
       "}\n",
       ".children.hor.wrap {\n",
       "    flex-flow: row wrap;\n",
       "}\n",
       ".children.ver {\n",
       "    flex-flow: column nowrap;\n",
       "}\n",
       ".children.ver.wrap {\n",
       "    flex-flow: column wrap;\n",
       "}\n",
       ".contnr {\n",
       "    width: fit-content;\n",
       "    display: flex;\n",
       "    justify-content: flex-start;\n",
       "    align-items: flex-start;\n",
       "    align-content: flex-start;\n",
       "    flex-flow: column nowrap;\n",
       "    background: #ffffff none repeat scroll 0 0;\n",
       "    padding:  10px 2px 2px 2px;\n",
       "    margin: 16px 2px 2px 2px;\n",
       "    border-style: solid;\n",
       "    font-size: small;\n",
       "}\n",
       ".contnr.trm {\n",
       "    background-attachment: local;\n",
       "}\n",
       ".contnr.cnul {\n",
       "    padding:  0;\n",
       "    margin: 0;\n",
       "    border-style: solid;\n",
       "    font-size: xx-small;\n",
       "}\n",
       ".contnr.cnul,.lbl.cnul {\n",
       "    border-color: var(--border-color-nul);\n",
       "    border-width: var(--border-width-nul);\n",
       "    border-radius: var(--border-width-nul);\n",
       "}\n",
       ".contnr.c0,.lbl.c0 {\n",
       "    border-color: var(--border-color0);\n",
       "    border-width: var(--border-width0);\n",
       "    border-radius: var(--border-width0);\n",
       "}\n",
       ".contnr.c1,.lbl.c1 {\n",
       "    border-color: var(--border-color1);\n",
       "    border-width: var(--border-width1);\n",
       "    border-radius: var(--border-width1);\n",
       "}\n",
       ".contnr.c2,.lbl.c2 {\n",
       "    border-color: var(--border-color2);\n",
       "    border-width: var(--border-width2);\n",
       "    border-radius: var(--border-width2);\n",
       "}\n",
       ".contnr.c3,.lbl.c3 {\n",
       "    border-color: var(--border-color3);\n",
       "    border-width: var(--border-width3);\n",
       "    border-radius: var(--border-width3);\n",
       "}\n",
       ".contnr.c4,.lbl.c4 {\n",
       "    border-color: var(--border-color4);\n",
       "    border-width: var(--border-width4);\n",
       "    border-radius: var(--border-width4);\n",
       "}\n",
       "span.plain {\n",
       "    /*display: inline-block;*/\n",
       "    display: inline-flex;\n",
       "    flex-flow: row wrap;\n",
       "    white-space: pre-wrap;\n",
       "}\n",
       ".plain {\n",
       "    background-color: #ffffff;\n",
       "}\n",
       ".plain.l,.contnr.l,.contnr.l>.lbl {\n",
       "    border-left-style: dotted\n",
       "}\n",
       ".plain.r,.contnr.r,.contnr.r>.lbl {\n",
       "    border-right-style: dotted\n",
       "}\n",
       ".plain.lno,.contnr.lno,.contnr.lno>.lbl {\n",
       "    border-left-style: none\n",
       "}\n",
       ".plain.rno,.contnr.rno,.contnr.rno>.lbl {\n",
       "    border-right-style: none\n",
       "}\n",
       ".plain.l {\n",
       "    padding-left: 4px;\n",
       "    margin-left: 2px;\n",
       "    border-width: var(--border-width-plain);\n",
       "}\n",
       ".plain.r {\n",
       "    padding-right: 4px;\n",
       "    margin-right: 2px;\n",
       "    border-width: var(--border-width-plain);\n",
       "}\n",
       ".lbl {\n",
       "    font-family: monospace;\n",
       "    margin-top: -24px;\n",
       "    margin-left: 20px;\n",
       "    background: #ffffff none repeat scroll 0 0;\n",
       "    padding: 0 6px;\n",
       "    border-style: solid;\n",
       "    display: block;\n",
       "    color: var(--label)\n",
       "}\n",
       ".lbl.trm {\n",
       "    background-attachment: local;\n",
       "    margin-top: 2px;\n",
       "    margin-left: 2px;\n",
       "    padding: 2px 2px;\n",
       "    border-style: none;\n",
       "}\n",
       ".lbl.cnul {\n",
       "    font-size: xx-small;\n",
       "}\n",
       ".lbl.c0 {\n",
       "    font-size: small;\n",
       "}\n",
       ".lbl.c1 {\n",
       "    font-size: small;\n",
       "}\n",
       ".lbl.c2 {\n",
       "    font-size: medium;\n",
       "}\n",
       ".lbl.c3 {\n",
       "    font-size: medium;\n",
       "}\n",
       ".lbl.c4 {\n",
       "    font-size: large;\n",
       "}\n",
       ".occs, a:link.occs {\n",
       "    font-size: small;\n",
       "}\n",
       "\n",
       "/* PROVENANCE */\n",
       "\n",
       "div.prov {\n",
       "\tmargin: 40px;\n",
       "\tpadding: 20px;\n",
       "\tborder: 2px solid var(--fog-rim);\n",
       "}\n",
       "div.pline {\n",
       "\tdisplay: flex;\n",
       "\tflex-flow: row nowrap;\n",
       "\tjustify-content: stretch;\n",
       "\talign-items: baseline;\n",
       "}\n",
       "div.p2line {\n",
       "\tmargin-left: 2em;\n",
       "\tdisplay: flex;\n",
       "\tflex-flow: row nowrap;\n",
       "\tjustify-content: stretch;\n",
       "\talign-items: baseline;\n",
       "}\n",
       "div.psline {\n",
       "\tdisplay: flex;\n",
       "\tflex-flow: row nowrap;\n",
       "\tjustify-content: stretch;\n",
       "\talign-items: baseline;\n",
       "\tbackground-color: var(--gold-mist-back);\n",
       "}\n",
       "div.pname {\n",
       "\tflex: 0 0 5rem;\n",
       "\tfont-weight: bold;\n",
       "}\n",
       "div.pval {\n",
       "    flex: 1 1 auto;\n",
       "}\n",
       "\n",
       "/* KEYBOARD */\n",
       ".ccoff {\n",
       "  background-color: inherit;\n",
       "}\n",
       ".ccon {\n",
       "  background-color: yellow ! important;\n",
       "}\n",
       ".ccon,.ccoff {\n",
       "  padding: 0.2rem;\n",
       "  margin: 0.2rem;\n",
       "  border: 0.1rem solid var(--letter-box-border);\n",
       "  border-radius: 0.1rem;\n",
       "}\n",
       ".ccline {\n",
       "  font-size: xx-large ! important;\n",
       "  font-weight: bold;\n",
       "  line-height: 2em ! important;\n",
       "}\n",
       "/* TF header */\n",
       "\n",
       "summary {\n",
       "  /* needed to override the normalize.less\n",
       "   * in the classical jupyter notebook\n",
       "   */\n",
       "  display: list-item ! important;\n",
       "}\n",
       "\n",
       ".fcorpus {\n",
       "  display: flex;\n",
       "  flex-flow: column nowrap;\n",
       "  justify-content: flex-start;\n",
       "  align-items: flex-start;\n",
       "  align-content: flex-start;\n",
       "}\n",
       ".frow {\n",
       "  display: flex;\n",
       "  flex-flow: row nowrap;\n",
       "  justify-content: flex-start;\n",
       "  align-items: flex-start;\n",
       "  align-content: flex-start;\n",
       "}\n",
       ".fmeta {\n",
       "  display: flex;\n",
       "  flex-flow: column nowrap;\n",
       "  justify-content: flex-start;\n",
       "  align-items: flex-start;\n",
       "  align-content: flex-start;\n",
       "}\n",
       ".fmetarow {\n",
       "  display: flex;\n",
       "  flex-flow: row nowrap;\n",
       "  justify-content: flex-start;\n",
       "  align-items: flex-start;\n",
       "  align-content: flex-start;\n",
       "}\n",
       ".fmetakey {\n",
       "  min-width: 8em;\n",
       "  font-family: monospace;\n",
       "}\n",
       ".fnamecat {\n",
       "  min-width: 8em;\n",
       "}\n",
       ".fnamecat.edge {\n",
       "  font-weight: bold;\n",
       "  font-style: italic;\n",
       "}\n",
       ".fmono {\n",
       "    font-family: monospace;\n",
       "}\n",
       "\n",
       ":root {\n",
       "\t--node:               hsla(120, 100%,  20%, 1.0  );\n",
       "\t--label:              hsla(  0, 100%,  20%, 1.0  );\n",
       "\t--tfsechead:          hsla(  0, 100%,  25%, 1.0  );\n",
       "\t--structure:          hsla(120, 100%,  25%, 1.0  );\n",
       "\t--features:           hsla(  0,   0%,  30%, 1.0  );\n",
       "  --text-color:         hsla( 60,  80%,  10%, 1.0  );\n",
       "  --lex-color:          hsla(220,  90%,  60%, 1.0  );\n",
       "  --meta-color:         hsla(  0,   0%,  90%, 0.7  );\n",
       "  --meta-width:         3px;\n",
       "  --border-color-nul:   hsla(  0,   0%,  90%, 0.5  );\n",
       "  --border-color0:      hsla(  0,   0%,  90%, 0.9  );\n",
       "  --border-color1:      hsla(  0,   0%,  80%, 0.9  );\n",
       "  --border-color2:      hsla(  0,   0%,  70%, 0.9  );\n",
       "  --border-color3:      hsla(  0,   0%,  80%, 0.8  );\n",
       "  --border-color4:      hsla(  0,   0%,  60%, 0.9  );\n",
       "\t--letter-box-border:  hsla(  0,   0%,  80%, 0.5  );\n",
       "  --border-width-nul:   2px;\n",
       "  --border-width0:      2px;\n",
       "  --border-width1:      3px;\n",
       "  --border-width2:      4px;\n",
       "  --border-width3:      6px;\n",
       "  --border-width4:      5px;\n",
       "  --border-width-plain: 2px;\n",
       "}\n",
       ".hl {\n",
       "  background-color: var(--hl-strong);\n",
       "}\n",
       "span.hl {\n",
       "\tbackground-color: var(--hl-strong);\n",
       "\tborder-width: 0;\n",
       "\tborder-radius: 2px;\n",
       "\tborder-style: solid;\n",
       "}\n",
       "div.contnr.hl,div.lbl.hl {\n",
       "  background-color: var(--hl-strong);\n",
       "}\n",
       "div.contnr.hl {\n",
       "  border-color: var(--hl-rim) ! important;\n",
       "\tborder-width: 4px ! important;\n",
       "}\n",
       "\n",
       "span.hlbx {\n",
       "\tborder-color: var(--hl-rim);\n",
       "\tborder-width: 4px ! important;\n",
       "\tborder-style: solid;\n",
       "\tborder-radius: 6px;\n",
       "  padding: 4px;\n",
       "  margin: 4px;\n",
       "}\n",
       "\n",
       ":root {\n",
       "\t--hl-strong:        hsla( 60, 100%,  70%, 0.9  );\n",
       "\t--hl-rim:           hsla( 55,  80%,  50%, 1.0  );\n",
       "}\n",
       ".italic {\n",
       "  font-style: italic;\n",
       "}\n",
       ".margin {\n",
       "  position: relative;\n",
       "  top: -0.3em;\n",
       "  font-weight: bold;\n",
       "  color: #0000ee;\n",
       "}\n",
       ".sub {\n",
       "  vertical-align: sub;\n",
       "  font-size: small;\n",
       "}\n",
       ".sup {\n",
       "  vertical-align: super;\n",
       "  font-size: small;\n",
       "}\n",
       "</style>"
      ],
      "text/plain": [
       "<IPython.core.display.HTML object>"
      ]
     },
     "metadata": {},
     "output_type": "display_data"
    },
    {
     "data": {
      "text/html": [
       "\n",
       "<script>\n",
       "globalThis.copyChar = (el, c) => {\n",
       "    for (const el of document.getElementsByClassName('ccon')) {\n",
       "        el.className = 'ccoff'\n",
       "    }\n",
       "    el.className = 'ccon'\n",
       "    navigator.clipboard.writeText(String.fromCharCode(c))\n",
       "}\n",
       "</script>\n"
      ],
      "text/plain": [
       "<IPython.core.display.HTML object>"
      ]
     },
     "metadata": {},
     "output_type": "display_data"
    },
    {
     "data": {
      "text/html": [
       "<div><b>Text-Fabric API:</b> names <a target=\"_blank\" href=\"https://annotation.github.io/text-fabric/tf/cheatsheet.html\" title=\"doc\">N F E L T S C TF</a> directly usable</div><hr>"
      ],
      "text/plain": [
       "<IPython.core.display.HTML object>"
      ]
     },
     "metadata": {},
     "output_type": "display_data"
    },
    {
     "data": {
      "text/html": [
       "<b title=\"local github\">data:</b> <span title=\"repo clone offline under /Users/me/github\">~/github/CLARIAH/descartes-tf/source/illustrations</span>"
      ],
      "text/plain": [
       "<IPython.core.display.HTML object>"
      ]
     },
     "metadata": {},
     "output_type": "display_data"
    },
    {
     "data": {
      "text/html": [
       "Found 5 symbols<br>"
      ],
      "text/plain": [
       "<IPython.core.display.HTML object>"
      ]
     },
     "metadata": {},
     "output_type": "display_data"
    },
    {
     "data": {
      "text/html": [
       "Found 310 illustrations<br>"
      ],
      "text/plain": [
       "<IPython.core.display.HTML object>"
      ]
     },
     "metadata": {},
     "output_type": "display_data"
    }
   ],
   "source": [
    "A = use(\"CLARIAH/descartes-tf:clone\", checkout=\"clone\", hoist=globals())"
   ]
  },
  {
   "cell_type": "markdown",
   "id": "60350686-190b-4581-bb11-a5ccd2b21c83",
   "metadata": {},
   "source": [
    "# Basic search command\n",
    "\n",
    "We start with the most simple form of issuing a query.\n",
    "Let's look for the 16th sentence of the paragraphs that have that many sentences.\n",
    "\n",
    "Note that sentences are numbered within paragraphs and that the sentence number is in feature `n`."
   ]
  },
  {
   "cell_type": "code",
   "execution_count": 4,
   "id": "b1586fae-955e-4043-84fa-f75320be7fc8",
   "metadata": {},
   "outputs": [
    {
     "name": "stdout",
     "output_type": "stream",
     "text": [
      "  0.01s 10 results\n"
     ]
    }
   ],
   "source": [
    "template = \"\"\"\n",
    "sentence n=16\n",
    "\"\"\"\n",
    "\n",
    "results = A.search(template)"
   ]
  },
  {
   "cell_type": "markdown",
   "id": "eff1eed5-bd15-4264-8e32-8d1feacb440c",
   "metadata": {},
   "source": [
    "We see the amount of results, but how do we get the results?"
   ]
  },
  {
   "cell_type": "code",
   "execution_count": 5,
   "id": "0a163b37-4db0-440d-a838-5980932cfceb",
   "metadata": {},
   "outputs": [
    {
     "data": {
      "text/plain": [
       "[(709049,),\n",
       " (709186,),\n",
       " (710254,),\n",
       " (712431,),\n",
       " (713741,),\n",
       " (716957,),\n",
       " (717009,),\n",
       " (717350,),\n",
       " (719832,),\n",
       " (720490,)]"
      ]
     },
     "execution_count": 5,
     "metadata": {},
     "output_type": "execute_result"
    }
   ],
   "source": [
    "results"
   ]
  },
  {
   "cell_type": "markdown",
   "id": "f75dc1a4-c4e4-4052-b04e-cbc4bf918b5a",
   "metadata": {},
   "source": [
    "Nice try. These are indeed the results, but they are just the nodes, i.e. meaningless numbers (to us).\n",
    "\n",
    "We get more flesh and blood by displaying the results."
   ]
  },
  {
   "cell_type": "code",
   "execution_count": 6,
   "id": "3fe1432d-2876-4245-a72a-53778c93dfe9",
   "metadata": {},
   "outputs": [
    {
     "data": {
      "text/html": [
       "<table><tr class=\"tf ltr\"><th class=\"tf ltr\">n</th><th class=\"tf ltr\">p</th><th class=\"tf ltr\">sentence</th></tr>\n",
       "<tr class=\"tf ltr\"><td class=\"tf ltr\">1</td><td class=\"tf ltr\"><span class=\"tfsechead ltr\"><span class=\"ltr\">1 1027:3</span></span></td><td class=\"tf ltr\"><span class=\" ubd\"><span class=\"txtu \"> </span><span class=\"txtu\">Ce </span><span class=\"txtu\">n'</span><span class=\"txtu\">est </span><span class=\"txtu\">pas </span><span class=\"txtu\">que </span><span class=\"txtu\">je </span><span class=\"txtu\">ne </span><span class=\"txtu\">l'</span><span class=\"txtu\">aime </span><span class=\"txtu\">et </span><span class=\"txtu\">que </span><span class=\"txtu\">je </span><span class=\"txtu\">ne </span><span class=\"txtu\">le </span><span class=\"txtu\">tienne </span><span class=\"txtu\">pour </span><span class=\"txtu\">un </span><span class=\"txtu\">homme </span><span class=\"txtu\">tout </span><span class=\"txtu\">plein </span><span class=\"txtu\">d'</span><span class=\"txtu\">honneur </span><span class=\"txtu\">et </span><span class=\"txtu\">de </span><span class=\"txtu\">bonté; </span><span class=\"txtu\">mais </span><span class=\"txtu\">parce </span><span class=\"txtu\">que </span><span class=\"txtu\">je </span><span class=\"txtu\">ne </span><span class=\"txtu\">connais </span><span class=\"txtu\">que </span><span class=\"txtu\">deux </span><span class=\"txtu\">personnes, </span><span class=\"txtu\">avec </span><span class=\"txtu\">qui </span><span class=\"txtu\">il </span><span class=\"txtu\">ait </span><span class=\"txtu\">jamais </span><span class=\"txtu\">eu </span><span class=\"txtu\">quelque </span><span class=\"txtu\">chose </span><span class=\"txtu\">à </span><span class=\"txtu\">démêler, </span><span class=\"txtu\">qui </span><span class=\"txtu\">sont </span><span class=\"txtu\">M. </span><span class=\"txtu\">Mydorge </span><span class=\"txtu\">et </span><span class=\"txtu\">M. </span><span class=\"txtu\">Morin, </span><span class=\"txtu\">et </span><span class=\"txtu\">qu'</span><span class=\"txtu\">il </span><span class=\"txtu\">se </span><span class=\"txtu\">plaint </span><span class=\"txtu\">de </span><span class=\"txtu\">tous </span><span class=\"txtu\">les </span><span class=\"txtu\">deux, </span><span class=\"txtu\">je </span><span class=\"txtu\">ne </span><span class=\"txtu\">saurais </span><span class=\"txtu\">que </span><span class=\"txtu\">je </span><span class=\"txtu\">ne </span><span class=\"txtu\">juge </span><span class=\"txtu\">qu'</span><span class=\"txtu\">il </span><span class=\"txtu\">tient </span><span class=\"txtu\">quelque </span><span class=\"txtu\">chose </span><span class=\"txtu\">de </span><span class=\"txtu\">cette </span><span class=\"txtu\">humeur, </span><span class=\"txtu\">où </span><span class=\"txtu\">il </span><span class=\"txtu\">faut </span><span class=\"txtu\">dire </span><span class=\"txtu\">qu'</span><span class=\"txtu\">il </span><span class=\"txtu\">est </span><span class=\"txtu\">bien </span><span class=\"txtu\">malheureux. </span></span></td></tr>\n",
       "<tr class=\"tf ltr\"><td class=\"tf ltr\">2</td><td class=\"tf ltr\"><span class=\"tfsechead ltr\"><span class=\"ltr\">1 1032:4</span></span></td><td class=\"tf ltr\"><span class=\" ubd\"><span class=\"txtu \"> </span><span class=\"txtu\">Quâ </span><span class=\"txtu\">tamen </span><span class=\"txtu\">in </span><span class=\"txtu\">re </span><span class=\"txtu\">non </span><span class=\"txtu\">judico </span><span class=\"txtu\">te </span><span class=\"txtu\">satis </span><span class=\"txtu\">prudenter </span><span class=\"txtu\">cavere </span><span class=\"txtu\">tuis </span><span class=\"txtu\">rebus: </span><span class=\"txtu\">quid </span><span class=\"txtu\">enim </span><span class=\"txtu\">si </span><span class=\"txtu\">de </span><span class=\"txtu\">istius </span><span class=\"txtu\">manuscripti </span><span class=\"txtu\">fide </span><span class=\"txtu\">dubitatur? </span><span class=\"txtu\">nunquid </span><span class=\"txtu\">tutius </span><span class=\"txtu\">esset </span><span class=\"txtu\">testes </span><span class=\"txtu\">adhibere </span><span class=\"txtu\">vel </span><span class=\"txtu\">tabulis </span><span class=\"txtu\">publicis </span><span class=\"txtu\">confirmare? </span><span class=\"txtu\">Sed </span><span class=\"txtu\">profecto, </span><span class=\"txtu\">ut </span><span class=\"txtu\">verum </span><span class=\"txtu\">loquar, </span><span class=\"txtu\">istae </span><span class=\"txtu\">divitiae, </span><span class=\"txtu\">quae </span><span class=\"txtu\">fures </span><span class=\"txtu\">timent </span><span class=\"txtu\">et </span><span class=\"txtu\">tantâ </span><span class=\"txtu\">cum </span><span class=\"txtu\">sollicitudine </span><span class=\"txtu\">debent </span><span class=\"txtu\">asservari, </span><span class=\"txtu\">miserum </span><span class=\"txtu\">te </span><span class=\"txtu\">reddunt </span><span class=\"txtu\">potius </span><span class=\"txtu\">quàm </span><span class=\"txtu\">beatum; </span><span class=\"txtu\">nec, </span><span class=\"txtu\">si </span><span class=\"txtu\">mihi </span><span class=\"txtu\">credis, </span><span class=\"txtu\">te </span><span class=\"txtu\">pigebit </span><span class=\"txtu\">illa </span><span class=\"txtu\">amittere </span><span class=\"txtu\">simul </span><span class=\"txtu\">cum </span><span class=\"txtu\">morbo.</span></span></td></tr>\n",
       "<tr class=\"tf ltr\"><td class=\"tf ltr\">3</td><td class=\"tf ltr\"><span class=\"tfsechead ltr\"><span class=\"ltr\">1 1116:3</span></span></td><td class=\"tf ltr\"><span class=\" ubd\"><span class=\"txtu \"> </span><span class=\"txtu\">Opinor </span><span class=\"txtu\"> </span><span class=\"txtu\">autem </span><span class=\"txtu\">quod, </span><span class=\"txtu\">sicuti </span><span class=\"txtu\">apud </span><span class=\"txtu\">Poetam </span><span class=\"txtu\">consessus </span><span class=\"txtu\">Didonianus, </span><span class=\"txtu \"> </span><span class=\"txtu\">conticebunt </span><span class=\"txtu\">omnes </span><span class=\"txtu\">intentique </span><span class=\"txtu\">ora </span><span class=\"txtu\">tenebunt.</span><span class=\"txtu\"> </span><span class=\"txtu\">Precor </span><span class=\"txtu\">autem </span><span class=\"txtu\">te </span><span class=\"txtu\">et </span><span class=\"txtu\">obtestor </span><span class=\"txtu\">ut </span><span class=\"txtu\">eodem </span><span class=\"txtu\">tenore </span><span class=\"txtu\">caetera </span><span class=\"txtu\">quae </span><span class=\"txtu\">in </span><span class=\"txtu\">manibus </span><span class=\"txtu\">habes </span><span class=\"txtu\">prosequaris </span><span class=\"txtu\">et </span><span class=\"txtu\">aliquando </span><span class=\"txtu\">proferas, </span><span class=\"txtu\">meque </span><span class=\"txtu\">subinde </span><span class=\"txtu\">epistolio </span><span class=\"txtu\">tuo </span><span class=\"txtu\">bees. </span></span></td></tr>\n",
       "<tr class=\"tf ltr\"><td class=\"tf ltr\">4</td><td class=\"tf ltr\"><span class=\"tfsechead ltr\"><span class=\"ltr\">3 3174:23</span></span></td><td class=\"tf ltr\"><span class=\" ubd\"><span class=\"txtu \"> </span><span class=\"txtu\">Je </span><span class=\"txtu\">m'</span><span class=\"txtu\">étonne </span><span class=\"txtu\">aussi </span><span class=\"txtu\">de </span><span class=\"txtu\">ce </span><span class=\"txtu\">que, </span><span class=\"txtu\">nonobstant </span><span class=\"txtu\">que </span><span class=\"txtu\">j'</span><span class=\"txtu\">aie </span><span class=\"txtu\">clairement </span><span class=\"txtu\">démontré </span><span class=\"txtu\">tout </span><span class=\"txtu\">ce </span><span class=\"txtu\">que </span><span class=\"txtu\">j'</span><span class=\"txtu\">ai </span><span class=\"txtu\">dit </span><span class=\"txtu\">devoir </span><span class=\"txtu\">être </span><span class=\"txtu\">corrigé </span><span class=\"txtu\">en </span><span class=\"txtu\">sa </span><span class=\"txtu\">règle, </span><span class=\"txtu\">et </span><span class=\"txtu\">qu'</span><span class=\"txtu\">il </span><span class=\"txtu\">n'</span><span class=\"txtu\">aît </span><span class=\"txtu\">donné </span><span class=\"txtu\">aucune </span><span class=\"txtu\">raison </span><span class=\"txtu\">à </span><span class=\"txtu\">l'</span><span class=\"txtu\">encontre, </span><span class=\"txtu\">il </span><span class=\"txtu\">ne </span><span class=\"txtu\">laisse </span><span class=\"txtu\">pas </span><span class=\"txtu\">de </span><span class=\"txtu\">dire </span><span class=\"txtu\">que </span><span class=\"txtu\">j'</span><span class=\"txtu\">y </span><span class=\"txtu\">ai </span><span class=\"txtu\">mal </span><span class=\"txtu\">réussi, </span><span class=\"txtu\">au </span><span class=\"txtu\">lieu </span><span class=\"txtu\">de </span><span class=\"txtu\">quoi </span><span class=\"txtu\">je </span><span class=\"txtu\">me </span><span class=\"txtu\">persuade </span><span class=\"txtu\">qu'</span><span class=\"txtu\">il </span><span class=\"txtu\">m'</span><span class=\"txtu\">en </span><span class=\"txtu\">devrait </span><span class=\"txtu\">remercier; </span><span class=\"txtu\">et </span><span class=\"txtu\">même </span><span class=\"txtu\">il </span><span class=\"txtu\">ajoute </span><span class=\"txtu\">que </span><span class=\"txtu\">j'</span><span class=\"txtu\">ai </span><span class=\"txtu\">failli </span><span class=\"txtu\">pour </span><span class=\"txtu\">avoir </span><span class=\"txtu\">dit </span><span class=\"txtu\">qu'</span><span class=\"txtu\">il </span><span class=\"txtu\">fallait </span><span class=\"txtu\">donner </span><span class=\"txtu\">deux </span><span class=\"txtu\">noms </span><span class=\"txtu\">à </span><span class=\"txtu\">la </span><span class=\"txtu\">ligne </span><span class=\"txtu\">qu'</span><span class=\"txtu\">il </span><span class=\"txtu\">nomme </span><span class=\"txtu \"> </span><span class=\"txtu \"> </span><span class=\"txtu\">B</span><span class=\"txtu\"> </span><span class=\"txtu\">etc., </span><span class=\"txtu\">ce </span><span class=\"txtu\">qui </span><span class=\"txtu\">ne </span><span class=\"txtu\">réussit, </span><span class=\"txtu\">dit-</span><span class=\"txtu\">il, </span><span class=\"txtu\">qu'</span><span class=\"txtu\">aux </span><span class=\"txtu\">questions </span><span class=\"txtu\">qui </span><span class=\"txtu\">sont </span><span class=\"txtu\">aisées, </span><span class=\"txtu\">au </span><span class=\"txtu\">lieu </span><span class=\"txtu\">qu'</span><span class=\"txtu\">il </span><span class=\"txtu\">devrait </span><span class=\"txtu\">dire </span><span class=\"txtu\">que </span><span class=\"txtu\">c'</span><span class=\"txtu\">est </span><span class=\"txtu\">donc </span><span class=\"txtu\">lui-</span><span class=\"txtu\">même </span><span class=\"txtu\">qui </span><span class=\"txtu\">avait </span><span class=\"txtu\">failli, </span><span class=\"txtu\">à </span><span class=\"txtu\">cause </span><span class=\"txtu\">que </span><span class=\"txtu\">j'</span><span class=\"txtu\">ai </span><span class=\"txtu\">suivi </span><span class=\"txtu\">en </span><span class=\"txtu\">cela </span><span class=\"txtu\">son </span><span class=\"txtu\">texte </span><span class=\"txtu\">de </span><span class=\"txtu\">mot </span><span class=\"txtu\">à </span><span class=\"txtu\">mot, </span><span class=\"txtu\">ainsi </span><span class=\"txtu\">que </span><span class=\"txtu\">j'</span><span class=\"txtu\">ai </span><span class=\"txtu\">dû </span><span class=\"txtu\">faire </span><span class=\"txtu\">pour </span><span class=\"txtu\">le </span><span class=\"txtu\">corriger. </span></span></td></tr>\n",
       "<tr class=\"tf ltr\"><td class=\"tf ltr\">5</td><td class=\"tf ltr\"><span class=\"tfsechead ltr\"><span class=\"ltr\">3 3220:3</span></span></td><td class=\"tf ltr\"><span class=\" ubd\"><span class=\"txtu \"> </span><span class=\"txtu\">Je </span><span class=\"txtu\">suis, </span><span class=\"txtu\">Monsieur, </span><span class=\"txtu\">Votre </span><span class=\"txtu\">très </span><span class=\"txtu\">obéissant </span><span class=\"txtu\">et </span><span class=\"txtu\">très </span><span class=\"txtu\">obligé </span><span class=\"txtu\">serviteur, </span><span class=\"txtu\">DESCARTES. </span><span class=\"txtu\">De </span><span class=\"txtu\">Leyde </span><span class=\"txtu\">le </span><span class=\"txtu\">lundi </span><span class=\"txtu\">au </span><span class=\"txtu\">soir [</span><span class=\"txtu\">12 </span><span class=\"txtu\">décembre </span><span class=\"txtu\">1639]. </span><span class=\"txtu\">Monsieur,</span></span></td></tr>\n",
       "<tr class=\"tf ltr\"><td class=\"tf ltr\">6</td><td class=\"tf ltr\"><span class=\"tfsechead ltr\"><span class=\"ltr\">6 6391:3</span></span></td><td class=\"tf ltr\"><span class=\" ubd\"><span class=\"txtu \"> </span><span class=\"txtu\">Maer </span><span class=\"txtu\">niet-</span><span class=\"txtu\">te-</span><span class=\"txtu\">min </span><span class=\"txtu\">dewijl </span><span class=\"txtu\">al </span><span class=\"txtu\">de </span><span class=\"txtu\">Werelt </span><span class=\"txtu\">oordeelt, </span><span class=\"txtu\">dat </span><span class=\"txtu\">hy </span><span class=\"txtu\">de </span><span class=\"txtu\">voornaemste </span><span class=\"txtu\">autheur </span><span class=\"txtu\">is </span><span class=\"txtu\">vande </span><span class=\"txtu\">lasteringhen </span><span class=\"txtu\">die </span><span class=\"txtu\">in </span><span class=\"txtu\">het </span><span class=\"txtu\">ghemelt </span><span class=\"txtu\">fameux </span><span class=\"txtu\">boeck </span><span class=\"txtu\">teghens </span><span class=\"txtu\">my </span><span class=\"txtu\">worden </span><span class=\"txtu\">ghevonden, </span><span class=\"txtu\">versoeck </span><span class=\"txtu\">ick </span><span class=\"txtu\">U. </span><span class=\"txtu\">Ed. </span></span></td></tr>\n",
       "<tr class=\"tf ltr\"><td class=\"tf ltr\">7</td><td class=\"tf ltr\"><span class=\"tfsechead ltr\"><span class=\"ltr\">6 6396:3</span></span></td><td class=\"tf ltr\"><span class=\" ubd\"><span class=\"txtu \"> </span><span class=\"txtu\">Je </span><span class=\"txtu\">vous </span><span class=\"txtu\">assure </span><span class=\"txtu\">qu'</span><span class=\"txtu\">elles </span><span class=\"txtu\">ne </span><span class=\"txtu\">me </span><span class=\"txtu\">touchent </span><span class=\"txtu\">guère, </span><span class=\"txtu\">et </span><span class=\"txtu\">ne </span><span class=\"txtu\">m'</span><span class=\"txtu\">ont </span><span class=\"txtu\">point </span><span class=\"txtu\">emmaigri, </span><span class=\"txtu\">comme </span><span class=\"txtu\">Voetius, </span><span class=\"txtu\">à </span><span class=\"txtu\">qui </span><span class=\"txtu\">on </span><span class=\"txtu\">dit </span><span class=\"txtu\">qu'</span><span class=\"txtu\">elles </span><span class=\"txtu\">ont </span><span class=\"txtu\">ôté </span><span class=\"txtu\">treize </span><span class=\"txtu\">livres </span><span class=\"txtu\">de </span><span class=\"txtu\">chair, </span><span class=\"txtu\">mais </span><span class=\"txtu\">non </span><span class=\"txtu\">pas </span><span class=\"txtu\">de </span><span class=\"txtu\">graisse, </span><span class=\"txtu\">à </span><span class=\"txtu\">cause </span><span class=\"txtu\">qu'</span><span class=\"txtu\">il </span><span class=\"txtu\">n'</span><span class=\"txtu\">en </span><span class=\"txtu\">eut </span><span class=\"txtu\">jamais </span><span class=\"txtu\">tant.</span></span></td></tr>\n",
       "<tr class=\"tf ltr\"><td class=\"tf ltr\">8</td><td class=\"tf ltr\"><span class=\"tfsechead ltr\"><span class=\"ltr\">6 6425:9</span></span></td><td class=\"tf ltr\"><span class=\" ubd\"><span class=\"txtu \"> </span><span class=\"txtu\">Quin </span><span class=\"txtu\">etiam </span><span class=\"txtu\">nullum </span><span class=\"txtu\">ea </span><span class=\"txtu\">de </span><span class=\"txtu\">re </span><span class=\"txtu\">scriptum </span><span class=\"txtu\">peculiare </span><span class=\"txtu\">composui, </span><span class=\"txtu\">sed </span><span class=\"txtu\">obiter </span><span class=\"txtu\">tantum </span><span class=\"txtu\">in </span><span class=\"txtu\">epistola </span><span class=\"txtu\">in </span><span class=\"txtu\">qua </span><span class=\"txtu\">de </span><span class=\"txtu\">Patre </span><span class=\"txtu\">quodam </span><span class=\"txtu\">Societatis </span><span class=\"txtu\">conquerebar, </span><span class=\"txtu\">et </span><span class=\"txtu\">quam </span><span class=\"txtu\">tunc </span><span class=\"txtu\">commodam </span><span class=\"txtu\">sub </span><span class=\"txtu\">praelo </span><span class=\"txtu\">habebam, </span><span class=\"txtu\">paucas </span><span class=\"txtu\">de </span><span class=\"txtu\">illo </span><span class=\"txtu\">paginas </span><span class=\"txtu\">inserui. </span></span></td></tr>\n",
       "<tr class=\"tf ltr\"><td class=\"tf ltr\">9</td><td class=\"tf ltr\"><span class=\"tfsechead ltr\"><span class=\"ltr\">7 7601:6</span></span></td><td class=\"tf ltr\"><span class=\" ubd\"><span class=\"txtu \"> </span><span class=\"txtu\">Lorsque </span><span class=\"txtu\">l'</span><span class=\"txtu\">écriture </span><span class=\"txtu\">sainte </span><span class=\"txtu\">parle </span><span class=\"txtu\">en </span><span class=\"txtu\">divers </span><span class=\"txtu\">endroits </span><span class=\"txtu\">de </span><span class=\"txtu\">la </span><span class=\"txtu\">multitude </span><span class=\"txtu\">innombrable </span><span class=\"txtu\">des </span><span class=\"txtu\">Anges, </span><span class=\"txtu\">elle </span><span class=\"txtu\">confirme </span><span class=\"txtu\">entièrement </span><span class=\"txtu\">cette </span><span class=\"txtu\">opinion: </span><span class=\"txtu\">car </span><span class=\"txtu\">nous </span><span class=\"txtu\">jugeons </span><span class=\"txtu\">que </span><span class=\"txtu\">les </span><span class=\"txtu\">moindres </span><span class=\"txtu\">Anges </span><span class=\"txtu\">sont </span><span class=\"txtu\">incomparablement </span><span class=\"txtu\">plus </span><span class=\"txtu\">parfaits </span><span class=\"txtu\">que </span><span class=\"txtu\">les </span><span class=\"txtu\">hommes. </span></span></td></tr>\n",
       "<tr class=\"tf ltr\"><td class=\"tf ltr\">10</td><td class=\"tf ltr\"><span class=\"tfsechead ltr\"><span class=\"ltr\">8 8650:3</span></span></td><td class=\"tf ltr\"><span class=\" ubd\"><span class=\"txtu \"> </span><span class=\"txtu \"> </span><span class=\"txtu\">Cependant </span><span class=\"txtu\">je </span><span class=\"txtu\">puis </span><span class=\"txtu\">vous </span><span class=\"txtu\">assurer </span><span class=\"txtu\">que </span><span class=\"txtu\">cette </span><span class=\"txtu\">Princesse, </span><span class=\"txtu\">qui </span><span class=\"txtu\">n'</span><span class=\"txtu\">estime </span><span class=\"txtu\">rien </span><span class=\"txtu\">au </span><span class=\"txtu\">monde </span><span class=\"txtu\">que </span><span class=\"txtu\">la </span><span class=\"txtu\">vérité </span><span class=\"txtu\">et </span><span class=\"txtu\">la </span><span class=\"txtu\">vertu, </span><span class=\"txtu\">fait </span><span class=\"txtu\">un </span><span class=\"txtu\">grand </span><span class=\"txtu\">jugement </span><span class=\"txtu\">de </span><span class=\"txtu\">vous </span><span class=\"txtu\">pour </span><span class=\"txtu\">l'</span><span class=\"txtu\">amour </span><span class=\"txtu\">de </span><span class=\"txtu\">l'</span><span class=\"txtu\">une </span><span class=\"txtu\">et </span><span class=\"txtu\">de </span><span class=\"txtu\">l'</span><span class=\"txtu\">autre. </span></span></td></tr></table>"
      ],
      "text/plain": [
       "<IPython.core.display.HTML object>"
      ]
     },
     "metadata": {},
     "output_type": "display_data"
    }
   ],
   "source": [
    "A.table(results)"
   ]
  },
  {
   "cell_type": "markdown",
   "id": "8faefe5b-a4d7-4066-946e-7781511ca93f",
   "metadata": {},
   "source": [
    "In front of each result you see the volume number, letter id, and paragraph number of the result."
   ]
  },
  {
   "cell_type": "markdown",
   "id": "9976d9ba-be60-42ab-90f4-0d0122352007",
   "metadata": {},
   "source": [
    "## Figures\n",
    "\n",
    "Let's look for all sentences with an illustration in it."
   ]
  },
  {
   "cell_type": "code",
   "execution_count": 7,
   "id": "4269b0ee-87fe-46e1-bd99-3e62dd64d692",
   "metadata": {},
   "outputs": [],
   "source": [
    "query = \"\"\"\n",
    "sentence\n",
    "  figure\n",
    "\"\"\""
   ]
  },
  {
   "cell_type": "code",
   "execution_count": 8,
   "id": "d791e8e9-9dd6-4443-bd6f-75a225f74cdb",
   "metadata": {},
   "outputs": [
    {
     "name": "stdout",
     "output_type": "stream",
     "text": [
      "  0.00s 319 results\n"
     ]
    }
   ],
   "source": [
    "results = A.search(query)"
   ]
  },
  {
   "cell_type": "code",
   "execution_count": 9,
   "id": "99de2119-7e2b-4f5b-b18a-eb04b9aff5bf",
   "metadata": {},
   "outputs": [
    {
     "data": {
      "text/html": [
       "<table><tr class=\"tf ltr\"><th class=\"tf ltr\">n</th><th class=\"tf ltr\">p</th><th class=\"tf ltr\">sentence</th><th class=\"tf\">figure</th></tr>\n",
       "<tr class=\"tf ltr\"><td class=\"tf ltr\">1</td><td class=\"tf ltr\"><span class=\"tfsechead ltr\"><span class=\"ltr\">1 1001:4</span></span></td><td class=\"tf ltr\"><span class=\" ubd\"><span class=\"txtu \"> </span><span class=\"txtu\">Unum </span><span class=\"txtu\">autem </span><span class=\"txtu\">est, </span><span class=\"txtu\">quod, </span><span class=\"txtu\">opinor, </span><span class=\"txtu\">non </span><span class=\"txtu\">satis </span><span class=\"txtu\">meditate </span><span class=\"txtu\">scripsisti: </span><span class=\"txtu\">nempe </span><span class=\"txtu\">omnes </span><span class=\"txtu\">saltus </span><span class=\"txtu\">in </span><span class=\"txtu\">unicâ </span><span class=\"txtu\">voce </span><span class=\"txtu\">fieri </span><span class=\"plain   hlbx\" ><span class=\"txtu \"> </span> <img src=\"illustrations/illustration-682563.gif\" style=\"display: inline;\" /><span class=\"txtu\"> </span></span><span class=\"txtu\"> </span><span class=\"txtu\">per </span><span class=\"txtu\">consonantias </span><span class=\"txtu\">exactas. </span></span></td><td class=\"tf ltr\"><span class=\" ubd\"><span class=\"plain   hlbx\" ><span class=\"txtu \"> </span> <img src=\"illustrations/illustration-682563.gif\" style=\"display: inline;\" /><span class=\"txtu\"> </span></span></span></td></tr>\n",
       "<tr class=\"tf ltr\"><td class=\"tf ltr\">2</td><td class=\"tf ltr\"><span class=\"tfsechead ltr\"><span class=\"ltr\">1 1002:3</span></span></td><td class=\"tf ltr\"><span class=\" ubd\"><span class=\"txtu \"> </span><span class=\"txtu\">Atque </span><span class=\"txtu\">hac </span><span class=\"txtu\">arte </span><span class=\"txtu\">quadruplo </span><span class=\"txtu\">plures </span><span class=\"txtu\">quaestiones </span><span class=\"txtu\">et </span><span class=\"txtu\">longe </span><span class=\"txtu\">difficiliores </span><span class=\"txtu\">solvi </span><span class=\"txtu\">poterunt, </span><span class=\"txtu\">quàm </span><span class=\"txtu\">communi </span><span class=\"txtu\">Algebrâ; </span><span class=\"txtu\">13 </span><span class=\"txtu\">enim </span><span class=\"txtu\">diversa </span><span class=\"txtu\">genera </span><span class=\"txtu\">aequationum </span><span class=\"txtu\">cubicarum </span><span class=\"txtu\">numero, </span><span class=\"txtu\">qualia </span><span class=\"txtu\">tantùm </span><span class=\"txtu\">sunt </span><span class=\"txtu\">tria </span><span class=\"txtu\">aequationum </span><span class=\"txtu\">communium: </span><span class=\"txtu\">nempe </span><span class=\"txtu\">inter </span><span class=\"txtu \"> </span><span class=\"txtu\">1</span><span class=\"plain   hlbx\" ><span class=\"txtu \"> </span> <img src=\"illustrations/symbol-682564.png\" style=\"display: inline;\" /><span class=\"txtu\"> </span></span><span class=\"txtu\"> </span><span class=\"txtu\">et </span><span class=\"txtu \"> </span><span class=\"txtu\">O</span><span class=\"txtu \"> </span> <img src=\"illustrations/symbol-682565.png\" style=\"display: inline;\" /><span class=\"txtu\"> </span><span class=\"txtu\"> + ON</span><span class=\"txtu\">, </span><span class=\"txtu\">vel </span><span class=\"txtu \"> </span><span class=\"txtu\">O</span><span class=\"txtu \"> </span> <img src=\"illustrations/symbol-682566.png\" style=\"display: inline;\" /><span class=\"txtu\"> </span><span class=\"txtu\"> − ON</span><span class=\"txtu\">,\n",
       "</span><span class=\"txtu\">vel </span><span class=\"txtu\">denique </span><span class=\"txtu \"> </span><span class=\"txtu\">ON − O</span><span class=\"txtu \"> </span> <img src=\"illustrations/symbol-682567.png\" style=\"display: inline;\" /><span class=\"txtu\"> </span><span class=\"txtu\">. </span><span class=\"txtu\">Aliud </span><span class=\"txtu\">est </span><span class=\"txtu\">quod </span><span class=\"txtu\">jam </span><span class=\"txtu\">quaero </span><span class=\"txtu\">de </span><span class=\"txtu\">radi</span><span class=\"txtu\">cibus </span><span class=\"txtu\">simul </span><span class=\"txtu\">ex </span><span class=\"txtu\">pluribus </span><span class=\"txtu\">variis </span><span class=\"txtu\">nominibus </span><span class=\"txtu\">compositis </span><span class=\"txtu\">extrahendis; </span><span class=\"txtu\">quod </span><span class=\"txtu\">si </span><span class=\"txtu\">reperero, </span><span class=\"txtu\">ut </span><span class=\"txtu\">spero, </span><span class=\"txtu\">scientiam </span><span class=\"txtu\">illam </span><span class=\"txtu\">plane </span><span class=\"txtu\">digeram </span><span class=\"txtu\">in </span><span class=\"txtu\">ordinem, </span><span class=\"txtu\">si </span><span class=\"txtu\">desidiam </span><span class=\"txtu\">innatam </span><span class=\"txtu\">possim </span><span class=\"txtu\">vincere, </span><span class=\"txtu\">et </span><span class=\"txtu\">fata </span><span class=\"txtu\">liberam </span><span class=\"txtu\">vitam </span><span class=\"txtu\">indulgeant.</span></span></td><td class=\"tf ltr\"><span class=\" ubd\"><span class=\"plain   hlbx\" ><span class=\"txtu \"> </span> <img src=\"illustrations/symbol-682564.png\" style=\"display: inline;\" /><span class=\"txtu\"> </span></span></span></td></tr>\n",
       "<tr class=\"tf ltr\"><td class=\"tf ltr\">3</td><td class=\"tf ltr\"><span class=\"tfsechead ltr\"><span class=\"ltr\">1 1002:3</span></span></td><td class=\"tf ltr\"><span class=\" ubd\"><span class=\"txtu \"> </span><span class=\"txtu\">Atque </span><span class=\"txtu\">hac </span><span class=\"txtu\">arte </span><span class=\"txtu\">quadruplo </span><span class=\"txtu\">plures </span><span class=\"txtu\">quaestiones </span><span class=\"txtu\">et </span><span class=\"txtu\">longe </span><span class=\"txtu\">difficiliores </span><span class=\"txtu\">solvi </span><span class=\"txtu\">poterunt, </span><span class=\"txtu\">quàm </span><span class=\"txtu\">communi </span><span class=\"txtu\">Algebrâ; </span><span class=\"txtu\">13 </span><span class=\"txtu\">enim </span><span class=\"txtu\">diversa </span><span class=\"txtu\">genera </span><span class=\"txtu\">aequationum </span><span class=\"txtu\">cubicarum </span><span class=\"txtu\">numero, </span><span class=\"txtu\">qualia </span><span class=\"txtu\">tantùm </span><span class=\"txtu\">sunt </span><span class=\"txtu\">tria </span><span class=\"txtu\">aequationum </span><span class=\"txtu\">communium: </span><span class=\"txtu\">nempe </span><span class=\"txtu\">inter </span><span class=\"txtu \"> </span><span class=\"txtu\">1</span><span class=\"txtu \"> </span> <img src=\"illustrations/symbol-682564.png\" style=\"display: inline;\" /><span class=\"txtu\"> </span><span class=\"txtu\"> </span><span class=\"txtu\">et </span><span class=\"txtu \"> </span><span class=\"txtu\">O</span><span class=\"plain   hlbx\" ><span class=\"txtu \"> </span> <img src=\"illustrations/symbol-682565.png\" style=\"display: inline;\" /><span class=\"txtu\"> </span></span><span class=\"txtu\"> + ON</span><span class=\"txtu\">, </span><span class=\"txtu\">vel </span><span class=\"txtu \"> </span><span class=\"txtu\">O</span><span class=\"txtu \"> </span> <img src=\"illustrations/symbol-682566.png\" style=\"display: inline;\" /><span class=\"txtu\"> </span><span class=\"txtu\"> − ON</span><span class=\"txtu\">,\n",
       "</span><span class=\"txtu\">vel </span><span class=\"txtu\">denique </span><span class=\"txtu \"> </span><span class=\"txtu\">ON − O</span><span class=\"txtu \"> </span> <img src=\"illustrations/symbol-682567.png\" style=\"display: inline;\" /><span class=\"txtu\"> </span><span class=\"txtu\">. </span><span class=\"txtu\">Aliud </span><span class=\"txtu\">est </span><span class=\"txtu\">quod </span><span class=\"txtu\">jam </span><span class=\"txtu\">quaero </span><span class=\"txtu\">de </span><span class=\"txtu\">radi</span><span class=\"txtu\">cibus </span><span class=\"txtu\">simul </span><span class=\"txtu\">ex </span><span class=\"txtu\">pluribus </span><span class=\"txtu\">variis </span><span class=\"txtu\">nominibus </span><span class=\"txtu\">compositis </span><span class=\"txtu\">extrahendis; </span><span class=\"txtu\">quod </span><span class=\"txtu\">si </span><span class=\"txtu\">reperero, </span><span class=\"txtu\">ut </span><span class=\"txtu\">spero, </span><span class=\"txtu\">scientiam </span><span class=\"txtu\">illam </span><span class=\"txtu\">plane </span><span class=\"txtu\">digeram </span><span class=\"txtu\">in </span><span class=\"txtu\">ordinem, </span><span class=\"txtu\">si </span><span class=\"txtu\">desidiam </span><span class=\"txtu\">innatam </span><span class=\"txtu\">possim </span><span class=\"txtu\">vincere, </span><span class=\"txtu\">et </span><span class=\"txtu\">fata </span><span class=\"txtu\">liberam </span><span class=\"txtu\">vitam </span><span class=\"txtu\">indulgeant.</span></span></td><td class=\"tf ltr\"><span class=\" ubd\"><span class=\"plain   hlbx\" ><span class=\"txtu \"> </span> <img src=\"illustrations/symbol-682565.png\" style=\"display: inline;\" /><span class=\"txtu\"> </span></span></span></td></tr></table>"
      ],
      "text/plain": [
       "<IPython.core.display.HTML object>"
      ]
     },
     "metadata": {},
     "output_type": "display_data"
    }
   ],
   "source": [
    "A.table(results, end=3)"
   ]
  },
  {
   "cell_type": "markdown",
   "id": "825f8b50-152d-4dbb-96f8-547d5daf2d53",
   "metadata": {},
   "source": [
    "Note that there are two colums: 1 for the sentence node in each result, and 2 for the figure node in each result.\n",
    "\n",
    "The display of the second column does not add much here, so we can skip it:"
   ]
  },
  {
   "cell_type": "code",
   "execution_count": 10,
   "id": "ae60e09b-042e-4f4e-a3f6-8449e9491842",
   "metadata": {},
   "outputs": [
    {
     "data": {
      "text/html": [
       "<table><tr class=\"tf ltr\"><th class=\"tf ltr\">n</th><th class=\"tf ltr\">p</th><th class=\"tf ltr\">sentence</th><th class=\"tf\">figure</th></tr>\n",
       "<tr class=\"tf ltr\"><td class=\"tf ltr\">1</td><td class=\"tf ltr\"><span class=\"tfsechead ltr\"><span class=\"ltr\">1 1001:4</span></span></td><td class=\"tf ltr\"><span class=\" ubd\"><span class=\"txtu \"> </span><span class=\"txtu\">Unum </span><span class=\"txtu\">autem </span><span class=\"txtu\">est, </span><span class=\"txtu\">quod, </span><span class=\"txtu\">opinor, </span><span class=\"txtu\">non </span><span class=\"txtu\">satis </span><span class=\"txtu\">meditate </span><span class=\"txtu\">scripsisti: </span><span class=\"txtu\">nempe </span><span class=\"txtu\">omnes </span><span class=\"txtu\">saltus </span><span class=\"txtu\">in </span><span class=\"txtu\">unicâ </span><span class=\"txtu\">voce </span><span class=\"txtu\">fieri </span><span class=\"plain   hlbx\" ><span class=\"txtu \"> </span> <img src=\"illustrations/illustration-682563.gif\" style=\"display: inline;\" /><span class=\"txtu\"> </span></span><span class=\"txtu\"> </span><span class=\"txtu\">per </span><span class=\"txtu\">consonantias </span><span class=\"txtu\">exactas. </span></span></td><td class=\"tf ltr\"></td></tr>\n",
       "<tr class=\"tf ltr\"><td class=\"tf ltr\">2</td><td class=\"tf ltr\"><span class=\"tfsechead ltr\"><span class=\"ltr\">1 1002:3</span></span></td><td class=\"tf ltr\"><span class=\" ubd\"><span class=\"txtu \"> </span><span class=\"txtu\">Atque </span><span class=\"txtu\">hac </span><span class=\"txtu\">arte </span><span class=\"txtu\">quadruplo </span><span class=\"txtu\">plures </span><span class=\"txtu\">quaestiones </span><span class=\"txtu\">et </span><span class=\"txtu\">longe </span><span class=\"txtu\">difficiliores </span><span class=\"txtu\">solvi </span><span class=\"txtu\">poterunt, </span><span class=\"txtu\">quàm </span><span class=\"txtu\">communi </span><span class=\"txtu\">Algebrâ; </span><span class=\"txtu\">13 </span><span class=\"txtu\">enim </span><span class=\"txtu\">diversa </span><span class=\"txtu\">genera </span><span class=\"txtu\">aequationum </span><span class=\"txtu\">cubicarum </span><span class=\"txtu\">numero, </span><span class=\"txtu\">qualia </span><span class=\"txtu\">tantùm </span><span class=\"txtu\">sunt </span><span class=\"txtu\">tria </span><span class=\"txtu\">aequationum </span><span class=\"txtu\">communium: </span><span class=\"txtu\">nempe </span><span class=\"txtu\">inter </span><span class=\"txtu \"> </span><span class=\"txtu\">1</span><span class=\"plain   hlbx\" ><span class=\"txtu \"> </span> <img src=\"illustrations/symbol-682564.png\" style=\"display: inline;\" /><span class=\"txtu\"> </span></span><span class=\"txtu\"> </span><span class=\"txtu\">et </span><span class=\"txtu \"> </span><span class=\"txtu\">O</span><span class=\"txtu \"> </span> <img src=\"illustrations/symbol-682565.png\" style=\"display: inline;\" /><span class=\"txtu\"> </span><span class=\"txtu\"> + ON</span><span class=\"txtu\">, </span><span class=\"txtu\">vel </span><span class=\"txtu \"> </span><span class=\"txtu\">O</span><span class=\"txtu \"> </span> <img src=\"illustrations/symbol-682566.png\" style=\"display: inline;\" /><span class=\"txtu\"> </span><span class=\"txtu\"> − ON</span><span class=\"txtu\">,\n",
       "</span><span class=\"txtu\">vel </span><span class=\"txtu\">denique </span><span class=\"txtu \"> </span><span class=\"txtu\">ON − O</span><span class=\"txtu \"> </span> <img src=\"illustrations/symbol-682567.png\" style=\"display: inline;\" /><span class=\"txtu\"> </span><span class=\"txtu\">. </span><span class=\"txtu\">Aliud </span><span class=\"txtu\">est </span><span class=\"txtu\">quod </span><span class=\"txtu\">jam </span><span class=\"txtu\">quaero </span><span class=\"txtu\">de </span><span class=\"txtu\">radi</span><span class=\"txtu\">cibus </span><span class=\"txtu\">simul </span><span class=\"txtu\">ex </span><span class=\"txtu\">pluribus </span><span class=\"txtu\">variis </span><span class=\"txtu\">nominibus </span><span class=\"txtu\">compositis </span><span class=\"txtu\">extrahendis; </span><span class=\"txtu\">quod </span><span class=\"txtu\">si </span><span class=\"txtu\">reperero, </span><span class=\"txtu\">ut </span><span class=\"txtu\">spero, </span><span class=\"txtu\">scientiam </span><span class=\"txtu\">illam </span><span class=\"txtu\">plane </span><span class=\"txtu\">digeram </span><span class=\"txtu\">in </span><span class=\"txtu\">ordinem, </span><span class=\"txtu\">si </span><span class=\"txtu\">desidiam </span><span class=\"txtu\">innatam </span><span class=\"txtu\">possim </span><span class=\"txtu\">vincere, </span><span class=\"txtu\">et </span><span class=\"txtu\">fata </span><span class=\"txtu\">liberam </span><span class=\"txtu\">vitam </span><span class=\"txtu\">indulgeant.</span></span></td><td class=\"tf ltr\"></td></tr>\n",
       "<tr class=\"tf ltr\"><td class=\"tf ltr\">3</td><td class=\"tf ltr\"><span class=\"tfsechead ltr\"><span class=\"ltr\">1 1002:3</span></span></td><td class=\"tf ltr\"><span class=\" ubd\"><span class=\"txtu \"> </span><span class=\"txtu\">Atque </span><span class=\"txtu\">hac </span><span class=\"txtu\">arte </span><span class=\"txtu\">quadruplo </span><span class=\"txtu\">plures </span><span class=\"txtu\">quaestiones </span><span class=\"txtu\">et </span><span class=\"txtu\">longe </span><span class=\"txtu\">difficiliores </span><span class=\"txtu\">solvi </span><span class=\"txtu\">poterunt, </span><span class=\"txtu\">quàm </span><span class=\"txtu\">communi </span><span class=\"txtu\">Algebrâ; </span><span class=\"txtu\">13 </span><span class=\"txtu\">enim </span><span class=\"txtu\">diversa </span><span class=\"txtu\">genera </span><span class=\"txtu\">aequationum </span><span class=\"txtu\">cubicarum </span><span class=\"txtu\">numero, </span><span class=\"txtu\">qualia </span><span class=\"txtu\">tantùm </span><span class=\"txtu\">sunt </span><span class=\"txtu\">tria </span><span class=\"txtu\">aequationum </span><span class=\"txtu\">communium: </span><span class=\"txtu\">nempe </span><span class=\"txtu\">inter </span><span class=\"txtu \"> </span><span class=\"txtu\">1</span><span class=\"txtu \"> </span> <img src=\"illustrations/symbol-682564.png\" style=\"display: inline;\" /><span class=\"txtu\"> </span><span class=\"txtu\"> </span><span class=\"txtu\">et </span><span class=\"txtu \"> </span><span class=\"txtu\">O</span><span class=\"plain   hlbx\" ><span class=\"txtu \"> </span> <img src=\"illustrations/symbol-682565.png\" style=\"display: inline;\" /><span class=\"txtu\"> </span></span><span class=\"txtu\"> + ON</span><span class=\"txtu\">, </span><span class=\"txtu\">vel </span><span class=\"txtu \"> </span><span class=\"txtu\">O</span><span class=\"txtu \"> </span> <img src=\"illustrations/symbol-682566.png\" style=\"display: inline;\" /><span class=\"txtu\"> </span><span class=\"txtu\"> − ON</span><span class=\"txtu\">,\n",
       "</span><span class=\"txtu\">vel </span><span class=\"txtu\">denique </span><span class=\"txtu \"> </span><span class=\"txtu\">ON − O</span><span class=\"txtu \"> </span> <img src=\"illustrations/symbol-682567.png\" style=\"display: inline;\" /><span class=\"txtu\"> </span><span class=\"txtu\">. </span><span class=\"txtu\">Aliud </span><span class=\"txtu\">est </span><span class=\"txtu\">quod </span><span class=\"txtu\">jam </span><span class=\"txtu\">quaero </span><span class=\"txtu\">de </span><span class=\"txtu\">radi</span><span class=\"txtu\">cibus </span><span class=\"txtu\">simul </span><span class=\"txtu\">ex </span><span class=\"txtu\">pluribus </span><span class=\"txtu\">variis </span><span class=\"txtu\">nominibus </span><span class=\"txtu\">compositis </span><span class=\"txtu\">extrahendis; </span><span class=\"txtu\">quod </span><span class=\"txtu\">si </span><span class=\"txtu\">reperero, </span><span class=\"txtu\">ut </span><span class=\"txtu\">spero, </span><span class=\"txtu\">scientiam </span><span class=\"txtu\">illam </span><span class=\"txtu\">plane </span><span class=\"txtu\">digeram </span><span class=\"txtu\">in </span><span class=\"txtu\">ordinem, </span><span class=\"txtu\">si </span><span class=\"txtu\">desidiam </span><span class=\"txtu\">innatam </span><span class=\"txtu\">possim </span><span class=\"txtu\">vincere, </span><span class=\"txtu\">et </span><span class=\"txtu\">fata </span><span class=\"txtu\">liberam </span><span class=\"txtu\">vitam </span><span class=\"txtu\">indulgeant.</span></span></td><td class=\"tf ltr\"></td></tr></table>"
      ],
      "text/plain": [
       "<IPython.core.display.HTML object>"
      ]
     },
     "metadata": {},
     "output_type": "display_data"
    }
   ],
   "source": [
    "A.table(results, end=3, skipCols={2})"
   ]
  },
  {
   "cell_type": "markdown",
   "id": "2d6d6313-88a1-452f-9323-e977013d0d5a",
   "metadata": {},
   "source": [
    "We can make the display richer: instead of a plain table, we can unfold the sentences in the results.\n",
    "We only show the second result:"
   ]
  },
  {
   "cell_type": "code",
   "execution_count": 11,
   "id": "4d5f1536-4194-4c9d-86b1-a3dbd44580db",
   "metadata": {},
   "outputs": [
    {
     "data": {
      "text/html": [
       "<p><b>result</b> <i>2</i>"
      ],
      "text/plain": [
       "<IPython.core.display.HTML object>"
      ]
     },
     "metadata": {},
     "output_type": "display_data"
    },
    {
     "data": {
      "text/html": [
       "<div class=\"tfsechead \"><span class=\"ltr\">1 1002:3</span></div><div class=\" children\"><div class=\"contnr c1    \" ><div class=\"lbl c1  \" ><span class=\"nd\">sentence</span> <span class=\"txtu\"><span title=\"n\">4</span></span></div><div class=\"children hor wrap \"><div class=\"contnr c0 trm   \" ><div class=\"lbl c0 trm \" ><span class=\"txtu\">Atque </span></div></div><div class=\"contnr c0 trm   \" ><div class=\"lbl c0 trm \" ><span class=\"txtu\">hac </span></div></div><div class=\"contnr c0 trm   \" ><div class=\"lbl c0 trm \" ><span class=\"txtu\">arte </span></div></div><div class=\"contnr c0 trm   \" ><div class=\"lbl c0 trm \" ><span class=\"txtu\">quadruplo </span></div></div><div class=\"contnr c0 trm   \" ><div class=\"lbl c0 trm \" ><span class=\"txtu\">plures </span></div></div><div class=\"contnr c0 trm   \" ><div class=\"lbl c0 trm \" ><span class=\"txtu\">quaestiones </span></div></div><div class=\"contnr c0 trm   \" ><div class=\"lbl c0 trm \" ><span class=\"txtu\">et </span></div></div><div class=\"contnr c0 trm   \" ><div class=\"lbl c0 trm \" ><span class=\"txtu\">longe </span></div></div><div class=\"contnr c0 trm   \" ><div class=\"lbl c0 trm \" ><span class=\"txtu\">difficiliores </span></div></div><div class=\"contnr c0 trm   \" ><div class=\"lbl c0 trm \" ><span class=\"txtu\">solvi </span></div></div><div class=\"contnr c0 trm   \" ><div class=\"lbl c0 trm \" ><span class=\"txtu\">poterunt, </span></div></div><div class=\"contnr c0 trm   \" ><div class=\"lbl c0 trm \" ><span class=\"txtu\">quàm </span></div></div><div class=\"contnr c0 trm   \" ><div class=\"lbl c0 trm \" ><span class=\"txtu\">communi </span></div></div><div class=\"contnr c0 trm   \" ><div class=\"lbl c0 trm \" ><span class=\"txtu\">Algebrâ; </span></div></div><div class=\"contnr c0 trm   \" ><div class=\"lbl c0 trm \" ><span class=\"txtu\">13 </span></div></div><div class=\"contnr c0 trm   \" ><div class=\"lbl c0 trm \" ><span class=\"txtu\">enim </span></div></div><div class=\"contnr c0 trm   \" ><div class=\"lbl c0 trm \" ><span class=\"txtu\">diversa </span></div></div><div class=\"contnr c0 trm   \" ><div class=\"lbl c0 trm \" ><span class=\"txtu\">genera </span></div></div><div class=\"contnr c0 trm   \" ><div class=\"lbl c0 trm \" ><span class=\"txtu\">aequationum </span></div></div><div class=\"contnr c0 trm   \" ><div class=\"lbl c0 trm \" ><span class=\"txtu\">cubicarum </span></div></div><div class=\"contnr c0 trm   \" ><div class=\"lbl c0 trm \" ><span class=\"txtu\">numero, </span></div></div><div class=\"contnr c0 trm   \" ><div class=\"lbl c0 trm \" ><span class=\"txtu\">qualia </span></div></div><div class=\"contnr c0 trm   \" ><div class=\"lbl c0 trm \" ><span class=\"txtu\">tantùm </span></div></div><div class=\"contnr c0 trm   \" ><div class=\"lbl c0 trm \" ><span class=\"txtu\">sunt </span></div></div><div class=\"contnr c0 trm   \" ><div class=\"lbl c0 trm \" ><span class=\"txtu\">tria </span></div></div><div class=\"contnr c0 trm   \" ><div class=\"lbl c0 trm \" ><span class=\"txtu\">aequationum </span></div></div><div class=\"contnr c0 trm   \" ><div class=\"lbl c0 trm \" ><span class=\"txtu\">communium: </span></div></div><div class=\"contnr c0 trm   \" ><div class=\"lbl c0 trm \" ><span class=\"txtu\">nempe </span></div></div><div class=\"contnr c0 trm   \" ><div class=\"lbl c0 trm \" ><span class=\"txtu\">inter </span></div></div><div class=\"contnr c1    \" ><div class=\"lbl c1  \" ><span class=\"nd\">formula</span> <span class=\"txtu\"><span title=\"notation\"></span></span></div><div class=\"children hor wrap \"><div class=\"contnr c0 trm   \" ><div class=\"lbl c0 trm \" ><span class=\"txtu\">1</span></div></div><div class=\"contnr c1    hl\" ><div class=\"lbl c1  hl\" ><span class=\"nd\">figure</span></div><div><img src=\"illustrations/symbol-682564.png\" style=\"display: inline;\" /></div><div class=\"children hor wrap \"><div class=\"contnr c0 trm   \" ><div class=\"lbl c0 trm \" ><span class=\"txtu\"> </span></div></div></div></div></div></div><div class=\"contnr c0 trm   \" ><div class=\"lbl c0 trm \" ><span class=\"txtu\"> </span></div></div><div class=\"contnr c0 trm   \" ><div class=\"lbl c0 trm \" ><span class=\"txtu\">et </span></div></div><div class=\"contnr c1    \" ><div class=\"lbl c1  \" ><span class=\"nd\">formula</span> <span class=\"txtu\"><span title=\"notation\"></span></span></div><div class=\"children hor wrap \"><div class=\"contnr c0 trm   \" ><div class=\"lbl c0 trm \" ><span class=\"txtu\">O</span></div></div><div class=\"contnr c1    \" ><div class=\"lbl c1  \" ><span class=\"nd\">figure</span></div><div><img src=\"illustrations/symbol-682565.png\" style=\"display: inline;\" /></div><div class=\"children hor wrap \"><div class=\"contnr c0 trm   \" ><div class=\"lbl c0 trm \" ><span class=\"txtu\"> </span></div></div></div></div><div class=\"contnr c0 trm   \" ><div class=\"lbl c0 trm \" ><span class=\"txtu\"> + ON</span></div></div></div></div><div class=\"contnr c0 trm   \" ><div class=\"lbl c0 trm \" ><span class=\"txtu\">, </span></div></div><div class=\"contnr c0 trm   \" ><div class=\"lbl c0 trm \" ><span class=\"txtu\">vel </span></div></div><div class=\"contnr c1    \" ><div class=\"lbl c1  \" ><span class=\"nd\">formula</span> <span class=\"txtu\"><span title=\"notation\"></span></span></div><div class=\"children hor wrap \"><div class=\"contnr c0 trm   \" ><div class=\"lbl c0 trm \" ><span class=\"txtu\">O</span></div></div><div class=\"contnr c1    \" ><div class=\"lbl c1  \" ><span class=\"nd\">figure</span></div><div><img src=\"illustrations/symbol-682566.png\" style=\"display: inline;\" /></div><div class=\"children hor wrap \"><div class=\"contnr c0 trm   \" ><div class=\"lbl c0 trm \" ><span class=\"txtu\"> </span></div></div></div></div><div class=\"contnr c0 trm   \" ><div class=\"lbl c0 trm \" ><span class=\"txtu\"> − ON</span></div></div></div></div><div class=\"contnr c0 trm   \" ><div class=\"lbl c0 trm \" ><span class=\"txtu\">,\n",
       "</span></div></div><div class=\"contnr c0 trm   \" ><div class=\"lbl c0 trm \" ><span class=\"txtu\">vel </span></div></div><div class=\"contnr c0 trm   \" ><div class=\"lbl c0 trm \" ><span class=\"txtu\">denique </span></div></div><div class=\"contnr c1    \" ><div class=\"lbl c1  \" ><span class=\"nd\">formula</span> <span class=\"txtu\"><span title=\"notation\"></span></span></div><div class=\"children hor wrap \"><div class=\"contnr c0 trm   \" ><div class=\"lbl c0 trm \" ><span class=\"txtu\">ON − O</span></div></div><div class=\"contnr c1    \" ><div class=\"lbl c1  \" ><span class=\"nd\">figure</span></div><div><img src=\"illustrations/symbol-682567.png\" style=\"display: inline;\" /></div><div class=\"children hor wrap \"><div class=\"contnr c0 trm   \" ><div class=\"lbl c0 trm \" ><span class=\"txtu\"> </span></div></div></div></div></div></div><div class=\"contnr c0 trm   \" ><div class=\"lbl c0 trm \" ><span class=\"txtu\">. </span></div></div><div class=\"contnr c0 trm   \" ><div class=\"lbl c0 trm \" ><span class=\"txtu\">Aliud </span></div></div><div class=\"contnr c0 trm   \" ><div class=\"lbl c0 trm \" ><span class=\"txtu\">est </span></div></div><div class=\"contnr c0 trm   \" ><div class=\"lbl c0 trm \" ><span class=\"txtu\">quod </span></div></div><div class=\"contnr c0 trm   \" ><div class=\"lbl c0 trm \" ><span class=\"txtu\">jam </span></div></div><div class=\"contnr c0 trm   \" ><div class=\"lbl c0 trm \" ><span class=\"txtu\">quaero </span></div></div><div class=\"contnr c0 trm   \" ><div class=\"lbl c0 trm \" ><span class=\"txtu\">de </span></div></div><div class=\"contnr c0 trm   \" ><div class=\"lbl c0 trm \" ><span class=\"txtu\">radi</span></div></div><div class=\"contnr c0 trm   \" ><div class=\"lbl c0 trm \" ><span class=\"txtu\">cibus </span></div></div><div class=\"contnr c0 trm   \" ><div class=\"lbl c0 trm \" ><span class=\"txtu\">simul </span></div></div><div class=\"contnr c0 trm   \" ><div class=\"lbl c0 trm \" ><span class=\"txtu\">ex </span></div></div><div class=\"contnr c0 trm   \" ><div class=\"lbl c0 trm \" ><span class=\"txtu\">pluribus </span></div></div><div class=\"contnr c0 trm   \" ><div class=\"lbl c0 trm \" ><span class=\"txtu\">variis </span></div></div><div class=\"contnr c0 trm   \" ><div class=\"lbl c0 trm \" ><span class=\"txtu\">nominibus </span></div></div><div class=\"contnr c0 trm   \" ><div class=\"lbl c0 trm \" ><span class=\"txtu\">compositis </span></div></div><div class=\"contnr c0 trm   \" ><div class=\"lbl c0 trm \" ><span class=\"txtu\">extrahendis; </span></div></div><div class=\"contnr c0 trm   \" ><div class=\"lbl c0 trm \" ><span class=\"txtu\">quod </span></div></div><div class=\"contnr c0 trm   \" ><div class=\"lbl c0 trm \" ><span class=\"txtu\">si </span></div></div><div class=\"contnr c0 trm   \" ><div class=\"lbl c0 trm \" ><span class=\"txtu\">reperero, </span></div></div><div class=\"contnr c0 trm   \" ><div class=\"lbl c0 trm \" ><span class=\"txtu\">ut </span></div></div><div class=\"contnr c0 trm   \" ><div class=\"lbl c0 trm \" ><span class=\"txtu\">spero, </span></div></div><div class=\"contnr c0 trm   \" ><div class=\"lbl c0 trm \" ><span class=\"txtu\">scientiam </span></div></div><div class=\"contnr c0 trm   \" ><div class=\"lbl c0 trm \" ><span class=\"txtu\">illam </span></div></div><div class=\"contnr c0 trm   \" ><div class=\"lbl c0 trm \" ><span class=\"txtu\">plane </span></div></div><div class=\"contnr c0 trm   \" ><div class=\"lbl c0 trm \" ><span class=\"txtu\">digeram </span></div></div><div class=\"contnr c0 trm   \" ><div class=\"lbl c0 trm \" ><span class=\"txtu\">in </span></div></div><div class=\"contnr c0 trm   \" ><div class=\"lbl c0 trm \" ><span class=\"txtu\">ordinem, </span></div></div><div class=\"contnr c0 trm   \" ><div class=\"lbl c0 trm \" ><span class=\"txtu\">si </span></div></div><div class=\"contnr c0 trm   \" ><div class=\"lbl c0 trm \" ><span class=\"txtu\">desidiam </span></div></div><div class=\"contnr c0 trm   \" ><div class=\"lbl c0 trm \" ><span class=\"txtu\">innatam </span></div></div><div class=\"contnr c0 trm   \" ><div class=\"lbl c0 trm \" ><span class=\"txtu\">possim </span></div></div><div class=\"contnr c0 trm   \" ><div class=\"lbl c0 trm \" ><span class=\"txtu\">vincere, </span></div></div><div class=\"contnr c0 trm   \" ><div class=\"lbl c0 trm \" ><span class=\"txtu\">et </span></div></div><div class=\"contnr c0 trm   \" ><div class=\"lbl c0 trm \" ><span class=\"txtu\">fata </span></div></div><div class=\"contnr c0 trm   \" ><div class=\"lbl c0 trm \" ><span class=\"txtu\">liberam </span></div></div><div class=\"contnr c0 trm   \" ><div class=\"lbl c0 trm \" ><span class=\"txtu\">vitam </span></div></div><div class=\"contnr c0 trm   \" ><div class=\"lbl c0 trm \" ><span class=\"txtu\">indulgeant.</span></div></div></div></div></div>"
      ],
      "text/plain": [
       "<IPython.core.display.HTML object>"
      ]
     },
     "metadata": {},
     "output_type": "display_data"
    }
   ],
   "source": [
    "A.show(results, start=2, end=2)"
   ]
  },
  {
   "cell_type": "markdown",
   "id": "6f4def1a-f87a-4f82-a537-0e3fadbcd6a1",
   "metadata": {},
   "source": [
    "# Formulas\n",
    "\n",
    "Now let's look for formulas that have a square root in them.\n",
    "\n",
    "Note that in TeX a square root is written as `\\sqrt`.\n",
    "\n",
    "The TeX source of a formula is contained in the `tex` feature of a formula node, provided\n",
    "the formula is written in TeX. Not all formulas are written in TeX."
   ]
  },
  {
   "cell_type": "code",
   "execution_count": 12,
   "id": "b9a91170-0cd7-4ecc-b6cb-5b4fb08f7f05",
   "metadata": {},
   "outputs": [],
   "source": [
    "query = \"\"\"\n",
    "sentence\n",
    "  formula tex~sqrt\n",
    "\"\"\""
   ]
  },
  {
   "cell_type": "code",
   "execution_count": 13,
   "id": "0c638c11-2064-4c91-b359-81ac6562b251",
   "metadata": {},
   "outputs": [
    {
     "name": "stdout",
     "output_type": "stream",
     "text": [
      "  0.01s 54 results\n"
     ]
    }
   ],
   "source": [
    "results = A.search(query)"
   ]
  },
  {
   "cell_type": "code",
   "execution_count": 14,
   "id": "331153b5-2783-4b65-a161-28f157a0382b",
   "metadata": {},
   "outputs": [
    {
     "data": {
      "text/html": [
       "<table><tr class=\"tf ltr\"><th class=\"tf ltr\">n</th><th class=\"tf ltr\">p</th><th class=\"tf ltr\">sentence</th><th class=\"tf\">formula</th></tr>\n",
       "<tr class=\"tf ltr\"><td class=\"tf ltr\">1</td><td class=\"tf ltr\"><span class=\"tfsechead ltr\"><span class=\"ltr\">2 2152:4</span></span></td><td class=\"tf ltr\"><span class=\" ubd\"><span class=\"txtu \"> </span><span class=\"txtu\">Or </span><span class=\"txtu\">par </span><span class=\"txtu\">cette </span><span class=\"txtu\">seule </span><span class=\"txtu\">équation </span><span class=\"txtu\">de </span><span class=\"txtu\">la </span><span class=\"txtu\">page </span><span class=\"txtu\">326, </span><span class=\"txtu\">à </span><span class=\"txtu\">savoir: </span><span class=\"txtu \"> </span><span class=\"txtu\">y</span><span class=\"txtu\"> </span><span class=\"txtu \"> </span><span class=\"txtu \"> </span> <img src=\"illustrations/symbol-682671.png\" style=\"display: inline;\" /><span class=\"txtu\"> </span><span class=\"txtu\"> </span><span class=\"plain   hlbx\" ><span class=\"txtu \"> </span><span class=\"txtu\">${\\rm m} - {{\\displaystyle\\strut {\\rm n}\\over \\displaystyle\\strut {\\rm z}}}{\\rm x} + \\sqrt{{\\rm mm} + {\\rm ox} - {{\\displaystyle\\strut {\\rm p}\\over \\displaystyle\\strut {\\rm m}}}{\\rm xx}}$</span></span><span class=\"txtu\">,$\n",
       "</span><span class=\"txtu\">en </span><span class=\"txtu\">changeant </span><span class=\"txtu\">seulement </span><span class=\"txtu\">les </span><span class=\"txtu\">marques + </span><span class=\"txtu\">et -, </span><span class=\"txtu\">ou </span><span class=\"txtu\">supposant </span><span class=\"txtu\">quelques </span><span class=\"txtu\">termes </span><span class=\"txtu\">pour </span><span class=\"txtu\">nuls, </span><span class=\"txtu\">je </span><span class=\"txtu\">comprends </span><span class=\"txtu\">toutes </span><span class=\"txtu\">celles </span><span class=\"txtu\">qui </span><span class=\"txtu\"> </span><span class=\"txtu\">peuvent </span><span class=\"txtu\">se </span><span class=\"txtu\">rapporter </span><span class=\"txtu\">à </span><span class=\"txtu\">quelque </span><span class=\"txtu\">lieu </span><span class=\"txtu\">plan </span><span class=\"txtu\">ou </span><span class=\"txtu\">solide. </span></span></td><td class=\"tf ltr\"></td></tr>\n",
       "<tr class=\"tf ltr\"><td class=\"tf ltr\">2</td><td class=\"tf ltr\"><span class=\"tfsechead ltr\"><span class=\"ltr\">3 3174:14</span></span></td><td class=\"tf ltr\"><span class=\" ubd\"><span class=\"txtu \"> </span><span class=\"txtu\">Je </span><span class=\"txtu\">cherche </span><span class=\"txtu\">la </span><span class=\"txtu\">tangente </span><span class=\"txtu \"> </span><span class=\"txtu\">FE</span><span class=\"txtu\"> </span><span class=\"txtu\">ou </span><span class=\"txtu \"> </span><span class=\"txtu\">CB</span><span class=\"txtu\"> </span><span class=\"txtu\">parallèle </span><span class=\"txtu\">au </span><span class=\"txtu\">diamètre </span><span class=\"txtu \"> </span><span class=\"txtu\">AK</span><span class=\"txtu\">, </span><span class=\"txtu \"> </span> <img src=\"illustrations/illustration-682719.gif\" style=\"display: inline;\" /><span class=\"txtu\"> </span><span class=\"txtu\"> </span><span class=\"txtu\">posant </span><span class=\"txtu\">que </span><span class=\"txtu\">la </span><span class=\"txtu\">propriété </span><span class=\"txtu\">de </span><span class=\"txtu\">cette </span><span class=\"txtu\">courbe </span><span class=\"txtu\">est </span><span class=\"txtu\">telle </span><span class=\"txtu\">que, </span><span class=\"txtu\">menant </span><span class=\"txtu \"> </span><span class=\"txtu\">FG</span><span class=\"txtu\"> </span><span class=\"txtu\">à </span><span class=\"txtu\">angles </span><span class=\"txtu\">droits </span><span class=\"txtu\">sur </span><span class=\"txtu \"> </span><span class=\"txtu\">AH</span><span class=\"txtu\">, </span><span class=\"txtu\">l'</span><span class=\"txtu\">agrégat </span><span class=\"txtu\">des </span><span class=\"txtu\">cubes </span><span class=\"txtu\">de </span><span class=\"txtu \"> </span><span class=\"txtu\">FG</span><span class=\"txtu\"> </span><span class=\"txtu\">et </span><span class=\"txtu \"> </span><span class=\"txtu\">AG</span><span class=\"txtu\"> </span><span class=\"txtu\">est </span><span class=\"txtu\">égal </span><span class=\"txtu\">au </span><span class=\"txtu\">parallélipipède </span><span class=\"txtu\">des </span><span class=\"txtu\">mêmes </span><span class=\"txtu \"> </span><span class=\"txtu\">FG</span><span class=\"txtu\"> </span><span class=\"txtu\">et </span><span class=\"txtu \"> </span><span class=\"txtu\">AG</span><span class=\"txtu\">, </span><span class=\"txtu\">et </span><span class=\"txtu\">d'</span><span class=\"txtu\">une </span><span class=\"txtu\">autre </span><span class=\"txtu\">ligne </span><span class=\"txtu\">donnée </span><span class=\"txtu\">qui </span><span class=\"txtu\">est </span><span class=\"txtu\">double </span><span class=\"txtu\">d'</span><span class=\"txtu \"> </span><span class=\"txtu\">AH</span><span class=\"txtu\">.\n",
       "</span><span class=\"txtu\">Et </span><span class=\"txtu\">je </span><span class=\"txtu\">fais </span><span class=\"txtu \"> </span><span class=\"txtu\">AG = x</span><span class=\"txtu\">, </span><span class=\"txtu \"> </span><span class=\"txtu\">GF = y</span><span class=\"txtu\"> </span><span class=\"txtu\">et </span><span class=\"txtu\">le </span><span class=\"txtu\">double </span><span class=\"txtu\">d'</span><span class=\"txtu \"> </span><span class=\"txtu\">AH = </span><span class=\"txtu \"> </span><span class=\"txtu \"> </span><span class=\"txtu\">n</span><span class=\"txtu\"> </span><span class=\"txtu\">d'</span><span class=\"txtu\">où </span><span class=\"txtu\">j'</span><span class=\"txtu\">ai </span><span class=\"txtu \"> </span><span class=\"txtu \"> </span><span class=\"txtu\">x</span><span class=\"txtu \"> </span><span class=\"txtu \"> </span><span class=\"txtu\">3</span><span class=\"txtu \"> </span><span class=\"txtu\"> + </span><span class=\"txtu \"> </span><span class=\"txtu \"> </span><span class=\"txtu\">y</span><span class=\"txtu \"> </span><span class=\"txtu \"> </span><span class=\"txtu\">3</span><span class=\"txtu \"> </span><span class=\"txtu\"> = </span><span class=\"txtu \"> </span><span class=\"txtu \"> </span><span class=\"txtu\">xyn</span><span class=\"txtu\"> </span><span class=\"txtu\">Puis </span><span class=\"txtu\">je </span><span class=\"txtu\">fais </span><span class=\"txtu \"> </span><span class=\"txtu\">AE =</span><span class=\"txtu\"> </span><span class=\"txtu \"> </span><span class=\"txtu\">v</span><span class=\"txtu\"> </span><span class=\"txtu\">de </span><span class=\"txtu\">façon </span><span class=\"txtu\">que </span><span class=\"txtu \"> </span><span class=\"txtu\">EG</span><span class=\"txtu\"> </span><span class=\"txtu\">est </span><span class=\"txtu \"> </span><span class=\"txtu \"> </span><span class=\"txtu\">x</span><span class=\"txtu \"> </span><span class=\"txtu\"> − </span><span class=\"txtu \"> </span><span class=\"txtu \"> </span><span class=\"txtu\">v</span><span class=\"txtu\"> </span><span class=\"txtu\">et </span><span class=\"txtu\">parce </span><span class=\"txtu\">que </span><span class=\"txtu\">l'</span><span class=\"txtu\">angle </span><span class=\"txtu \"> </span><span class=\"txtu\">EFG</span><span class=\"txtu\"> </span><span class=\"txtu\">est </span><span class=\"txtu\">de </span><span class=\"txtu\">45 </span><span class=\"txtu\">degrés, </span><span class=\"txtu \"> </span><span class=\"txtu\">GF</span><span class=\"txtu\"> </span><span class=\"txtu\">est </span><span class=\"txtu\">aussi </span><span class=\"txtu \"> </span><span class=\"txtu \"> </span><span class=\"txtu\">x</span><span class=\"txtu \"> </span><span class=\"txtu\"> − </span><span class=\"txtu \"> </span><span class=\"txtu \"> </span><span class=\"txtu\">v</span><span class=\"txtu\"> </span><span class=\"txtu\">ce </span><span class=\"txtu\">que </span><span class=\"txtu\">je </span><span class=\"txtu\">substitue, </span><span class=\"txtu\">au </span><span class=\"txtu\">lieu </span><span class=\"txtu\">d'</span><span class=\"txtu \"> </span><span class=\"txtu \"> </span><span class=\"txtu\">y</span><span class=\"txtu\">, </span><span class=\"txtu\">en </span><span class=\"txtu\">l'</span><span class=\"txtu\">équation </span><span class=\"txtu\">précédente, </span><span class=\"txtu\">et </span><span class=\"txtu\">au </span><span class=\"txtu\">lieu </span><span class=\"txtu\">de </span><span class=\"txtu \"> </span><span class=\"txtu \"> </span><span class=\"txtu\">y</span><span class=\"txtu \"> </span><span class=\"txtu \"> </span><span class=\"txtu\">3</span><span class=\"txtu\"> </span><span class=\"txtu\">je </span><span class=\"txtu\">substitue </span><span class=\"txtu\">son </span><span class=\"txtu\">cube, </span><span class=\"txtu\">qui </span><span class=\"txtu\">est </span><span class=\"txtu \"> </span><span class=\"txtu \"> </span><span class=\"txtu\">x</span><span class=\"txtu \"> </span><span class=\"txtu \"> </span><span class=\"txtu\">3</span><span class=\"txtu \"> </span><span class=\"txtu\"> − 3</span><span class=\"txtu \"> </span><span class=\"txtu \"> </span><span class=\"txtu\">vxx</span><span class=\"txtu \"> </span><span class=\"txtu\"> + 3</span><span class=\"txtu \"> </span><span class=\"txtu \"> </span><span class=\"txtu\">vvx</span><span class=\"txtu \"> </span><span class=\"txtu\"> − </span><span class=\"txtu \"> </span><span class=\"txtu \"> </span><span class=\"txtu\">v</span><span class=\"txtu \"> </span><span class=\"txtu \"> </span><span class=\"txtu\">3</span><span class=\"txtu\"> </span><span class=\"txtu\">si </span><span class=\"txtu\">bien </span><span class=\"txtu\">que </span><span class=\"txtu\">j'</span><span class=\"txtu\">ai </span><span class=\"txtu\">pour </span><span class=\"txtu\">mon </span><span class=\"txtu\">équation </span><span class=\"txtu \"> </span><span class=\"txtu\">2</span><span class=\"txtu \"> </span><span class=\"txtu \"> </span><span class=\"txtu\">x</span><span class=\"txtu \"> </span><span class=\"txtu \"> </span><span class=\"txtu\">3</span><span class=\"txtu \"> </span><span class=\"txtu\"> − 3</span><span class=\"txtu \"> </span><span class=\"txtu \"> </span><span class=\"txtu\">vxx</span><span class=\"txtu \"> </span><span class=\"txtu\"> + 3</span><span class=\"txtu \"> </span><span class=\"txtu \"> </span><span class=\"txtu\">vvx</span><span class=\"txtu \"> </span><span class=\"txtu\"> − </span><span class=\"txtu \"> </span><span class=\"txtu \"> </span><span class=\"txtu\">v</span><span class=\"txtu \"> </span><span class=\"txtu \"> </span><span class=\"txtu\">3</span><span class=\"txtu \"> </span><span class=\"txtu\"> = </span><span class=\"txtu \"> </span><span class=\"txtu \"> </span><span class=\"txtu\">nxx</span><span class=\"txtu \"> </span><span class=\"txtu\"> − </span><span class=\"txtu \"> </span><span class=\"txtu \"> </span><span class=\"txtu\">nvx</span><span class=\"txtu\"> </span><span class=\"txtu\">ce </span><span class=\"txtu\">que </span><span class=\"txtu\">je </span><span class=\"txtu\">compare </span><span class=\"txtu\">avec </span><span class=\"txtu \"> </span><span class=\"txtu \"> </span><span class=\"txtu\">xx</span><span class=\"txtu \"> </span><span class=\"txtu\"> − 2</span><span class=\"txtu \"> </span><span class=\"txtu \"> </span><span class=\"txtu\">ex</span><span class=\"txtu \"> </span><span class=\"txtu\"> + </span><span class=\"txtu \"> </span><span class=\"txtu \"> </span><span class=\"txtu\">ee</span><span class=\"txtu \"> </span><span class=\"txtu\"> = 0</span><span class=\"txtu\"> </span><span class=\"txtu\">multiplié </span><span class=\"txtu\">par </span><span class=\"txtu \"> </span><span class=\"txtu\">2</span><span class=\"txtu \"> </span><span class=\"txtu \"> </span><span class=\"txtu\">x</span><span class=\"txtu \"> </span><span class=\"txtu\"> − 2</span><span class=\"txtu \"> </span><span class=\"txtu \"> </span><span class=\"txtu\">f</span><span class=\"txtu \"> </span><span class=\"txtu\"> = 0</span><span class=\"txtu\"> </span><span class=\"txtu\">et </span><span class=\"txtu\">j'</span><span class=\"txtu\">ai </span><span class=\"txtu \"> </span><span class=\"txtu\">2</span><span class=\"txtu \"> </span><span class=\"txtu \"> </span><span class=\"txtu\">x</span><span class=\"txtu \"> </span><span class=\"txtu \"> </span><span class=\"txtu\">3</span><span class=\"txtu \"> </span><span class=\"txtu\"> − 4</span><span class=\"txtu \"> </span><span class=\"txtu \"> </span><span class=\"txtu\">exx</span><span class=\"txtu \"> </span><span class=\"txtu\"> + 2</span><span class=\"txtu \"> </span><span class=\"txtu \"> </span><span class=\"txtu\">eex</span><span class=\"txtu \"> </span><span class=\"txtu\">\n",
       "− 2</span><span class=\"txtu \"> </span><span class=\"txtu \"> </span><span class=\"txtu\">fxx</span><span class=\"txtu \"> </span><span class=\"txtu\"> + 4</span><span class=\"txtu \"> </span><span class=\"txtu \"> </span><span class=\"txtu\">efx</span><span class=\"txtu \"> </span><span class=\"txtu\"> − 2</span><span class=\"txtu \"> </span><span class=\"txtu \"> </span><span class=\"txtu\">eef</span><span class=\"txtu \"> </span><span class=\"txtu\"> = 0</span><span class=\"txtu\"> </span><span class=\"txtu\">de </span><span class=\"txtu\">même </span><span class=\"txtu\">forme </span><span class=\"txtu\">que </span><span class=\"txtu \"> </span><span class=\"txtu\">2</span><span class=\"txtu \"> </span><span class=\"txtu \"> </span><span class=\"txtu\">x</span><span class=\"txtu \"> </span><span class=\"txtu \"> </span><span class=\"txtu\">3</span><span class=\"txtu \"> </span><span class=\"txtu\"> − 3</span><span class=\"txtu \"> </span><span class=\"txtu \"> </span><span class=\"txtu\">vxx</span><span class=\"txtu \"> </span><span class=\"txtu\"> + 3</span><span class=\"txtu \"> </span><span class=\"txtu \"> </span><span class=\"txtu\">vvx</span><span class=\"txtu \"> </span><span class=\"txtu\"> − </span><span class=\"txtu \"> </span><span class=\"txtu \"> </span><span class=\"txtu\">v</span><span class=\"txtu \"> </span><span class=\"txtu \"> </span><span class=\"txtu\">3</span><span class=\"txtu \"> </span><span class=\"txtu\"> = 0 \n",
       "− </span><span class=\"txtu \"> </span><span class=\"txtu \"> </span><span class=\"txtu\">nxx</span><span class=\"txtu \"> </span><span class=\"txtu\"> + </span><span class=\"txtu \"> </span><span class=\"txtu \"> </span><span class=\"txtu\">nvx</span><span class=\"txtu\">. \n",
       "</span><span class=\"txtu\">Et </span><span class=\"txtu\">les </span><span class=\"txtu\">termes </span><span class=\"txtu\">multipliés </span><span class=\"txtu\">par </span><span class=\"txtu \"> </span><span class=\"txtu \"> </span><span class=\"txtu\">xx</span><span class=\"txtu\"> </span><span class=\"txtu\">me </span><span class=\"txtu\">donnent </span><span class=\"txtu \"> </span><span class=\"txtu\">2</span><span class=\"txtu \"> </span><span class=\"txtu \"> </span><span class=\"txtu\">f</span><span class=\"txtu \"> </span><span class=\"txtu\"> = 3</span><span class=\"txtu \"> </span><span class=\"txtu \"> </span><span class=\"txtu\">v</span><span class=\"txtu \"> </span><span class=\"txtu\"> + </span><span class=\"txtu \"> </span><span class=\"txtu \"> </span><span class=\"txtu\">n</span><span class=\"txtu \"> </span><span class=\"txtu\"> − 4</span><span class=\"txtu \"> </span><span class=\"txtu \"> </span><span class=\"txtu\">e</span><span class=\"txtu\"> </span><span class=\"txtu\"> </span><span class=\"txtu\">Puis </span><span class=\"txtu\">les </span><span class=\"txtu\">termes </span><span class=\"txtu\">multipliés </span><span class=\"txtu\">par </span><span class=\"txtu \"> </span><span class=\"txtu \"> </span><span class=\"txtu\">x</span><span class=\"txtu\"> </span><span class=\"txtu\">me </span><span class=\"txtu\">donnent </span><span class=\"txtu \"> </span><span class=\"txtu\">6</span><span class=\"txtu \"> </span><span class=\"txtu \"> </span><span class=\"txtu\">ev</span><span class=\"txtu \"> </span><span class=\"txtu\"> + 2</span><span class=\"txtu \"> </span><span class=\"txtu \"> </span><span class=\"txtu\">en</span><span class=\"txtu \"> </span><span class=\"txtu\"> − 6</span><span class=\"txtu \"> </span><span class=\"txtu \"> </span><span class=\"txtu\">ee</span><span class=\"txtu \"> </span><span class=\"txtu\"> = 3</span><span class=\"txtu \"> </span><span class=\"txtu \"> </span><span class=\"txtu\">vv</span><span class=\"txtu \"> </span><span class=\"txtu\"> + </span><span class=\"txtu \"> </span><span class=\"txtu \"> </span><span class=\"txtu\">nv</span><span class=\"txtu\"> </span><span class=\"txtu\">ou </span><span class=\"txtu\">bien </span><span class=\"txtu \"> </span><span class=\"txtu\">$vv = - {{1\\over 3}}nv + 2ev + {{2\\over 3}}ne - 2ee$</span><span class=\"txtu\"> </span><span class=\"txtu\">c'</span><span class=\"txtu\">est-</span><span class=\"txtu\">à-</span><span class=\"txtu\">dire </span><span class=\"txtu\">à </span><span class=\"txtu\">cause </span><span class=\"txtu\">que </span><span class=\"txtu \"> </span><span class=\"txtu \"> </span><span class=\"txtu\">e</span><span class=\"txtu\"> </span><span class=\"txtu\">est </span><span class=\"txtu\">égal </span><span class=\"txtu\">à </span><span class=\"txtu \"> </span><span class=\"txtu \"> </span><span class=\"txtu\">x</span><span class=\"txtu\">, </span><span class=\"txtu\">que </span><span class=\"txtu \"> </span><span class=\"txtu \"> </span><span class=\"txtu\">v</span><span class=\"txtu\"> </span><span class=\"txtu\">est </span><span class=\"plain   hlbx\" ><span class=\"txtu \"> </span><span class=\"txtu\">$x - {{1\\over 6}}n \\pm  \\sqrt{{{1\\over 36}}nn + {{1\\over 3}}nx - xx}$</span></span><span class=\"txtu\">. \n",
       "</span><span class=\"txtu\">Ce </span><span class=\"txtu\">qui </span><span class=\"txtu\">déterminerait </span><span class=\"txtu\">entièrement </span><span class=\"txtu\">la </span><span class=\"txtu\">tangente </span><span class=\"txtu\">cherchée, </span><span class=\"txtu\">si </span><span class=\"txtu\">la </span><span class=\"txtu\">quantité </span><span class=\"txtu \"> </span><span class=\"txtu \"> </span><span class=\"txtu\">x</span><span class=\"txtu\"> </span><span class=\"txtu\">était </span><span class=\"txtu\">connue; </span><span class=\"txtu\">mais </span><span class=\"txtu\">parce </span><span class=\"txtu\">qu'</span><span class=\"txtu\">elle </span><span class=\"txtu\">ne </span><span class=\"txtu\">l'</span><span class=\"txtu\">est </span><span class=\"txtu\">pas, </span><span class=\"txtu\">il </span><span class=\"txtu\">faut </span><span class=\"txtu\">poursuivre </span><span class=\"txtu\">en </span><span class=\"txtu\">cette </span><span class=\"txtu\">sorte.</span></span></td><td class=\"tf ltr\"></td></tr>\n",
       "<tr class=\"tf ltr\"><td class=\"tf ltr\">3</td><td class=\"tf ltr\"><span class=\"tfsechead ltr\"><span class=\"ltr\">3 3174:15</span></span></td><td class=\"tf ltr\"><span class=\" ubd\"><span class=\"txtu \"> </span><span class=\"txtu\">Puisque </span><span class=\"txtu \"> </span><span class=\"txtu \"> </span><span class=\"txtu\">y</span><span class=\"txtu\"> </span><span class=\"txtu\">est </span><span class=\"txtu\">égal </span><span class=\"txtu\">à </span><span class=\"txtu \"> </span><span class=\"txtu \"> </span><span class=\"txtu\">x</span><span class=\"txtu \"> </span><span class=\"txtu\"> − </span><span class=\"txtu \"> </span><span class=\"txtu \"> </span><span class=\"txtu\">v</span><span class=\"txtu\"> </span><span class=\"txtu\">et </span><span class=\"txtu\">que </span><span class=\"txtu \"> </span><span class=\"txtu \"> </span><span class=\"txtu\">v</span><span class=\"txtu\"> </span><span class=\"txtu\">vient </span><span class=\"txtu\">d'</span><span class=\"txtu\">être </span><span class=\"txtu\">trouvé, </span><span class=\"txtu\">nous </span><span class=\"txtu\">avons </span><span class=\"txtu\">aussi </span><span class=\"plain   hlbx\" ><span class=\"txtu \"> </span><span class=\"txtu\">$y = {{1\\over 6}}n \\pm  \\sqrt{{{1\\over 36}}nn + {{1\\over 3}}nx - xx}$</span></span><span class=\"txtu\"> </span><span class=\"txtu\">ce </span><span class=\"txtu\">qui </span><span class=\"txtu\">étant </span><span class=\"txtu\">substitué </span><span class=\"txtu\">au </span><span class=\"txtu\">lieu </span><span class=\"txtu\">d'</span><span class=\"txtu \"> </span><span class=\"txtu \"> </span><span class=\"txtu\">y</span><span class=\"txtu\">, </span><span class=\"txtu\">et </span><span class=\"txtu\">son </span><span class=\"txtu\">cube </span><span class=\"txtu\">au </span><span class=\"txtu\">lieu </span><span class=\"txtu\">d'</span><span class=\"txtu \"> </span><span class=\"txtu \"> </span><span class=\"txtu\">y</span><span class=\"txtu \"> </span><span class=\"txtu \"> </span><span class=\"txtu\">3</span><span class=\"txtu\"> </span><span class=\"txtu\">en </span><span class=\"txtu\">la </span><span class=\"txtu\">première </span><span class=\"txtu\">équation, </span><span class=\"txtu\">on </span><span class=\"txtu\">trouve </span><span class=\"txtu\">en </span><span class=\"txtu\">la </span><span class=\"txtu\">démêlant </span><span class=\"txtu\">qu'</span><span class=\"txtu\">elle </span><span class=\"txtu\">se </span><span class=\"txtu\">réduit </span><span class=\"txtu\">à </span><span class=\"txtu\">ces </span><span class=\"txtu\">termes: </span><span class=\"txtu \"> </span><span class=\"txtu\">$x^{4}.. - {{1\\over 9}}n^{3}x + {{1\\over 54}}n^{4} = 0$</span><span class=\"txtu\">. \n",
       "</span><span class=\"txtu\">Et </span><span class=\"txtu\">par </span><span class=\"txtu\">la </span><span class=\"txtu\">règle </span><span class=\"txtu\">qui </span><span class=\"txtu\">est </span><span class=\"txtu\">en </span><span class=\"txtu\">ma </span><span class=\"txtu \"> </span><span class=\"txtu\">Géométrie,</span><span class=\"txtu\"> </span><span class=\"txtu\">page </span><span class=\"txtu\">383, </span><span class=\"txtu\">j'</span><span class=\"txtu\">écris </span><span class=\"txtu\">en </span><span class=\"txtu\">leur </span><span class=\"txtu\">place: </span><span class=\"txtu \"> </span><span class=\"txtu\">$z^{6}. - {{2\\over 27}}n^{4}zz - {{1\\over 81}}n^{6} = 0$</span><span class=\"txtu\">. \n",
       "</span><span class=\"txtu\">Puis (</span><span class=\"txtu\">par </span><span class=\"txtu\">la </span><span class=\"txtu\">page </span><span class=\"txtu\">381) </span><span class=\"txtu\">je </span><span class=\"txtu\">trouve </span><span class=\"txtu\">la </span><span class=\"txtu\">valeur </span><span class=\"txtu\">de </span><span class=\"txtu \"> </span><span class=\"txtu \"> </span><span class=\"txtu\">zz</span><span class=\"txtu\">, </span><span class=\"txtu\">qui </span><span class=\"txtu\">est </span><span class=\"txtu \"> </span><span class=\"txtu\">${{1\\over 3}}nn$</span><span class=\"txtu\"> </span><span class=\"txtu\">et </span><span class=\"txtu \"> </span><span class=\"txtu\">$z = n\\sqrt{{{1\\over 3}}}$</span><span class=\"txtu\"> </span><span class=\"txtu\">Au </span><span class=\"txtu\">moyen </span><span class=\"txtu\">de </span><span class=\"txtu\">quoi (</span><span class=\"txtu\">par </span><span class=\"txtu\">la </span><span class=\"txtu\">page </span><span class=\"txtu\">385), </span><span class=\"txtu\">je </span><span class=\"txtu\">divise </span><span class=\"txtu\">l'</span><span class=\"txtu\">équation </span><span class=\"txtu \"> </span><span class=\"txtu\">$x^{4} - {{1\\over 9}}n^{3}x + {{1\\over 54}}n^{4} = 0$</span><span class=\"txtu\"> </span><span class=\"txtu\"> </span><span class=\"txtu\">en </span><span class=\"txtu\">deux </span><span class=\"txtu\">autres </span><span class=\"txtu\">qui </span><span class=\"txtu\">sont </span><span class=\"txtu \"> </span><span class=\"txtu\">$xx - nx\\sqrt{{{1\\over 3}} + {{1\\over 6}}nn} - {\\displaystyle\\strut {nn}\\over \\displaystyle\\strut {6\\sqrt{ 3}}} = 0$</span><span class=\"txtu\"> </span><span class=\"txtu\">et </span><span class=\"txtu \"> </span><span class=\"txtu\">$xx + nx\\sqrt{{{1\\over 3}} + {{1\\over 6}}nn} + {\\displaystyle\\strut {nn}\\over \\displaystyle\\strut {6\\sqrt{ 3}}} = 0$</span><span class=\"txtu\">. \n",
       "</span><span class=\"txtu\">Et </span><span class=\"txtu\">par </span><span class=\"txtu\">la </span><span class=\"txtu\">première </span><span class=\"txtu\">de </span><span class=\"txtu\">ces </span><span class=\"txtu\">deux </span><span class=\"txtu\">équations, </span><span class=\"txtu\">je </span><span class=\"txtu\">connais </span><span class=\"txtu\">la </span><span class=\"txtu\">valeur </span><span class=\"txtu\">d'</span><span class=\"txtu \"> </span><span class=\"txtu \"> </span><span class=\"txtu\">x</span><span class=\"txtu\">, </span><span class=\"txtu\">qui </span><span class=\"txtu\">est </span><span class=\"txtu \"> </span><span class=\"txtu\">$x = n\\sqrt{{{1\\over 12}}} \\pm  \\sqrt{{\\displaystyle\\strut {nn}\\over \\displaystyle\\strut {6\\sqrt{3}}} - {{1\\over 12}}nn}$</span><span class=\"txtu\">. \n",
       "</span><span class=\"txtu\">Enfin, </span><span class=\"txtu\">à </span><span class=\"txtu\">cause </span><span class=\"txtu\">que, </span><span class=\"txtu\">cherchant </span><span class=\"txtu\">en </span><span class=\"txtu\">même </span><span class=\"txtu\">façon </span><span class=\"txtu\">la </span><span class=\"txtu\">ligne </span><span class=\"txtu \"> </span><span class=\"txtu\">AB</span><span class=\"txtu\"> </span><span class=\"txtu\">par </span><span class=\"txtu\">la </span><span class=\"txtu\">tangente </span><span class=\"txtu \"> </span><span class=\"txtu\">CB</span><span class=\"txtu\">, </span><span class=\"txtu\">il </span><span class=\"txtu\">vient </span><span class=\"txtu\">une </span><span class=\"txtu\">équation </span><span class=\"txtu\">toute </span><span class=\"txtu\">semblable, </span><span class=\"txtu\">on </span><span class=\"txtu\">apprend </span><span class=\"txtu\">de </span><span class=\"txtu\">là </span><span class=\"txtu\">que </span><span class=\"txtu\">la </span><span class=\"txtu\">ligne </span><span class=\"txtu \"> </span><span class=\"txtu\">AG</span><span class=\"txtu\"> </span><span class=\"txtu\">est </span><span class=\"txtu \"> </span><span class=\"txtu\">$n\\sqrt{{{1\\over 12}}} + \\sqrt{{\\displaystyle\\strut {nn}\\over \\displaystyle\\strut {6\\sqrt{3}}} - {{1\\over 12}}nn}$</span><span class=\"txtu\"> </span><span class=\"txtu\">et </span><span class=\"txtu\">que </span><span class=\"txtu \"> </span><span class=\"txtu\">AD</span><span class=\"txtu\"> </span><span class=\"txtu\">est </span><span class=\"txtu \"> </span><span class=\"txtu\">$n\\sqrt{{{1\\over 12}}} - \\sqrt{{\\displaystyle\\strut {nn}\\over \\displaystyle\\strut {6\\sqrt{3}}} - {{1\\over 12}}nn}$</span><span class=\"txtu\"> </span><span class=\"txtu\">et </span><span class=\"txtu\">par </span><span class=\"txtu\">conséquent </span><span class=\"txtu\">que </span><span class=\"txtu \"> </span><span class=\"txtu\">DG</span><span class=\"txtu\"> </span><span class=\"txtu\">est </span><span class=\"txtu \"> </span><span class=\"txtu\">$\\sqrt{{\\displaystyle\\strut {2nn}\\over \\displaystyle\\strut {3\\sqrt{3}}} - {{1\\over 3}}nn}$</span><span class=\"txtu\"> </span><span class=\"txtu\">et </span><span class=\"txtu\">que </span><span class=\"txtu \"> </span><span class=\"txtu\">CF</span><span class=\"txtu\"> </span><span class=\"txtu\">est </span><span class=\"txtu \"> </span><span class=\"txtu\">$\\sqrt{{\\displaystyle\\strut {4nn}\\over \\displaystyle\\strut {3\\sqrt{3}}} - {{2\\over 3}}nn}$</span><span class=\"txtu\">. \n",
       "</span><span class=\"txtu\">Ce </span><span class=\"txtu\">qui </span><span class=\"txtu\">est </span><span class=\"txtu\">la </span><span class=\"txtu\">plus </span><span class=\"txtu\">grande </span><span class=\"txtu\">largeur </span><span class=\"txtu\">de </span><span class=\"txtu\">la </span><span class=\"txtu\">feuille </span><span class=\"txtu\">qu'</span><span class=\"txtu\">on </span><span class=\"txtu\">demandait, </span><span class=\"txtu\">en </span><span class=\"txtu\">sorte </span><span class=\"txtu\">que, </span><span class=\"txtu\">si </span><span class=\"txtu\">la </span><span class=\"txtu\">ligne </span><span class=\"txtu \"> </span><span class=\"txtu \"> </span><span class=\"txtu\">n</span><span class=\"txtu\"> </span><span class=\"txtu\">est </span><span class=\"txtu\">9, </span><span class=\"txtu \"> </span><span class=\"txtu\">CF</span><span class=\"txtu\"> </span><span class=\"txtu\">sera </span><span class=\"txtu \"> </span><span class=\"txtu\">$\\sqrt{36\\sqrt{3} - 54}$</span><span class=\"txtu\"> </span><span class=\"txtu\">et </span><span class=\"txtu\">si </span><span class=\"txtu \"> </span><span class=\"txtu \"> </span><span class=\"txtu\">n</span><span class=\"txtu\"> </span><span class=\"txtu\">est </span><span class=\"txtu\">3, </span><span class=\"txtu \"> </span><span class=\"txtu\">CF</span><span class=\"txtu\"> </span><span class=\"txtu\">sera </span><span class=\"txtu \"> </span><span class=\"txtu\">$\\sqrt{4\\sqrt{3} - 6}$</span><span class=\"txtu\"> </span><span class=\"txtu\">et </span><span class=\"txtu\">ainsi </span><span class=\"txtu\">des </span><span class=\"txtu\">autres.</span></span></td><td class=\"tf ltr\"></td></tr></table>"
      ],
      "text/plain": [
       "<IPython.core.display.HTML object>"
      ]
     },
     "metadata": {},
     "output_type": "display_data"
    }
   ],
   "source": [
    "A.table(results, end=3, skipCols={2})"
   ]
  },
  {
   "cell_type": "code",
   "execution_count": 15,
   "id": "cb021654-21c0-435d-bd80-99d1ba02914e",
   "metadata": {},
   "outputs": [
    {
     "data": {
      "text/html": [
       "<p><b>result</b> <i>1</i>"
      ],
      "text/plain": [
       "<IPython.core.display.HTML object>"
      ]
     },
     "metadata": {},
     "output_type": "display_data"
    },
    {
     "data": {
      "text/html": [
       "<div class=\"tfsechead \"><span class=\"ltr\">2 2152:4</span></div><div class=\" children\"><div class=\"contnr c1    \" ><div class=\"lbl c1  \" ><span class=\"nd\">sentence</span> <span class=\"txtu\"><span title=\"n\">9</span></span></div><div class=\"children hor wrap \"><div class=\"contnr c0 trm   \" ><div class=\"lbl c0 trm \" ><span class=\"txtu\">Or </span></div></div><div class=\"contnr c0 trm   \" ><div class=\"lbl c0 trm \" ><span class=\"txtu\">par </span></div></div><div class=\"contnr c0 trm   \" ><div class=\"lbl c0 trm \" ><span class=\"txtu\">cette </span></div></div><div class=\"contnr c0 trm   \" ><div class=\"lbl c0 trm \" ><span class=\"txtu\">seule </span></div></div><div class=\"contnr c0 trm   \" ><div class=\"lbl c0 trm \" ><span class=\"txtu\">équation </span></div></div><div class=\"contnr c0 trm   \" ><div class=\"lbl c0 trm \" ><span class=\"txtu\">de </span></div></div><div class=\"contnr c0 trm   \" ><div class=\"lbl c0 trm \" ><span class=\"txtu\">la </span></div></div><div class=\"contnr c0 trm   \" ><div class=\"lbl c0 trm \" ><span class=\"txtu\">page </span></div></div><div class=\"contnr c0 trm   \" ><div class=\"lbl c0 trm \" ><span class=\"txtu\">326, </span></div></div><div class=\"contnr c0 trm   \" ><div class=\"lbl c0 trm \" ><span class=\"txtu\">à </span></div></div><div class=\"contnr c0 trm   \" ><div class=\"lbl c0 trm \" ><span class=\"txtu\">savoir: </span></div></div><div class=\"contnr c1    \" ><div class=\"lbl c1  \" ><span class=\"nd\">formula</span> <span class=\"txtu\"><span title=\"notation\"></span></span></div><div class=\"children hor wrap \"><div class=\"contnr c0 trm   \" ><div class=\"lbl c0 trm \" ><span class=\"txtu\">y</span></div></div></div></div><div class=\"contnr c0 trm   \" ><div class=\"lbl c0 trm \" ><span class=\"txtu\"> </span></div></div><div class=\"contnr c1    \" ><div class=\"lbl c1  \" ><span class=\"nd\">formula</span> <span class=\"txtu\"><span title=\"notation\"></span></span></div><div class=\"children hor wrap \"><div class=\"contnr c1    \" ><div class=\"lbl c1  \" ><span class=\"nd\">figure</span></div><div><img src=\"illustrations/symbol-682671.png\" style=\"display: inline;\" /></div><div class=\"children hor wrap \"><div class=\"contnr c0 trm   \" ><div class=\"lbl c0 trm \" ><span class=\"txtu\"> </span></div></div></div></div></div></div><div class=\"contnr c0 trm   \" ><div class=\"lbl c0 trm \" ><span class=\"txtu\"> </span></div></div><div class=\"contnr c1    hl\" ><div class=\"lbl c1  hl\" ><span class=\"nd\">formula</span> <span class=\"txtu\"><span title=\"notation\">TeX</span></span></div><div class='features'><span class=\"tex xft\" ><span class=\"f\">tex=</span>{\\rm m} - {{\\displaystyle\\strut {\\rm n}\\over \\displaystyle\\strut {\\rm z}}}{\\rm x} + \\sqrt{{\\rm mm} + {\\rm ox} - {{\\displaystyle\\strut {\\rm p}\\over \\displaystyle\\strut {\\rm m}}}{\\rm xx}}</span></div><div class=\"children hor wrap \"><div class=\"contnr c0 trm   \" ><div class=\"lbl c0 trm \" ><span class=\"txtu\">${\\rm m} - {{\\displaystyle\\strut {\\rm n}\\over \\displaystyle\\strut {\\rm z}}}{\\rm x} + \\sqrt{{\\rm mm} + {\\rm ox} - {{\\displaystyle\\strut {\\rm p}\\over \\displaystyle\\strut {\\rm m}}}{\\rm xx}}$</span></div></div></div></div><div class=\"contnr c0 trm   \" ><div class=\"lbl c0 trm \" ><span class=\"txtu\">,$\n",
       "</span></div></div><div class=\"contnr c0 trm   \" ><div class=\"lbl c0 trm \" ><span class=\"txtu\">en </span></div></div><div class=\"contnr c0 trm   \" ><div class=\"lbl c0 trm \" ><span class=\"txtu\">changeant </span></div></div><div class=\"contnr c0 trm   \" ><div class=\"lbl c0 trm \" ><span class=\"txtu\">seulement </span></div></div><div class=\"contnr c0 trm   \" ><div class=\"lbl c0 trm \" ><span class=\"txtu\">les </span></div></div><div class=\"contnr c0 trm   \" ><div class=\"lbl c0 trm \" ><span class=\"txtu\">marques + </span></div></div><div class=\"contnr c0 trm   \" ><div class=\"lbl c0 trm \" ><span class=\"txtu\">et -, </span></div></div><div class=\"contnr c0 trm   \" ><div class=\"lbl c0 trm \" ><span class=\"txtu\">ou </span></div></div><div class=\"contnr c0 trm   \" ><div class=\"lbl c0 trm \" ><span class=\"txtu\">supposant </span></div></div><div class=\"contnr c0 trm   \" ><div class=\"lbl c0 trm \" ><span class=\"txtu\">quelques </span></div></div><div class=\"contnr c0 trm   \" ><div class=\"lbl c0 trm \" ><span class=\"txtu\">termes </span></div></div><div class=\"contnr c0 trm   \" ><div class=\"lbl c0 trm \" ><span class=\"txtu\">pour </span></div></div><div class=\"contnr c0 trm   \" ><div class=\"lbl c0 trm \" ><span class=\"txtu\">nuls, </span></div></div><div class=\"contnr c0 trm   \" ><div class=\"lbl c0 trm \" ><span class=\"txtu\">je </span></div></div><div class=\"contnr c0 trm   \" ><div class=\"lbl c0 trm \" ><span class=\"txtu\">comprends </span></div></div><div class=\"contnr c0 trm   \" ><div class=\"lbl c0 trm \" ><span class=\"txtu\">toutes </span></div></div><div class=\"contnr c0 trm   \" ><div class=\"lbl c0 trm \" ><span class=\"txtu\">celles </span></div></div><div class=\"contnr c0 trm   \" ><div class=\"lbl c0 trm \" ><span class=\"txtu\">qui </span></div></div><div class=\"contnr c0 trm   \" ><div class=\"lbl c0 trm \" ><span class=\"txtu\"> </span></div></div><div class=\"contnr c0 trm   \" ><div class=\"lbl c0 trm \" ><span class=\"txtu\">peuvent </span></div></div><div class=\"contnr c0 trm   \" ><div class=\"lbl c0 trm \" ><span class=\"txtu\">se </span></div></div><div class=\"contnr c0 trm   \" ><div class=\"lbl c0 trm \" ><span class=\"txtu\">rapporter </span></div></div><div class=\"contnr c0 trm   \" ><div class=\"lbl c0 trm \" ><span class=\"txtu\">à </span></div></div><div class=\"contnr c0 trm   \" ><div class=\"lbl c0 trm \" ><span class=\"txtu\">quelque </span></div></div><div class=\"contnr c0 trm   \" ><div class=\"lbl c0 trm \" ><span class=\"txtu\">lieu </span></div></div><div class=\"contnr c0 trm   \" ><div class=\"lbl c0 trm \" ><span class=\"txtu\">plan </span></div></div><div class=\"contnr c0 trm   \" ><div class=\"lbl c0 trm \" ><span class=\"txtu\">ou </span></div></div><div class=\"contnr c0 trm   \" ><div class=\"lbl c0 trm \" ><span class=\"txtu\">solide. </span></div></div></div></div></div>"
      ],
      "text/plain": [
       "<IPython.core.display.HTML object>"
      ]
     },
     "metadata": {},
     "output_type": "display_data"
    }
   ],
   "source": [
    "A.show(results, end=1)"
   ]
  },
  {
   "cell_type": "markdown",
   "id": "9a70cab4-9316-46cd-beb5-66edd63f4a58",
   "metadata": {},
   "source": [
    "We can get rid of the TeX codes.\n",
    "\n",
    "We see them because our query mentioned the feature `tex`, but we can turn that off (showing the 3rd result only)"
   ]
  },
  {
   "cell_type": "code",
   "execution_count": 16,
   "id": "028d28df-ff81-4e47-b904-974749c69ee2",
   "metadata": {},
   "outputs": [
    {
     "data": {
      "text/html": [
       "<p><b>sentence</b> <i>1</i>"
      ],
      "text/plain": [
       "<IPython.core.display.HTML object>"
      ]
     },
     "metadata": {},
     "output_type": "display_data"
    },
    {
     "data": {
      "text/html": [
       "<div class=\"tfsechead \"><span class=\"ltr\">2 2152:4</span></div><div class=\" children\"><div class=\"contnr c1    \" ><div class=\"lbl c1  \" ><span class=\"nd\">sentence</span> <span class=\"txtu\"><span title=\"n\">9</span></span></div><div class=\"children hor wrap \"><div class=\"contnr c0 trm   \" ><div class=\"lbl c0 trm \" ><span class=\"txtu\">Or </span></div></div><div class=\"contnr c0 trm   \" ><div class=\"lbl c0 trm \" ><span class=\"txtu\">par </span></div></div><div class=\"contnr c0 trm   \" ><div class=\"lbl c0 trm \" ><span class=\"txtu\">cette </span></div></div><div class=\"contnr c0 trm   \" ><div class=\"lbl c0 trm \" ><span class=\"txtu\">seule </span></div></div><div class=\"contnr c0 trm   \" ><div class=\"lbl c0 trm \" ><span class=\"txtu\">équation </span></div></div><div class=\"contnr c0 trm   \" ><div class=\"lbl c0 trm \" ><span class=\"txtu\">de </span></div></div><div class=\"contnr c0 trm   \" ><div class=\"lbl c0 trm \" ><span class=\"txtu\">la </span></div></div><div class=\"contnr c0 trm   \" ><div class=\"lbl c0 trm \" ><span class=\"txtu\">page </span></div></div><div class=\"contnr c0 trm   \" ><div class=\"lbl c0 trm \" ><span class=\"txtu\">326, </span></div></div><div class=\"contnr c0 trm   \" ><div class=\"lbl c0 trm \" ><span class=\"txtu\">à </span></div></div><div class=\"contnr c0 trm   \" ><div class=\"lbl c0 trm \" ><span class=\"txtu\">savoir: </span></div></div><div class=\"contnr c1    \" ><div class=\"lbl c1  \" ><span class=\"nd\">formula</span> <span class=\"txtu\"><span title=\"notation\"></span></span></div><div class=\"children hor wrap \"><div class=\"contnr c0 trm   \" ><div class=\"lbl c0 trm \" ><span class=\"txtu\">y</span></div></div></div></div><div class=\"contnr c0 trm   \" ><div class=\"lbl c0 trm \" ><span class=\"txtu\"> </span></div></div><div class=\"contnr c1    \" ><div class=\"lbl c1  \" ><span class=\"nd\">formula</span> <span class=\"txtu\"><span title=\"notation\"></span></span></div><div class=\"children hor wrap \"><div class=\"contnr c1    \" ><div class=\"lbl c1  \" ><span class=\"nd\">figure</span></div><div><img src=\"illustrations/symbol-682671.png\" style=\"display: inline;\" /></div><div class=\"children hor wrap \"><div class=\"contnr c0 trm   \" ><div class=\"lbl c0 trm \" ><span class=\"txtu\"> </span></div></div></div></div></div></div><div class=\"contnr c0 trm   \" ><div class=\"lbl c0 trm \" ><span class=\"txtu\"> </span></div></div><div class=\"contnr c1    hl\" ><div class=\"lbl c1  hl\" ><span class=\"nd\">formula</span> <span class=\"txtu\"><span title=\"notation\">TeX</span></span></div><div class=\"children hor wrap \"><div class=\"contnr c0 trm   \" ><div class=\"lbl c0 trm \" ><span class=\"txtu\">${\\rm m} - {{\\displaystyle\\strut {\\rm n}\\over \\displaystyle\\strut {\\rm z}}}{\\rm x} + \\sqrt{{\\rm mm} + {\\rm ox} - {{\\displaystyle\\strut {\\rm p}\\over \\displaystyle\\strut {\\rm m}}}{\\rm xx}}$</span></div></div></div></div><div class=\"contnr c0 trm   \" ><div class=\"lbl c0 trm \" ><span class=\"txtu\">,$\n",
       "</span></div></div><div class=\"contnr c0 trm   \" ><div class=\"lbl c0 trm \" ><span class=\"txtu\">en </span></div></div><div class=\"contnr c0 trm   \" ><div class=\"lbl c0 trm \" ><span class=\"txtu\">changeant </span></div></div><div class=\"contnr c0 trm   \" ><div class=\"lbl c0 trm \" ><span class=\"txtu\">seulement </span></div></div><div class=\"contnr c0 trm   \" ><div class=\"lbl c0 trm \" ><span class=\"txtu\">les </span></div></div><div class=\"contnr c0 trm   \" ><div class=\"lbl c0 trm \" ><span class=\"txtu\">marques + </span></div></div><div class=\"contnr c0 trm   \" ><div class=\"lbl c0 trm \" ><span class=\"txtu\">et -, </span></div></div><div class=\"contnr c0 trm   \" ><div class=\"lbl c0 trm \" ><span class=\"txtu\">ou </span></div></div><div class=\"contnr c0 trm   \" ><div class=\"lbl c0 trm \" ><span class=\"txtu\">supposant </span></div></div><div class=\"contnr c0 trm   \" ><div class=\"lbl c0 trm \" ><span class=\"txtu\">quelques </span></div></div><div class=\"contnr c0 trm   \" ><div class=\"lbl c0 trm \" ><span class=\"txtu\">termes </span></div></div><div class=\"contnr c0 trm   \" ><div class=\"lbl c0 trm \" ><span class=\"txtu\">pour </span></div></div><div class=\"contnr c0 trm   \" ><div class=\"lbl c0 trm \" ><span class=\"txtu\">nuls, </span></div></div><div class=\"contnr c0 trm   \" ><div class=\"lbl c0 trm \" ><span class=\"txtu\">je </span></div></div><div class=\"contnr c0 trm   \" ><div class=\"lbl c0 trm \" ><span class=\"txtu\">comprends </span></div></div><div class=\"contnr c0 trm   \" ><div class=\"lbl c0 trm \" ><span class=\"txtu\">toutes </span></div></div><div class=\"contnr c0 trm   \" ><div class=\"lbl c0 trm \" ><span class=\"txtu\">celles </span></div></div><div class=\"contnr c0 trm   \" ><div class=\"lbl c0 trm \" ><span class=\"txtu\">qui </span></div></div><div class=\"contnr c0 trm   \" ><div class=\"lbl c0 trm \" ><span class=\"txtu\"> </span></div></div><div class=\"contnr c0 trm   \" ><div class=\"lbl c0 trm \" ><span class=\"txtu\">peuvent </span></div></div><div class=\"contnr c0 trm   \" ><div class=\"lbl c0 trm \" ><span class=\"txtu\">se </span></div></div><div class=\"contnr c0 trm   \" ><div class=\"lbl c0 trm \" ><span class=\"txtu\">rapporter </span></div></div><div class=\"contnr c0 trm   \" ><div class=\"lbl c0 trm \" ><span class=\"txtu\">à </span></div></div><div class=\"contnr c0 trm   \" ><div class=\"lbl c0 trm \" ><span class=\"txtu\">quelque </span></div></div><div class=\"contnr c0 trm   \" ><div class=\"lbl c0 trm \" ><span class=\"txtu\">lieu </span></div></div><div class=\"contnr c0 trm   \" ><div class=\"lbl c0 trm \" ><span class=\"txtu\">plan </span></div></div><div class=\"contnr c0 trm   \" ><div class=\"lbl c0 trm \" ><span class=\"txtu\">ou </span></div></div><div class=\"contnr c0 trm   \" ><div class=\"lbl c0 trm \" ><span class=\"txtu\">solide. </span></div></div></div></div></div>"
      ],
      "text/plain": [
       "<IPython.core.display.HTML object>"
      ]
     },
     "metadata": {},
     "output_type": "display_data"
    }
   ],
   "source": [
    "A.show(results, end=1, condensed=True, queryFeatures=False)"
   ]
  },
  {
   "cell_type": "markdown",
   "id": "5d89b91b-dc66-4cc8-aec7-43e4a2765164",
   "metadata": {},
   "source": [
    "## Formulas without TeX\n",
    "\n",
    "We gather the formulas not written in TeX:"
   ]
  },
  {
   "cell_type": "code",
   "execution_count": 17,
   "id": "398e1c5f-01f2-41d8-9317-ab73dd1f4ce1",
   "metadata": {},
   "outputs": [
    {
     "name": "stdout",
     "output_type": "stream",
     "text": [
      "  0.01s 5981 results\n"
     ]
    }
   ],
   "source": [
    "query = \"\"\"\n",
    "formula notation#TeX\n",
    "\"\"\"\n",
    "\n",
    "results = A.search(query)"
   ]
  },
  {
   "cell_type": "markdown",
   "id": "6df9780c-8aef-40ff-b474-7939e7bc6425",
   "metadata": {},
   "source": [
    "The majority is not written in TeX, let's sample a few:"
   ]
  },
  {
   "cell_type": "code",
   "execution_count": 18,
   "id": "90250c53-9231-4a76-87ab-94c2df23284a",
   "metadata": {},
   "outputs": [
    {
     "data": {
      "text/html": [
       "<table><tr class=\"tf ltr\"><th class=\"tf ltr\">n</th><th class=\"tf ltr\">p</th><th class=\"tf ltr\">formula</th></tr>\n",
       "<tr class=\"tf ltr\"><td class=\"tf ltr\">1</td><td class=\"tf ltr\"><span class=\"tfsechead ltr\"><span class=\"ltr\">7 7538:6</span></span></td><td class=\"tf ltr\"><span class=\" ubd\"><span class=\"plain   hlbx\" ><span class=\"txtu \"> </span><span class=\"txtu\">IN</span></span></span></td></tr>\n",
       "<tr class=\"tf ltr\"><td class=\"tf ltr\">2</td><td class=\"tf ltr\"><span class=\"tfsechead ltr\"><span class=\"ltr\">2 2122:12</span></span></td><td class=\"tf ltr\"><span class=\" ubd\"><span class=\"plain   hlbx\" ><span class=\"txtu \"> </span><span class=\"txtu\">G</span></span></span></td></tr>\n",
       "<tr class=\"tf ltr\"><td class=\"tf ltr\">3</td><td class=\"tf ltr\"><span class=\"tfsechead ltr\"><span class=\"ltr\">1 1020:7</span></span></td><td class=\"tf ltr\"><span class=\" ubd\"><span class=\"plain   hlbx\" ><span class=\"txtu \"> </span><span class=\"txtu\">ZZ</span></span></span></td></tr>\n",
       "<tr class=\"tf ltr\"><td class=\"tf ltr\">4</td><td class=\"tf ltr\"><span class=\"tfsechead ltr\"><span class=\"ltr\">2 2164:25</span></span></td><td class=\"tf ltr\"><span class=\" ubd\"><span class=\"plain   hlbx\" ><span class=\"txtu \"> </span><span class=\"txtu\">GR</span></span></span></td></tr>\n",
       "<tr class=\"tf ltr\"><td class=\"tf ltr\">5</td><td class=\"tf ltr\"><span class=\"tfsechead ltr\"><span class=\"ltr\">2 2159:5</span></span></td><td class=\"tf ltr\"><span class=\" ubd\"><span class=\"plain   hlbx\" ><span class=\"txtu \"> </span><span class=\"txtu\">g</span></span></span></td></tr>\n",
       "<tr class=\"tf ltr\"><td class=\"tf ltr\">6</td><td class=\"tf ltr\"><span class=\"tfsechead ltr\"><span class=\"ltr\">2 2156:9</span></span></td><td class=\"tf ltr\"><span class=\" ubd\"><span class=\"plain   hlbx\" ><span class=\"txtu \"> </span><span class=\"txtu\">C</span><span class=\"txtu\"> </span><span class=\"txtu\">in</span><span class=\"txtu\"> </span><span class=\"txtu\">A</span><span class=\"txtu\"> + </span><span class=\"txtu\">C</span><span class=\"txtu\"> </span><span class=\"txtu\">in</span><span class=\"txtu\"> </span><span class=\"txtu\">E</span><span class=\"txtu\"> − </span><span class=\"txtu\">Aq</span><span class=\"txtu\"> − </span><span class=\"txtu\">A</span><span class=\"txtu\"> </span><span class=\"txtu\">in</span><span class=\"txtu\"> </span><span class=\"txtu\">E</span><span class=\"txtu\"> </span><span class=\"txtu\">bis</span><span class=\"txtu\"> − </span><span class=\"txtu\">Eq</span></span></span></td></tr>\n",
       "<tr class=\"tf ltr\"><td class=\"tf ltr\">7</td><td class=\"tf ltr\"><span class=\"tfsechead ltr\"><span class=\"ltr\">2 2126:16</span></span></td><td class=\"tf ltr\"><span class=\" ubd\"><span class=\"plain   hlbx\" ><span class=\"txtu \"> </span><span class=\"txtu\">AO</span></span></span></td></tr>\n",
       "<tr class=\"tf ltr\"><td class=\"tf ltr\">8</td><td class=\"tf ltr\"><span class=\"tfsechead ltr\"><span class=\"ltr\">1 1f1b:3</span></span></td><td class=\"tf ltr\"><span class=\" ubd\"><span class=\"plain   hlbx\" ><span class=\"txtu \"> </span><span class=\"txtu\">DE</span></span></span></td></tr>\n",
       "<tr class=\"tf ltr\"><td class=\"tf ltr\">9</td><td class=\"tf ltr\"><span class=\"tfsechead ltr\"><span class=\"ltr\">7 7547:12</span></span></td><td class=\"tf ltr\"><span class=\" ubd\"><span class=\"plain   hlbx\" ><span class=\"txtu \"> </span><span class=\"txtu\">S</span></span></span></td></tr>\n",
       "<tr class=\"tf ltr\"><td class=\"tf ltr\">10</td><td class=\"tf ltr\"><span class=\"tfsechead ltr\"><span class=\"ltr\">4 4303:13</span></span></td><td class=\"tf ltr\"><span class=\" ubd\"><span class=\"plain   hlbx\" ><span class=\"txtu \"> </span><span class=\"txtu\">BG</span></span></span></td></tr>\n",
       "<tr class=\"tf ltr\"><td class=\"tf ltr\">11</td><td class=\"tf ltr\"><span class=\"tfsechead ltr\"><span class=\"ltr\">1 1063:9</span></span></td><td class=\"tf ltr\"><span class=\" ubd\"><span class=\"plain   hlbx\" ><span class=\"txtu \"> </span><span class=\"txtu\">B</span></span></span></td></tr>\n",
       "<tr class=\"tf ltr\"><td class=\"tf ltr\">12</td><td class=\"tf ltr\"><span class=\"tfsechead ltr\"><span class=\"ltr\">6 6408:5</span></span></td><td class=\"tf ltr\"><span class=\" ubd\"><span class=\"plain   hlbx\" ><span class=\"txtu \"> </span><span class=\"txtu\">x</span></span></span></td></tr>\n",
       "<tr class=\"tf ltr\"><td class=\"tf ltr\">13</td><td class=\"tf ltr\"><span class=\"tfsechead ltr\"><span class=\"ltr\">3 3198:15</span></span></td><td class=\"tf ltr\"><span class=\" ubd\"><span class=\"plain   hlbx\" ><span class=\"txtu \"> </span><span class=\"txtu\">FL</span></span></span></td></tr>\n",
       "<tr class=\"tf ltr\"><td class=\"tf ltr\">14</td><td class=\"tf ltr\"><span class=\"tfsechead ltr\"><span class=\"ltr\">1 1020:12</span></span></td><td class=\"tf ltr\"><span class=\" ubd\"><span class=\"plain   hlbx\" ><span class=\"txtu \"> </span><span class=\"txtu\">Q</span></span></span></td></tr>\n",
       "<tr class=\"tf ltr\"><td class=\"tf ltr\">15</td><td class=\"tf ltr\"><span class=\"tfsechead ltr\"><span class=\"ltr\">1 1020:10</span></span></td><td class=\"tf ltr\"><span class=\" ubd\"><span class=\"plain   hlbx\" ><span class=\"txtu \"> </span><span class=\"txtu\">LD</span></span></span></td></tr>\n",
       "<tr class=\"tf ltr\"><td class=\"tf ltr\">16</td><td class=\"tf ltr\"><span class=\"tfsechead ltr\"><span class=\"ltr\">1 1066:7</span></span></td><td class=\"tf ltr\"><span class=\" ubd\"><span class=\"plain   hlbx\" ><span class=\"txtu \"> </span><span class=\"txtu\">B</span></span></span></td></tr>\n",
       "<tr class=\"tf ltr\"><td class=\"tf ltr\">17</td><td class=\"tf ltr\"><span class=\"tfsechead ltr\"><span class=\"ltr\">2 2156:6</span></span></td><td class=\"tf ltr\"><span class=\" ubd\"><span class=\"plain   hlbx\" ><span class=\"txtu \"> </span><span class=\"txtu\">DN</span></span></span></td></tr>\n",
       "<tr class=\"tf ltr\"><td class=\"tf ltr\">18</td><td class=\"tf ltr\"><span class=\"tfsechead ltr\"><span class=\"ltr\">2 2156:15</span></span></td><td class=\"tf ltr\"><span class=\" ubd\"><span class=\"plain   hlbx\" ><span class=\"txtu \"> </span><span class=\"txtu\">EO</span></span></span></td></tr>\n",
       "<tr class=\"tf ltr\"><td class=\"tf ltr\">19</td><td class=\"tf ltr\"><span class=\"tfsechead ltr\"><span class=\"ltr\">4 4289:9</span></span></td><td class=\"tf ltr\"><span class=\" ubd\"><span class=\"plain   hlbx\" ><span class=\"txtu \"> </span><span class=\"txtu\">AC</span></span></span></td></tr>\n",
       "<tr class=\"tf ltr\"><td class=\"tf ltr\">20</td><td class=\"tf ltr\"><span class=\"tfsechead ltr\"><span class=\"ltr\">6 6467:5</span></span></td><td class=\"tf ltr\"><span class=\" ubd\"><span class=\"plain   hlbx\" ><span class=\"txtu \"> </span><span class=\"txtu\">g</span></span></span></td></tr></table>"
      ],
      "text/plain": [
       "<IPython.core.display.HTML object>"
      ]
     },
     "metadata": {},
     "output_type": "display_data"
    }
   ],
   "source": [
    "from random import seed, sample\n",
    "\n",
    "seed(42)\n",
    "\n",
    "selected = sample(results, 20)\n",
    "\n",
    "A.table(selected)"
   ]
  },
  {
   "cell_type": "markdown",
   "id": "aab833a7-aaaa-49ee-bb23-06712544bc17",
   "metadata": {},
   "source": [
    "These formulas are all so simple that TeX was not needed to display them.\n",
    "\n",
    "Let's see the first 2 of them in context:"
   ]
  },
  {
   "cell_type": "code",
   "execution_count": 19,
   "id": "e3c73134-887d-4640-b138-46e08b7936db",
   "metadata": {},
   "outputs": [
    {
     "data": {
      "text/html": [
       "<p><b>sentence</b> <i>1</i>"
      ],
      "text/plain": [
       "<IPython.core.display.HTML object>"
      ]
     },
     "metadata": {},
     "output_type": "display_data"
    },
    {
     "data": {
      "text/html": [
       "<div class=\"tfsechead \"><span class=\"ltr\">2 2122:12</span></div><div class=\" children\"><div class=\"contnr c1    \" ><div class=\"lbl c1  \" ><span class=\"nd\">sentence</span> <span class=\"txtu\"><span title=\"n\">1</span></span></div><div class=\"children hor wrap \"><div class=\"contnr c0 trm   \" ><div class=\"lbl c0 trm \" ><span class=\"txtu\">Au </span></div></div><div class=\"contnr c0 trm   \" ><div class=\"lbl c0 trm \" ><span class=\"txtu\">reste, </span></div></div><div class=\"contnr c0 trm   \" ><div class=\"lbl c0 trm \" ><span class=\"txtu\">il </span></div></div><div class=\"contnr c0 trm   \" ><div class=\"lbl c0 trm \" ><span class=\"txtu\">faut </span></div></div><div class=\"contnr c0 trm   \" ><div class=\"lbl c0 trm \" ><span class=\"txtu\">remarquer </span></div></div><div class=\"contnr c0 trm   \" ><div class=\"lbl c0 trm \" ><span class=\"txtu\">que </span></div></div><div class=\"contnr c0 trm   \" ><div class=\"lbl c0 trm \" ><span class=\"txtu\">ce </span></div></div><div class=\"contnr c0 trm   \" ><div class=\"lbl c0 trm \" ><span class=\"txtu\">n'</span></div></div><div class=\"contnr c0 trm   \" ><div class=\"lbl c0 trm \" ><span class=\"txtu\">est </span></div></div><div class=\"contnr c0 trm   \" ><div class=\"lbl c0 trm \" ><span class=\"txtu\">point </span></div></div><div class=\"contnr c0 trm   \" ><div class=\"lbl c0 trm \" ><span class=\"txtu\">la </span></div></div><div class=\"contnr c0 trm   \" ><div class=\"lbl c0 trm \" ><span class=\"txtu\">poulie </span></div></div><div class=\"contnr c0 trm   \" ><div class=\"lbl c0 trm \" ><span class=\"txtu\">qui </span></div></div><div class=\"contnr c0 trm   \" ><div class=\"lbl c0 trm \" ><span class=\"txtu\">cause </span></div></div><div class=\"contnr c0 trm   \" ><div class=\"lbl c0 trm \" ><span class=\"txtu\">cette </span></div></div><div class=\"contnr c0 trm   \" ><div class=\"lbl c0 trm \" ><span class=\"txtu\">force, </span></div></div><div class=\"contnr c0 trm   \" ><div class=\"lbl c0 trm \" ><span class=\"txtu\">mais </span></div></div><div class=\"contnr c0 trm   \" ><div class=\"lbl c0 trm \" ><span class=\"txtu\">seulement </span></div></div><div class=\"contnr c0 trm   \" ><div class=\"lbl c0 trm \" ><span class=\"txtu\">le </span></div></div><div class=\"contnr c0 trm   \" ><div class=\"lbl c0 trm \" ><span class=\"txtu\">redoublement </span></div></div><div class=\"contnr c0 trm   \" ><div class=\"lbl c0 trm \" ><span class=\"txtu\">de </span></div></div><div class=\"contnr c0 trm   \" ><div class=\"lbl c0 trm \" ><span class=\"txtu\">la </span></div></div><div class=\"contnr c0 trm   \" ><div class=\"lbl c0 trm \" ><span class=\"txtu\">corde: </span></div></div><div class=\"contnr c0 trm   \" ><div class=\"lbl c0 trm \" ><span class=\"txtu\">car </span></div></div><div class=\"contnr c0 trm   \" ><div class=\"lbl c0 trm \" ><span class=\"txtu\">si </span></div></div><div class=\"contnr c0 trm   \" ><div class=\"lbl c0 trm \" ><span class=\"txtu\">on </span></div></div><div class=\"contnr c0 trm   \" ><div class=\"lbl c0 trm \" ><span class=\"txtu\">attache </span></div></div><div class=\"contnr c0 trm   \" ><div class=\"lbl c0 trm \" ><span class=\"txtu\">encore </span></div></div><div class=\"contnr c0 trm   \" ><div class=\"lbl c0 trm \" ><span class=\"txtu\">une </span></div></div><div class=\"contnr c0 trm   \" ><div class=\"lbl c0 trm \" ><span class=\"txtu\">poulie </span></div></div><div class=\"contnr c0 trm   \" ><div class=\"lbl c0 trm \" ><span class=\"txtu\">vers </span></div></div><div class=\"contnr c1    \" ><div class=\"lbl c1  \" ><span class=\"nd\">formula</span> <span class=\"txtu\"><span title=\"notation\"></span></span></div><div class=\"children hor wrap \"><div class=\"contnr c0 trm   \" ><div class=\"lbl c0 trm \" ><span class=\"txtu\">A</span></div></div></div></div><div class=\"contnr c0 trm   \" ><div class=\"lbl c0 trm \" ><span class=\"txtu\">, </span></div></div><div class=\"contnr c0 trm   \" ><div class=\"lbl c0 trm \" ><span class=\"txtu\">par </span></div></div><div class=\"contnr c0 trm   \" ><div class=\"lbl c0 trm \" ><span class=\"txtu\">laquelle </span></div></div><div class=\"contnr c0 trm   \" ><div class=\"lbl c0 trm \" ><span class=\"txtu\">on </span></div></div><div class=\"contnr c0 trm   \" ><div class=\"lbl c0 trm \" ><span class=\"txtu\">passe </span></div></div><div class=\"contnr c0 trm   \" ><div class=\"lbl c0 trm \" ><span class=\"txtu\">la </span></div></div><div class=\"contnr c0 trm   \" ><div class=\"lbl c0 trm \" ><span class=\"txtu\">corde </span></div></div><div class=\"contnr c1    \" ><div class=\"lbl c1  \" ><span class=\"nd\">formula</span> <span class=\"txtu\"><span title=\"notation\"></span></span></div><div class=\"children hor wrap \"><div class=\"contnr c0 trm   \" ><div class=\"lbl c0 trm \" ><span class=\"txtu\">ABCH</span></div></div></div></div><div class=\"contnr c0 trm   \" ><div class=\"lbl c0 trm \" ><span class=\"txtu\">, </span></div></div><div class=\"contnr c0 trm   \" ><div class=\"lbl c0 trm \" ><span class=\"txtu\">il </span></div></div><div class=\"contnr c0 trm   \" ><div class=\"lbl c0 trm \" ><span class=\"txtu\">ne </span></div></div><div class=\"contnr c0 trm   \" ><div class=\"lbl c0 trm \" ><span class=\"txtu\">faudra </span></div></div><div class=\"contnr c0 trm   \" ><div class=\"lbl c0 trm \" ><span class=\"txtu\">pas </span></div></div><div class=\"contnr c0 trm   \" ><div class=\"lbl c0 trm \" ><span class=\"txtu\">moins </span></div></div><div class=\"contnr c0 trm   \" ><div class=\"lbl c0 trm \" ><span class=\"txtu\">de </span></div></div><div class=\"contnr c0 trm   \" ><div class=\"lbl c0 trm \" ><span class=\"txtu\">force </span></div></div><div class=\"contnr c0 trm   \" ><div class=\"lbl c0 trm \" ><span class=\"txtu\">pour </span></div></div><div class=\"contnr c0 trm   \" ><div class=\"lbl c0 trm \" ><span class=\"txtu\">tirer </span></div></div><div class=\"contnr c1    \" ><div class=\"lbl c1  \" ><span class=\"nd\">formula</span> <span class=\"txtu\"><span title=\"notation\"></span></span></div><div class=\"children hor wrap \"><div class=\"contnr c0 trm   \" ><div class=\"lbl c0 trm \" ><span class=\"txtu\">H</span></div></div></div></div><div class=\"contnr c0 trm   \" ><div class=\"lbl c0 trm \" ><span class=\"txtu\"> </span></div></div><div class=\"contnr c0 trm   \" ><div class=\"lbl c0 trm \" ><span class=\"txtu\">vers </span></div></div><div class=\"contnr c1    \" ><div class=\"lbl c1  \" ><span class=\"nd\">formula</span> <span class=\"txtu\"><span title=\"notation\"></span></span></div><div class=\"children hor wrap \"><div class=\"contnr c0 trm   \" ><div class=\"lbl c0 trm \" ><span class=\"txtu\">K</span></div></div></div></div><div class=\"contnr c0 trm   \" ><div class=\"lbl c0 trm \" ><span class=\"txtu\">, </span></div></div><div class=\"contnr c0 trm   \" ><div class=\"lbl c0 trm \" ><span class=\"txtu\">et </span></div></div><div class=\"contnr c0 trm   \" ><div class=\"lbl c0 trm \" ><span class=\"txtu\">ainsi </span></div></div><div class=\"contnr c0 trm   \" ><div class=\"lbl c0 trm \" ><span class=\"txtu\">lever </span></div></div><div class=\"contnr c0 trm   \" ><div class=\"lbl c0 trm \" ><span class=\"txtu\">le </span></div></div><div class=\"contnr c0 trm   \" ><div class=\"lbl c0 trm \" ><span class=\"txtu\">poids </span></div></div><div class=\"contnr c1    \" ><div class=\"lbl c1  \" ><span class=\"nd\">formula</span> <span class=\"txtu\"><span title=\"notation\"></span></span></div><div class=\"children hor wrap \"><div class=\"contnr c0 trm   \" ><div class=\"lbl c0 trm \" ><span class=\"txtu\">E</span></div></div></div></div><div class=\"contnr c0 trm   \" ><div class=\"lbl c0 trm \" ><span class=\"txtu\">, </span></div></div><div class=\"contnr c0 trm   \" ><div class=\"lbl c0 trm \" ><span class=\"txtu\">qu'</span></div></div><div class=\"contnr c0 trm   \" ><div class=\"lbl c0 trm \" ><span class=\"txtu\">il </span></div></div><div class=\"contnr c0 trm   \" ><div class=\"lbl c0 trm \" ><span class=\"txtu\">en </span></div></div><div class=\"contnr c0 trm   \" ><div class=\"lbl c0 trm \" ><span class=\"txtu\">fallait </span></div></div><div class=\"contnr c0 trm   \" ><div class=\"lbl c0 trm \" ><span class=\"txtu\">auparavant </span></div></div><div class=\"contnr c0 trm   \" ><div class=\"lbl c0 trm \" ><span class=\"txtu\">pour </span></div></div><div class=\"contnr c0 trm   \" ><div class=\"lbl c0 trm \" ><span class=\"txtu\">tirer </span></div></div><div class=\"contnr c1    \" ><div class=\"lbl c1  \" ><span class=\"nd\">formula</span> <span class=\"txtu\"><span title=\"notation\"></span></span></div><div class=\"children hor wrap \"><div class=\"contnr c0 trm   \" ><div class=\"lbl c0 trm \" ><span class=\"txtu\">C</span></div></div></div></div><div class=\"contnr c0 trm   \" ><div class=\"lbl c0 trm \" ><span class=\"txtu\"> </span></div></div><div class=\"contnr c0 trm   \" ><div class=\"lbl c0 trm \" ><span class=\"txtu\">vers </span></div></div><div class=\"contnr c1    hl\" ><div class=\"lbl c1  hl\" ><span class=\"nd\">formula</span> <span class=\"txtu\"><span title=\"notation\"></span></span></div><div class=\"children hor wrap \"><div class=\"contnr c0 trm   \" ><div class=\"lbl c0 trm \" ><span class=\"txtu\">G</span></div></div></div></div><div class=\"contnr c0 trm   \" ><div class=\"lbl c0 trm \" ><span class=\"txtu\">. </span></div></div><div class=\"contnr c0 trm   \" ><div class=\"lbl c0 trm \" ><span class=\"txtu\">Mais, </span></div></div><div class=\"contnr c0 trm   \" ><div class=\"lbl c0 trm \" ><span class=\"txtu\">si </span></div></div><div class=\"contnr c0 trm   \" ><div class=\"lbl c0 trm \" ><span class=\"txtu\">à </span></div></div><div class=\"contnr c0 trm   \" ><div class=\"lbl c0 trm \" ><span class=\"txtu\">ces </span></div></div><div class=\"contnr c0 trm   \" ><div class=\"lbl c0 trm \" ><span class=\"txtu\">deux </span></div></div><div class=\"contnr c0 trm   \" ><div class=\"lbl c0 trm \" ><span class=\"txtu\">poulies </span></div></div><div class=\"contnr c0 trm   \" ><div class=\"lbl c0 trm \" ><span class=\"txtu\">on </span></div></div><div class=\"contnr c0 trm   \" ><div class=\"lbl c0 trm \" ><span class=\"txtu\">en </span></div></div><div class=\"contnr c0 trm   \" ><div class=\"lbl c0 trm \" ><span class=\"txtu\">ajoute </span></div></div><div class=\"contnr c0 trm   \" ><div class=\"lbl c0 trm \" ><span class=\"txtu\">encore </span></div></div><div class=\"contnr c0 trm   \" ><div class=\"lbl c0 trm \" ><span class=\"txtu\">une </span></div></div><div class=\"contnr c0 trm   \" ><div class=\"lbl c0 trm \" ><span class=\"txtu\">autre </span></div></div><div class=\"contnr c0 trm   \" ><div class=\"lbl c0 trm \" ><span class=\"txtu\">vers </span></div></div><div class=\"contnr c1    \" ><div class=\"lbl c1  \" ><span class=\"nd\">formula</span> <span class=\"txtu\"><span title=\"notation\"></span></span></div><div class=\"children hor wrap \"><div class=\"contnr c0 trm   \" ><div class=\"lbl c0 trm \" ><span class=\"txtu\">D</span></div></div></div></div><div class=\"contnr c0 trm   \" ><div class=\"lbl c0 trm \" ><span class=\"txtu\">, </span></div></div><div class=\"contnr c0 trm   \" ><div class=\"lbl c0 trm \" ><span class=\"txtu\">à </span></div></div><div class=\"contnr c0 trm   \" ><div class=\"lbl c0 trm \" ><span class=\"txtu\">laquelle </span></div></div><div class=\"contnr c0 trm   \" ><div class=\"lbl c0 trm \" ><span class=\"txtu\">on </span></div></div><div class=\"contnr c0 trm   \" ><div class=\"lbl c0 trm \" ><span class=\"txtu\">attache </span></div></div><div class=\"contnr c0 trm   \" ><div class=\"lbl c0 trm \" ><span class=\"txtu\">le </span></div></div><div class=\"contnr c0 trm   \" ><div class=\"lbl c0 trm \" ><span class=\"txtu\">poids </span></div></div><div class=\"contnr c0 trm   \" ><div class=\"lbl c0 trm \" ><span class=\"txtu\">et </span></div></div><div class=\"contnr c0 trm   \" ><div class=\"lbl c0 trm \" ><span class=\"txtu\">dans </span></div></div><div class=\"contnr c0 trm   \" ><div class=\"lbl c0 trm \" ><span class=\"txtu\">laquelle </span></div></div><div class=\"contnr c0 trm   \" ><div class=\"lbl c0 trm \" ><span class=\"txtu\">on </span></div></div><div class=\"contnr c0 trm   \" ><div class=\"lbl c0 trm \" ><span class=\"txtu\">passe </span></div></div><div class=\"contnr c0 trm   \" ><div class=\"lbl c0 trm \" ><span class=\"txtu\">la </span></div></div><div class=\"contnr c0 trm   \" ><div class=\"lbl c0 trm \" ><span class=\"txtu\">corde </span></div></div><div class=\"contnr c0 trm   \" ><div class=\"lbl c0 trm \" ><span class=\"txtu\">tout </span></div></div><div class=\"contnr c0 trm   \" ><div class=\"lbl c0 trm \" ><span class=\"txtu\">de </span></div></div><div class=\"contnr c0 trm   \" ><div class=\"lbl c0 trm \" ><span class=\"txtu\">même </span></div></div><div class=\"contnr c0 trm   \" ><div class=\"lbl c0 trm \" ><span class=\"txtu\">qu'</span></div></div><div class=\"contnr c0 trm   \" ><div class=\"lbl c0 trm \" ><span class=\"txtu\">en </span></div></div><div class=\"contnr c0 trm   \" ><div class=\"lbl c0 trm \" ><span class=\"txtu\">la </span></div></div><div class=\"contnr c0 trm   \" ><div class=\"lbl c0 trm \" ><span class=\"txtu\">première, </span></div></div><div class=\"contnr c0 trm   \" ><div class=\"lbl c0 trm \" ><span class=\"txtu\">alors </span></div></div><div class=\"contnr c0 trm   \" ><div class=\"lbl c0 trm \" ><span class=\"txtu\">on </span></div></div><div class=\"contnr c0 trm   \" ><div class=\"lbl c0 trm \" ><span class=\"txtu\">n'</span></div></div><div class=\"contnr c0 trm   \" ><div class=\"lbl c0 trm \" ><span class=\"txtu\">aura </span></div></div><div class=\"contnr c0 trm   \" ><div class=\"lbl c0 trm \" ><span class=\"txtu\">pas </span></div></div><div class=\"contnr c0 trm   \" ><div class=\"lbl c0 trm \" ><span class=\"txtu\">besoin </span></div></div><div class=\"contnr c0 trm   \" ><div class=\"lbl c0 trm \" ><span class=\"txtu\">de </span></div></div><div class=\"contnr c0 trm   \" ><div class=\"lbl c0 trm \" ><span class=\"txtu\">plus </span></div></div><div class=\"contnr c0 trm   \" ><div class=\"lbl c0 trm \" ><span class=\"txtu\">de </span></div></div><div class=\"contnr c0 trm   \" ><div class=\"lbl c0 trm \" ><span class=\"txtu\">force </span></div></div><div class=\"contnr c0 trm   \" ><div class=\"lbl c0 trm \" ><span class=\"txtu\">pour </span></div></div><div class=\"contnr c0 trm   \" ><div class=\"lbl c0 trm \" ><span class=\"txtu\">lever </span></div></div><div class=\"contnr c0 trm   \" ><div class=\"lbl c0 trm \" ><span class=\"txtu\">ce </span></div></div><div class=\"contnr c0 trm   \" ><div class=\"lbl c0 trm \" ><span class=\"txtu\">poids </span></div></div><div class=\"contnr c0 trm   \" ><div class=\"lbl c0 trm \" ><span class=\"txtu\">de </span></div></div><div class=\"contnr c0 trm   \" ><div class=\"lbl c0 trm \" ><span class=\"txtu\">200 </span></div></div><div class=\"contnr c0 trm   \" ><div class=\"lbl c0 trm \" ><span class=\"txtu\">livres, </span></div></div><div class=\"contnr c0 trm   \" ><div class=\"lbl c0 trm \" ><span class=\"txtu\">que </span></div></div><div class=\"contnr c0 trm   \" ><div class=\"lbl c0 trm \" ><span class=\"txtu\">pour </span></div></div><div class=\"contnr c0 trm   \" ><div class=\"lbl c0 trm \" ><span class=\"txtu\">en </span></div></div><div class=\"contnr c0 trm   \" ><div class=\"lbl c0 trm \" ><span class=\"txtu\">lever </span></div></div><div class=\"contnr c0 trm   \" ><div class=\"lbl c0 trm \" ><span class=\"txtu\">un </span></div></div><div class=\"contnr c0 trm   \" ><div class=\"lbl c0 trm \" ><span class=\"txtu\">de </span></div></div><div class=\"contnr c0 trm   \" ><div class=\"lbl c0 trm \" ><span class=\"txtu\">50 </span></div></div><div class=\"contnr c0 trm   \" ><div class=\"lbl c0 trm \" ><span class=\"txtu\">sans </span></div></div><div class=\"contnr c0 trm   \" ><div class=\"lbl c0 trm \" ><span class=\"txtu\">poulie, </span></div></div><div class=\"contnr c0 trm   \" ><div class=\"lbl c0 trm \" ><span class=\"txtu\">à </span></div></div><div class=\"contnr c0 trm   \" ><div class=\"lbl c0 trm \" ><span class=\"txtu\">cause </span></div></div><div class=\"contnr c0 trm   \" ><div class=\"lbl c0 trm \" ><span class=\"txtu\">qu'</span></div></div><div class=\"contnr c0 trm   \" ><div class=\"lbl c0 trm \" ><span class=\"txtu\">en </span></div></div><div class=\"contnr c0 trm   \" ><div class=\"lbl c0 trm \" ><span class=\"txtu\">tirant </span></div></div><div class=\"contnr c0 trm   \" ><div class=\"lbl c0 trm \" ><span class=\"txtu\">4 </span></div></div><div class=\"contnr c0 trm   \" ><div class=\"lbl c0 trm \" ><span class=\"txtu\">pieds </span></div></div><div class=\"contnr c0 trm   \" ><div class=\"lbl c0 trm \" ><span class=\"txtu\">de </span></div></div><div class=\"contnr c0 trm   \" ><div class=\"lbl c0 trm \" ><span class=\"txtu\">la </span></div></div><div class=\"contnr c0 trm   \" ><div class=\"lbl c0 trm \" ><span class=\"txtu\">corde </span></div></div><div class=\"contnr c0 trm   \" ><div class=\"lbl c0 trm \" ><span class=\"txtu\">on </span></div></div><div class=\"contnr c0 trm   \" ><div class=\"lbl c0 trm \" ><span class=\"txtu\">ne </span></div></div><div class=\"contnr c0 trm   \" ><div class=\"lbl c0 trm \" ><span class=\"txtu\"> </span></div></div><div class=\"contnr c0 trm   \" ><div class=\"lbl c0 trm \" ><span class=\"txtu\">l'</span></div></div><div class=\"contnr c0 trm   \" ><div class=\"lbl c0 trm \" ><span class=\"txtu\">élèvera </span></div></div><div class=\"contnr c0 trm   \" ><div class=\"lbl c0 trm \" ><span class=\"txtu\">que </span></div></div><div class=\"contnr c0 trm   \" ><div class=\"lbl c0 trm \" ><span class=\"txtu\">d'</span></div></div><div class=\"contnr c0 trm   \" ><div class=\"lbl c0 trm \" ><span class=\"txtu\">un </span></div></div><div class=\"contnr c0 trm   \" ><div class=\"lbl c0 trm \" ><span class=\"txtu\">pied. </span></div></div></div></div></div>"
      ],
      "text/plain": [
       "<IPython.core.display.HTML object>"
      ]
     },
     "metadata": {},
     "output_type": "display_data"
    },
    {
     "data": {
      "text/html": [
       "<p><b>sentence</b> <i>2</i>"
      ],
      "text/plain": [
       "<IPython.core.display.HTML object>"
      ]
     },
     "metadata": {},
     "output_type": "display_data"
    },
    {
     "data": {
      "text/html": [
       "<div class=\"tfsechead \"><span class=\"ltr\">7 7538:6</span></div><div class=\" children\"><div class=\"contnr c1    \" ><div class=\"lbl c1  \" ><span class=\"nd\">sentence</span> <span class=\"txtu\"><span title=\"n\">5</span></span></div><div class=\"children hor wrap \"><div class=\"contnr c0 trm   \" ><div class=\"lbl c0 trm \" ><span class=\"txtu\">Il </span></div></div><div class=\"contnr c0 trm   \" ><div class=\"lbl c0 trm \" ><span class=\"txtu\">en </span></div></div><div class=\"contnr c0 trm   \" ><div class=\"lbl c0 trm \" ><span class=\"txtu\">sera </span></div></div><div class=\"contnr c0 trm   \" ><div class=\"lbl c0 trm \" ><span class=\"txtu\">de </span></div></div><div class=\"contnr c0 trm   \" ><div class=\"lbl c0 trm \" ><span class=\"txtu\">même </span></div></div><div class=\"contnr c0 trm   \" ><div class=\"lbl c0 trm \" ><span class=\"txtu\">de </span></div></div><div class=\"contnr c0 trm   \" ><div class=\"lbl c0 trm \" ><span class=\"txtu\">tous </span></div></div><div class=\"contnr c0 trm   \" ><div class=\"lbl c0 trm \" ><span class=\"txtu\">les </span></div></div><div class=\"contnr c0 trm   \" ><div class=\"lbl c0 trm \" ><span class=\"txtu\">points </span></div></div><div class=\"contnr c0 trm   \" ><div class=\"lbl c0 trm \" ><span class=\"txtu\">éloignés </span></div></div><div class=\"contnr c0 trm   \" ><div class=\"lbl c0 trm \" ><span class=\"txtu\">également </span></div></div><div class=\"contnr c0 trm   \" ><div class=\"lbl c0 trm \" ><span class=\"txtu\">de </span></div></div><div class=\"contnr c0 trm   \" ><div class=\"lbl c0 trm \" ><span class=\"txtu\">part </span></div></div><div class=\"contnr c0 trm   \" ><div class=\"lbl c0 trm \" ><span class=\"txtu\">et </span></div></div><div class=\"contnr c0 trm   \" ><div class=\"lbl c0 trm \" ><span class=\"txtu\">d'</span></div></div><div class=\"contnr c0 trm   \" ><div class=\"lbl c0 trm \" ><span class=\"txtu\">autre </span></div></div><div class=\"contnr c0 trm   \" ><div class=\"lbl c0 trm \" ><span class=\"txtu\">du </span></div></div><div class=\"contnr c0 trm   \" ><div class=\"lbl c0 trm \" ><span class=\"txtu\">point </span></div></div><div class=\"contnr c1    \" ><div class=\"lbl c1  \" ><span class=\"nd\">formula</span> <span class=\"txtu\"><span title=\"notation\"></span></span></div><div class=\"children hor wrap \"><div class=\"contnr c0 trm   \" ><div class=\"lbl c0 trm \" ><span class=\"txtu\">N</span></div></div></div></div><div class=\"contnr c0 trm   \" ><div class=\"lbl c0 trm \" ><span class=\"txtu\">.\n",
       "</span></div></div><div class=\"contnr c0 trm   \" ><div class=\"lbl c0 trm \" ><span class=\"txtu\">Enfin, </span></div></div><div class=\"contnr c0 trm   \" ><div class=\"lbl c0 trm \" ><span class=\"txtu\">par </span></div></div><div class=\"contnr c0 trm   \" ><div class=\"lbl c0 trm \" ><span class=\"txtu\">les </span></div></div><div class=\"contnr c0 trm   \" ><div class=\"lbl c0 trm \" ><span class=\"txtu\">lignes </span></div></div><div class=\"contnr c1    \" ><div class=\"lbl c1  \" ><span class=\"nd\">formula</span> <span class=\"txtu\"><span title=\"notation\"></span></span></div><div class=\"children hor wrap \"><div class=\"contnr c0 trm   \" ><div class=\"lbl c0 trm \" ><span class=\"txtu\">AB</span></div></div></div></div><div class=\"contnr c0 trm   \" ><div class=\"lbl c0 trm \" ><span class=\"txtu\"> </span></div></div><div class=\"contnr c0 trm   \" ><div class=\"lbl c0 trm \" ><span class=\"txtu\">et </span></div></div><div class=\"contnr c1    \" ><div class=\"lbl c1  \" ><span class=\"nd\">formula</span> <span class=\"txtu\"><span title=\"notation\"></span></span></div><div class=\"children hor wrap \"><div class=\"contnr c0 trm   \" ><div class=\"lbl c0 trm \" ><span class=\"txtu\">IN</span></div></div></div></div><div class=\"contnr c0 trm   \" ><div class=\"lbl c0 trm \" ><span class=\"txtu\">, </span></div></div><div class=\"contnr c0 trm   \" ><div class=\"lbl c0 trm \" ><span class=\"txtu\">soit </span></div></div><div class=\"contnr c0 trm   \" ><div class=\"lbl c0 trm \" ><span class=\"txtu\">mené </span></div></div><div class=\"contnr c0 trm   \" ><div class=\"lbl c0 trm \" ><span class=\"txtu\">un </span></div></div><div class=\"contnr c0 trm   \" ><div class=\"lbl c0 trm \" ><span class=\"txtu\">plan </span></div></div><div class=\"contnr c1    \" ><div class=\"lbl c1  \" ><span class=\"nd\">formula</span> <span class=\"txtu\"><span title=\"notation\"></span></span></div><div class=\"children hor wrap \"><div class=\"contnr c0 trm   \" ><div class=\"lbl c0 trm \" ><span class=\"txtu\">ABHG</span></div></div></div></div><div class=\"contnr c0 trm   \" ><div class=\"lbl c0 trm \" ><span class=\"txtu\">,\n",
       "</span></div></div><div class=\"contnr c0 trm   \" ><div class=\"lbl c0 trm \" ><span class=\"txtu\">qui </span></div></div><div class=\"contnr c0 trm   \" ><div class=\"lbl c0 trm \" ><span class=\"txtu\">coupera </span></div></div><div class=\"contnr c0 trm   \" ><div class=\"lbl c0 trm \" ><span class=\"txtu\">le </span></div></div><div class=\"contnr c0 trm   \" ><div class=\"lbl c0 trm \" ><span class=\"txtu\">secteur </span></div></div><div class=\"contnr c1    \" ><div class=\"lbl c1  \" ><span class=\"nd\">formula</span> <span class=\"txtu\"><span title=\"notation\"></span></span></div><div class=\"children hor wrap \"><div class=\"contnr c0 trm   \" ><div class=\"lbl c0 trm \" ><span class=\"txtu\">AH</span></div></div></div></div><div class=\"contnr c0 trm   \" ><div class=\"lbl c0 trm \" ><span class=\"txtu\"> </span></div></div><div class=\"contnr c0 trm   \" ><div class=\"lbl c0 trm \" ><span class=\"txtu\">en </span></div></div><div class=\"contnr c0 trm   \" ><div class=\"lbl c0 trm \" ><span class=\"txtu\">deux </span></div></div><div class=\"contnr c0 trm   \" ><div class=\"lbl c0 trm \" ><span class=\"txtu\">autres </span></div></div><div class=\"contnr c0 trm   \" ><div class=\"lbl c0 trm \" ><span class=\"txtu\">secteurs </span></div></div><div class=\"contnr c0 trm   \" ><div class=\"lbl c0 trm \" ><span class=\"txtu\">égaux, </span></div></div><div class=\"contnr c0 trm   \" ><div class=\"lbl c0 trm \" ><span class=\"txtu\">et </span></div></div><div class=\"contnr c0 trm   \" ><div class=\"lbl c0 trm \" ><span class=\"txtu\">formera </span></div></div><div class=\"contnr c0 trm   \" ><div class=\"lbl c0 trm \" ><span class=\"txtu\">le </span></div></div><div class=\"contnr c0 trm   \" ><div class=\"lbl c0 trm \" ><span class=\"txtu\">rectangle </span></div></div><div class=\"contnr c1    \" ><div class=\"lbl c1  \" ><span class=\"nd\">formula</span> <span class=\"txtu\"><span title=\"notation\"></span></span></div><div class=\"children hor wrap \"><div class=\"contnr c0 trm   \" ><div class=\"lbl c0 trm \" ><span class=\"txtu\">ABHG</span></div></div></div></div><div class=\"contnr c0 trm   \" ><div class=\"lbl c0 trm \" ><span class=\"txtu\">, </span></div></div><div class=\"contnr c0 trm   \" ><div class=\"lbl c0 trm \" ><span class=\"txtu\">duquel </span></div></div><div class=\"contnr c0 trm   \" ><div class=\"lbl c0 trm \" ><span class=\"txtu\">les </span></div></div><div class=\"contnr c0 trm   \" ><div class=\"lbl c0 trm \" ><span class=\"txtu\">côtés </span></div></div><div class=\"contnr c1    \" ><div class=\"lbl c1  \" ><span class=\"nd\">formula</span> <span class=\"txtu\"><span title=\"notation\"></span></span></div><div class=\"children hor wrap \"><div class=\"contnr c0 trm   \" ><div class=\"lbl c0 trm \" ><span class=\"txtu\">AG</span></div></div></div></div><div class=\"contnr c0 trm   \" ><div class=\"lbl c0 trm \" ><span class=\"txtu\"> </span></div></div><div class=\"contnr c0 trm   \" ><div class=\"lbl c0 trm \" ><span class=\"txtu\">et </span></div></div><div class=\"contnr c1    \" ><div class=\"lbl c1  \" ><span class=\"nd\">formula</span> <span class=\"txtu\"><span title=\"notation\"></span></span></div><div class=\"children hor wrap \"><div class=\"contnr c0 trm   \" ><div class=\"lbl c0 trm \" ><span class=\"txtu\">BH</span></div></div></div></div><div class=\"contnr c0 trm   \" ><div class=\"lbl c0 trm \" ><span class=\"txtu\"> </span></div></div><div class=\"contnr c0 trm   \" ><div class=\"lbl c0 trm \" ><span class=\"txtu\">couperont </span></div></div><div class=\"contnr c0 trm   \" ><div class=\"lbl c0 trm \" ><span class=\"txtu\">aussi </span></div></div><div class=\"contnr c0 trm   \" ><div class=\"lbl c0 trm \" ><span class=\"txtu\">en </span></div></div><div class=\"contnr c0 trm   \" ><div class=\"lbl c0 trm \" ><span class=\"txtu\">deux </span></div></div><div class=\"contnr c0 trm   \" ><div class=\"lbl c0 trm \" ><span class=\"txtu\">également </span></div></div><div class=\"contnr c0 trm   \" ><div class=\"lbl c0 trm \" ><span class=\"txtu\">les </span></div></div><div class=\"contnr c0 trm   \" ><div class=\"lbl c0 trm \" ><span class=\"txtu\">secteurs </span></div></div><div class=\"contnr c0 trm   \" ><div class=\"lbl c0 trm \" ><span class=\"txtu\">de </span></div></div><div class=\"contnr c0 trm   \" ><div class=\"lbl c0 trm \" ><span class=\"txtu\">cercles </span></div></div><div class=\"contnr c1    \" ><div class=\"lbl c1  \" ><span class=\"nd\">formula</span> <span class=\"txtu\"><span title=\"notation\"></span></span></div><div class=\"children hor wrap \"><div class=\"contnr c0 trm   \" ><div class=\"lbl c0 trm \" ><span class=\"txtu\">ACGE</span></div></div></div></div><div class=\"contnr c0 trm   \" ><div class=\"lbl c0 trm \" ><span class=\"txtu\"> </span></div></div><div class=\"contnr c0 trm   \" ><div class=\"lbl c0 trm \" ><span class=\"txtu\">et </span></div></div><div class=\"contnr c1    \" ><div class=\"lbl c1  \" ><span class=\"nd\">formula</span> <span class=\"txtu\"><span title=\"notation\"></span></span></div><div class=\"children hor wrap \"><div class=\"contnr c0 trm   \" ><div class=\"lbl c0 trm \" ><span class=\"txtu\">BDHF</span></div></div></div></div><div class=\"contnr c0 trm   \" ><div class=\"lbl c0 trm \" ><span class=\"txtu\">, </span></div></div><div class=\"contnr c0 trm   \" ><div class=\"lbl c0 trm \" ><span class=\"txtu\">et </span></div></div><div class=\"contnr c0 trm   \" ><div class=\"lbl c0 trm \" ><span class=\"txtu\">par </span></div></div><div class=\"contnr c0 trm   \" ><div class=\"lbl c0 trm \" ><span class=\"txtu\">les </span></div></div><div class=\"contnr c0 trm   \" ><div class=\"lbl c0 trm \" ><span class=\"txtu\">points </span></div></div><div class=\"contnr c1    \" ><div class=\"lbl c1  \" ><span class=\"nd\">formula</span> <span class=\"txtu\"><span title=\"notation\"></span></span></div><div class=\"children hor wrap \"><div class=\"contnr c0 trm   \" ><div class=\"lbl c0 trm \" ><span class=\"txtu\">G</span></div></div></div></div><div class=\"contnr c0 trm   \" ><div class=\"lbl c0 trm \" ><span class=\"txtu\">, </span></div></div><div class=\"contnr c1    \" ><div class=\"lbl c1  \" ><span class=\"nd\">formula</span> <span class=\"txtu\"><span title=\"notation\"></span></span></div><div class=\"children hor wrap \"><div class=\"contnr c0 trm   \" ><div class=\"lbl c0 trm \" ><span class=\"txtu\">N</span></div></div></div></div><div class=\"contnr c0 trm   \" ><div class=\"lbl c0 trm \" ><span class=\"txtu\">, </span></div></div><div class=\"contnr c1    \" ><div class=\"lbl c1  \" ><span class=\"nd\">formula</span> <span class=\"txtu\"><span title=\"notation\"></span></span></div><div class=\"children hor wrap \"><div class=\"contnr c0 trm   \" ><div class=\"lbl c0 trm \" ><span class=\"txtu\">H</span></div></div></div></div><div class=\"contnr c0 trm   \" ><div class=\"lbl c0 trm \" ><span class=\"txtu\"> </span></div></div><div class=\"contnr c0 trm   \" ><div class=\"lbl c0 trm \" ><span class=\"txtu\">soient </span></div></div><div class=\"contnr c0 trm   \" ><div class=\"lbl c0 trm \" ><span class=\"txtu\">menées </span></div></div><div class=\"contnr c0 trm   \" ><div class=\"lbl c0 trm \" ><span class=\"txtu\">des </span></div></div><div class=\"contnr c0 trm   \" ><div class=\"lbl c0 trm \" ><span class=\"txtu\">lignes </span></div></div><div class=\"contnr c0 trm   \" ><div class=\"lbl c0 trm \" ><span class=\"txtu\">droites </span></div></div><div class=\"contnr c0 trm   \" ><div class=\"lbl c0 trm \" ><span class=\"txtu\">qui </span></div></div><div class=\"contnr c0 trm   \" ><div class=\"lbl c0 trm \" ><span class=\"txtu\">touchent </span></div></div><div class=\"contnr c0 trm   \" ><div class=\"lbl c0 trm \" ><span class=\"txtu\">les </span></div></div><div class=\"contnr c0 trm   \" ><div class=\"lbl c0 trm \" ><span class=\"txtu\">arcs </span></div></div><div class=\"contnr c1    \" ><div class=\"lbl c1  \" ><span class=\"nd\">formula</span> <span class=\"txtu\"><span title=\"notation\"></span></span></div><div class=\"children hor wrap \"><div class=\"contnr c0 trm   \" ><div class=\"lbl c0 trm \" ><span class=\"txtu\">CE</span></div></div></div></div><div class=\"contnr c0 trm   \" ><div class=\"lbl c0 trm \" ><span class=\"txtu\">, </span></div></div><div class=\"contnr c1    \" ><div class=\"lbl c1  \" ><span class=\"nd\">formula</span> <span class=\"txtu\"><span title=\"notation\"></span></span></div><div class=\"children hor wrap \"><div class=\"contnr c0 trm   \" ><div class=\"lbl c0 trm \" ><span class=\"txtu\">LM</span></div></div></div></div><div class=\"contnr c0 trm   \" ><div class=\"lbl c0 trm \" ><span class=\"txtu\">, </span></div></div><div class=\"contnr c1    \" ><div class=\"lbl c1  \" ><span class=\"nd\">formula</span> <span class=\"txtu\"><span title=\"notation\"></span></span></div><div class=\"children hor wrap \"><div class=\"contnr c0 trm   \" ><div class=\"lbl c0 trm \" ><span class=\"txtu\">DF</span></div></div></div></div><div class=\"contnr c0 trm   \" ><div class=\"lbl c0 trm \" ><span class=\"txtu\">, </span></div></div><div class=\"contnr c0 trm   \" ><div class=\"lbl c0 trm \" ><span class=\"txtu\">lesquelles </span></div></div><div class=\"contnr c0 trm   \" ><div class=\"lbl c0 trm \" ><span class=\"txtu\">touchantes </span></div></div><div class=\"contnr c0 trm   \" ><div class=\"lbl c0 trm \" ><span class=\"txtu\">soient </span></div></div><div class=\"contnr c1    \" ><div class=\"lbl c1  \" ><span class=\"nd\">formula</span> <span class=\"txtu\"><span title=\"notation\"></span></span></div><div class=\"children hor wrap \"><div class=\"contnr c0 trm   \" ><div class=\"lbl c0 trm \" ><span class=\"txtu\">ZG 4</span></div></div></div></div><div class=\"contnr c0 trm   \" ><div class=\"lbl c0 trm \" ><span class=\"txtu\">, </span></div></div><div class=\"contnr c1    \" ><div class=\"lbl c1  \" ><span class=\"nd\">formula</span> <span class=\"txtu\"><span title=\"notation\"></span></span></div><div class=\"children hor wrap \"><div class=\"contnr c0 trm   \" ><div class=\"lbl c0 trm \" ><span class=\"txtu\">XNY</span></div></div></div></div><div class=\"contnr c0 trm   \" ><div class=\"lbl c0 trm \" ><span class=\"txtu\">, </span></div></div><div class=\"contnr c0 trm   \" ><div class=\"lbl c0 trm \" ><span class=\"txtu\">et </span></div></div><div class=\"contnr c1    \" ><div class=\"lbl c1  \" ><span class=\"nd\">formula</span> <span class=\"txtu\"><span title=\"notation\"></span></span></div><div class=\"children hor wrap \"><div class=\"contnr c0 trm   \" ><div class=\"lbl c0 trm \" ><span class=\"txtu\">6 H 7</span></div></div></div></div><div class=\"contnr c0 trm   \" ><div class=\"lbl c0 trm \" ><span class=\"txtu\">, </span></div></div><div class=\"contnr c0 trm   \" ><div class=\"lbl c0 trm \" ><span class=\"txtu\">qui </span></div></div><div class=\"contnr c0 trm   \" ><div class=\"lbl c0 trm \" ><span class=\"txtu\">seront </span></div></div><div class=\"contnr c0 trm   \" ><div class=\"lbl c0 trm \" ><span class=\"txtu\">perpendiculaires </span></div></div><div class=\"contnr c0 trm   \" ><div class=\"lbl c0 trm \" ><span class=\"txtu\">aux </span></div></div><div class=\"contnr c0 trm   \" ><div class=\"lbl c0 trm \" ><span class=\"txtu\">demi-</span></div></div><div class=\"contnr c0 trm   \" ><div class=\"lbl c0 trm \" ><span class=\"txtu\">diamètres </span></div></div><div class=\"contnr c1    \" ><div class=\"lbl c1  \" ><span class=\"nd\">formula</span> <span class=\"txtu\"><span title=\"notation\"></span></span></div><div class=\"children hor wrap \"><div class=\"contnr c0 trm   \" ><div class=\"lbl c0 trm \" ><span class=\"txtu\">AG</span></div></div></div></div><div class=\"contnr c0 trm   \" ><div class=\"lbl c0 trm \" ><span class=\"txtu\">, </span></div></div><div class=\"contnr c1    hl\" ><div class=\"lbl c1  hl\" ><span class=\"nd\">formula</span> <span class=\"txtu\"><span title=\"notation\"></span></span></div><div class=\"children hor wrap \"><div class=\"contnr c0 trm   \" ><div class=\"lbl c0 trm \" ><span class=\"txtu\">IN</span></div></div></div></div><div class=\"contnr c0 trm   \" ><div class=\"lbl c0 trm \" ><span class=\"txtu\">, </span></div></div><div class=\"contnr c1    \" ><div class=\"lbl c1  \" ><span class=\"nd\">formula</span> <span class=\"txtu\"><span title=\"notation\"></span></span></div><div class=\"children hor wrap \"><div class=\"contnr c0 trm   \" ><div class=\"lbl c0 trm \" ><span class=\"txtu\">BH</span></div></div></div></div><div class=\"contnr c0 trm   \" ><div class=\"lbl c0 trm \" ><span class=\"txtu\">.</span></div></div></div></div></div>"
      ],
      "text/plain": [
       "<IPython.core.display.HTML object>"
      ]
     },
     "metadata": {},
     "output_type": "display_data"
    }
   ],
   "source": [
    "A.show(selected[0:2], condensed=True)"
   ]
  },
  {
   "cell_type": "markdown",
   "id": "09577595-dbb0-4322-a61f-1615613325d3",
   "metadata": {
    "tags": []
   },
   "source": [
    "---\n",
    "\n",
    "# Contents\n",
    "\n",
    "* **[start](start.ipynb)** intro and highlights\n",
    "* **search** turbo charge your hand-coding with search templates\n",
    "* **[compute](compute.ipynb)** sink down a level and compute it yourself\n",
    "* **[exportExcel](exportExcel.ipynb)** make tailor-made spreadsheets out of your results\n",
    "\n",
    "Advanced\n",
    "\n",
    "* **[similar sentences](similar.ipynb)** find similar sentences\n",
    "\n",
    "CC-BY Dirk Roorda"
   ]
  }
 ],
 "metadata": {
  "kernelspec": {
   "display_name": "Python 3 (ipykernel)",
   "language": "python",
   "name": "python3"
  },
  "language_info": {
   "codemirror_mode": {
    "name": "ipython",
    "version": 3
   },
   "file_extension": ".py",
   "mimetype": "text/x-python",
   "name": "python",
   "nbconvert_exporter": "python",
   "pygments_lexer": "ipython3",
   "version": "3.11.1"
  }
 },
 "nbformat": 4,
 "nbformat_minor": 5
}
