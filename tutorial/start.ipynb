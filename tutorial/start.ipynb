{
 "cells": [
  {
   "cell_type": "markdown",
   "metadata": {},
   "source": [
    "<img align=\"right\" src=\"images/logo.png\" width=\"150\"/>\n",
    "<img align=\"right\" src=\"images/tf-small.png\" width=\"125\"/>\n",
    "<img align=\"right\" src=\"images/huc.png\" width=\"150\"/>\n",
    "\n",
    "# Start\n",
    "\n",
    "This notebook gets you started with using\n",
    "[Text-Fabric](https://github.com/Nino-cunei/uruk/blob/master/docs/textfabric.md) for coding in the\n",
    "letters of René Descartes.\n",
    "\n",
    "Familiarity with the underlying\n",
    "[data model](https://annotation.github.io/text-fabric/tf/about/datamodel.html)\n",
    "is recommended.\n",
    "\n",
    "For provenance, see the documentation:\n",
    "[about](https://github.com/CLARIAH/descartes-tf/blob/master/docs/about.md)."
   ]
  },
  {
   "cell_type": "markdown",
   "metadata": {
    "tags": []
   },
   "source": [
    "## Overview\n",
    "\n",
    "* we tell you how to get Text-Fabric on your system;\n",
    "* we tell you how to get the Descartes corpus on your system."
   ]
  },
  {
   "cell_type": "markdown",
   "metadata": {},
   "source": [
    "## Installing Text-Fabric\n",
    "\n",
    "See [here](https://annotation.github.io/text-fabric/tf/about/install.html)"
   ]
  },
  {
   "cell_type": "markdown",
   "metadata": {
    "tags": []
   },
   "source": [
    "## Tip\n",
    "If you start computing with this tutorial, first copy its parent directory to somewhere else,\n",
    "outside your repository.\n",
    "If you pull changes from the repository later, your work will not be overwritten.\n",
    "Where you put your tutorial directory is up to you.\n",
    "It will work from any directory."
   ]
  },
  {
   "cell_type": "markdown",
   "metadata": {},
   "source": [
    "### Get the data\n",
    "\n",
    "Text-Fabric will get the data for you and store it on your system.\n",
    "\n",
    "If you have cloned the github repo with the data,\n",
    "[CLARIAH/descartes-tf](https://github.com/CLARIAH/descartes-tf),\n",
    "your data is already in place, and nothing will be downloaded.\n",
    "\n",
    "Otherwise, on first run, Text-Fabric will load the data and store it in the folder\n",
    "`text-fabric-data` in your home directory.\n",
    "This only happens if the data is not already there.\n",
    "\n",
    "Not only transcription data will be downloaded, also symbols and illustrations."
   ]
  },
  {
   "cell_type": "markdown",
   "metadata": {},
   "source": [
    "## Start the engines\n",
    "\n",
    "Navigate to this directory in a terminal and say\n",
    "\n",
    "```\n",
    "jupyter notebook\n",
    "```\n",
    "\n",
    "(just literally).\n",
    "\n",
    "Your browser opens with a directory view, and you'll see `start.ipynb`.\n",
    "Click on it. A new browser tab opens, and a Python engine has been allocated to this\n",
    "notebook.\n",
    "\n",
    "Now we are ready to compute .\n",
    "The next cell is a code cell that can be executed if you have downloaded this\n",
    "notebook and have issued the `jupyter notebook` command.\n",
    "\n",
    "You execute a code cell by standing in it and press `Shift Enter`."
   ]
  },
  {
   "cell_type": "markdown",
   "metadata": {},
   "source": [
    "### The code"
   ]
  },
  {
   "cell_type": "code",
   "execution_count": 1,
   "metadata": {},
   "outputs": [],
   "source": [
    "%load_ext autoreload\n",
    "%autoreload 2"
   ]
  },
  {
   "cell_type": "code",
   "execution_count": 2,
   "metadata": {
    "ExecuteTime": {
     "end_time": "2018-05-17T09:33:07.029915Z",
     "start_time": "2018-05-17T09:33:07.006073Z"
    }
   },
   "outputs": [],
   "source": [
    "import sys, os\n",
    "from tf.app import use"
   ]
  },
  {
   "cell_type": "markdown",
   "metadata": {},
   "source": [
    "View the next cell as an *incantation*.\n",
    "You just have to say it to get things underway."
   ]
  },
  {
   "cell_type": "markdown",
   "metadata": {},
   "source": [
    "For the very last version, use `hot`.\n",
    "\n",
    "For the latest release, use `latest`.\n",
    "\n",
    "If you have cloned the repos (TF app and data), use `clone`.\n",
    "\n",
    "If you do not want/need to upgrade, leave out the checkout specifiers."
   ]
  },
  {
   "cell_type": "code",
   "execution_count": 3,
   "metadata": {
    "ExecuteTime": {
     "end_time": "2018-05-17T09:33:10.782586Z",
     "start_time": "2018-05-17T09:33:09.929360Z"
    }
   },
   "outputs": [
    {
     "data": {
      "text/html": [
       "<b title=\"local github\">TF-app:</b> <span title=\"repo clone offline under /Users/me/github\">~/github/CLARIAH/descartes-tf/app</span>"
      ],
      "text/plain": [
       "<IPython.core.display.HTML object>"
      ]
     },
     "metadata": {},
     "output_type": "display_data"
    },
    {
     "data": {
      "text/html": [
       "<b title=\"local github\">data:</b> <span title=\"repo clone offline under /Users/me/github\">~/github/CLARIAH/descartes-tf/tf/0.9</span>"
      ],
      "text/plain": [
       "<IPython.core.display.HTML object>"
      ]
     },
     "metadata": {},
     "output_type": "display_data"
    },
    {
     "name": "stdout",
     "output_type": "stream",
     "text": [
      "This is Text-Fabric 11.0.7\n",
      "Api reference : https://annotation.github.io/text-fabric/tf/cheatsheet.html\n",
      "\n",
      "26 features found and 0 ignored\n",
      "  0.08s Dataset without structure sections in otext:no structure functions in the T-API\n",
      "  0.31s All features loaded/computed - for details use TF.isLoaded()\n",
      "  0.01s All additional features loaded - for details use TF.isLoaded()\n"
     ]
    },
    {
     "data": {
      "text/html": [
       "\n",
       "            <b>Text-Fabric:</b> <a target=\"_blank\" href=\"https://annotation.github.io/text-fabric/tf/cheatsheet.html\" title=\"text-fabric-api\">Text-Fabric API 11.0.7</a>, <a target=\"_blank\" href=\"https://github.com/CLARIAH/descartes-tf/blob/master/app\" title=\"CLARIAH/descartes-tf TF-app\">CLARIAH/descartes-tf/app  v3</a>, <a target=\"_blank\" href=\"https://annotation.github.io/text-fabric/tf/about/searchusage.html\" title=\"Search Templates Introduction and Reference\">Search Reference</a><br>\n",
       "            <b>Data:</b> <a target=\"_blank\" href=\"https://CLARIAH.github.io/descartes-tf/\" title=\"provenance of Descartes = Descartes, all letters\">DESCARTES-TF</a>, <a target=\"_blank\" href=\"https://annotation.github.io/text-fabric/tf/writing/hebrew.html\" title=\"How TF features represent text\">Character table</a>, <a target=\"_blank\" href=\"https://CLARIAH.github.io/descartes-tf/features/0_home\" title=\"DESCARTES-TF feature documentation\">Feature docs</a><br>\n",
       "            <details class=\"nodeinfo\"><summary><b>Node types</b></summary>\n",
       "<table class=\"nodeinfo\">\n",
       "    <tr>\n",
       "        <th>Name</th>\n",
       "        <th># of nodes</th>\n",
       "        <th># slots/node</th>\n",
       "        <th>% coverage</th>\n",
       "    <tr>\n",
       "\n",
       "<tr>\n",
       "    <th>volume</th>\n",
       "    <td>9</td>\n",
       "    <td>75811.11</td>\n",
       "    <td><b>100</b></td>\n",
       "</tr>\n",
       "\n",
       "<tr>\n",
       "    <th>letter</th>\n",
       "    <td>725</td>\n",
       "    <td>941.10</td>\n",
       "    <td><b>100</b></td>\n",
       "</tr>\n",
       "\n",
       "<tr>\n",
       "    <th>page</th>\n",
       "    <td>2884</td>\n",
       "    <td>236.58</td>\n",
       "    <td><b>100</b></td>\n",
       "</tr>\n",
       "\n",
       "<tr>\n",
       "    <th>p</th>\n",
       "    <td>8438</td>\n",
       "    <td>80.86</td>\n",
       "    <td><b>100</b></td>\n",
       "</tr>\n",
       "\n",
       "<tr>\n",
       "    <th>postscriptum</th>\n",
       "    <td>56</td>\n",
       "    <td>46.79</td>\n",
       "    <td>0</td>\n",
       "</tr>\n",
       "\n",
       "<tr>\n",
       "    <th>head</th>\n",
       "    <td>725</td>\n",
       "    <td>23.37</td>\n",
       "    <td>2</td>\n",
       "</tr>\n",
       "\n",
       "<tr>\n",
       "    <th>address</th>\n",
       "    <td>86</td>\n",
       "    <td>15.22</td>\n",
       "    <td>0</td>\n",
       "</tr>\n",
       "\n",
       "<tr>\n",
       "    <th>closer</th>\n",
       "    <td>541</td>\n",
       "    <td>13.10</td>\n",
       "    <td>1</td>\n",
       "</tr>\n",
       "\n",
       "<tr>\n",
       "    <th>hi</th>\n",
       "    <td>5972</td>\n",
       "    <td>4.63</td>\n",
       "    <td>4</td>\n",
       "</tr>\n",
       "\n",
       "<tr>\n",
       "    <th>opener</th>\n",
       "    <td>545</td>\n",
       "    <td>1.97</td>\n",
       "    <td>0</td>\n",
       "</tr>\n",
       "\n",
       "<tr>\n",
       "    <th>formula</th>\n",
       "    <td>6200</td>\n",
       "    <td>1.27</td>\n",
       "    <td>1</td>\n",
       "</tr>\n",
       "\n",
       "<tr>\n",
       "    <th>figure</th>\n",
       "    <td>319</td>\n",
       "    <td>1.00</td>\n",
       "    <td>0</td>\n",
       "</tr>\n",
       "\n",
       "<tr>\n",
       "    <th><i>word</i></th>\n",
       "    <td>682300</td>\n",
       "    <td>1.00</td>\n",
       "    <td><b>100</b></td>\n",
       "</tr>\n",
       "</table></details>\n",
       "            <b>Sets:</b> no custom sets<br>\n",
       "            <b>Features:</b><br>\n",
       "<details><summary><b>Descartes = Descartes, all letters</b></summary>\n",
       "    <div class=\"fcorpus\">\n",
       "\n",
       "<div class=\"frow\">\n",
       "    <div class=\"fnamecat \">\n",
       "<a target=\"_blank\" href=\"https://CLARIAH.github.io/descartes-tf/features/alt_date\" title=\"~/github/CLARIAH/descartes-tf/tf/0.9/alt_date.tf\">alt_date</a>\n",
       "</div>\n",
       "<div class=\"fmono\">str</div>\n",
       "\n",
       "<details>\n",
       "    <summary>alternative date of a letter</summary>\n",
       "    <div class=\"fmeta\">\n",
       "\n",
       "<div class=\"fmetarow\">\n",
       "    <div class=\"fmetakey\">author:</div>\n",
       "    <div>René Descartes</div>\n",
       "</div>\n",
       "\n",
       "<div class=\"fmetarow\">\n",
       "    <div class=\"fmetakey\">contributors:</div>\n",
       "    <div>Erik-Jan Bos; Katsuzo Murakami (University of Tokyo); Meguru Sasaki (École normale superieure d'Hokkaido); Takehumi Tokoro (University of Chyuo)</div>\n",
       "</div>\n",
       "\n",
       "<div class=\"fmetarow\">\n",
       "    <div class=\"fmetakey\">converters:</div>\n",
       "    <div>Dirk Roorda (Text-Fabric)</div>\n",
       "</div>\n",
       "\n",
       "<div class=\"fmetarow\">\n",
       "    <div class=\"fmetakey\">dateWritten:</div>\n",
       "    <div>2023-01-10T14:11:11Z</div>\n",
       "</div>\n",
       "\n",
       "<div class=\"fmetarow\">\n",
       "    <div class=\"fmetakey\">descriptionTf:</div>\n",
       "    <div>Critical edition with various variants</div>\n",
       "</div>\n",
       "\n",
       "<div class=\"fmetarow\">\n",
       "    <div class=\"fmetakey\">institute:</div>\n",
       "    <div>KNAW/Huygens Amsterdam</div>\n",
       "</div>\n",
       "\n",
       "<div class=\"fmetarow\">\n",
       "    <div class=\"fmetakey\">language:</div>\n",
       "    <div>nld</div>\n",
       "</div>\n",
       "\n",
       "<div class=\"fmetarow\">\n",
       "    <div class=\"fmetakey\">sourceFormat:</div>\n",
       "    <div>TEI</div>\n",
       "</div>\n",
       "\n",
       "<div class=\"fmetarow\">\n",
       "    <div class=\"fmetakey\">writtenBy:</div>\n",
       "    <div>Text-Fabric</div>\n",
       "</div>\n",
       "\n",
       "    </div>\n",
       "</details>\n",
       "\n",
       "</div>\n",
       "\n",
       "<div class=\"frow\">\n",
       "    <div class=\"fnamecat \">\n",
       "<a target=\"_blank\" href=\"https://CLARIAH.github.io/descartes-tf/features/alt_id\" title=\"~/github/CLARIAH/descartes-tf/tf/0.9/alt_id.tf\">alt_id</a>\n",
       "</div>\n",
       "<div class=\"fmono\">str</div>\n",
       "\n",
       "<details>\n",
       "    <summary>alternative ids of a letter, comma separated</summary>\n",
       "    <div class=\"fmeta\">\n",
       "\n",
       "<div class=\"fmetarow\">\n",
       "    <div class=\"fmetakey\">author:</div>\n",
       "    <div>René Descartes</div>\n",
       "</div>\n",
       "\n",
       "<div class=\"fmetarow\">\n",
       "    <div class=\"fmetakey\">contributors:</div>\n",
       "    <div>Erik-Jan Bos; Katsuzo Murakami (University of Tokyo); Meguru Sasaki (École normale superieure d'Hokkaido); Takehumi Tokoro (University of Chyuo)</div>\n",
       "</div>\n",
       "\n",
       "<div class=\"fmetarow\">\n",
       "    <div class=\"fmetakey\">converters:</div>\n",
       "    <div>Dirk Roorda (Text-Fabric)</div>\n",
       "</div>\n",
       "\n",
       "<div class=\"fmetarow\">\n",
       "    <div class=\"fmetakey\">dateWritten:</div>\n",
       "    <div>2023-01-10T14:11:11Z</div>\n",
       "</div>\n",
       "\n",
       "<div class=\"fmetarow\">\n",
       "    <div class=\"fmetakey\">descriptionTf:</div>\n",
       "    <div>Critical edition with various variants</div>\n",
       "</div>\n",
       "\n",
       "<div class=\"fmetarow\">\n",
       "    <div class=\"fmetakey\">institute:</div>\n",
       "    <div>KNAW/Huygens Amsterdam</div>\n",
       "</div>\n",
       "\n",
       "<div class=\"fmetarow\">\n",
       "    <div class=\"fmetakey\">language:</div>\n",
       "    <div>nld</div>\n",
       "</div>\n",
       "\n",
       "<div class=\"fmetarow\">\n",
       "    <div class=\"fmetakey\">sourceFormat:</div>\n",
       "    <div>TEI</div>\n",
       "</div>\n",
       "\n",
       "<div class=\"fmetarow\">\n",
       "    <div class=\"fmetakey\">writtenBy:</div>\n",
       "    <div>Text-Fabric</div>\n",
       "</div>\n",
       "\n",
       "    </div>\n",
       "</details>\n",
       "\n",
       "</div>\n",
       "\n",
       "<div class=\"frow\">\n",
       "    <div class=\"fnamecat \">\n",
       "<a target=\"_blank\" href=\"https://CLARIAH.github.io/descartes-tf/features/cert\" title=\"~/github/CLARIAH/descartes-tf/tf/0.9/cert.tf\">cert</a>\n",
       "</div>\n",
       "<div class=\"fmono\">str</div>\n",
       "\n",
       "<details>\n",
       "    <summary>certainty of something</summary>\n",
       "    <div class=\"fmeta\">\n",
       "\n",
       "<div class=\"fmetarow\">\n",
       "    <div class=\"fmetakey\">author:</div>\n",
       "    <div>René Descartes</div>\n",
       "</div>\n",
       "\n",
       "<div class=\"fmetarow\">\n",
       "    <div class=\"fmetakey\">contributors:</div>\n",
       "    <div>Erik-Jan Bos; Katsuzo Murakami (University of Tokyo); Meguru Sasaki (École normale superieure d'Hokkaido); Takehumi Tokoro (University of Chyuo)</div>\n",
       "</div>\n",
       "\n",
       "<div class=\"fmetarow\">\n",
       "    <div class=\"fmetakey\">converters:</div>\n",
       "    <div>Dirk Roorda (Text-Fabric)</div>\n",
       "</div>\n",
       "\n",
       "<div class=\"fmetarow\">\n",
       "    <div class=\"fmetakey\">dateWritten:</div>\n",
       "    <div>2023-01-10T14:11:11Z</div>\n",
       "</div>\n",
       "\n",
       "<div class=\"fmetarow\">\n",
       "    <div class=\"fmetakey\">descriptionTf:</div>\n",
       "    <div>Critical edition with various variants</div>\n",
       "</div>\n",
       "\n",
       "<div class=\"fmetarow\">\n",
       "    <div class=\"fmetakey\">institute:</div>\n",
       "    <div>KNAW/Huygens Amsterdam</div>\n",
       "</div>\n",
       "\n",
       "<div class=\"fmetarow\">\n",
       "    <div class=\"fmetakey\">language:</div>\n",
       "    <div>nld</div>\n",
       "</div>\n",
       "\n",
       "<div class=\"fmetarow\">\n",
       "    <div class=\"fmetakey\">sourceFormat:</div>\n",
       "    <div>TEI</div>\n",
       "</div>\n",
       "\n",
       "<div class=\"fmetarow\">\n",
       "    <div class=\"fmetakey\">values:</div>\n",
       "    <div>senderloc:low recipientloc:high</div>\n",
       "</div>\n",
       "\n",
       "<div class=\"fmetarow\">\n",
       "    <div class=\"fmetakey\">writtenBy:</div>\n",
       "    <div>Text-Fabric</div>\n",
       "</div>\n",
       "\n",
       "    </div>\n",
       "</details>\n",
       "\n",
       "</div>\n",
       "\n",
       "<div class=\"frow\">\n",
       "    <div class=\"fnamecat \">\n",
       "<a target=\"_blank\" href=\"https://CLARIAH.github.io/descartes-tf/features/date\" title=\"~/github/CLARIAH/descartes-tf/tf/0.9/date.tf\">date</a>\n",
       "</div>\n",
       "<div class=\"fmono\">str</div>\n",
       "\n",
       "<details>\n",
       "    <summary>date of a letter</summary>\n",
       "    <div class=\"fmeta\">\n",
       "\n",
       "<div class=\"fmetarow\">\n",
       "    <div class=\"fmetakey\">author:</div>\n",
       "    <div>René Descartes</div>\n",
       "</div>\n",
       "\n",
       "<div class=\"fmetarow\">\n",
       "    <div class=\"fmetakey\">contributors:</div>\n",
       "    <div>Erik-Jan Bos; Katsuzo Murakami (University of Tokyo); Meguru Sasaki (École normale superieure d'Hokkaido); Takehumi Tokoro (University of Chyuo)</div>\n",
       "</div>\n",
       "\n",
       "<div class=\"fmetarow\">\n",
       "    <div class=\"fmetakey\">converters:</div>\n",
       "    <div>Dirk Roorda (Text-Fabric)</div>\n",
       "</div>\n",
       "\n",
       "<div class=\"fmetarow\">\n",
       "    <div class=\"fmetakey\">dateWritten:</div>\n",
       "    <div>2023-01-10T14:11:11Z</div>\n",
       "</div>\n",
       "\n",
       "<div class=\"fmetarow\">\n",
       "    <div class=\"fmetakey\">descriptionTf:</div>\n",
       "    <div>Critical edition with various variants</div>\n",
       "</div>\n",
       "\n",
       "<div class=\"fmetarow\">\n",
       "    <div class=\"fmetakey\">institute:</div>\n",
       "    <div>KNAW/Huygens Amsterdam</div>\n",
       "</div>\n",
       "\n",
       "<div class=\"fmetarow\">\n",
       "    <div class=\"fmetakey\">language:</div>\n",
       "    <div>nld</div>\n",
       "</div>\n",
       "\n",
       "<div class=\"fmetarow\">\n",
       "    <div class=\"fmetakey\">sourceFormat:</div>\n",
       "    <div>TEI</div>\n",
       "</div>\n",
       "\n",
       "<div class=\"fmetarow\">\n",
       "    <div class=\"fmetakey\">writtenBy:</div>\n",
       "    <div>Text-Fabric</div>\n",
       "</div>\n",
       "\n",
       "    </div>\n",
       "</details>\n",
       "\n",
       "</div>\n",
       "\n",
       "<div class=\"frow\">\n",
       "    <div class=\"fnamecat \">\n",
       "<a target=\"_blank\" href=\"https://CLARIAH.github.io/descartes-tf/features/id\" title=\"~/github/CLARIAH/descartes-tf/tf/0.9/id.tf\">id</a>\n",
       "</div>\n",
       "<div class=\"fmono\">str</div>\n",
       "\n",
       "<details>\n",
       "    <summary>id of a letter</summary>\n",
       "    <div class=\"fmeta\">\n",
       "\n",
       "<div class=\"fmetarow\">\n",
       "    <div class=\"fmetakey\">author:</div>\n",
       "    <div>René Descartes</div>\n",
       "</div>\n",
       "\n",
       "<div class=\"fmetarow\">\n",
       "    <div class=\"fmetakey\">contributors:</div>\n",
       "    <div>Erik-Jan Bos; Katsuzo Murakami (University of Tokyo); Meguru Sasaki (École normale superieure d'Hokkaido); Takehumi Tokoro (University of Chyuo)</div>\n",
       "</div>\n",
       "\n",
       "<div class=\"fmetarow\">\n",
       "    <div class=\"fmetakey\">converters:</div>\n",
       "    <div>Dirk Roorda (Text-Fabric)</div>\n",
       "</div>\n",
       "\n",
       "<div class=\"fmetarow\">\n",
       "    <div class=\"fmetakey\">dateWritten:</div>\n",
       "    <div>2023-01-10T14:11:11Z</div>\n",
       "</div>\n",
       "\n",
       "<div class=\"fmetarow\">\n",
       "    <div class=\"fmetakey\">descriptionTf:</div>\n",
       "    <div>Critical edition with various variants</div>\n",
       "</div>\n",
       "\n",
       "<div class=\"fmetarow\">\n",
       "    <div class=\"fmetakey\">institute:</div>\n",
       "    <div>KNAW/Huygens Amsterdam</div>\n",
       "</div>\n",
       "\n",
       "<div class=\"fmetarow\">\n",
       "    <div class=\"fmetakey\">language:</div>\n",
       "    <div>nld</div>\n",
       "</div>\n",
       "\n",
       "<div class=\"fmetarow\">\n",
       "    <div class=\"fmetakey\">sourceFormat:</div>\n",
       "    <div>TEI</div>\n",
       "</div>\n",
       "\n",
       "<div class=\"fmetarow\">\n",
       "    <div class=\"fmetakey\">writtenBy:</div>\n",
       "    <div>Text-Fabric</div>\n",
       "</div>\n",
       "\n",
       "    </div>\n",
       "</details>\n",
       "\n",
       "</div>\n",
       "\n",
       "<div class=\"frow\">\n",
       "    <div class=\"fnamecat \">\n",
       "<a target=\"_blank\" href=\"https://CLARIAH.github.io/descartes-tf/features/intermediary\" title=\"~/github/CLARIAH/descartes-tf/tf/0.9/intermediary.tf\">intermediary</a>\n",
       "</div>\n",
       "<div class=\"fmono\">str</div>\n",
       "\n",
       "<details>\n",
       "    <summary>person involved in the transmission of the letter from sender to receiver</summary>\n",
       "    <div class=\"fmeta\">\n",
       "\n",
       "<div class=\"fmetarow\">\n",
       "    <div class=\"fmetakey\">author:</div>\n",
       "    <div>René Descartes</div>\n",
       "</div>\n",
       "\n",
       "<div class=\"fmetarow\">\n",
       "    <div class=\"fmetakey\">contributors:</div>\n",
       "    <div>Erik-Jan Bos; Katsuzo Murakami (University of Tokyo); Meguru Sasaki (École normale superieure d'Hokkaido); Takehumi Tokoro (University of Chyuo)</div>\n",
       "</div>\n",
       "\n",
       "<div class=\"fmetarow\">\n",
       "    <div class=\"fmetakey\">converters:</div>\n",
       "    <div>Dirk Roorda (Text-Fabric)</div>\n",
       "</div>\n",
       "\n",
       "<div class=\"fmetarow\">\n",
       "    <div class=\"fmetakey\">dateWritten:</div>\n",
       "    <div>2023-01-10T14:11:11Z</div>\n",
       "</div>\n",
       "\n",
       "<div class=\"fmetarow\">\n",
       "    <div class=\"fmetakey\">descriptionTf:</div>\n",
       "    <div>Critical edition with various variants</div>\n",
       "</div>\n",
       "\n",
       "<div class=\"fmetarow\">\n",
       "    <div class=\"fmetakey\">institute:</div>\n",
       "    <div>KNAW/Huygens Amsterdam</div>\n",
       "</div>\n",
       "\n",
       "<div class=\"fmetarow\">\n",
       "    <div class=\"fmetakey\">language:</div>\n",
       "    <div>nld</div>\n",
       "</div>\n",
       "\n",
       "<div class=\"fmetarow\">\n",
       "    <div class=\"fmetakey\">sourceFormat:</div>\n",
       "    <div>TEI</div>\n",
       "</div>\n",
       "\n",
       "<div class=\"fmetarow\">\n",
       "    <div class=\"fmetakey\">writtenBy:</div>\n",
       "    <div>Text-Fabric</div>\n",
       "</div>\n",
       "\n",
       "    </div>\n",
       "</details>\n",
       "\n",
       "</div>\n",
       "\n",
       "<div class=\"frow\">\n",
       "    <div class=\"fnamecat \">\n",
       "<a target=\"_blank\" href=\"https://CLARIAH.github.io/descartes-tf/features/isitalic\" title=\"~/github/CLARIAH/descartes-tf/tf/0.9/isitalic.tf\">isitalic</a>\n",
       "</div>\n",
       "<div class=\"fmono\">str</div>\n",
       "\n",
       "<details>\n",
       "    <summary>whether the word is in italic</summary>\n",
       "    <div class=\"fmeta\">\n",
       "\n",
       "<div class=\"fmetarow\">\n",
       "    <div class=\"fmetakey\">author:</div>\n",
       "    <div>René Descartes</div>\n",
       "</div>\n",
       "\n",
       "<div class=\"fmetarow\">\n",
       "    <div class=\"fmetakey\">contributors:</div>\n",
       "    <div>Erik-Jan Bos; Katsuzo Murakami (University of Tokyo); Meguru Sasaki (École normale superieure d'Hokkaido); Takehumi Tokoro (University of Chyuo)</div>\n",
       "</div>\n",
       "\n",
       "<div class=\"fmetarow\">\n",
       "    <div class=\"fmetakey\">converters:</div>\n",
       "    <div>Dirk Roorda (Text-Fabric)</div>\n",
       "</div>\n",
       "\n",
       "<div class=\"fmetarow\">\n",
       "    <div class=\"fmetakey\">dateWritten:</div>\n",
       "    <div>2023-01-10T14:11:11Z</div>\n",
       "</div>\n",
       "\n",
       "<div class=\"fmetarow\">\n",
       "    <div class=\"fmetakey\">descriptionTf:</div>\n",
       "    <div>Critical edition with various variants</div>\n",
       "</div>\n",
       "\n",
       "<div class=\"fmetarow\">\n",
       "    <div class=\"fmetakey\">institute:</div>\n",
       "    <div>KNAW/Huygens Amsterdam</div>\n",
       "</div>\n",
       "\n",
       "<div class=\"fmetarow\">\n",
       "    <div class=\"fmetakey\">language:</div>\n",
       "    <div>nld</div>\n",
       "</div>\n",
       "\n",
       "<div class=\"fmetarow\">\n",
       "    <div class=\"fmetakey\">sourceFormat:</div>\n",
       "    <div>TEI</div>\n",
       "</div>\n",
       "\n",
       "<div class=\"fmetarow\">\n",
       "    <div class=\"fmetakey\">writtenBy:</div>\n",
       "    <div>Text-Fabric</div>\n",
       "</div>\n",
       "\n",
       "    </div>\n",
       "</details>\n",
       "\n",
       "</div>\n",
       "\n",
       "<div class=\"frow\">\n",
       "    <div class=\"fnamecat \">\n",
       "<a target=\"_blank\" href=\"https://CLARIAH.github.io/descartes-tf/features/ismargin\" title=\"~/github/CLARIAH/descartes-tf/tf/0.9/ismargin.tf\">ismargin</a>\n",
       "</div>\n",
       "<div class=\"fmono\">str</div>\n",
       "\n",
       "<details>\n",
       "    <summary>whether the word is in the margin</summary>\n",
       "    <div class=\"fmeta\">\n",
       "\n",
       "<div class=\"fmetarow\">\n",
       "    <div class=\"fmetakey\">author:</div>\n",
       "    <div>René Descartes</div>\n",
       "</div>\n",
       "\n",
       "<div class=\"fmetarow\">\n",
       "    <div class=\"fmetakey\">contributors:</div>\n",
       "    <div>Erik-Jan Bos; Katsuzo Murakami (University of Tokyo); Meguru Sasaki (École normale superieure d'Hokkaido); Takehumi Tokoro (University of Chyuo)</div>\n",
       "</div>\n",
       "\n",
       "<div class=\"fmetarow\">\n",
       "    <div class=\"fmetakey\">converters:</div>\n",
       "    <div>Dirk Roorda (Text-Fabric)</div>\n",
       "</div>\n",
       "\n",
       "<div class=\"fmetarow\">\n",
       "    <div class=\"fmetakey\">dateWritten:</div>\n",
       "    <div>2023-01-10T14:11:11Z</div>\n",
       "</div>\n",
       "\n",
       "<div class=\"fmetarow\">\n",
       "    <div class=\"fmetakey\">descriptionTf:</div>\n",
       "    <div>Critical edition with various variants</div>\n",
       "</div>\n",
       "\n",
       "<div class=\"fmetarow\">\n",
       "    <div class=\"fmetakey\">institute:</div>\n",
       "    <div>KNAW/Huygens Amsterdam</div>\n",
       "</div>\n",
       "\n",
       "<div class=\"fmetarow\">\n",
       "    <div class=\"fmetakey\">language:</div>\n",
       "    <div>nld</div>\n",
       "</div>\n",
       "\n",
       "<div class=\"fmetarow\">\n",
       "    <div class=\"fmetakey\">sourceFormat:</div>\n",
       "    <div>TEI</div>\n",
       "</div>\n",
       "\n",
       "<div class=\"fmetarow\">\n",
       "    <div class=\"fmetakey\">writtenBy:</div>\n",
       "    <div>Text-Fabric</div>\n",
       "</div>\n",
       "\n",
       "    </div>\n",
       "</details>\n",
       "\n",
       "</div>\n",
       "\n",
       "<div class=\"frow\">\n",
       "    <div class=\"fnamecat \">\n",
       "<a target=\"_blank\" href=\"https://CLARIAH.github.io/descartes-tf/features/issub\" title=\"~/github/CLARIAH/descartes-tf/tf/0.9/issub.tf\">issub</a>\n",
       "</div>\n",
       "<div class=\"fmono\">str</div>\n",
       "\n",
       "<details>\n",
       "    <summary>whether the word is in subscript</summary>\n",
       "    <div class=\"fmeta\">\n",
       "\n",
       "<div class=\"fmetarow\">\n",
       "    <div class=\"fmetakey\">author:</div>\n",
       "    <div>René Descartes</div>\n",
       "</div>\n",
       "\n",
       "<div class=\"fmetarow\">\n",
       "    <div class=\"fmetakey\">contributors:</div>\n",
       "    <div>Erik-Jan Bos; Katsuzo Murakami (University of Tokyo); Meguru Sasaki (École normale superieure d'Hokkaido); Takehumi Tokoro (University of Chyuo)</div>\n",
       "</div>\n",
       "\n",
       "<div class=\"fmetarow\">\n",
       "    <div class=\"fmetakey\">converters:</div>\n",
       "    <div>Dirk Roorda (Text-Fabric)</div>\n",
       "</div>\n",
       "\n",
       "<div class=\"fmetarow\">\n",
       "    <div class=\"fmetakey\">dateWritten:</div>\n",
       "    <div>2023-01-10T14:11:11Z</div>\n",
       "</div>\n",
       "\n",
       "<div class=\"fmetarow\">\n",
       "    <div class=\"fmetakey\">descriptionTf:</div>\n",
       "    <div>Critical edition with various variants</div>\n",
       "</div>\n",
       "\n",
       "<div class=\"fmetarow\">\n",
       "    <div class=\"fmetakey\">institute:</div>\n",
       "    <div>KNAW/Huygens Amsterdam</div>\n",
       "</div>\n",
       "\n",
       "<div class=\"fmetarow\">\n",
       "    <div class=\"fmetakey\">language:</div>\n",
       "    <div>nld</div>\n",
       "</div>\n",
       "\n",
       "<div class=\"fmetarow\">\n",
       "    <div class=\"fmetakey\">sourceFormat:</div>\n",
       "    <div>TEI</div>\n",
       "</div>\n",
       "\n",
       "<div class=\"fmetarow\">\n",
       "    <div class=\"fmetakey\">writtenBy:</div>\n",
       "    <div>Text-Fabric</div>\n",
       "</div>\n",
       "\n",
       "    </div>\n",
       "</details>\n",
       "\n",
       "</div>\n",
       "\n",
       "<div class=\"frow\">\n",
       "    <div class=\"fnamecat \">\n",
       "<a target=\"_blank\" href=\"https://CLARIAH.github.io/descartes-tf/features/issup\" title=\"~/github/CLARIAH/descartes-tf/tf/0.9/issup.tf\">issup</a>\n",
       "</div>\n",
       "<div class=\"fmono\">str</div>\n",
       "\n",
       "<details>\n",
       "    <summary>whether the word is in supscript</summary>\n",
       "    <div class=\"fmeta\">\n",
       "\n",
       "<div class=\"fmetarow\">\n",
       "    <div class=\"fmetakey\">author:</div>\n",
       "    <div>René Descartes</div>\n",
       "</div>\n",
       "\n",
       "<div class=\"fmetarow\">\n",
       "    <div class=\"fmetakey\">contributors:</div>\n",
       "    <div>Erik-Jan Bos; Katsuzo Murakami (University of Tokyo); Meguru Sasaki (École normale superieure d'Hokkaido); Takehumi Tokoro (University of Chyuo)</div>\n",
       "</div>\n",
       "\n",
       "<div class=\"fmetarow\">\n",
       "    <div class=\"fmetakey\">converters:</div>\n",
       "    <div>Dirk Roorda (Text-Fabric)</div>\n",
       "</div>\n",
       "\n",
       "<div class=\"fmetarow\">\n",
       "    <div class=\"fmetakey\">dateWritten:</div>\n",
       "    <div>2023-01-10T14:11:11Z</div>\n",
       "</div>\n",
       "\n",
       "<div class=\"fmetarow\">\n",
       "    <div class=\"fmetakey\">descriptionTf:</div>\n",
       "    <div>Critical edition with various variants</div>\n",
       "</div>\n",
       "\n",
       "<div class=\"fmetarow\">\n",
       "    <div class=\"fmetakey\">institute:</div>\n",
       "    <div>KNAW/Huygens Amsterdam</div>\n",
       "</div>\n",
       "\n",
       "<div class=\"fmetarow\">\n",
       "    <div class=\"fmetakey\">language:</div>\n",
       "    <div>nld</div>\n",
       "</div>\n",
       "\n",
       "<div class=\"fmetarow\">\n",
       "    <div class=\"fmetakey\">sourceFormat:</div>\n",
       "    <div>TEI</div>\n",
       "</div>\n",
       "\n",
       "<div class=\"fmetarow\">\n",
       "    <div class=\"fmetakey\">writtenBy:</div>\n",
       "    <div>Text-Fabric</div>\n",
       "</div>\n",
       "\n",
       "    </div>\n",
       "</details>\n",
       "\n",
       "</div>\n",
       "\n",
       "<div class=\"frow\">\n",
       "    <div class=\"fnamecat \">\n",
       "<a target=\"_blank\" href=\"https://CLARIAH.github.io/descartes-tf/features/language\" title=\"~/github/CLARIAH/descartes-tf/tf/0.9/language.tf\">language</a>\n",
       "</div>\n",
       "<div class=\"fmono\">str</div>\n",
       "\n",
       "<details>\n",
       "    <summary>language of a letter</summary>\n",
       "    <div class=\"fmeta\">\n",
       "\n",
       "<div class=\"fmetarow\">\n",
       "    <div class=\"fmetakey\">author:</div>\n",
       "    <div>René Descartes</div>\n",
       "</div>\n",
       "\n",
       "<div class=\"fmetarow\">\n",
       "    <div class=\"fmetakey\">contributors:</div>\n",
       "    <div>Erik-Jan Bos; Katsuzo Murakami (University of Tokyo); Meguru Sasaki (École normale superieure d'Hokkaido); Takehumi Tokoro (University of Chyuo)</div>\n",
       "</div>\n",
       "\n",
       "<div class=\"fmetarow\">\n",
       "    <div class=\"fmetakey\">converters:</div>\n",
       "    <div>Dirk Roorda (Text-Fabric)</div>\n",
       "</div>\n",
       "\n",
       "<div class=\"fmetarow\">\n",
       "    <div class=\"fmetakey\">dateWritten:</div>\n",
       "    <div>2023-01-10T14:11:11Z</div>\n",
       "</div>\n",
       "\n",
       "<div class=\"fmetarow\">\n",
       "    <div class=\"fmetakey\">descriptionTf:</div>\n",
       "    <div>Critical edition with various variants</div>\n",
       "</div>\n",
       "\n",
       "<div class=\"fmetarow\">\n",
       "    <div class=\"fmetakey\">institute:</div>\n",
       "    <div>KNAW/Huygens Amsterdam</div>\n",
       "</div>\n",
       "\n",
       "<div class=\"fmetarow\">\n",
       "    <div class=\"fmetakey\">language:</div>\n",
       "    <div>nld</div>\n",
       "</div>\n",
       "\n",
       "<div class=\"fmetarow\">\n",
       "    <div class=\"fmetakey\">sourceFormat:</div>\n",
       "    <div>TEI</div>\n",
       "</div>\n",
       "\n",
       "<div class=\"fmetarow\">\n",
       "    <div class=\"fmetakey\">writtenBy:</div>\n",
       "    <div>Text-Fabric</div>\n",
       "</div>\n",
       "\n",
       "    </div>\n",
       "</details>\n",
       "\n",
       "</div>\n",
       "\n",
       "<div class=\"frow\">\n",
       "    <div class=\"fnamecat \">\n",
       "<a target=\"_blank\" href=\"https://CLARIAH.github.io/descartes-tf/features/level\" title=\"~/github/CLARIAH/descartes-tf/tf/0.9/level.tf\">level</a>\n",
       "</div>\n",
       "<div class=\"fmono\">str</div>\n",
       "\n",
       "<details>\n",
       "    <summary>level of a paragraph when it acts like a heading</summary>\n",
       "    <div class=\"fmeta\">\n",
       "\n",
       "<div class=\"fmetarow\">\n",
       "    <div class=\"fmetakey\">author:</div>\n",
       "    <div>René Descartes</div>\n",
       "</div>\n",
       "\n",
       "<div class=\"fmetarow\">\n",
       "    <div class=\"fmetakey\">contributors:</div>\n",
       "    <div>Erik-Jan Bos; Katsuzo Murakami (University of Tokyo); Meguru Sasaki (École normale superieure d'Hokkaido); Takehumi Tokoro (University of Chyuo)</div>\n",
       "</div>\n",
       "\n",
       "<div class=\"fmetarow\">\n",
       "    <div class=\"fmetakey\">converters:</div>\n",
       "    <div>Dirk Roorda (Text-Fabric)</div>\n",
       "</div>\n",
       "\n",
       "<div class=\"fmetarow\">\n",
       "    <div class=\"fmetakey\">dateWritten:</div>\n",
       "    <div>2023-01-10T14:11:11Z</div>\n",
       "</div>\n",
       "\n",
       "<div class=\"fmetarow\">\n",
       "    <div class=\"fmetakey\">descriptionTf:</div>\n",
       "    <div>Critical edition with various variants</div>\n",
       "</div>\n",
       "\n",
       "<div class=\"fmetarow\">\n",
       "    <div class=\"fmetakey\">institute:</div>\n",
       "    <div>KNAW/Huygens Amsterdam</div>\n",
       "</div>\n",
       "\n",
       "<div class=\"fmetarow\">\n",
       "    <div class=\"fmetakey\">language:</div>\n",
       "    <div>nld</div>\n",
       "</div>\n",
       "\n",
       "<div class=\"fmetarow\">\n",
       "    <div class=\"fmetakey\">sourceFormat:</div>\n",
       "    <div>TEI</div>\n",
       "</div>\n",
       "\n",
       "<div class=\"fmetarow\">\n",
       "    <div class=\"fmetakey\">writtenBy:</div>\n",
       "    <div>Text-Fabric</div>\n",
       "</div>\n",
       "\n",
       "    </div>\n",
       "</details>\n",
       "\n",
       "</div>\n",
       "\n",
       "<div class=\"frow\">\n",
       "    <div class=\"fnamecat \">\n",
       "<a target=\"_blank\" href=\"https://CLARIAH.github.io/descartes-tf/features/n\" title=\"~/github/CLARIAH/descartes-tf/tf/0.9/n.tf\">n</a>\n",
       "</div>\n",
       "<div class=\"fmono\">int</div>\n",
       "\n",
       "<details>\n",
       "    <summary>number of whatever element</summary>\n",
       "    <div class=\"fmeta\">\n",
       "\n",
       "<div class=\"fmetarow\">\n",
       "    <div class=\"fmetakey\">author:</div>\n",
       "    <div>René Descartes</div>\n",
       "</div>\n",
       "\n",
       "<div class=\"fmetarow\">\n",
       "    <div class=\"fmetakey\">contributors:</div>\n",
       "    <div>Erik-Jan Bos; Katsuzo Murakami (University of Tokyo); Meguru Sasaki (École normale superieure d'Hokkaido); Takehumi Tokoro (University of Chyuo)</div>\n",
       "</div>\n",
       "\n",
       "<div class=\"fmetarow\">\n",
       "    <div class=\"fmetakey\">converters:</div>\n",
       "    <div>Dirk Roorda (Text-Fabric)</div>\n",
       "</div>\n",
       "\n",
       "<div class=\"fmetarow\">\n",
       "    <div class=\"fmetakey\">dateWritten:</div>\n",
       "    <div>2023-01-10T14:11:11Z</div>\n",
       "</div>\n",
       "\n",
       "<div class=\"fmetarow\">\n",
       "    <div class=\"fmetakey\">descriptionTf:</div>\n",
       "    <div>Critical edition with various variants</div>\n",
       "</div>\n",
       "\n",
       "<div class=\"fmetarow\">\n",
       "    <div class=\"fmetakey\">institute:</div>\n",
       "    <div>KNAW/Huygens Amsterdam</div>\n",
       "</div>\n",
       "\n",
       "<div class=\"fmetarow\">\n",
       "    <div class=\"fmetakey\">language:</div>\n",
       "    <div>nld</div>\n",
       "</div>\n",
       "\n",
       "<div class=\"fmetarow\">\n",
       "    <div class=\"fmetakey\">sourceFormat:</div>\n",
       "    <div>TEI</div>\n",
       "</div>\n",
       "\n",
       "<div class=\"fmetarow\">\n",
       "    <div class=\"fmetakey\">writtenBy:</div>\n",
       "    <div>Text-Fabric</div>\n",
       "</div>\n",
       "\n",
       "    </div>\n",
       "</details>\n",
       "\n",
       "</div>\n",
       "\n",
       "<div class=\"frow\">\n",
       "    <div class=\"fnamecat \">\n",
       "<a target=\"_blank\" href=\"https://CLARIAH.github.io/descartes-tf/features/notation\" title=\"~/github/CLARIAH/descartes-tf/tf/0.9/notation.tf\">notation</a>\n",
       "</div>\n",
       "<div class=\"fmono\">str</div>\n",
       "\n",
       "<details>\n",
       "    <summary>formalism used (TeX)</summary>\n",
       "    <div class=\"fmeta\">\n",
       "\n",
       "<div class=\"fmetarow\">\n",
       "    <div class=\"fmetakey\">author:</div>\n",
       "    <div>René Descartes</div>\n",
       "</div>\n",
       "\n",
       "<div class=\"fmetarow\">\n",
       "    <div class=\"fmetakey\">contributors:</div>\n",
       "    <div>Erik-Jan Bos; Katsuzo Murakami (University of Tokyo); Meguru Sasaki (École normale superieure d'Hokkaido); Takehumi Tokoro (University of Chyuo)</div>\n",
       "</div>\n",
       "\n",
       "<div class=\"fmetarow\">\n",
       "    <div class=\"fmetakey\">converters:</div>\n",
       "    <div>Dirk Roorda (Text-Fabric)</div>\n",
       "</div>\n",
       "\n",
       "<div class=\"fmetarow\">\n",
       "    <div class=\"fmetakey\">dateWritten:</div>\n",
       "    <div>2023-01-10T14:11:11Z</div>\n",
       "</div>\n",
       "\n",
       "<div class=\"fmetarow\">\n",
       "    <div class=\"fmetakey\">descriptionTf:</div>\n",
       "    <div>Critical edition with various variants</div>\n",
       "</div>\n",
       "\n",
       "<div class=\"fmetarow\">\n",
       "    <div class=\"fmetakey\">institute:</div>\n",
       "    <div>KNAW/Huygens Amsterdam</div>\n",
       "</div>\n",
       "\n",
       "<div class=\"fmetarow\">\n",
       "    <div class=\"fmetakey\">language:</div>\n",
       "    <div>nld</div>\n",
       "</div>\n",
       "\n",
       "<div class=\"fmetarow\">\n",
       "    <div class=\"fmetakey\">sourceFormat:</div>\n",
       "    <div>TEI</div>\n",
       "</div>\n",
       "\n",
       "<div class=\"fmetarow\">\n",
       "    <div class=\"fmetakey\">writtenBy:</div>\n",
       "    <div>Text-Fabric</div>\n",
       "</div>\n",
       "\n",
       "    </div>\n",
       "</details>\n",
       "\n",
       "</div>\n",
       "\n",
       "<div class=\"frow\">\n",
       "    <div class=\"fnamecat \">\n",
       "<a target=\"_blank\" href=\"https://CLARIAH.github.io/descartes-tf/features/otype\" title=\"~/github/CLARIAH/descartes-tf/tf/0.9/otype.tf\">otype</a>\n",
       "</div>\n",
       "<div class=\"fmono\">str</div>\n",
       "\n",
       "<details>\n",
       "    <summary></summary>\n",
       "    <div class=\"fmeta\">\n",
       "\n",
       "<div class=\"fmetarow\">\n",
       "    <div class=\"fmetakey\">author:</div>\n",
       "    <div>René Descartes</div>\n",
       "</div>\n",
       "\n",
       "<div class=\"fmetarow\">\n",
       "    <div class=\"fmetakey\">contributors:</div>\n",
       "    <div>Erik-Jan Bos; Katsuzo Murakami (University of Tokyo); Meguru Sasaki (École normale superieure d'Hokkaido); Takehumi Tokoro (University of Chyuo)</div>\n",
       "</div>\n",
       "\n",
       "<div class=\"fmetarow\">\n",
       "    <div class=\"fmetakey\">converters:</div>\n",
       "    <div>Dirk Roorda (Text-Fabric)</div>\n",
       "</div>\n",
       "\n",
       "<div class=\"fmetarow\">\n",
       "    <div class=\"fmetakey\">dateWritten:</div>\n",
       "    <div>2023-01-10T14:11:11Z</div>\n",
       "</div>\n",
       "\n",
       "<div class=\"fmetarow\">\n",
       "    <div class=\"fmetakey\">descriptionTf:</div>\n",
       "    <div>Critical edition with various variants</div>\n",
       "</div>\n",
       "\n",
       "<div class=\"fmetarow\">\n",
       "    <div class=\"fmetakey\">institute:</div>\n",
       "    <div>KNAW/Huygens Amsterdam</div>\n",
       "</div>\n",
       "\n",
       "<div class=\"fmetarow\">\n",
       "    <div class=\"fmetakey\">language:</div>\n",
       "    <div>nld</div>\n",
       "</div>\n",
       "\n",
       "<div class=\"fmetarow\">\n",
       "    <div class=\"fmetakey\">sourceFormat:</div>\n",
       "    <div>TEI</div>\n",
       "</div>\n",
       "\n",
       "<div class=\"fmetarow\">\n",
       "    <div class=\"fmetakey\">writtenBy:</div>\n",
       "    <div>Text-Fabric</div>\n",
       "</div>\n",
       "\n",
       "    </div>\n",
       "</details>\n",
       "\n",
       "</div>\n",
       "\n",
       "<div class=\"frow\">\n",
       "    <div class=\"fnamecat \">\n",
       "<a target=\"_blank\" href=\"https://CLARIAH.github.io/descartes-tf/features/punc\" title=\"~/github/CLARIAH/descartes-tf/tf/0.9/punc.tf\">punc</a>\n",
       "</div>\n",
       "<div class=\"fmono\">str</div>\n",
       "\n",
       "<details>\n",
       "    <summary>nonword chars after a word </summary>\n",
       "    <div class=\"fmeta\">\n",
       "\n",
       "<div class=\"fmetarow\">\n",
       "    <div class=\"fmetakey\">author:</div>\n",
       "    <div>René Descartes</div>\n",
       "</div>\n",
       "\n",
       "<div class=\"fmetarow\">\n",
       "    <div class=\"fmetakey\">contributors:</div>\n",
       "    <div>Erik-Jan Bos; Katsuzo Murakami (University of Tokyo); Meguru Sasaki (École normale superieure d'Hokkaido); Takehumi Tokoro (University of Chyuo)</div>\n",
       "</div>\n",
       "\n",
       "<div class=\"fmetarow\">\n",
       "    <div class=\"fmetakey\">converters:</div>\n",
       "    <div>Dirk Roorda (Text-Fabric)</div>\n",
       "</div>\n",
       "\n",
       "<div class=\"fmetarow\">\n",
       "    <div class=\"fmetakey\">dateWritten:</div>\n",
       "    <div>2023-01-10T14:11:12Z</div>\n",
       "</div>\n",
       "\n",
       "<div class=\"fmetarow\">\n",
       "    <div class=\"fmetakey\">descriptionTf:</div>\n",
       "    <div>Critical edition with various variants</div>\n",
       "</div>\n",
       "\n",
       "<div class=\"fmetarow\">\n",
       "    <div class=\"fmetakey\">institute:</div>\n",
       "    <div>KNAW/Huygens Amsterdam</div>\n",
       "</div>\n",
       "\n",
       "<div class=\"fmetarow\">\n",
       "    <div class=\"fmetakey\">language:</div>\n",
       "    <div>nld</div>\n",
       "</div>\n",
       "\n",
       "<div class=\"fmetarow\">\n",
       "    <div class=\"fmetakey\">sourceFormat:</div>\n",
       "    <div>TEI</div>\n",
       "</div>\n",
       "\n",
       "<div class=\"fmetarow\">\n",
       "    <div class=\"fmetakey\">writtenBy:</div>\n",
       "    <div>Text-Fabric</div>\n",
       "</div>\n",
       "\n",
       "    </div>\n",
       "</details>\n",
       "\n",
       "</div>\n",
       "\n",
       "<div class=\"frow\">\n",
       "    <div class=\"fnamecat \">\n",
       "<a target=\"_blank\" href=\"https://CLARIAH.github.io/descartes-tf/features/recipient\" title=\"~/github/CLARIAH/descartes-tf/tf/0.9/recipient.tf\">recipient</a>\n",
       "</div>\n",
       "<div class=\"fmono\">str</div>\n",
       "\n",
       "<details>\n",
       "    <summary>recipient of a letter</summary>\n",
       "    <div class=\"fmeta\">\n",
       "\n",
       "<div class=\"fmetarow\">\n",
       "    <div class=\"fmetakey\">author:</div>\n",
       "    <div>René Descartes</div>\n",
       "</div>\n",
       "\n",
       "<div class=\"fmetarow\">\n",
       "    <div class=\"fmetakey\">contributors:</div>\n",
       "    <div>Erik-Jan Bos; Katsuzo Murakami (University of Tokyo); Meguru Sasaki (École normale superieure d'Hokkaido); Takehumi Tokoro (University of Chyuo)</div>\n",
       "</div>\n",
       "\n",
       "<div class=\"fmetarow\">\n",
       "    <div class=\"fmetakey\">converters:</div>\n",
       "    <div>Dirk Roorda (Text-Fabric)</div>\n",
       "</div>\n",
       "\n",
       "<div class=\"fmetarow\">\n",
       "    <div class=\"fmetakey\">dateWritten:</div>\n",
       "    <div>2023-01-10T14:11:12Z</div>\n",
       "</div>\n",
       "\n",
       "<div class=\"fmetarow\">\n",
       "    <div class=\"fmetakey\">descriptionTf:</div>\n",
       "    <div>Critical edition with various variants</div>\n",
       "</div>\n",
       "\n",
       "<div class=\"fmetarow\">\n",
       "    <div class=\"fmetakey\">institute:</div>\n",
       "    <div>KNAW/Huygens Amsterdam</div>\n",
       "</div>\n",
       "\n",
       "<div class=\"fmetarow\">\n",
       "    <div class=\"fmetakey\">language:</div>\n",
       "    <div>nld</div>\n",
       "</div>\n",
       "\n",
       "<div class=\"fmetarow\">\n",
       "    <div class=\"fmetakey\">sourceFormat:</div>\n",
       "    <div>TEI</div>\n",
       "</div>\n",
       "\n",
       "<div class=\"fmetarow\">\n",
       "    <div class=\"fmetakey\">writtenBy:</div>\n",
       "    <div>Text-Fabric</div>\n",
       "</div>\n",
       "\n",
       "    </div>\n",
       "</details>\n",
       "\n",
       "</div>\n",
       "\n",
       "<div class=\"frow\">\n",
       "    <div class=\"fnamecat \">\n",
       "<a target=\"_blank\" href=\"https://CLARIAH.github.io/descartes-tf/features/recipientloc\" title=\"~/github/CLARIAH/descartes-tf/tf/0.9/recipientloc.tf\">recipientloc</a>\n",
       "</div>\n",
       "<div class=\"fmono\">str</div>\n",
       "\n",
       "<details>\n",
       "    <summary>location from where a letter was received</summary>\n",
       "    <div class=\"fmeta\">\n",
       "\n",
       "<div class=\"fmetarow\">\n",
       "    <div class=\"fmetakey\">author:</div>\n",
       "    <div>René Descartes</div>\n",
       "</div>\n",
       "\n",
       "<div class=\"fmetarow\">\n",
       "    <div class=\"fmetakey\">contributors:</div>\n",
       "    <div>Erik-Jan Bos; Katsuzo Murakami (University of Tokyo); Meguru Sasaki (École normale superieure d'Hokkaido); Takehumi Tokoro (University of Chyuo)</div>\n",
       "</div>\n",
       "\n",
       "<div class=\"fmetarow\">\n",
       "    <div class=\"fmetakey\">converters:</div>\n",
       "    <div>Dirk Roorda (Text-Fabric)</div>\n",
       "</div>\n",
       "\n",
       "<div class=\"fmetarow\">\n",
       "    <div class=\"fmetakey\">dateWritten:</div>\n",
       "    <div>2023-01-10T14:11:12Z</div>\n",
       "</div>\n",
       "\n",
       "<div class=\"fmetarow\">\n",
       "    <div class=\"fmetakey\">descriptionTf:</div>\n",
       "    <div>Critical edition with various variants</div>\n",
       "</div>\n",
       "\n",
       "<div class=\"fmetarow\">\n",
       "    <div class=\"fmetakey\">institute:</div>\n",
       "    <div>KNAW/Huygens Amsterdam</div>\n",
       "</div>\n",
       "\n",
       "<div class=\"fmetarow\">\n",
       "    <div class=\"fmetakey\">language:</div>\n",
       "    <div>nld</div>\n",
       "</div>\n",
       "\n",
       "<div class=\"fmetarow\">\n",
       "    <div class=\"fmetakey\">sourceFormat:</div>\n",
       "    <div>TEI</div>\n",
       "</div>\n",
       "\n",
       "<div class=\"fmetarow\">\n",
       "    <div class=\"fmetakey\">writtenBy:</div>\n",
       "    <div>Text-Fabric</div>\n",
       "</div>\n",
       "\n",
       "    </div>\n",
       "</details>\n",
       "\n",
       "</div>\n",
       "\n",
       "<div class=\"frow\">\n",
       "    <div class=\"fnamecat \">\n",
       "<a target=\"_blank\" href=\"https://CLARIAH.github.io/descartes-tf/features/resp\" title=\"~/github/CLARIAH/descartes-tf/tf/0.9/resp.tf\">resp</a>\n",
       "</div>\n",
       "<div class=\"fmono\">str</div>\n",
       "\n",
       "<details>\n",
       "    <summary>person responsible for something</summary>\n",
       "    <div class=\"fmeta\">\n",
       "\n",
       "<div class=\"fmetarow\">\n",
       "    <div class=\"fmetakey\">author:</div>\n",
       "    <div>René Descartes</div>\n",
       "</div>\n",
       "\n",
       "<div class=\"fmetarow\">\n",
       "    <div class=\"fmetakey\">contributors:</div>\n",
       "    <div>Erik-Jan Bos; Katsuzo Murakami (University of Tokyo); Meguru Sasaki (École normale superieure d'Hokkaido); Takehumi Tokoro (University of Chyuo)</div>\n",
       "</div>\n",
       "\n",
       "<div class=\"fmetarow\">\n",
       "    <div class=\"fmetakey\">converters:</div>\n",
       "    <div>Dirk Roorda (Text-Fabric)</div>\n",
       "</div>\n",
       "\n",
       "<div class=\"fmetarow\">\n",
       "    <div class=\"fmetakey\">dateWritten:</div>\n",
       "    <div>2023-01-10T14:11:12Z</div>\n",
       "</div>\n",
       "\n",
       "<div class=\"fmetarow\">\n",
       "    <div class=\"fmetakey\">descriptionTf:</div>\n",
       "    <div>Critical edition with various variants</div>\n",
       "</div>\n",
       "\n",
       "<div class=\"fmetarow\">\n",
       "    <div class=\"fmetakey\">institute:</div>\n",
       "    <div>KNAW/Huygens Amsterdam</div>\n",
       "</div>\n",
       "\n",
       "<div class=\"fmetarow\">\n",
       "    <div class=\"fmetakey\">language:</div>\n",
       "    <div>nld</div>\n",
       "</div>\n",
       "\n",
       "<div class=\"fmetarow\">\n",
       "    <div class=\"fmetakey\">sourceFormat:</div>\n",
       "    <div>TEI</div>\n",
       "</div>\n",
       "\n",
       "<div class=\"fmetarow\">\n",
       "    <div class=\"fmetakey\">values:</div>\n",
       "    <div>recipientloc:EJB senderloc:EJB</div>\n",
       "</div>\n",
       "\n",
       "<div class=\"fmetarow\">\n",
       "    <div class=\"fmetakey\">writtenBy:</div>\n",
       "    <div>Text-Fabric</div>\n",
       "</div>\n",
       "\n",
       "    </div>\n",
       "</details>\n",
       "\n",
       "</div>\n",
       "\n",
       "<div class=\"frow\">\n",
       "    <div class=\"fnamecat \">\n",
       "<a target=\"_blank\" href=\"https://CLARIAH.github.io/descartes-tf/features/sender\" title=\"~/github/CLARIAH/descartes-tf/tf/0.9/sender.tf\">sender</a>\n",
       "</div>\n",
       "<div class=\"fmono\">str</div>\n",
       "\n",
       "<details>\n",
       "    <summary>sender of a letter</summary>\n",
       "    <div class=\"fmeta\">\n",
       "\n",
       "<div class=\"fmetarow\">\n",
       "    <div class=\"fmetakey\">author:</div>\n",
       "    <div>René Descartes</div>\n",
       "</div>\n",
       "\n",
       "<div class=\"fmetarow\">\n",
       "    <div class=\"fmetakey\">contributors:</div>\n",
       "    <div>Erik-Jan Bos; Katsuzo Murakami (University of Tokyo); Meguru Sasaki (École normale superieure d'Hokkaido); Takehumi Tokoro (University of Chyuo)</div>\n",
       "</div>\n",
       "\n",
       "<div class=\"fmetarow\">\n",
       "    <div class=\"fmetakey\">converters:</div>\n",
       "    <div>Dirk Roorda (Text-Fabric)</div>\n",
       "</div>\n",
       "\n",
       "<div class=\"fmetarow\">\n",
       "    <div class=\"fmetakey\">dateWritten:</div>\n",
       "    <div>2023-01-10T14:11:12Z</div>\n",
       "</div>\n",
       "\n",
       "<div class=\"fmetarow\">\n",
       "    <div class=\"fmetakey\">descriptionTf:</div>\n",
       "    <div>Critical edition with various variants</div>\n",
       "</div>\n",
       "\n",
       "<div class=\"fmetarow\">\n",
       "    <div class=\"fmetakey\">institute:</div>\n",
       "    <div>KNAW/Huygens Amsterdam</div>\n",
       "</div>\n",
       "\n",
       "<div class=\"fmetarow\">\n",
       "    <div class=\"fmetakey\">language:</div>\n",
       "    <div>nld</div>\n",
       "</div>\n",
       "\n",
       "<div class=\"fmetarow\">\n",
       "    <div class=\"fmetakey\">sourceFormat:</div>\n",
       "    <div>TEI</div>\n",
       "</div>\n",
       "\n",
       "<div class=\"fmetarow\">\n",
       "    <div class=\"fmetakey\">writtenBy:</div>\n",
       "    <div>Text-Fabric</div>\n",
       "</div>\n",
       "\n",
       "    </div>\n",
       "</details>\n",
       "\n",
       "</div>\n",
       "\n",
       "<div class=\"frow\">\n",
       "    <div class=\"fnamecat \">\n",
       "<a target=\"_blank\" href=\"https://CLARIAH.github.io/descartes-tf/features/senderloc\" title=\"~/github/CLARIAH/descartes-tf/tf/0.9/senderloc.tf\">senderloc</a>\n",
       "</div>\n",
       "<div class=\"fmono\">str</div>\n",
       "\n",
       "<details>\n",
       "    <summary>location from where a letter was sent</summary>\n",
       "    <div class=\"fmeta\">\n",
       "\n",
       "<div class=\"fmetarow\">\n",
       "    <div class=\"fmetakey\">author:</div>\n",
       "    <div>René Descartes</div>\n",
       "</div>\n",
       "\n",
       "<div class=\"fmetarow\">\n",
       "    <div class=\"fmetakey\">contributors:</div>\n",
       "    <div>Erik-Jan Bos; Katsuzo Murakami (University of Tokyo); Meguru Sasaki (École normale superieure d'Hokkaido); Takehumi Tokoro (University of Chyuo)</div>\n",
       "</div>\n",
       "\n",
       "<div class=\"fmetarow\">\n",
       "    <div class=\"fmetakey\">converters:</div>\n",
       "    <div>Dirk Roorda (Text-Fabric)</div>\n",
       "</div>\n",
       "\n",
       "<div class=\"fmetarow\">\n",
       "    <div class=\"fmetakey\">dateWritten:</div>\n",
       "    <div>2023-01-10T14:11:12Z</div>\n",
       "</div>\n",
       "\n",
       "<div class=\"fmetarow\">\n",
       "    <div class=\"fmetakey\">descriptionTf:</div>\n",
       "    <div>Critical edition with various variants</div>\n",
       "</div>\n",
       "\n",
       "<div class=\"fmetarow\">\n",
       "    <div class=\"fmetakey\">institute:</div>\n",
       "    <div>KNAW/Huygens Amsterdam</div>\n",
       "</div>\n",
       "\n",
       "<div class=\"fmetarow\">\n",
       "    <div class=\"fmetakey\">language:</div>\n",
       "    <div>nld</div>\n",
       "</div>\n",
       "\n",
       "<div class=\"fmetarow\">\n",
       "    <div class=\"fmetakey\">sourceFormat:</div>\n",
       "    <div>TEI</div>\n",
       "</div>\n",
       "\n",
       "<div class=\"fmetarow\">\n",
       "    <div class=\"fmetakey\">writtenBy:</div>\n",
       "    <div>Text-Fabric</div>\n",
       "</div>\n",
       "\n",
       "    </div>\n",
       "</details>\n",
       "\n",
       "</div>\n",
       "\n",
       "<div class=\"frow\">\n",
       "    <div class=\"fnamecat \">\n",
       "<a target=\"_blank\" href=\"https://CLARIAH.github.io/descartes-tf/features/trans\" title=\"~/github/CLARIAH/descartes-tf/tf/0.9/trans.tf\">trans</a>\n",
       "</div>\n",
       "<div class=\"fmono\">str</div>\n",
       "\n",
       "<details>\n",
       "    <summary>transcription of a word </summary>\n",
       "    <div class=\"fmeta\">\n",
       "\n",
       "<div class=\"fmetarow\">\n",
       "    <div class=\"fmetakey\">author:</div>\n",
       "    <div>René Descartes</div>\n",
       "</div>\n",
       "\n",
       "<div class=\"fmetarow\">\n",
       "    <div class=\"fmetakey\">contributors:</div>\n",
       "    <div>Erik-Jan Bos; Katsuzo Murakami (University of Tokyo); Meguru Sasaki (École normale superieure d'Hokkaido); Takehumi Tokoro (University of Chyuo)</div>\n",
       "</div>\n",
       "\n",
       "<div class=\"fmetarow\">\n",
       "    <div class=\"fmetakey\">converters:</div>\n",
       "    <div>Dirk Roorda (Text-Fabric)</div>\n",
       "</div>\n",
       "\n",
       "<div class=\"fmetarow\">\n",
       "    <div class=\"fmetakey\">dateWritten:</div>\n",
       "    <div>2023-01-10T14:11:12Z</div>\n",
       "</div>\n",
       "\n",
       "<div class=\"fmetarow\">\n",
       "    <div class=\"fmetakey\">descriptionTf:</div>\n",
       "    <div>Critical edition with various variants</div>\n",
       "</div>\n",
       "\n",
       "<div class=\"fmetarow\">\n",
       "    <div class=\"fmetakey\">institute:</div>\n",
       "    <div>KNAW/Huygens Amsterdam</div>\n",
       "</div>\n",
       "\n",
       "<div class=\"fmetarow\">\n",
       "    <div class=\"fmetakey\">language:</div>\n",
       "    <div>nld</div>\n",
       "</div>\n",
       "\n",
       "<div class=\"fmetarow\">\n",
       "    <div class=\"fmetakey\">sourceFormat:</div>\n",
       "    <div>TEI</div>\n",
       "</div>\n",
       "\n",
       "<div class=\"fmetarow\">\n",
       "    <div class=\"fmetakey\">writtenBy:</div>\n",
       "    <div>Text-Fabric</div>\n",
       "</div>\n",
       "\n",
       "    </div>\n",
       "</details>\n",
       "\n",
       "</div>\n",
       "\n",
       "<div class=\"frow\">\n",
       "    <div class=\"fnamecat \">\n",
       "<a target=\"_blank\" href=\"https://CLARIAH.github.io/descartes-tf/features/typ\" title=\"~/github/CLARIAH/descartes-tf/tf/0.9/typ.tf\">typ</a>\n",
       "</div>\n",
       "<div class=\"fmono\">str</div>\n",
       "\n",
       "<details>\n",
       "    <summary>kind of a node; \"empty\" means: deliberately empty slot; \"head\" means: header of letter; \"symbol\" or \"illustration\" is the kind of a figure</summary>\n",
       "    <div class=\"fmeta\">\n",
       "\n",
       "<div class=\"fmetarow\">\n",
       "    <div class=\"fmetakey\">author:</div>\n",
       "    <div>René Descartes</div>\n",
       "</div>\n",
       "\n",
       "<div class=\"fmetarow\">\n",
       "    <div class=\"fmetakey\">contributors:</div>\n",
       "    <div>Erik-Jan Bos; Katsuzo Murakami (University of Tokyo); Meguru Sasaki (École normale superieure d'Hokkaido); Takehumi Tokoro (University of Chyuo)</div>\n",
       "</div>\n",
       "\n",
       "<div class=\"fmetarow\">\n",
       "    <div class=\"fmetakey\">converters:</div>\n",
       "    <div>Dirk Roorda (Text-Fabric)</div>\n",
       "</div>\n",
       "\n",
       "<div class=\"fmetarow\">\n",
       "    <div class=\"fmetakey\">dateWritten:</div>\n",
       "    <div>2023-01-10T14:11:12Z</div>\n",
       "</div>\n",
       "\n",
       "<div class=\"fmetarow\">\n",
       "    <div class=\"fmetakey\">descriptionTf:</div>\n",
       "    <div>Critical edition with various variants</div>\n",
       "</div>\n",
       "\n",
       "<div class=\"fmetarow\">\n",
       "    <div class=\"fmetakey\">institute:</div>\n",
       "    <div>KNAW/Huygens Amsterdam</div>\n",
       "</div>\n",
       "\n",
       "<div class=\"fmetarow\">\n",
       "    <div class=\"fmetakey\">language:</div>\n",
       "    <div>nld</div>\n",
       "</div>\n",
       "\n",
       "<div class=\"fmetarow\">\n",
       "    <div class=\"fmetakey\">sourceFormat:</div>\n",
       "    <div>TEI</div>\n",
       "</div>\n",
       "\n",
       "<div class=\"fmetarow\">\n",
       "    <div class=\"fmetakey\">writtenBy:</div>\n",
       "    <div>Text-Fabric</div>\n",
       "</div>\n",
       "\n",
       "    </div>\n",
       "</details>\n",
       "\n",
       "</div>\n",
       "\n",
       "<div class=\"frow\">\n",
       "    <div class=\"fnamecat \">\n",
       "<a target=\"_blank\" href=\"https://CLARIAH.github.io/descartes-tf/features/url\" title=\"~/github/CLARIAH/descartes-tf/tf/0.9/url.tf\">url</a>\n",
       "</div>\n",
       "<div class=\"fmono\">str</div>\n",
       "\n",
       "<details>\n",
       "    <summary>url of a graphic node</summary>\n",
       "    <div class=\"fmeta\">\n",
       "\n",
       "<div class=\"fmetarow\">\n",
       "    <div class=\"fmetakey\">author:</div>\n",
       "    <div>René Descartes</div>\n",
       "</div>\n",
       "\n",
       "<div class=\"fmetarow\">\n",
       "    <div class=\"fmetakey\">contributors:</div>\n",
       "    <div>Erik-Jan Bos; Katsuzo Murakami (University of Tokyo); Meguru Sasaki (École normale superieure d'Hokkaido); Takehumi Tokoro (University of Chyuo)</div>\n",
       "</div>\n",
       "\n",
       "<div class=\"fmetarow\">\n",
       "    <div class=\"fmetakey\">converters:</div>\n",
       "    <div>Dirk Roorda (Text-Fabric)</div>\n",
       "</div>\n",
       "\n",
       "<div class=\"fmetarow\">\n",
       "    <div class=\"fmetakey\">dateWritten:</div>\n",
       "    <div>2023-01-10T14:11:12Z</div>\n",
       "</div>\n",
       "\n",
       "<div class=\"fmetarow\">\n",
       "    <div class=\"fmetakey\">descriptionTf:</div>\n",
       "    <div>Critical edition with various variants</div>\n",
       "</div>\n",
       "\n",
       "<div class=\"fmetarow\">\n",
       "    <div class=\"fmetakey\">institute:</div>\n",
       "    <div>KNAW/Huygens Amsterdam</div>\n",
       "</div>\n",
       "\n",
       "<div class=\"fmetarow\">\n",
       "    <div class=\"fmetakey\">language:</div>\n",
       "    <div>nld</div>\n",
       "</div>\n",
       "\n",
       "<div class=\"fmetarow\">\n",
       "    <div class=\"fmetakey\">sourceFormat:</div>\n",
       "    <div>TEI</div>\n",
       "</div>\n",
       "\n",
       "<div class=\"fmetarow\">\n",
       "    <div class=\"fmetakey\">writtenBy:</div>\n",
       "    <div>Text-Fabric</div>\n",
       "</div>\n",
       "\n",
       "    </div>\n",
       "</details>\n",
       "\n",
       "</div>\n",
       "\n",
       "<div class=\"frow\">\n",
       "    <div class=\"fnamecat edge\">\n",
       "<a target=\"_blank\" href=\"https://CLARIAH.github.io/descartes-tf/features/oslots\" title=\"~/github/CLARIAH/descartes-tf/tf/0.9/oslots.tf\">oslots</a>\n",
       "</div>\n",
       "<div class=\"fmono\">none</div>\n",
       "\n",
       "<details>\n",
       "    <summary></summary>\n",
       "    <div class=\"fmeta\">\n",
       "\n",
       "<div class=\"fmetarow\">\n",
       "    <div class=\"fmetakey\">author:</div>\n",
       "    <div>René Descartes</div>\n",
       "</div>\n",
       "\n",
       "<div class=\"fmetarow\">\n",
       "    <div class=\"fmetakey\">contributors:</div>\n",
       "    <div>Erik-Jan Bos; Katsuzo Murakami (University of Tokyo); Meguru Sasaki (École normale superieure d'Hokkaido); Takehumi Tokoro (University of Chyuo)</div>\n",
       "</div>\n",
       "\n",
       "<div class=\"fmetarow\">\n",
       "    <div class=\"fmetakey\">converters:</div>\n",
       "    <div>Dirk Roorda (Text-Fabric)</div>\n",
       "</div>\n",
       "\n",
       "<div class=\"fmetarow\">\n",
       "    <div class=\"fmetakey\">dateWritten:</div>\n",
       "    <div>2023-01-10T14:11:12Z</div>\n",
       "</div>\n",
       "\n",
       "<div class=\"fmetarow\">\n",
       "    <div class=\"fmetakey\">descriptionTf:</div>\n",
       "    <div>Critical edition with various variants</div>\n",
       "</div>\n",
       "\n",
       "<div class=\"fmetarow\">\n",
       "    <div class=\"fmetakey\">institute:</div>\n",
       "    <div>KNAW/Huygens Amsterdam</div>\n",
       "</div>\n",
       "\n",
       "<div class=\"fmetarow\">\n",
       "    <div class=\"fmetakey\">language:</div>\n",
       "    <div>nld</div>\n",
       "</div>\n",
       "\n",
       "<div class=\"fmetarow\">\n",
       "    <div class=\"fmetakey\">sourceFormat:</div>\n",
       "    <div>TEI</div>\n",
       "</div>\n",
       "\n",
       "<div class=\"fmetarow\">\n",
       "    <div class=\"fmetakey\">writtenBy:</div>\n",
       "    <div>Text-Fabric</div>\n",
       "</div>\n",
       "\n",
       "    </div>\n",
       "</details>\n",
       "\n",
       "</div>\n",
       "\n",
       "    </div>\n",
       "</details>\n",
       "\n"
      ],
      "text/plain": [
       "<IPython.core.display.HTML object>"
      ]
     },
     "metadata": {},
     "output_type": "display_data"
    },
    {
     "data": {
      "text/html": [
       "<style>tr.tf.ltr, td.tf.ltr, th.tf.ltr { text-align: left ! important;}\n",
       "tr.tf.rtl, td.tf.rtl, th.tf.rtl { text-align: right ! important;}\n",
       "@font-face {\n",
       "  font-family: \"Gentium Plus\";\n",
       "  src: local('Gentium Plus'), local('GentiumPlus'),\n",
       "    url('/server/static/fonts/GentiumPlus-R.woff') format('woff'),\n",
       "    url('https://github.com/annotation/text-fabric/blob/master/tf/server/static/fonts/GentiumPlus-R.woff?raw=true') format('woff');\n",
       "}\n",
       "\n",
       "@font-face {\n",
       "  font-family: \"Ezra SIL\";\n",
       "  src: local('Ezra SIL'), local('EzraSIL'),\n",
       "    url('/server/static/fonts/SILEOT.woff') format('woff'),\n",
       "    url('https://github.com/annotation/text-fabric/blob/master/tf/server/static/fonts/SILEOT.woff?raw=true') format('woff');\n",
       "}\n",
       "\n",
       "@font-face {\n",
       "  font-family: \"SBL Hebrew\";\n",
       "  src: local('SBL Hebrew'), local('SBLHebrew'),\n",
       "    url('/server/static/fonts/SBL_Hbrw.woff') format('woff'),\n",
       "    url('https://github.com/annotation/text-fabric/blob/master/tf/server/static/fonts/SBL_Hbrw.woff?raw=true') format('woff');\n",
       "}\n",
       "\n",
       "@font-face {\n",
       "  font-family: \"Estrangelo Edessa\";\n",
       "  src: local('Estrangelo Edessa'), local('EstrangeloEdessa');\n",
       "    url('/server/static/fonts/SyrCOMEdessa.woff') format('woff'),\n",
       "    url('https://github.com/annotation/text-fabric/blob/master/tf/server/static/fonts/SyrCOMEdessa.woff?raw=true') format('woff');\n",
       "}\n",
       "\n",
       "@font-face {\n",
       "  font-family: AmiriQuran;\n",
       "  font-style: normal;\n",
       "  font-weight: 400;\n",
       "  src: local('Amiri Quran'), local('AmiriQuran'),\n",
       "    url('/server/static/fonts/AmiriQuran.woff') format('woff'),\n",
       "    url('https://github.com/annotation/text-fabric/blob/master/tf/server/static/fonts/AmiriQuran.woff?raw=true') format('woff');\n",
       "}\n",
       "\n",
       "@font-face {\n",
       "  font-family: AmiriQuranColored;\n",
       "  font-style: normal;\n",
       "  font-weight: 400;\n",
       "  src: local('Amiri Quran Colored'), local('AmiriQuranColored'),\n",
       "    url('/server/static/fonts/AmiriQuranColored.woff') format('woff'),\n",
       "    url('https://github.com/annotation/text-fabric/blob/master/tf/server/static/fonts/AmiriQuranColored.woff?raw=true') format('woff');\n",
       "}\n",
       "\n",
       "@font-face {\n",
       "  font-family: \"Santakku\";\n",
       "  src: local('Santakku'),\n",
       "    url('/server/static/fonts/Santakku.woff') format('woff'),\n",
       "    url('https://github.com/annotation/text-fabric/blob/master/tf/server/static/fonts/Santakku.woff?raw=true') format('woff');\n",
       "}\n",
       "\n",
       "@font-face {\n",
       "  font-family: \"SantakkuM\";\n",
       "  src: local('SantakkuM'),\n",
       "    url('/server/static/fonts/SantakkuM.woff') format('woff'),\n",
       "    url('https://github.com/annotation/text-fabric/blob/master/tf/server/static/fonts/SantakkuM.woff?raw=true') format('woff');\n",
       "}\n",
       "/* bypassing some classical notebook settings */\n",
       "div#notebook {\n",
       "  line-height: unset;\n",
       "}\n",
       "/* neutral text */\n",
       ".txtn,.txtn a:visited,.txtn a:link {\n",
       "    font-family: sans-serif;\n",
       "    font-size: medium;\n",
       "    direction: ltr;\n",
       "    unicode-bidi: embed;\n",
       "    text-decoration: none;\n",
       "    color: var(--text-color);\n",
       "}\n",
       "/* transcription text */\n",
       ".txtt,.txtt a:visited,.txtt a:link {\n",
       "    font-family: monospace;\n",
       "    font-size: medium;\n",
       "    direction: ltr;\n",
       "    unicode-bidi: embed;\n",
       "    text-decoration: none;\n",
       "    color: var(--text-color);\n",
       "}\n",
       "/* source text */\n",
       ".txto,.txto a:visited,.txto a:link {\n",
       "    font-family: serif;\n",
       "    font-size: medium;\n",
       "    direction: ltr;\n",
       "    unicode-bidi: embed;\n",
       "    text-decoration: none;\n",
       "    color: var(--text-color);\n",
       "}\n",
       "/* phonetic text */\n",
       ".txtp,.txtp a:visited,.txtp a:link {\n",
       "    font-family: Gentium, sans-serif;\n",
       "    font-size: medium;\n",
       "    direction: ltr;\n",
       "    unicode-bidi: embed;\n",
       "    text-decoration: none;\n",
       "    color: var(--text-color);\n",
       "}\n",
       "/* original script text */\n",
       ".txtu,.txtu a:visited,.txtu a:link {\n",
       "    font-family: Gentium, sans-serif;\n",
       "    font-size: medium;\n",
       "    text-decoration: none;\n",
       "    color: var(--text-color);\n",
       "}\n",
       "/* hebrew */\n",
       ".txtu.hbo,.lex.hbo {\n",
       "    font-family: \"Ezra SIL\", \"SBL Hebrew\", sans-serif;\n",
       "    font-size: large;\n",
       "    direction: rtl ! important;\n",
       "    unicode-bidi: embed;\n",
       "}\n",
       "/* syriac */\n",
       ".txtu.syc,.lex.syc {\n",
       "    font-family: \"Estrangelo Edessa\", sans-serif;\n",
       "    font-size: medium;\n",
       "    direction: rtl ! important;\n",
       "    unicode-bidi: embed;\n",
       "}\n",
       "/* neo aramaic */\n",
       ".txtu.cld,.lex.cld {\n",
       "    font-family: \"CharisSIL-R\", sans-serif;\n",
       "    font-size: medium;\n",
       "    direction: ltr ! important;\n",
       "    unicode-bidi: embed;\n",
       "}\n",
       "/* standard arabic */\n",
       ".txtu.ara,.lex.ara {\n",
       "    font-family: \"AmiriQuran\", sans-serif;\n",
       "    font-size: large;\n",
       "    direction: rtl ! important;\n",
       "    unicode-bidi: embed;\n",
       "}\n",
       "/* cuneiform */\n",
       ".txtu.akk,.lex.akk {\n",
       "    font-family: Santakku, sans-serif;\n",
       "    font-size: large;\n",
       "    direction: ltr ! important;\n",
       "    unicode-bidi: embed;\n",
       "}\n",
       "/* greek */\n",
       ".txtu.grc,.lex.grc a:link {\n",
       "    font-family: Gentium, sans-serif;\n",
       "    font-size: medium;\n",
       "    direction: ltr ! important;\n",
       "    unicode-bidi: embed;\n",
       "}\n",
       "a:hover {\n",
       "    text-decoration: underline | important;\n",
       "    color: #0000ff | important;\n",
       "}\n",
       ".ltr {\n",
       "    direction: ltr ! important;\n",
       "    unicode-bidi: embed;\n",
       "}\n",
       ".rtl {\n",
       "    direction: rtl ! important;\n",
       "    unicode-bidi: embed;\n",
       "}\n",
       ".ubd {\n",
       "    unicode-bidi: embed;\n",
       "}\n",
       ".col {\n",
       "   display: inline-block;\n",
       "}\n",
       ".features {\n",
       "    font-family: monospace;\n",
       "    font-size: medium;\n",
       "    font-weight: bold;\n",
       "    color: var(--features);\n",
       "    display: flex;\n",
       "    flex-flow: column nowrap;\n",
       "    justify-content: flex-start;\n",
       "    align-items: flex-start;\n",
       "    align-content: flex-start;\n",
       "    padding: 2px;\n",
       "    margin: 2px;\n",
       "    direction: ltr;\n",
       "    unicode-bidi: embed;\n",
       "    border: var(--meta-width) solid var(--meta-color);\n",
       "    border-radius: var(--meta-width);\n",
       "}\n",
       ".features div,.features span {\n",
       "    padding: 0;\n",
       "    margin: -2px 0;\n",
       "}\n",
       ".features .f {\n",
       "    font-family: sans-serif;\n",
       "    font-size: small;\n",
       "    font-weight: normal;\n",
       "    color: #5555bb;\n",
       "}\n",
       ".features .xft {\n",
       "  color: #000000;\n",
       "  background-color: #eeeeee;\n",
       "  font-size: medium;\n",
       "  margin: 2px 0px;\n",
       "}\n",
       ".features .xft .f {\n",
       "  color: #000000;\n",
       "  background-color: #eeeeee;\n",
       "  font-size: small;\n",
       "  font-weight: normal;\n",
       "}\n",
       ".tfsechead {\n",
       "    font-family: sans-serif;\n",
       "    font-size: small;\n",
       "    font-weight: bold;\n",
       "    color: var(--tfsechead);\n",
       "    unicode-bidi: embed;\n",
       "    text-align: start;\n",
       "}\n",
       ".structure {\n",
       "    font-family: sans-serif;\n",
       "    font-size: small;\n",
       "    font-weight: bold;\n",
       "    color: var(--structure);\n",
       "    unicode-bidi: embed;\n",
       "    text-align: start;\n",
       "}\n",
       ".comments {\n",
       "    display: flex;\n",
       "    justify-content: flex-start;\n",
       "    align-items: flex-start;\n",
       "    align-content: flex-start;\n",
       "    flex-flow: column nowrap;\n",
       "}\n",
       ".nd, a:link.nd {\n",
       "    font-family: sans-serif;\n",
       "    font-size: small;\n",
       "    color: var(--node);\n",
       "    vertical-align: super;\n",
       "    direction: ltr ! important;\n",
       "    unicode-bidi: embed;\n",
       "}\n",
       ".lex {\n",
       "  color: var(--lex-color);;\n",
       "}\n",
       ".children,.children.ltr {\n",
       "    display: flex;\n",
       "    border: 0;\n",
       "    background-color: #ffffff;\n",
       "    justify-content: flex-start;\n",
       "    align-items: flex-start;\n",
       "    align-content: flex-start;\n",
       "}\n",
       ".children.stretch {\n",
       "    align-items: stretch;\n",
       "}\n",
       ".children.hor {\n",
       "    flex-flow: row nowrap;\n",
       "}\n",
       ".children.hor.wrap {\n",
       "    flex-flow: row wrap;\n",
       "}\n",
       ".children.ver {\n",
       "    flex-flow: column nowrap;\n",
       "}\n",
       ".children.ver.wrap {\n",
       "    flex-flow: column wrap;\n",
       "}\n",
       ".contnr {\n",
       "    width: fit-content;\n",
       "    display: flex;\n",
       "    justify-content: flex-start;\n",
       "    align-items: flex-start;\n",
       "    align-content: flex-start;\n",
       "    flex-flow: column nowrap;\n",
       "    background: #ffffff none repeat scroll 0 0;\n",
       "    padding:  10px 2px 2px 2px;\n",
       "    margin: 16px 2px 2px 2px;\n",
       "    border-style: solid;\n",
       "    font-size: small;\n",
       "}\n",
       ".contnr.trm {\n",
       "    background-attachment: local;\n",
       "}\n",
       ".contnr.cnul {\n",
       "    padding:  0;\n",
       "    margin: 0;\n",
       "    border-style: solid;\n",
       "    font-size: xx-small;\n",
       "}\n",
       ".contnr.cnul,.lbl.cnul {\n",
       "    border-color: var(--border-color-nul);\n",
       "    border-width: var(--border-width-nul);\n",
       "    border-radius: var(--border-width-nul);\n",
       "}\n",
       ".contnr.c0,.lbl.c0 {\n",
       "    border-color: var(--border-color0);\n",
       "    border-width: var(--border-width0);\n",
       "    border-radius: var(--border-width0);\n",
       "}\n",
       ".contnr.c1,.lbl.c1 {\n",
       "    border-color: var(--border-color1);\n",
       "    border-width: var(--border-width1);\n",
       "    border-radius: var(--border-width1);\n",
       "}\n",
       ".contnr.c2,.lbl.c2 {\n",
       "    border-color: var(--border-color2);\n",
       "    border-width: var(--border-width2);\n",
       "    border-radius: var(--border-width2);\n",
       "}\n",
       ".contnr.c3,.lbl.c3 {\n",
       "    border-color: var(--border-color3);\n",
       "    border-width: var(--border-width3);\n",
       "    border-radius: var(--border-width3);\n",
       "}\n",
       ".contnr.c4,.lbl.c4 {\n",
       "    border-color: var(--border-color4);\n",
       "    border-width: var(--border-width4);\n",
       "    border-radius: var(--border-width4);\n",
       "}\n",
       "span.plain {\n",
       "    display: inline-block;\n",
       "    white-space: pre-wrap;\n",
       "}\n",
       ".plain {\n",
       "    background-color: #ffffff;\n",
       "}\n",
       ".plain.l,.contnr.l,.contnr.l>.lbl {\n",
       "    border-left-style: dotted\n",
       "}\n",
       ".plain.r,.contnr.r,.contnr.r>.lbl {\n",
       "    border-right-style: dotted\n",
       "}\n",
       ".plain.lno,.contnr.lno,.contnr.lno>.lbl {\n",
       "    border-left-style: none\n",
       "}\n",
       ".plain.rno,.contnr.rno,.contnr.rno>.lbl {\n",
       "    border-right-style: none\n",
       "}\n",
       ".plain.l {\n",
       "    padding-left: 4px;\n",
       "    margin-left: 2px;\n",
       "    border-width: var(--border-width-plain);\n",
       "}\n",
       ".plain.r {\n",
       "    padding-right: 4px;\n",
       "    margin-right: 2px;\n",
       "    border-width: var(--border-width-plain);\n",
       "}\n",
       ".lbl {\n",
       "    font-family: monospace;\n",
       "    margin-top: -24px;\n",
       "    margin-left: 20px;\n",
       "    background: #ffffff none repeat scroll 0 0;\n",
       "    padding: 0 6px;\n",
       "    border-style: solid;\n",
       "    display: block;\n",
       "    color: var(--label)\n",
       "}\n",
       ".lbl.trm {\n",
       "    background-attachment: local;\n",
       "    margin-top: 2px;\n",
       "    margin-left: 2px;\n",
       "    padding: 2px 2px;\n",
       "    border-style: none;\n",
       "}\n",
       ".lbl.cnul {\n",
       "    font-size: xx-small;\n",
       "}\n",
       ".lbl.c0 {\n",
       "    font-size: small;\n",
       "}\n",
       ".lbl.c1 {\n",
       "    font-size: small;\n",
       "}\n",
       ".lbl.c2 {\n",
       "    font-size: medium;\n",
       "}\n",
       ".lbl.c3 {\n",
       "    font-size: medium;\n",
       "}\n",
       ".lbl.c4 {\n",
       "    font-size: large;\n",
       "}\n",
       ".occs, a:link.occs {\n",
       "    font-size: small;\n",
       "}\n",
       "\n",
       "/* PROVENANCE */\n",
       "\n",
       "div.prov {\n",
       "\tmargin: 40px;\n",
       "\tpadding: 20px;\n",
       "\tborder: 2px solid var(--fog-rim);\n",
       "}\n",
       "div.pline {\n",
       "\tdisplay: flex;\n",
       "\tflex-flow: row nowrap;\n",
       "\tjustify-content: stretch;\n",
       "\talign-items: baseline;\n",
       "}\n",
       "div.p2line {\n",
       "\tmargin-left: 2em;\n",
       "\tdisplay: flex;\n",
       "\tflex-flow: row nowrap;\n",
       "\tjustify-content: stretch;\n",
       "\talign-items: baseline;\n",
       "}\n",
       "div.psline {\n",
       "\tdisplay: flex;\n",
       "\tflex-flow: row nowrap;\n",
       "\tjustify-content: stretch;\n",
       "\talign-items: baseline;\n",
       "\tbackground-color: var(--gold-mist-back);\n",
       "}\n",
       "div.pname {\n",
       "\tflex: 0 0 5rem;\n",
       "\tfont-weight: bold;\n",
       "}\n",
       "div.pval {\n",
       "    flex: 1 1 auto;\n",
       "}\n",
       "\n",
       "/* KEYBOARD */\n",
       ".ccoff {\n",
       "  background-color: inherit;\n",
       "}\n",
       ".ccon {\n",
       "  background-color: yellow ! important;\n",
       "}\n",
       ".ccon,.ccoff {\n",
       "  padding: 0.2rem;\n",
       "  margin: 0.2rem;\n",
       "  border: 0.1rem solid var(--letter-box-border);\n",
       "  border-radius: 0.1rem;\n",
       "}\n",
       ".ccline {\n",
       "  font-size: xx-large ! important;\n",
       "  font-weight: bold;\n",
       "  line-height: 2em ! important;\n",
       "}\n",
       "/* TF header */\n",
       "\n",
       "summary {\n",
       "  /* needed to override the normalize.less\n",
       "   * in the classical jupyter notebook\n",
       "   */\n",
       "  display: list-item ! important;\n",
       "}\n",
       "\n",
       ".fcorpus {\n",
       "  display: flex;\n",
       "  flex-flow: column nowrap;\n",
       "  justify-content: flex-start;\n",
       "  align-items: flex-start;\n",
       "  align-content: flex-start;\n",
       "}\n",
       ".frow {\n",
       "  display: flex;\n",
       "  flex-flow: row nowrap;\n",
       "  justify-content: flex-start;\n",
       "  align-items: flex-start;\n",
       "  align-content: flex-start;\n",
       "}\n",
       ".fmeta {\n",
       "  display: flex;\n",
       "  flex-flow: column nowrap;\n",
       "  justify-content: flex-start;\n",
       "  align-items: flex-start;\n",
       "  align-content: flex-start;\n",
       "}\n",
       ".fmetarow {\n",
       "  display: flex;\n",
       "  flex-flow: row nowrap;\n",
       "  justify-content: flex-start;\n",
       "  align-items: flex-start;\n",
       "  align-content: flex-start;\n",
       "}\n",
       ".fmetakey {\n",
       "  min-width: 8em;\n",
       "  font-family: monospace;\n",
       "}\n",
       ".fnamecat {\n",
       "  min-width: 8em;\n",
       "}\n",
       ".fnamecat.edge {\n",
       "  font-weight: bold;\n",
       "  font-style: italic;\n",
       "}\n",
       ".fmono {\n",
       "    font-family: monospace;\n",
       "}\n",
       "\n",
       ":root {\n",
       "\t--node:               hsla(120, 100%,  20%, 1.0  );\n",
       "\t--label:              hsla(  0, 100%,  20%, 1.0  );\n",
       "\t--tfsechead:          hsla(  0, 100%,  25%, 1.0  );\n",
       "\t--structure:          hsla(120, 100%,  25%, 1.0  );\n",
       "\t--features:           hsla(  0,   0%,  30%, 1.0  );\n",
       "  --text-color:         hsla( 60,  80%,  10%, 1.0  );\n",
       "  --lex-color:          hsla(220,  90%,  60%, 1.0  );\n",
       "  --meta-color:         hsla(  0,   0%,  90%, 0.7  );\n",
       "  --meta-width:         3px;\n",
       "  --border-color-nul:   hsla(  0,   0%,  90%, 0.5  );\n",
       "  --border-color0:      hsla(  0,   0%,  90%, 0.9  );\n",
       "  --border-color1:      hsla(  0,   0%,  80%, 0.9  );\n",
       "  --border-color2:      hsla(  0,   0%,  70%, 0.9  );\n",
       "  --border-color3:      hsla(  0,   0%,  80%, 0.8  );\n",
       "  --border-color4:      hsla(  0,   0%,  60%, 0.9  );\n",
       "\t--letter-box-border:  hsla(  0,   0%,  80%, 0.5  );\n",
       "  --border-width-nul:   2px;\n",
       "  --border-width0:      2px;\n",
       "  --border-width1:      3px;\n",
       "  --border-width2:      4px;\n",
       "  --border-width3:      6px;\n",
       "  --border-width4:      5px;\n",
       "  --border-width-plain: 2px;\n",
       "}\n",
       ".hl {\n",
       "  background-color: var(--hl-strong);\n",
       "}\n",
       "span.hl {\n",
       "\tbackground-color: var(--hl-strong);\n",
       "\tborder-width: 0;\n",
       "\tborder-radius: 2px;\n",
       "\tborder-style: solid;\n",
       "}\n",
       "div.contnr.hl,div.lbl.hl {\n",
       "  background-color: var(--hl-strong);\n",
       "}\n",
       "div.contnr.hl {\n",
       "  border-color: var(--hl-rim) ! important;\n",
       "\tborder-width: 4px ! important;\n",
       "}\n",
       "\n",
       "span.hlbx {\n",
       "\tborder-color: var(--hl-rim);\n",
       "\tborder-width: 4px ! important;\n",
       "\tborder-style: solid;\n",
       "\tborder-radius: 6px;\n",
       "  padding: 4px;\n",
       "  margin: 4px;\n",
       "}\n",
       "\n",
       "span.plain {\n",
       "  display: inline-block;\n",
       "  white-space: pre-wrap;\n",
       "}\n",
       "\n",
       ":root {\n",
       "\t--hl-strong:        hsla( 60, 100%,  70%, 0.9  );\n",
       "\t--hl-rim:           hsla( 55,  80%,  50%, 1.0  );\n",
       "}\n",
       "</style>"
      ],
      "text/plain": [
       "<IPython.core.display.HTML object>"
      ]
     },
     "metadata": {},
     "output_type": "display_data"
    },
    {
     "data": {
      "text/html": [
       "\n",
       "<script>\n",
       "const copyChar = (el, c) => {\n",
       "    for (const el of document.getElementsByClassName('ccon')) {\n",
       "        el.className = 'ccoff'\n",
       "    }\n",
       "    el.className = 'ccon'\n",
       "    navigator.clipboard.writeText(String.fromCharCode(c))\n",
       "}\n",
       "</script>\n"
      ],
      "text/plain": [
       "<IPython.core.display.HTML object>"
      ]
     },
     "metadata": {},
     "output_type": "display_data"
    },
    {
     "data": {
      "text/html": [
       "<div><b>Text-Fabric API:</b> names <a target=\"_blank\" href=\"https://annotation.github.io/text-fabric/tf/cheatsheet.html\" title=\"doc\">N F E L T S C TF</a> directly usable</div><hr>"
      ],
      "text/plain": [
       "<IPython.core.display.HTML object>"
      ]
     },
     "metadata": {},
     "output_type": "display_data"
    },
    {
     "data": {
      "text/html": [
       "<b title=\"local github\">data:</b> <span title=\"repo clone offline under /Users/me/github\">~/github/CLARIAH/descartes-tf/source/illustrations</span>"
      ],
      "text/plain": [
       "<IPython.core.display.HTML object>"
      ]
     },
     "metadata": {},
     "output_type": "display_data"
    },
    {
     "data": {
      "text/html": [
       "Found 5 symbols<br>"
      ],
      "text/plain": [
       "<IPython.core.display.HTML object>"
      ]
     },
     "metadata": {},
     "output_type": "display_data"
    },
    {
     "data": {
      "text/html": [
       "Found 310 illustrations<br>"
      ],
      "text/plain": [
       "<IPython.core.display.HTML object>"
      ]
     },
     "metadata": {},
     "output_type": "display_data"
    }
   ],
   "source": [
    "A = use(\"CLARIAH/descartes-tf:clone\", checkout=\"clone\", hoist=globals(), silent=\"verbose\")"
   ]
  },
  {
   "cell_type": "markdown",
   "metadata": {},
   "source": [
    "# $A\\over B$"
   ]
  },
  {
   "cell_type": "code",
   "execution_count": 4,
   "metadata": {},
   "outputs": [],
   "source": [
    "from tf.advanced.helpers import dh"
   ]
  },
  {
   "cell_type": "code",
   "execution_count": 5,
   "metadata": {},
   "outputs": [],
   "source": [
    "from IPython.display import display, Math, Markdown, HTML"
   ]
  },
  {
   "cell_type": "code",
   "execution_count": 16,
   "metadata": {},
   "outputs": [
    {
     "data": {
      "text/latex": [
       "$\\displaystyle $"
      ],
      "text/plain": [
       "<IPython.core.display.Math object>"
      ]
     },
     "metadata": {},
     "output_type": "display_data"
    },
    {
     "data": {
      "text/html": [
       "<h2>FooHtml</h2>Explanation: $$\\alpha = \\int f(\\tau)\\,d\\tau,$$where $\\tau$ is the time."
      ],
      "text/plain": [
       "<__main__.FooHtml at 0x119102910>"
      ]
     },
     "execution_count": 16,
     "metadata": {},
     "output_type": "execute_result"
    }
   ],
   "source": [
    "class FooHtml:\n",
    "    def _repr_html_(self):\n",
    "        math = display(Math(r''))\n",
    "        return (\n",
    "            '<h2>FooHtml</h2>'\n",
    "            r'Explanation: $$\\alpha = \\int f(\\tau)\\,d\\tau,$$'\n",
    "            r'where $\\tau$ is the time.'\n",
    "        )\n",
    "\n",
    "FooHtml()"
   ]
  },
  {
   "cell_type": "code",
   "execution_count": 17,
   "metadata": {},
   "outputs": [],
   "source": [
    "# https://stackoverflow.com/questions/62410130/jupyter-notebook-class-display-with-both-html-and-math-using-repr-html-method\n",
    "testStr = r\"\"\"\n",
    "<h2>FooHtml</h2>\n",
    "Explanation: $$\\alpha = \\int f(\\tau)\\,d\\tau,$$\n",
    "where $\\tau$ is the time.\n",
    "\"\"\"\n",
    "class X:\n",
    "    def _repr_html_(self):\n",
    "        return testStr\n"
   ]
  },
  {
   "cell_type": "code",
   "execution_count": 18,
   "metadata": {},
   "outputs": [
    {
     "data": {
      "text/html": [
       "\n",
       "<h2>FooHtml</h2>\n",
       "Explanation: $$\\alpha = \\int f(\\tau)\\,d\\tau,$$\n",
       "where $\\tau$ is the time.\n"
      ],
      "text/plain": [
       "<__main__.X at 0x119275590>"
      ]
     },
     "execution_count": 18,
     "metadata": {},
     "output_type": "execute_result"
    }
   ],
   "source": [
    "X()"
   ]
  },
  {
   "cell_type": "code",
   "execution_count": 19,
   "metadata": {},
   "outputs": [
    {
     "data": {
      "text/html": [
       "\n",
       "<h2>FooHtml</h2>\n",
       "Explanation: $$\\alpha = \\int f(\\tau)\\,d\\tau,$$\n",
       "where $\\tau$ is the time.\n"
      ],
      "text/plain": [
       "<IPython.core.display.HTML object>"
      ]
     },
     "execution_count": 19,
     "metadata": {},
     "output_type": "execute_result"
    }
   ],
   "source": [
    "HTML(testStr)"
   ]
  },
  {
   "cell_type": "code",
   "execution_count": 20,
   "metadata": {},
   "outputs": [
    {
     "data": {
      "text/html": [
       "\n",
       "<h2>FooHtml</h2>\n",
       "Explanation: $$\\alpha = \\int f(\\tau)\\,d\\tau,$$\n",
       "where $\\tau$ is the time.\n"
      ],
      "text/plain": [
       "<IPython.core.display.HTML object>"
      ]
     },
     "metadata": {},
     "output_type": "display_data"
    }
   ],
   "source": [
    "dh(testStr)"
   ]
  },
  {
   "cell_type": "code",
   "execution_count": 21,
   "metadata": {},
   "outputs": [
    {
     "data": {
      "text/plain": [
       "'\\n<h3>FooHtml</h3>\\nExplanation: $$\\\\alpha = \\\\int f(\\\\tau)\\\\,d\\\\tau,$$\\nwhere $\\\\tau$ is the time.\\n'"
      ]
     },
     "execution_count": 21,
     "metadata": {},
     "output_type": "execute_result"
    }
   ],
   "source": [
    "Math(r'')\n",
    "r\"\"\"\n",
    "<h3>FooHtml</h3>\n",
    "Explanation: $$\\alpha = \\int f(\\tau)\\,d\\tau,$$\n",
    "where $\\tau$ is the time.\n",
    "\"\"\""
   ]
  },
  {
   "cell_type": "code",
   "execution_count": 22,
   "metadata": {},
   "outputs": [
    {
     "data": {
      "text/html": [
       "$A\\over B$"
      ],
      "text/plain": [
       "<IPython.core.display.HTML object>"
      ]
     },
     "metadata": {},
     "output_type": "display_data"
    },
    {
     "data": {
      "text/html": [
       "$C\\over D$"
      ],
      "text/plain": [
       "<IPython.core.display.HTML object>"
      ]
     },
     "metadata": {},
     "output_type": "display_data"
    }
   ],
   "source": [
    "dh(r\"\"\"$A\\over B$\"\"\")\n",
    "dh(r\"\"\"$C\\over D$\"\"\")"
   ]
  },
  {
   "cell_type": "code",
   "execution_count": 23,
   "metadata": {},
   "outputs": [
    {
     "data": {
      "text/html": [
       "<div class=\"tfsechead rtl\"><span class=\"ltr\">1 1001:4</span></div><div class=\"rtl children\"><div class=\"contnr c1  rtl  \" ><div class=\"lbl c1  \" ><span class=\"nd\">figure</span></div><div><img src=\"illustrations/illustration-682928.gif\" style=\"display: inline;\" /></div><div class=\"children hor wrap rtl\"><div class=\"contnr c0 trm rtl  \" ><div class=\"lbl c0 trm \" ><span class=\"txtu hbo\">AT10-152a.gif </span></div></div></div></div></div>"
      ],
      "text/plain": [
       "<IPython.core.display.HTML object>"
      ]
     },
     "metadata": {},
     "output_type": "display_data"
    }
   ],
   "source": [
    "A.pretty(F.otype.s(\"figure\")[0])"
   ]
  },
  {
   "cell_type": "code",
   "execution_count": 25,
   "metadata": {},
   "outputs": [
    {
     "data": {
      "text/html": [
       "<div class=\"tfsechead rtl\"><span class=\"ltr\">1 1046:11</span></div><div class=\"rtl children\"><div class=\"contnr c0 trm rtl  \" ><div class=\"lbl c0 trm \" ><span class=\"nd\">54317</span> <span class=\"txtu hbo\"><span>$</span>{1\\over 3} {4\\over 9} {16\\over 27} {64\\over 81}<span>$</span> </span></div></div></div>"
      ],
      "text/plain": [
       "<IPython.core.display.HTML object>"
      ]
     },
     "metadata": {},
     "output_type": "display_data"
    },
    {
     "data": {
      "text/html": [
       "<div class=\"tfsechead rtl\"><span class=\"ltr\">1 1060:3</span></div><div class=\"rtl children\"><div class=\"contnr c0 trm rtl  \" ><div class=\"lbl c0 trm \" ><span class=\"nd\">62674</span> <span class=\"txtu hbo\"><span>$</span>4.900x^{6} \\ {\\it aequat}\\  - 4.899x^{5} + 2.354x^{4} + 16.858x^{3} + 9.458xx + 429x - 4.900<span>$</span> </span></div></div></div>"
      ],
      "text/plain": [
       "<IPython.core.display.HTML object>"
      ]
     },
     "metadata": {},
     "output_type": "display_data"
    },
    {
     "data": {
      "text/html": [
       "<div class=\"tfsechead rtl\"><span class=\"ltr\">1 1060:9</span></div><div class=\"rtl children\"><div class=\"contnr c0 trm rtl  \" ><div class=\"lbl c0 trm \" ><span class=\"nd\">63081</span> <span class=\"txtu hbo\"><span>$</span>{\\displaystyle\\strut {3xx - 1x}\\over \\displaystyle\\strut 2}<span>$</span> </span></div></div></div>"
      ],
      "text/plain": [
       "<IPython.core.display.HTML object>"
      ]
     },
     "metadata": {},
     "output_type": "display_data"
    },
    {
     "data": {
      "text/html": [
       "<div class=\"tfsechead rtl\"><span class=\"ltr\">2 2131:4</span></div><div class=\"rtl children\"><div class=\"contnr c0 trm rtl  \" ><div class=\"lbl c0 trm \" ><span class=\"nd\">116135</span> <span class=\"txtu hbo\"><span>$</span>{\\displaystyle\\strut Bq\\over \\displaystyle\\strut D}<span>$</span> </span></div></div></div>"
      ],
      "text/plain": [
       "<IPython.core.display.HTML object>"
      ]
     },
     "metadata": {},
     "output_type": "display_data"
    },
    {
     "data": {
      "text/html": [
       "<div class=\"tfsechead rtl\"><span class=\"ltr\">2 2131:4</span></div><div class=\"rtl children\"><div class=\"contnr c0 trm rtl  \" ><div class=\"lbl c0 trm \" ><span class=\"nd\">116191</span> <span class=\"txtu hbo\"><span>$</span>{\\displaystyle\\strut {Bq \\ {\\it in}\\  D + Bq \\ {\\it in}\\  E}\\over \\displaystyle\\strut {\\rm D}}<span>$</span> </span></div></div></div>"
      ],
      "text/plain": [
       "<IPython.core.display.HTML object>"
      ]
     },
     "metadata": {},
     "output_type": "display_data"
    },
    {
     "data": {
      "text/html": [
       "<div class=\"tfsechead rtl\"><span class=\"ltr\">2 2131:4</span></div><div class=\"rtl children\"><div class=\"contnr c0 trm rtl  \" ><div class=\"lbl c0 trm \" ><span class=\"nd\">116240</span> <span class=\"txtu hbo\"><span>$</span>Bq + {\\displaystyle\\strut {Bq \\ {\\it in}\\  E}\\over \\displaystyle\\strut D} + Aq + A \\ {\\it in}\\  E \\ {\\it bis}\\  + Eq<span>$</span> </span></div></div></div>"
      ],
      "text/plain": [
       "<IPython.core.display.HTML object>"
      ]
     },
     "metadata": {},
     "output_type": "display_data"
    },
    {
     "data": {
      "text/html": [
       "<div class=\"tfsechead rtl\"><span class=\"ltr\">2 2131:4</span></div><div class=\"rtl children\"><div class=\"contnr c0 trm rtl  \" ><div class=\"lbl c0 trm \" ><span class=\"nd\">116248</span> <span class=\"txtu hbo\"><span>$</span>{\\displaystyle\\strut {Bq \\ {\\it in}\\  E}\\over \\displaystyle\\strut D} + A \\ {\\it in}\\  E \\ {\\it bis}\\  + Eq<span>$</span> </span></div></div></div>"
      ],
      "text/plain": [
       "<IPython.core.display.HTML object>"
      ]
     },
     "metadata": {},
     "output_type": "display_data"
    },
    {
     "data": {
      "text/html": [
       "<div class=\"tfsechead rtl\"><span class=\"ltr\">2 2131:4</span></div><div class=\"rtl children\"><div class=\"contnr c0 trm rtl  \" ><div class=\"lbl c0 trm \" ><span class=\"nd\">116261</span> <span class=\"txtu hbo\"><span>$</span>{\\displaystyle\\strut Bq\\over \\displaystyle\\strut D} + A \\ {\\it bis}\\  + E<span>$</span> </span></div></div></div>"
      ],
      "text/plain": [
       "<IPython.core.display.HTML object>"
      ]
     },
     "metadata": {},
     "output_type": "display_data"
    },
    {
     "data": {
      "text/html": [
       "<div class=\"tfsechead rtl\"><span class=\"ltr\">2 2131:4</span></div><div class=\"rtl children\"><div class=\"contnr c0 trm rtl  \" ><div class=\"lbl c0 trm \" ><span class=\"nd\">116268</span> <span class=\"txtu hbo\"><span>$</span>{\\displaystyle\\strut Bq\\over \\displaystyle\\strut D} + A \\ {\\it bis}\\ <span>$</span> </span></div></div></div>"
      ],
      "text/plain": [
       "<IPython.core.display.HTML object>"
      ]
     },
     "metadata": {},
     "output_type": "display_data"
    },
    {
     "data": {
      "text/html": [
       "<div class=\"tfsechead rtl\"><span class=\"ltr\">2 2152:4</span></div><div class=\"rtl children\"><div class=\"contnr c0 trm rtl  \" ><div class=\"lbl c0 trm \" ><span class=\"nd\">149254</span> <span class=\"txtu hbo\"><span>$</span>{\\rm m} - {{\\displaystyle\\strut {\\rm n}\\over \\displaystyle\\strut {\\rm z}}}{\\rm x} + \\sqrt{{\\rm mm} + {\\rm ox} - {{\\displaystyle\\strut {\\rm p}\\over \\displaystyle\\strut {\\rm m}}}{\\rm xx}}<span>$</span> </span></div></div></div>"
      ],
      "text/plain": [
       "<IPython.core.display.HTML object>"
      ]
     },
     "metadata": {},
     "output_type": "display_data"
    },
    {
     "data": {
      "text/html": [
       "<div class=\"tfsechead rtl\"><span class=\"ltr\">2 2156:9</span></div><div class=\"rtl children\"><div class=\"contnr c0 trm rtl  \" ><div class=\"lbl c0 trm \" ><span class=\"nd\">162761</span> <span class=\"txtu hbo\"><span>$</span>{\\displaystyle\\strut {C \\ {\\it in}\\  B}\\over \\displaystyle\\strut {2B + C}}<span>$</span> </span></div></div></div>"
      ],
      "text/plain": [
       "<IPython.core.display.HTML object>"
      ]
     },
     "metadata": {},
     "output_type": "display_data"
    },
    {
     "data": {
      "text/html": [
       "<div class=\"tfsechead rtl\"><span class=\"ltr\">2 2156:10</span></div><div class=\"rtl children\"><div class=\"contnr c0 trm rtl  \" ><div class=\"lbl c0 trm \" ><span class=\"nd\">162899</span> <span class=\"txtu hbo\"><span>$</span>{\\displaystyle\\strut Bq\\over \\displaystyle\\strut D}<span>$</span> </span></div></div></div>"
      ],
      "text/plain": [
       "<IPython.core.display.HTML object>"
      ]
     },
     "metadata": {},
     "output_type": "display_data"
    },
    {
     "data": {
      "text/html": [
       "<div class=\"tfsechead rtl\"><span class=\"ltr\">2 2156:10</span></div><div class=\"rtl children\"><div class=\"contnr c0 trm rtl  \" ><div class=\"lbl c0 trm \" ><span class=\"nd\">162975</span> <span class=\"txtu hbo\"><span>$</span>{\\displaystyle\\strut {A \\ {\\it in}\\  B + E \\ {\\it in}\\  B}\\over \\displaystyle\\strut A}<span>$</span> </span></div></div></div>"
      ],
      "text/plain": [
       "<IPython.core.display.HTML object>"
      ]
     },
     "metadata": {},
     "output_type": "display_data"
    },
    {
     "data": {
      "text/html": [
       "<div class=\"tfsechead rtl\"><span class=\"ltr\">2 2156:10</span></div><div class=\"rtl children\"><div class=\"contnr c0 trm rtl  \" ><div class=\"lbl c0 trm \" ><span class=\"nd\">162987</span> <span class=\"txtu hbo\"><span>$</span>{\\displaystyle\\strut {Aq \\ {\\it in}\\  Bq + A \\ {\\it in}\\  E \\ {\\it in}\\  Bq \\ {\\it bis}\\  + Eq \\ {\\it in}\\  Bq}\\over \\displaystyle\\strut Aq}<span>$</span> </span></div></div></div>"
      ],
      "text/plain": [
       "<IPython.core.display.HTML object>"
      ]
     },
     "metadata": {},
     "output_type": "display_data"
    },
    {
     "data": {
      "text/html": [
       "<div class=\"tfsechead rtl\"><span class=\"ltr\">2 2156:10</span></div><div class=\"rtl children\"><div class=\"contnr c0 trm rtl  \" ><div class=\"lbl c0 trm \" ><span class=\"nd\">163019</span> <span class=\"txtu hbo\"><span>$</span>{\\displaystyle\\strut {Bq \\ {\\it in}\\  D + Bq \\ {\\it in}\\  E}\\over \\displaystyle\\strut D}<span>$</span> </span></div></div></div>"
      ],
      "text/plain": [
       "<IPython.core.display.HTML object>"
      ]
     },
     "metadata": {},
     "output_type": "display_data"
    },
    {
     "data": {
      "text/html": [
       "<div class=\"tfsechead rtl\"><span class=\"ltr\">2 2156:10</span></div><div class=\"rtl children\"><div class=\"contnr c0 trm rtl  \" ><div class=\"lbl c0 trm \" ><span class=\"nd\">163030</span> <span class=\"txtu hbo\"><span>$</span>{\\displaystyle\\strut {A \\ {\\it in}\\  E \\ {\\it in}\\  Bq \\ {\\it bis}\\  + Eq \\ {\\it in}\\  Bq}\\over \\displaystyle\\strut Aq}<span>$</span> </span></div></div></div>"
      ],
      "text/plain": [
       "<IPython.core.display.HTML object>"
      ]
     },
     "metadata": {},
     "output_type": "display_data"
    },
    {
     "data": {
      "text/html": [
       "<div class=\"tfsechead rtl\"><span class=\"ltr\">2 2156:10</span></div><div class=\"rtl children\"><div class=\"contnr c0 trm rtl  \" ><div class=\"lbl c0 trm \" ><span class=\"nd\">163034</span> <span class=\"txtu hbo\"><span>$</span>{\\displaystyle\\strut {Bq \\ {\\it in}\\  E}\\over \\displaystyle\\strut D}<span>$</span> </span></div></div></div>"
      ],
      "text/plain": [
       "<IPython.core.display.HTML object>"
      ]
     },
     "metadata": {},
     "output_type": "display_data"
    },
    {
     "data": {
      "text/html": [
       "<div class=\"tfsechead rtl\"><span class=\"ltr\">2 2158:9</span></div><div class=\"rtl children\"><div class=\"contnr c0 trm rtl  \" ><div class=\"lbl c0 trm \" ><span class=\"nd\">170295</span> <span class=\"txtu hbo\"><span>$</span>{3\\over 8}<span>$</span> </span></div></div></div>"
      ],
      "text/plain": [
       "<IPython.core.display.HTML object>"
      ]
     },
     "metadata": {},
     "output_type": "display_data"
    },
    {
     "data": {
      "text/html": [
       "<div class=\"tfsechead rtl\"><span class=\"ltr\">2 2158:9</span></div><div class=\"rtl children\"><div class=\"contnr c0 trm rtl  \" ><div class=\"lbl c0 trm \" ><span class=\"nd\">170304</span> <span class=\"txtu hbo\"><span>$</span>{1\\over 2}<span>$</span> </span></div></div></div>"
      ],
      "text/plain": [
       "<IPython.core.display.HTML object>"
      ]
     },
     "metadata": {},
     "output_type": "display_data"
    },
    {
     "data": {
      "text/html": [
       "<div class=\"tfsechead rtl\"><span class=\"ltr\">2 2158:9</span></div><div class=\"rtl children\"><div class=\"contnr c0 trm rtl  \" ><div class=\"lbl c0 trm \" ><span class=\"nd\">170310</span> <span class=\"txtu hbo\"><span>$</span>{1\\over 4}<span>$</span> </span></div></div></div>"
      ],
      "text/plain": [
       "<IPython.core.display.HTML object>"
      ]
     },
     "metadata": {},
     "output_type": "display_data"
    },
    {
     "data": {
      "text/html": [
       "<div class=\"tfsechead rtl\"><span class=\"ltr\">2 2158:9</span></div><div class=\"rtl children\"><div class=\"contnr c0 trm rtl  \" ><div class=\"lbl c0 trm \" ><span class=\"nd\">170321</span> <span class=\"txtu hbo\"><span>$</span>{1\\over 2}<span>$</span> </span></div></div></div>"
      ],
      "text/plain": [
       "<IPython.core.display.HTML object>"
      ]
     },
     "metadata": {},
     "output_type": "display_data"
    },
    {
     "data": {
      "text/html": [
       "<div class=\"tfsechead rtl\"><span class=\"ltr\">2 2158:9</span></div><div class=\"rtl children\"><div class=\"contnr c0 trm rtl  \" ><div class=\"lbl c0 trm \" ><span class=\"nd\">170324</span> <span class=\"txtu hbo\"><span>$</span>{3\\over 8}<span>$</span> </span></div></div></div>"
      ],
      "text/plain": [
       "<IPython.core.display.HTML object>"
      ]
     },
     "metadata": {},
     "output_type": "display_data"
    },
    {
     "data": {
      "text/html": [
       "<div class=\"tfsechead rtl\"><span class=\"ltr\">2 2158:9</span></div><div class=\"rtl children\"><div class=\"contnr c0 trm rtl  \" ><div class=\"lbl c0 trm \" ><span class=\"nd\">170337</span> <span class=\"txtu hbo\"><span>$</span>{3\\over 16}<span>$</span> </span></div></div></div>"
      ],
      "text/plain": [
       "<IPython.core.display.HTML object>"
      ]
     },
     "metadata": {},
     "output_type": "display_data"
    },
    {
     "data": {
      "text/html": [
       "<div class=\"tfsechead rtl\"><span class=\"ltr\">2 2158:9</span></div><div class=\"rtl children\"><div class=\"contnr c0 trm rtl  \" ><div class=\"lbl c0 trm \" ><span class=\"nd\">170341</span> <span class=\"txtu hbo\"><span>$</span>{9\\over 128}<span>$</span> </span></div></div></div>"
      ],
      "text/plain": [
       "<IPython.core.display.HTML object>"
      ]
     },
     "metadata": {},
     "output_type": "display_data"
    },
    {
     "data": {
      "text/html": [
       "<div class=\"tfsechead rtl\"><span class=\"ltr\">2 2158:9</span></div><div class=\"rtl children\"><div class=\"contnr c0 trm rtl  \" ><div class=\"lbl c0 trm \" ><span class=\"nd\">170352</span> <span class=\"txtu hbo\"><span>$</span>{1\\over 8}<span>$</span> </span></div></div></div>"
      ],
      "text/plain": [
       "<IPython.core.display.HTML object>"
      ]
     },
     "metadata": {},
     "output_type": "display_data"
    },
    {
     "data": {
      "text/html": [
       "<div class=\"tfsechead rtl\"><span class=\"ltr\">2 2158:9</span></div><div class=\"rtl children\"><div class=\"contnr c0 trm rtl  \" ><div class=\"lbl c0 trm \" ><span class=\"nd\">170358</span> <span class=\"txtu hbo\"><span>$</span>{1\\over 64}<span>$</span> </span></div></div></div>"
      ],
      "text/plain": [
       "<IPython.core.display.HTML object>"
      ]
     },
     "metadata": {},
     "output_type": "display_data"
    },
    {
     "data": {
      "text/html": [
       "<div class=\"tfsechead rtl\"><span class=\"ltr\">2 2158:9</span></div><div class=\"rtl children\"><div class=\"contnr c0 trm rtl  \" ><div class=\"lbl c0 trm \" ><span class=\"nd\">170368</span> <span class=\"txtu hbo\"><span>$</span>{1\\over 8}<span>$</span> </span></div></div></div>"
      ],
      "text/plain": [
       "<IPython.core.display.HTML object>"
      ]
     },
     "metadata": {},
     "output_type": "display_data"
    },
    {
     "data": {
      "text/html": [
       "<div class=\"tfsechead rtl\"><span class=\"ltr\">2 2158:9</span></div><div class=\"rtl children\"><div class=\"contnr c0 trm rtl  \" ><div class=\"lbl c0 trm \" ><span class=\"nd\">170371</span> <span class=\"txtu hbo\"><span>$</span>{9\\over 128}<span>$</span> </span></div></div></div>"
      ],
      "text/plain": [
       "<IPython.core.display.HTML object>"
      ]
     },
     "metadata": {},
     "output_type": "display_data"
    },
    {
     "data": {
      "text/html": [
       "<div class=\"tfsechead rtl\"><span class=\"ltr\">2 2158:11</span></div><div class=\"rtl children\"><div class=\"contnr c0 trm rtl  \" ><div class=\"lbl c0 trm \" ><span class=\"nd\">170613</span> <span class=\"txtu hbo\"><span>$</span>3 - {\\displaystyle\\strut 1{\\rm Q}\\over \\displaystyle\\strut 2{\\rm N}}<span>$</span> </span></div></div></div>"
      ],
      "text/plain": [
       "<IPython.core.display.HTML object>"
      ]
     },
     "metadata": {},
     "output_type": "display_data"
    },
    {
     "data": {
      "text/html": [
       "<div class=\"tfsechead rtl\"><span class=\"ltr\">2 2158:12</span></div><div class=\"rtl children\"><div class=\"contnr c0 trm rtl  \" ><div class=\"lbl c0 trm \" ><span class=\"nd\">170685</span> <span class=\"txtu hbo\"><span>$</span>{\\displaystyle\\strut {2 - 1{\\rm Q}}\\over \\displaystyle\\strut 2{\\rm N}}<span>$</span> </span></div></div></div>"
      ],
      "text/plain": [
       "<IPython.core.display.HTML object>"
      ]
     },
     "metadata": {},
     "output_type": "display_data"
    },
    {
     "data": {
      "text/html": [
       "<div class=\"tfsechead rtl\"><span class=\"ltr\">2 2158:12</span></div><div class=\"rtl children\"><div class=\"contnr c0 trm rtl  \" ><div class=\"lbl c0 trm \" ><span class=\"nd\">170703</span> <span class=\"txtu hbo\"><span>$</span>{\\displaystyle\\strut {1 - 1{\\rm Q}}\\over \\displaystyle\\strut 2{\\rm N}}<span>$</span> </span></div></div></div>"
      ],
      "text/plain": [
       "<IPython.core.display.HTML object>"
      ]
     },
     "metadata": {},
     "output_type": "display_data"
    },
    {
     "data": {
      "text/html": [
       "<div class=\"tfsechead rtl\"><span class=\"ltr\">2 2158:12</span></div><div class=\"rtl children\"><div class=\"contnr c0 trm rtl  \" ><div class=\"lbl c0 trm \" ><span class=\"nd\">170740</span> <span class=\"txtu hbo\"><span>$</span>7 + 2{\\rm N} + {\\displaystyle\\strut 6\\over \\displaystyle\\strut 1{\\rm N}}<span>$</span> </span></div></div></div>"
      ],
      "text/plain": [
       "<IPython.core.display.HTML object>"
      ]
     },
     "metadata": {},
     "output_type": "display_data"
    },
    {
     "data": {
      "text/html": [
       "<div class=\"tfsechead rtl\"><span class=\"ltr\">2 2158:14</span></div><div class=\"rtl children\"><div class=\"contnr c0 trm rtl  \" ><div class=\"lbl c0 trm \" ><span class=\"nd\">170967</span> <span class=\"txtu hbo\"><span>$</span>{9\\over 100}<span>$</span> </span></div></div></div>"
      ],
      "text/plain": [
       "<IPython.core.display.HTML object>"
      ]
     },
     "metadata": {},
     "output_type": "display_data"
    },
    {
     "data": {
      "text/html": [
       "<div class=\"tfsechead rtl\"><span class=\"ltr\">2 2158:14</span></div><div class=\"rtl children\"><div class=\"contnr c0 trm rtl  \" ><div class=\"lbl c0 trm \" ><span class=\"nd\">170982</span> <span class=\"txtu hbo\"><span>$</span>{3\\over 10}<span>$</span> </span></div></div></div>"
      ],
      "text/plain": [
       "<IPython.core.display.HTML object>"
      ]
     },
     "metadata": {},
     "output_type": "display_data"
    },
    {
     "data": {
      "text/html": [
       "<div class=\"tfsechead rtl\"><span class=\"ltr\">2 2158:14</span></div><div class=\"rtl children\"><div class=\"contnr c0 trm rtl  \" ><div class=\"lbl c0 trm \" ><span class=\"nd\">171052</span> <span class=\"txtu hbo\"><span>$</span>{36\\over 9}<span>$</span> </span></div></div></div>"
      ],
      "text/plain": [
       "<IPython.core.display.HTML object>"
      ]
     },
     "metadata": {},
     "output_type": "display_data"
    },
    {
     "data": {
      "text/html": [
       "<div class=\"tfsechead rtl\"><span class=\"ltr\">2 2158:14</span></div><div class=\"rtl children\"><div class=\"contnr c0 trm rtl  \" ><div class=\"lbl c0 trm \" ><span class=\"nd\">171080</span> <span class=\"txtu hbo\"><span>$</span>{225\\over 9}<span>$</span> </span></div></div></div>"
      ],
      "text/plain": [
       "<IPython.core.display.HTML object>"
      ]
     },
     "metadata": {},
     "output_type": "display_data"
    },
    {
     "data": {
      "text/html": [
       "<div class=\"tfsechead rtl\"><span class=\"ltr\">2 2158:20</span></div><div class=\"rtl children\"><div class=\"contnr c0 trm rtl  \" ><div class=\"lbl c0 trm \" ><span class=\"nd\">171989</span> <span class=\"txtu hbo\"><span>$</span>{40\\over 3}<span>$</span> </span></div></div></div>"
      ],
      "text/plain": [
       "<IPython.core.display.HTML object>"
      ]
     },
     "metadata": {},
     "output_type": "display_data"
    },
    {
     "data": {
      "text/html": [
       "<div class=\"tfsechead rtl\"><span class=\"ltr\">2 2158:20</span></div><div class=\"rtl children\"><div class=\"contnr c0 trm rtl  \" ><div class=\"lbl c0 trm \" ><span class=\"nd\">171992</span> <span class=\"txtu hbo\"><span>$</span>{202\\over 3}<span>$</span> </span></div></div></div>"
      ],
      "text/plain": [
       "<IPython.core.display.HTML object>"
      ]
     },
     "metadata": {},
     "output_type": "display_data"
    },
    {
     "data": {
      "text/html": [
       "<div class=\"tfsechead rtl\"><span class=\"ltr\">2 2158:20</span></div><div class=\"rtl children\"><div class=\"contnr c0 trm rtl  \" ><div class=\"lbl c0 trm \" ><span class=\"nd\">172005</span> <span class=\"txtu hbo\"><span>$</span>{33\\over 7}<span>$</span> </span></div></div></div>"
      ],
      "text/plain": [
       "<IPython.core.display.HTML object>"
      ]
     },
     "metadata": {},
     "output_type": "display_data"
    },
    {
     "data": {
      "text/html": [
       "<div class=\"tfsechead rtl\"><span class=\"ltr\">2 2158:20</span></div><div class=\"rtl children\"><div class=\"contnr c0 trm rtl  \" ><div class=\"lbl c0 trm \" ><span class=\"nd\">172007</span> <span class=\"txtu hbo\"><span>$</span>{700\\over 3}<span>$</span> </span></div></div></div>"
      ],
      "text/plain": [
       "<IPython.core.display.HTML object>"
      ]
     },
     "metadata": {},
     "output_type": "display_data"
    },
    {
     "data": {
      "text/html": [
       "<div class=\"tfsechead rtl\"><span class=\"ltr\">2 2158:20</span></div><div class=\"rtl children\"><div class=\"contnr c0 trm rtl  \" ><div class=\"lbl c0 trm \" ><span class=\"nd\">172009</span> <span class=\"txtu hbo\"><span>$</span>{4901\\over 21}<span>$</span> </span></div></div></div>"
      ],
      "text/plain": [
       "<IPython.core.display.HTML object>"
      ]
     },
     "metadata": {},
     "output_type": "display_data"
    },
    {
     "data": {
      "text/html": [
       "<div class=\"tfsechead rtl\"><span class=\"ltr\">2 2159:5</span></div><div class=\"rtl children\"><div class=\"contnr c0 trm rtl  \" ><div class=\"lbl c0 trm \" ><span class=\"nd\">173082</span> <span class=\"txtu hbo\"><span>$</span>{\\rm DF} = {\\displaystyle\\strut {ba + be}\\over \\displaystyle\\strut a}<span>$</span> </span></div></div></div>"
      ],
      "text/plain": [
       "<IPython.core.display.HTML object>"
      ]
     },
     "metadata": {},
     "output_type": "display_data"
    },
    {
     "data": {
      "text/html": [
       "<div class=\"tfsechead rtl\"><span class=\"ltr\">2 2159:5</span></div><div class=\"rtl children\"><div class=\"contnr c0 trm rtl  \" ><div class=\"lbl c0 trm \" ><span class=\"nd\">173199</span> <span class=\"txtu hbo\"><span>$</span>{\\displaystyle\\strut {b^{3}a^{3} + 3b^{3}aae + 3b^{3}aee + b^{3}e^{3}}\\over \\displaystyle\\strut a^{3}}<span>$</span> </span></div></div></div>"
      ],
      "text/plain": [
       "<IPython.core.display.HTML object>"
      ]
     },
     "metadata": {},
     "output_type": "display_data"
    },
    {
     "data": {
      "text/html": [
       "<div class=\"tfsechead rtl\"><span class=\"ltr\">2 2159:5</span></div><div class=\"rtl children\"><div class=\"contnr c0 trm rtl  \" ><div class=\"lbl c0 trm \" ><span class=\"nd\">173207</span> <span class=\"txtu hbo\"><span>$</span>{\\displaystyle\\strut {ba + be}\\over \\displaystyle\\strut a}<span>$</span> </span></div></div></div>"
      ],
      "text/plain": [
       "<IPython.core.display.HTML object>"
      ]
     },
     "metadata": {},
     "output_type": "display_data"
    },
    {
     "data": {
      "text/html": [
       "<div class=\"tfsechead rtl\"><span class=\"ltr\">2 2159:5</span></div><div class=\"rtl children\"><div class=\"contnr c0 trm rtl  \" ><div class=\"lbl c0 trm \" ><span class=\"nd\">173230</span> <span class=\"txtu hbo\"><span>$</span>{\\displaystyle\\strut {b^{3}a^{3} + 3b^{3}aae + 3b^{3}aee + b^{3}e^{3}}\\over \\displaystyle\\strut a^{3}}<span>$</span> </span></div></div></div>"
      ],
      "text/plain": [
       "<IPython.core.display.HTML object>"
      ]
     },
     "metadata": {},
     "output_type": "display_data"
    },
    {
     "data": {
      "text/html": [
       "<div class=\"tfsechead rtl\"><span class=\"ltr\">2 2159:5</span></div><div class=\"rtl children\"><div class=\"contnr c0 trm rtl  \" ><div class=\"lbl c0 trm \" ><span class=\"nd\">173234</span> <span class=\"txtu hbo\"><span>$</span>cb^{3} + eb^{3} = {\\displaystyle\\strut {cb^{2}a^{3} + 3b^{3}caae + 3b^{3}acee + cb^{3}e^{3}}\\over \\displaystyle\\strut a^{3}}<span>$</span> </span></div></div></div>"
      ],
      "text/plain": [
       "<IPython.core.display.HTML object>"
      ]
     },
     "metadata": {},
     "output_type": "display_data"
    },
    {
     "data": {
      "text/html": [
       "<div class=\"tfsechead rtl\"><span class=\"ltr\">2 2159:5</span></div><div class=\"rtl children\"><div class=\"contnr c0 trm rtl  \" ><div class=\"lbl c0 trm \" ><span class=\"nd\">173398</span> <span class=\"txtu hbo\"><span>$</span>{\\rm DF} = {\\displaystyle\\strut {ba + be}\\over \\displaystyle\\strut a}<span>$</span> </span></div></div></div>"
      ],
      "text/plain": [
       "<IPython.core.display.HTML object>"
      ]
     },
     "metadata": {},
     "output_type": "display_data"
    },
    {
     "data": {
      "text/html": [
       "<div class=\"tfsechead rtl\"><span class=\"ltr\">2 2159:5</span></div><div class=\"rtl children\"><div class=\"contnr c0 trm rtl  \" ><div class=\"lbl c0 trm \" ><span class=\"nd\">173403</span> <span class=\"txtu hbo\"><span>$</span>bh = {\\displaystyle\\strut {gba + gbe}\\over \\displaystyle\\strut a}<span>$</span> </span></div></div></div>"
      ],
      "text/plain": [
       "<IPython.core.display.HTML object>"
      ]
     },
     "metadata": {},
     "output_type": "display_data"
    },
    {
     "data": {
      "text/html": [
       "<div class=\"tfsechead rtl\"><span class=\"ltr\">2 2160:6</span></div><div class=\"rtl children\"><div class=\"contnr c0 trm rtl  \" ><div class=\"lbl c0 trm \" ><span class=\"nd\">175462</span> <span class=\"txtu hbo\"><span>$</span>{24\\over 5}<span>$</span> </span></div></div></div>"
      ],
      "text/plain": [
       "<IPython.core.display.HTML object>"
      ]
     },
     "metadata": {},
     "output_type": "display_data"
    },
    {
     "data": {
      "text/html": [
       "<div class=\"tfsechead rtl\"><span class=\"ltr\">2 2160:6</span></div><div class=\"rtl children\"><div class=\"contnr c0 trm rtl  \" ><div class=\"lbl c0 trm \" ><span class=\"nd\">175464</span> <span class=\"txtu hbo\"><span>$</span>{35\\over 12}<span>$</span> </span></div></div></div>"
      ],
      "text/plain": [
       "<IPython.core.display.HTML object>"
      ]
     },
     "metadata": {},
     "output_type": "display_data"
    },
    {
     "data": {
      "text/html": [
       "<div class=\"tfsechead rtl\"><span class=\"ltr\">2 2160:6</span></div><div class=\"rtl children\"><div class=\"contnr c0 trm rtl  \" ><div class=\"lbl c0 trm \" ><span class=\"nd\">175466</span> <span class=\"txtu hbo\"><span>$</span>{337\\over 60}<span>$</span> </span></div></div></div>"
      ],
      "text/plain": [
       "<IPython.core.display.HTML object>"
      ]
     },
     "metadata": {},
     "output_type": "display_data"
    },
    {
     "data": {
      "text/html": [
       "<div class=\"tfsechead rtl\"><span class=\"ltr\">2 2160:6</span></div><div class=\"rtl children\"><div class=\"contnr c0 trm rtl  \" ><div class=\"lbl c0 trm \" ><span class=\"nd\">175480</span> <span class=\"txtu hbo\"><span>$</span>{8\\over 3}<span>$</span> </span></div></div></div>"
      ],
      "text/plain": [
       "<IPython.core.display.HTML object>"
      ]
     },
     "metadata": {},
     "output_type": "display_data"
    },
    {
     "data": {
      "text/html": [
       "<div class=\"tfsechead rtl\"><span class=\"ltr\">2 2160:6</span></div><div class=\"rtl children\"><div class=\"contnr c0 trm rtl  \" ><div class=\"lbl c0 trm \" ><span class=\"nd\">175482</span> <span class=\"txtu hbo\"><span>$</span>{21\\over 2}<span>$</span> </span></div></div></div>"
      ],
      "text/plain": [
       "<IPython.core.display.HTML object>"
      ]
     },
     "metadata": {},
     "output_type": "display_data"
    },
    {
     "data": {
      "text/html": [
       "<div class=\"tfsechead rtl\"><span class=\"ltr\">2 2160:6</span></div><div class=\"rtl children\"><div class=\"contnr c0 trm rtl  \" ><div class=\"lbl c0 trm \" ><span class=\"nd\">175484</span> <span class=\"txtu hbo\"><span>$</span>{65\\over 6}<span>$</span> </span></div></div></div>"
      ],
      "text/plain": [
       "<IPython.core.display.HTML object>"
      ]
     },
     "metadata": {},
     "output_type": "display_data"
    },
    {
     "data": {
      "text/html": [
       "<div class=\"tfsechead rtl\"><span class=\"ltr\">2 2160:6</span></div><div class=\"rtl children\"><div class=\"contnr c0 trm rtl  \" ><div class=\"lbl c0 trm \" ><span class=\"nd\">175498</span> <span class=\"txtu hbo\"><span>$</span>{7\\over 2}<span>$</span> </span></div></div></div>"
      ],
      "text/plain": [
       "<IPython.core.display.HTML object>"
      ]
     },
     "metadata": {},
     "output_type": "display_data"
    },
    {
     "data": {
      "text/html": [
       "<div class=\"tfsechead rtl\"><span class=\"ltr\">2 2160:6</span></div><div class=\"rtl children\"><div class=\"contnr c0 trm rtl  \" ><div class=\"lbl c0 trm \" ><span class=\"nd\">175500</span> <span class=\"txtu hbo\"><span>$</span>{25\\over 2}<span>$</span> </span></div></div></div>"
      ],
      "text/plain": [
       "<IPython.core.display.HTML object>"
      ]
     },
     "metadata": {},
     "output_type": "display_data"
    },
    {
     "data": {
      "text/html": [
       "<div class=\"tfsechead rtl\"><span class=\"ltr\">3 3174:14</span></div><div class=\"rtl children\"><div class=\"contnr c0 trm rtl  \" ><div class=\"lbl c0 trm \" ><span class=\"nd\">213355</span> <span class=\"txtu hbo\"><span>$</span>vv = - {{1\\over 3}}nv + 2ev + {{2\\over 3}}ne - 2ee<span>$</span> </span></div></div></div>"
      ],
      "text/plain": [
       "<IPython.core.display.HTML object>"
      ]
     },
     "metadata": {},
     "output_type": "display_data"
    },
    {
     "data": {
      "text/html": [
       "<div class=\"tfsechead rtl\"><span class=\"ltr\">3 3174:14</span></div><div class=\"rtl children\"><div class=\"contnr c0 trm rtl  \" ><div class=\"lbl c0 trm \" ><span class=\"nd\">213375</span> <span class=\"txtu hbo\"><span>$</span>x - {{1\\over 6}}n \\pm  \\sqrt{{{1\\over 36}}nn + {{1\\over 3}}nx - xx}<span>$</span> </span></div></div></div>"
      ],
      "text/plain": [
       "<IPython.core.display.HTML object>"
      ]
     },
     "metadata": {},
     "output_type": "display_data"
    },
    {
     "data": {
      "text/html": [
       "<div class=\"tfsechead rtl\"><span class=\"ltr\">3 3174:15</span></div><div class=\"rtl children\"><div class=\"contnr c0 trm rtl  \" ><div class=\"lbl c0 trm \" ><span class=\"nd\">213427</span> <span class=\"txtu hbo\"><span>$</span>y = {{1\\over 6}}n \\pm  \\sqrt{{{1\\over 36}}nn + {{1\\over 3}}nx - xx}<span>$</span> </span></div></div></div>"
      ],
      "text/plain": [
       "<IPython.core.display.HTML object>"
      ]
     },
     "metadata": {},
     "output_type": "display_data"
    },
    {
     "data": {
      "text/html": [
       "<div class=\"tfsechead rtl\"><span class=\"ltr\">3 3174:15</span></div><div class=\"rtl children\"><div class=\"contnr c0 trm rtl  \" ><div class=\"lbl c0 trm \" ><span class=\"nd\">213463</span> <span class=\"txtu hbo\"><span>$</span>x^{4}.. - {{1\\over 9}}n^{3}x + {{1\\over 54}}n^{4} = 0<span>$</span> </span></div></div></div>"
      ],
      "text/plain": [
       "<IPython.core.display.HTML object>"
      ]
     },
     "metadata": {},
     "output_type": "display_data"
    },
    {
     "data": {
      "text/html": [
       "<div class=\"tfsechead rtl\"><span class=\"ltr\">3 3174:15</span></div><div class=\"rtl children\"><div class=\"contnr c0 trm rtl  \" ><div class=\"lbl c0 trm \" ><span class=\"nd\">213482</span> <span class=\"txtu hbo\"><span>$</span>z^{6}. - {{2\\over 27}}n^{4}zz - {{1\\over 81}}n^{6} = 0<span>$</span> </span></div></div></div>"
      ],
      "text/plain": [
       "<IPython.core.display.HTML object>"
      ]
     },
     "metadata": {},
     "output_type": "display_data"
    },
    {
     "data": {
      "text/html": [
       "<div class=\"tfsechead rtl\"><span class=\"ltr\">3 3174:15</span></div><div class=\"rtl children\"><div class=\"contnr c0 trm rtl  \" ><div class=\"lbl c0 trm \" ><span class=\"nd\">213498</span> <span class=\"txtu hbo\"><span>$</span>{{1\\over 3}}nn<span>$</span> </span></div></div></div>"
      ],
      "text/plain": [
       "<IPython.core.display.HTML object>"
      ]
     },
     "metadata": {},
     "output_type": "display_data"
    },
    {
     "data": {
      "text/html": [
       "<div class=\"tfsechead rtl\"><span class=\"ltr\">3 3174:15</span></div><div class=\"rtl children\"><div class=\"contnr c0 trm rtl  \" ><div class=\"lbl c0 trm \" ><span class=\"nd\">213501</span> <span class=\"txtu hbo\"><span>$</span>z = n\\sqrt{{{1\\over 3}}}<span>$</span> </span></div></div></div>"
      ],
      "text/plain": [
       "<IPython.core.display.HTML object>"
      ]
     },
     "metadata": {},
     "output_type": "display_data"
    },
    {
     "data": {
      "text/html": [
       "<div class=\"tfsechead rtl\"><span class=\"ltr\">3 3174:15</span></div><div class=\"rtl children\"><div class=\"contnr c0 trm rtl  \" ><div class=\"lbl c0 trm \" ><span class=\"nd\">213515</span> <span class=\"txtu hbo\"><span>$</span>x^{4} - {{1\\over 9}}n^{3}x + {{1\\over 54}}n^{4} = 0<span>$</span> </span></div></div></div>"
      ],
      "text/plain": [
       "<IPython.core.display.HTML object>"
      ]
     },
     "metadata": {},
     "output_type": "display_data"
    },
    {
     "data": {
      "text/html": [
       "<div class=\"tfsechead rtl\"><span class=\"ltr\">3 3174:15</span></div><div class=\"rtl children\"><div class=\"contnr c0 trm rtl  \" ><div class=\"lbl c0 trm \" ><span class=\"nd\">213523</span> <span class=\"txtu hbo\"><span>$</span>xx - nx\\sqrt{{{1\\over 3}} + {{1\\over 6}}nn} - {\\displaystyle\\strut {nn}\\over \\displaystyle\\strut {6\\sqrt{ 3}}} = 0<span>$</span> </span></div></div></div>"
      ],
      "text/plain": [
       "<IPython.core.display.HTML object>"
      ]
     },
     "metadata": {},
     "output_type": "display_data"
    },
    {
     "data": {
      "text/html": [
       "<div class=\"tfsechead rtl\"><span class=\"ltr\">3 3174:15</span></div><div class=\"rtl children\"><div class=\"contnr c0 trm rtl  \" ><div class=\"lbl c0 trm \" ><span class=\"nd\">213526</span> <span class=\"txtu hbo\"><span>$</span>xx + nx\\sqrt{{{1\\over 3}} + {{1\\over 6}}nn} + {\\displaystyle\\strut {nn}\\over \\displaystyle\\strut {6\\sqrt{ 3}}} = 0<span>$</span> </span></div></div></div>"
      ],
      "text/plain": [
       "<IPython.core.display.HTML object>"
      ]
     },
     "metadata": {},
     "output_type": "display_data"
    },
    {
     "data": {
      "text/html": [
       "<div class=\"tfsechead rtl\"><span class=\"ltr\">3 3174:15</span></div><div class=\"rtl children\"><div class=\"contnr c0 trm rtl  \" ><div class=\"lbl c0 trm \" ><span class=\"nd\">213545</span> <span class=\"txtu hbo\"><span>$</span>x = n\\sqrt{{{1\\over 12}}} \\pm  \\sqrt{{\\displaystyle\\strut {nn}\\over \\displaystyle\\strut {6\\sqrt{3}}} - {{1\\over 12}}nn}<span>$</span> </span></div></div></div>"
      ],
      "text/plain": [
       "<IPython.core.display.HTML object>"
      ]
     },
     "metadata": {},
     "output_type": "display_data"
    },
    {
     "data": {
      "text/html": [
       "<div class=\"tfsechead rtl\"><span class=\"ltr\">3 3174:15</span></div><div class=\"rtl children\"><div class=\"contnr c0 trm rtl  \" ><div class=\"lbl c0 trm \" ><span class=\"nd\">213580</span> <span class=\"txtu hbo\"><span>$</span>n\\sqrt{{{1\\over 12}}} + \\sqrt{{\\displaystyle\\strut {nn}\\over \\displaystyle\\strut {6\\sqrt{3}}} - {{1\\over 12}}nn}<span>$</span> </span></div></div></div>"
      ],
      "text/plain": [
       "<IPython.core.display.HTML object>"
      ]
     },
     "metadata": {},
     "output_type": "display_data"
    },
    {
     "data": {
      "text/html": [
       "<div class=\"tfsechead rtl\"><span class=\"ltr\">3 3174:15</span></div><div class=\"rtl children\"><div class=\"contnr c0 trm rtl  \" ><div class=\"lbl c0 trm \" ><span class=\"nd\">213587</span> <span class=\"txtu hbo\"><span>$</span>n\\sqrt{{{1\\over 12}}} - \\sqrt{{\\displaystyle\\strut {nn}\\over \\displaystyle\\strut {6\\sqrt{3}}} - {{1\\over 12}}nn}<span>$</span> </span></div></div></div>"
      ],
      "text/plain": [
       "<IPython.core.display.HTML object>"
      ]
     },
     "metadata": {},
     "output_type": "display_data"
    },
    {
     "data": {
      "text/html": [
       "<div class=\"tfsechead rtl\"><span class=\"ltr\">3 3174:15</span></div><div class=\"rtl children\"><div class=\"contnr c0 trm rtl  \" ><div class=\"lbl c0 trm \" ><span class=\"nd\">213596</span> <span class=\"txtu hbo\"><span>$</span>\\sqrt{{\\displaystyle\\strut {2nn}\\over \\displaystyle\\strut {3\\sqrt{3}}} - {{1\\over 3}}nn}<span>$</span> </span></div></div></div>"
      ],
      "text/plain": [
       "<IPython.core.display.HTML object>"
      ]
     },
     "metadata": {},
     "output_type": "display_data"
    },
    {
     "data": {
      "text/html": [
       "<div class=\"tfsechead rtl\"><span class=\"ltr\">3 3174:15</span></div><div class=\"rtl children\"><div class=\"contnr c0 trm rtl  \" ><div class=\"lbl c0 trm \" ><span class=\"nd\">213603</span> <span class=\"txtu hbo\"><span>$</span>\\sqrt{{\\displaystyle\\strut {4nn}\\over \\displaystyle\\strut {3\\sqrt{3}}} - {{2\\over 3}}nn}<span>$</span> </span></div></div></div>"
      ],
      "text/plain": [
       "<IPython.core.display.HTML object>"
      ]
     },
     "metadata": {},
     "output_type": "display_data"
    },
    {
     "data": {
      "text/html": [
       "<div class=\"tfsechead rtl\"><span class=\"ltr\">3 3174:15</span></div><div class=\"rtl children\"><div class=\"contnr c0 trm rtl  \" ><div class=\"lbl c0 trm \" ><span class=\"nd\">213631</span> <span class=\"txtu hbo\"><span>$</span>\\sqrt{36\\sqrt{3} - 54}<span>$</span> </span></div></div></div>"
      ],
      "text/plain": [
       "<IPython.core.display.HTML object>"
      ]
     },
     "metadata": {},
     "output_type": "display_data"
    },
    {
     "data": {
      "text/html": [
       "<div class=\"tfsechead rtl\"><span class=\"ltr\">3 3174:15</span></div><div class=\"rtl children\"><div class=\"contnr c0 trm rtl  \" ><div class=\"lbl c0 trm \" ><span class=\"nd\">213642</span> <span class=\"txtu hbo\"><span>$</span>\\sqrt{4\\sqrt{3} - 6}<span>$</span> </span></div></div></div>"
      ],
      "text/plain": [
       "<IPython.core.display.HTML object>"
      ]
     },
     "metadata": {},
     "output_type": "display_data"
    },
    {
     "data": {
      "text/html": [
       "<div class=\"tfsechead rtl\"><span class=\"ltr\">3 3174:20</span></div><div class=\"rtl children\"><div class=\"contnr c0 trm rtl  \" ><div class=\"lbl c0 trm \" ><span class=\"nd\">214193</span> <span class=\"txtu hbo\"><span>$</span>{\\rm AB} = \\sqrt{aa - yy}<span>$</span> </span></div></div></div>"
      ],
      "text/plain": [
       "<IPython.core.display.HTML object>"
      ]
     },
     "metadata": {},
     "output_type": "display_data"
    },
    {
     "data": {
      "text/html": [
       "<div class=\"tfsechead rtl\"><span class=\"ltr\">3 3174:20</span></div><div class=\"rtl children\"><div class=\"contnr c0 trm rtl  \" ><div class=\"lbl c0 trm \" ><span class=\"nd\">214212</span> <span class=\"txtu hbo\"><span>$</span>d - \\sqrt{aa - yy}<span>$</span> </span></div></div></div>"
      ],
      "text/plain": [
       "<IPython.core.display.HTML object>"
      ]
     },
     "metadata": {},
     "output_type": "display_data"
    },
    {
     "data": {
      "text/html": [
       "<div class=\"tfsechead rtl\"><span class=\"ltr\">3 3174:20</span></div><div class=\"rtl children\"><div class=\"contnr c0 trm rtl  \" ><div class=\"lbl c0 trm \" ><span class=\"nd\">214229</span> <span class=\"txtu hbo\"><span>$</span>{\\displaystyle\\strut {dy - y\\sqrt{aa - yy}}\\over \\displaystyle\\strut {y - b}}<span>$</span> </span></div></div></div>"
      ],
      "text/plain": [
       "<IPython.core.display.HTML object>"
      ]
     },
     "metadata": {},
     "output_type": "display_data"
    },
    {
     "data": {
      "text/html": [
       "<div class=\"tfsechead rtl\"><span class=\"ltr\">3 3174:20</span></div><div class=\"rtl children\"><div class=\"contnr c0 trm rtl  \" ><div class=\"lbl c0 trm \" ><span class=\"nd\">214235</span> <span class=\"txtu hbo\"><span>$</span>{\\displaystyle\\strut {dy - b\\sqrt{aa - yy}}\\over \\displaystyle\\strut {y - b}}<span>$</span> </span></div></div></div>"
      ],
      "text/plain": [
       "<IPython.core.display.HTML object>"
      ]
     },
     "metadata": {},
     "output_type": "display_data"
    },
    {
     "data": {
      "text/html": [
       "<div class=\"tfsechead rtl\"><span class=\"ltr\">3 3174:20</span></div><div class=\"rtl children\"><div class=\"contnr c0 trm rtl  \" ><div class=\"lbl c0 trm \" ><span class=\"nd\">214241</span> <span class=\"txtu hbo\"><span>$</span>{\\displaystyle\\strut {y}\\over \\displaystyle\\strut {y - b}}\\sqrt{ - 2by + bb + dd + aa - 2d\\sqrt{aa - yy}}<span>$</span> </span></div></div></div>"
      ],
      "text/plain": [
       "<IPython.core.display.HTML object>"
      ]
     },
     "metadata": {},
     "output_type": "display_data"
    },
    {
     "data": {
      "text/html": [
       "<div class=\"tfsechead rtl\"><span class=\"ltr\">3 3174:20</span></div><div class=\"rtl children\"><div class=\"contnr c0 trm rtl  \" ><div class=\"lbl c0 trm \" ><span class=\"nd\">214255</span> <span class=\"txtu hbo\"><span>$</span>{\\rm ID} = c + \\sqrt{aa - yy}<span>$</span> </span></div></div></div>"
      ],
      "text/plain": [
       "<IPython.core.display.HTML object>"
      ]
     },
     "metadata": {},
     "output_type": "display_data"
    },
    {
     "data": {
      "text/html": [
       "<div class=\"tfsechead rtl\"><span class=\"ltr\">3 3174:20</span></div><div class=\"rtl children\"><div class=\"contnr c0 trm rtl  \" ><div class=\"lbl c0 trm \" ><span class=\"nd\">214269</span> <span class=\"txtu hbo\"><span>$</span>{\\displaystyle\\strut {cy + y\\sqrt{aa - yy}}\\over \\displaystyle\\strut {y - b}}<span>$</span> </span></div></div></div>"
      ],
      "text/plain": [
       "<IPython.core.display.HTML object>"
      ]
     },
     "metadata": {},
     "output_type": "display_data"
    },
    {
     "data": {
      "text/html": [
       "<div class=\"tfsechead rtl\"><span class=\"ltr\">3 3174:20</span></div><div class=\"rtl children\"><div class=\"contnr c0 trm rtl  \" ><div class=\"lbl c0 trm \" ><span class=\"nd\">214275</span> <span class=\"txtu hbo\"><span>$</span>{\\displaystyle\\strut {cy + b\\sqrt{aa - yy}}\\over \\displaystyle\\strut {y - b}}<span>$</span> </span></div></div></div>"
      ],
      "text/plain": [
       "<IPython.core.display.HTML object>"
      ]
     },
     "metadata": {},
     "output_type": "display_data"
    },
    {
     "data": {
      "text/html": [
       "<div class=\"tfsechead rtl\"><span class=\"ltr\">3 3174:20</span></div><div class=\"rtl children\"><div class=\"contnr c0 trm rtl  \" ><div class=\"lbl c0 trm \" ><span class=\"nd\">214282</span> <span class=\"txtu hbo\"><span>$</span>{\\displaystyle\\strut {y}\\over \\displaystyle\\strut {y - b}}\\sqrt{ - 2by + bb + cc + aa + 2c\\sqrt{aa - yy}}<span>$</span> </span></div></div></div>"
      ],
      "text/plain": [
       "<IPython.core.display.HTML object>"
      ]
     },
     "metadata": {},
     "output_type": "display_data"
    },
    {
     "data": {
      "text/html": [
       "<div class=\"tfsechead rtl\"><span class=\"ltr\">3 3174:20</span></div><div class=\"rtl children\"><div class=\"contnr c0 trm rtl  \" ><div class=\"lbl c0 trm \" ><span class=\"nd\">214288</span> <span class=\"txtu hbo\"><span>$</span>{\\displaystyle\\strut {dy + cy}\\over \\displaystyle\\strut {y - b}}<span>$</span> </span></div></div></div>"
      ],
      "text/plain": [
       "<IPython.core.display.HTML object>"
      ]
     },
     "metadata": {},
     "output_type": "display_data"
    },
    {
     "data": {
      "text/html": [
       "<div class=\"tfsechead rtl\"><span class=\"ltr\">3 3174:21</span></div><div class=\"rtl children\"><div class=\"contnr c0 trm rtl  \" ><div class=\"lbl c0 trm \" ><span class=\"nd\">214318</span> <span class=\"txtu hbo\"><span>$</span>{\\rm LQ} = {\\displaystyle\\strut {dygz + cygz}\\over \\displaystyle\\strut {cy + b\\sqrt{aa - yy}}}<span>$</span> </span></div></div></div>"
      ],
      "text/plain": [
       "<IPython.core.display.HTML object>"
      ]
     },
     "metadata": {},
     "output_type": "display_data"
    },
    {
     "data": {
      "text/html": [
       "<div class=\"tfsechead rtl\"><span class=\"ltr\">3 3174:21</span></div><div class=\"rtl children\"><div class=\"contnr c0 trm rtl  \" ><div class=\"lbl c0 trm \" ><span class=\"nd\">214343</span> <span class=\"txtu hbo\"><span>$</span>{\\displaystyle\\strut {dyhz + cyhz}\\over \\displaystyle\\strut {dy - b\\sqrt{aa - yy}}}<span>$</span> </span></div></div></div>"
      ],
      "text/plain": [
       "<IPython.core.display.HTML object>"
      ]
     },
     "metadata": {},
     "output_type": "display_data"
    },
    {
     "data": {
      "text/html": [
       "<div class=\"tfsechead rtl\"><span class=\"ltr\">3 3174:21</span></div><div class=\"rtl children\"><div class=\"contnr c0 trm rtl  \" ><div class=\"lbl c0 trm \" ><span class=\"nd\">214365</span> <span class=\"txtu hbo\"><span>$</span>dgy - bg\\sqrt{aa - yy}<span>$</span> </span></div></div></div>"
      ],
      "text/plain": [
       "<IPython.core.display.HTML object>"
      ]
     },
     "metadata": {},
     "output_type": "display_data"
    },
    {
     "data": {
      "text/html": [
       "<div class=\"tfsechead rtl\"><span class=\"ltr\">3 3174:21</span></div><div class=\"rtl children\"><div class=\"contnr c0 trm rtl  \" ><div class=\"lbl c0 trm \" ><span class=\"nd\">214369</span> <span class=\"txtu hbo\"><span>$</span>\\sqrt{ - 2by + bb + cc + aa + 2c\\sqrt{aa - yy}}<span>$</span> </span></div></div></div>"
      ],
      "text/plain": [
       "<IPython.core.display.HTML object>"
      ]
     },
     "metadata": {},
     "output_type": "display_data"
    },
    {
     "data": {
      "text/html": [
       "<div class=\"tfsechead rtl\"><span class=\"ltr\">3 3174:21</span></div><div class=\"rtl children\"><div class=\"contnr c0 trm rtl  \" ><div class=\"lbl c0 trm \" ><span class=\"nd\">214374</span> <span class=\"txtu hbo\"><span>$</span>chy + bh\\sqrt{aa - yy}<span>$</span> </span></div></div></div>"
      ],
      "text/plain": [
       "<IPython.core.display.HTML object>"
      ]
     },
     "metadata": {},
     "output_type": "display_data"
    },
    {
     "data": {
      "text/html": [
       "<div class=\"tfsechead rtl\"><span class=\"ltr\">3 3174:21</span></div><div class=\"rtl children\"><div class=\"contnr c0 trm rtl  \" ><div class=\"lbl c0 trm \" ><span class=\"nd\">214378</span> <span class=\"txtu hbo\"><span>$</span>\\sqrt{ - 2by + bb + dd + aa - 2d\\sqrt{aa - yy}}<span>$</span> </span></div></div></div>"
      ],
      "text/plain": [
       "<IPython.core.display.HTML object>"
      ]
     },
     "metadata": {},
     "output_type": "display_data"
    },
    {
     "data": {
      "text/html": [
       "<div class=\"tfsechead rtl\"><span class=\"ltr\">3 3184:13</span></div><div class=\"rtl children\"><div class=\"contnr c0 trm rtl  \" ><div class=\"lbl c0 trm \" ><span class=\"nd\">239759</span> <span class=\"txtu hbo\"><span>$</span>{\\displaystyle\\strut n\\over \\displaystyle\\strut 6} \\pm  \\sqrt{{\\displaystyle\\strut n^{2}\\over \\displaystyle\\strut 36} + {\\displaystyle\\strut {nx}\\over \\displaystyle\\strut 3} - x^{2}}<span>$</span> </span></div></div></div>"
      ],
      "text/plain": [
       "<IPython.core.display.HTML object>"
      ]
     },
     "metadata": {},
     "output_type": "display_data"
    },
    {
     "data": {
      "text/html": [
       "<div class=\"tfsechead rtl\"><span class=\"ltr\">3 3184:13</span></div><div class=\"rtl children\"><div class=\"contnr c0 trm rtl  \" ><div class=\"lbl c0 trm \" ><span class=\"nd\">239775</span> <span class=\"txtu hbo\"><span>$</span>{\\displaystyle\\strut n^{3}\\over \\displaystyle\\strut 54} + {\\displaystyle\\strut {n^{2}x}\\over \\displaystyle\\strut 6} - {\\displaystyle\\strut {nx^{2}}\\over \\displaystyle\\strut 2} \\pm  ({\\displaystyle\\strut n^{2}\\over \\displaystyle\\strut 9} + {\\displaystyle\\strut {nx}\\over \\displaystyle\\strut 3} - x^{2})\\sqrt{{\\displaystyle\\strut {n^{2}}\\over \\displaystyle\\strut 36} + {\\displaystyle\\strut {nx}\\over \\displaystyle\\strut 3} - x^{2}}<span>$</span> </span></div></div></div>"
      ],
      "text/plain": [
       "<IPython.core.display.HTML object>"
      ]
     },
     "metadata": {},
     "output_type": "display_data"
    },
    {
     "data": {
      "text/html": [
       "<div class=\"tfsechead rtl\"><span class=\"ltr\">3 3184:13</span></div><div class=\"rtl children\"><div class=\"contnr c0 trm rtl  \" ><div class=\"lbl c0 trm \" ><span class=\"nd\">239790</span> <span class=\"txtu hbo\"><span>$</span>{\\displaystyle\\strut {n^{2}x}\\over \\displaystyle\\strut 6} \\pm  nx\\sqrt{{\\displaystyle\\strut n^{2}\\over \\displaystyle\\strut 36} + {\\displaystyle\\strut {nx}\\over \\displaystyle\\strut 3} - x^{2}}= x^{3} + {\\displaystyle\\strut n^{3}\\over \\displaystyle\\strut 54} + {\\displaystyle\\strut {n^{2}x}\\over \\displaystyle\\strut 6} - {\\displaystyle\\strut {nx^{2}}\\over \\displaystyle\\strut 2} \\pm  ({\\displaystyle\\strut n^{2}\\over \\displaystyle\\strut 9} + {\\displaystyle\\strut {nx}\\over \\displaystyle\\strut 3} - x^{2})\\sqrt{{\\displaystyle\\strut n^{2}\\over \\displaystyle\\strut 36} + {\\displaystyle\\strut {nx}\\over \\displaystyle\\strut 3} - x^{2}}<span>$</span> </span></div></div></div>"
      ],
      "text/plain": [
       "<IPython.core.display.HTML object>"
      ]
     },
     "metadata": {},
     "output_type": "display_data"
    },
    {
     "data": {
      "text/html": [
       "<div class=\"tfsechead rtl\"><span class=\"ltr\">3 3184:13</span></div><div class=\"rtl children\"><div class=\"contnr c0 trm rtl  \" ><div class=\"lbl c0 trm \" ><span class=\"nd\">239794</span> <span class=\"txtu hbo\"><span>$</span>x^{3} - {\\displaystyle\\strut {nx^{3}}\\over \\displaystyle\\strut 2} + {\\displaystyle\\strut n^{3}\\over \\displaystyle\\strut 54} = \\pm  (x^{2} + {\\displaystyle\\strut {2nx}\\over \\displaystyle\\strut 3} - {\\displaystyle\\strut n^{2}\\over \\displaystyle\\strut 9})\\sqrt{{\\displaystyle\\strut n^{2}\\over \\displaystyle\\strut 36} + {\\displaystyle\\strut {nx}\\over \\displaystyle\\strut 3} - x^{2}}<span>$</span> </span></div></div></div>"
      ],
      "text/plain": [
       "<IPython.core.display.HTML object>"
      ]
     },
     "metadata": {},
     "output_type": "display_data"
    },
    {
     "data": {
      "text/html": [
       "<div class=\"tfsechead rtl\"><span class=\"ltr\">3 3184:13</span></div><div class=\"rtl children\"><div class=\"contnr c0 trm rtl  \" ><div class=\"lbl c0 trm \" ><span class=\"nd\">239814</span> <span class=\"txtu hbo\"><span>$</span>x^{2} + 2{\\displaystyle\\strut {nx}\\over \\displaystyle\\strut 3} - {\\displaystyle\\strut n^{2}\\over \\displaystyle\\strut 9}<span>$</span> </span></div></div></div>"
      ],
      "text/plain": [
       "<IPython.core.display.HTML object>"
      ]
     },
     "metadata": {},
     "output_type": "display_data"
    },
    {
     "data": {
      "text/html": [
       "<div class=\"tfsechead rtl\"><span class=\"ltr\">3 3184:13</span></div><div class=\"rtl children\"><div class=\"contnr c0 trm rtl  \" ><div class=\"lbl c0 trm \" ><span class=\"nd\">239818</span> <span class=\"txtu hbo\"><span>$</span>x^{4} + {\\displaystyle\\strut {4nx^{3}}\\over \\displaystyle\\strut 3} + {\\displaystyle\\strut {2n^{2}x^{2}}\\over \\displaystyle\\strut 9} - {\\displaystyle\\strut {4n^{3}x}\\over \\displaystyle\\strut 27} + {\\displaystyle\\strut n^{4}\\over \\displaystyle\\strut 81}<span>$</span> </span></div></div></div>"
      ],
      "text/plain": [
       "<IPython.core.display.HTML object>"
      ]
     },
     "metadata": {},
     "output_type": "display_data"
    },
    {
     "data": {
      "text/html": [
       "<div class=\"tfsechead rtl\"><span class=\"ltr\">3 3184:13</span></div><div class=\"rtl children\"><div class=\"contnr c0 trm rtl  \" ><div class=\"lbl c0 trm \" ><span class=\"nd\">239826</span> <span class=\"txtu hbo\"><span>$</span>- x^{2} + {\\displaystyle\\strut {nx}\\over \\displaystyle\\strut 3} + {\\displaystyle\\strut n^{2}\\over \\displaystyle\\strut 36}<span>$</span> </span></div></div></div>"
      ],
      "text/plain": [
       "<IPython.core.display.HTML object>"
      ]
     },
     "metadata": {},
     "output_type": "display_data"
    },
    {
     "data": {
      "text/html": [
       "<div class=\"tfsechead rtl\"><span class=\"ltr\">3 3184:13</span></div><div class=\"rtl children\"><div class=\"contnr c0 trm rtl  \" ><div class=\"lbl c0 trm \" ><span class=\"nd\">239831</span> <span class=\"txtu hbo\"><span>$</span>- x^{6} - {\\displaystyle\\strut {4nx^{5}}\\over \\displaystyle\\strut 3} - {\\displaystyle\\strut {2n^{2}x^{4}}\\over \\displaystyle\\strut 9} + {\\displaystyle\\strut {4n^{3}x^{3}}\\over \\displaystyle\\strut 27} - {\\displaystyle\\strut {n^{4}x^{2}}\\over \\displaystyle\\strut 81} + {\\displaystyle\\strut {nx^{5}}\\over \\displaystyle\\strut 3} + {\\displaystyle\\strut {4n^{2}x^{4}}\\over \\displaystyle\\strut 9} + {\\displaystyle\\strut {2n^{3}x^{3}}\\over \\displaystyle\\strut 27} - {\\displaystyle\\strut {4n^{4}x^{2}}\\over \\displaystyle\\strut 81} + {\\displaystyle\\strut {n^{5}x}\\over \\displaystyle\\strut 243} + {\\displaystyle\\strut {n^{2}x^{4}}\\over \\displaystyle\\strut 36} + {\\displaystyle\\strut {n^{3}x^{3}}\\over \\displaystyle\\strut 27} + {\\displaystyle\\strut {n^{4}x^{2}}\\over \\displaystyle\\strut 162} - {\\displaystyle\\strut {n^{5}x}\\over \\displaystyle\\strut 243} + {\\displaystyle\\strut n^{6}\\over \\displaystyle\\strut 2916}<span>$</span> </span></div></div></div>"
      ],
      "text/plain": [
       "<IPython.core.display.HTML object>"
      ]
     },
     "metadata": {},
     "output_type": "display_data"
    },
    {
     "data": {
      "text/html": [
       "<div class=\"tfsechead rtl\"><span class=\"ltr\">3 3184:13</span></div><div class=\"rtl children\"><div class=\"contnr c0 trm rtl  \" ><div class=\"lbl c0 trm \" ><span class=\"nd\">239840</span> <span class=\"txtu hbo\"><span>$</span>x^{3} - {\\displaystyle\\strut {nx^{2}}\\over \\displaystyle\\strut 2} + {\\displaystyle\\strut n^{3}\\over \\displaystyle\\strut 54}<span>$</span> </span></div></div></div>"
      ],
      "text/plain": [
       "<IPython.core.display.HTML object>"
      ]
     },
     "metadata": {},
     "output_type": "display_data"
    },
    {
     "data": {
      "text/html": [
       "<div class=\"tfsechead rtl\"><span class=\"ltr\">3 3184:13</span></div><div class=\"rtl children\"><div class=\"contnr c0 trm rtl  \" ><div class=\"lbl c0 trm \" ><span class=\"nd\">239844</span> <span class=\"txtu hbo\"><span>$</span>x^{6} - nx^{5} + {\\displaystyle\\strut {n^{2}x^{4}}\\over \\displaystyle\\strut 4} + {\\displaystyle\\strut {n^{3}x^{3}}\\over \\displaystyle\\strut 27} - {\\displaystyle\\strut {n^{4}x^{2}}\\over \\displaystyle\\strut 54} + {\\displaystyle\\strut n^{6}\\over \\displaystyle\\strut 2916}<span>$</span> </span></div></div></div>"
      ],
      "text/plain": [
       "<IPython.core.display.HTML object>"
      ]
     },
     "metadata": {},
     "output_type": "display_data"
    },
    {
     "data": {
      "text/html": [
       "<div class=\"tfsechead rtl\"><span class=\"ltr\">3 3184:13</span></div><div class=\"rtl children\"><div class=\"contnr c0 trm rtl  \" ><div class=\"lbl c0 trm \" ><span class=\"nd\">239857</span> <span class=\"txtu hbo\"><span>$</span>2x^{6} - {\\displaystyle\\strut {2n^{3}x^{3}}\\over \\displaystyle\\strut 9} + {\\displaystyle\\strut {n^{4}x^{2}}\\over \\displaystyle\\strut 27} = 0<span>$</span> </span></div></div></div>"
      ],
      "text/plain": [
       "<IPython.core.display.HTML object>"
      ]
     },
     "metadata": {},
     "output_type": "display_data"
    },
    {
     "data": {
      "text/html": [
       "<div class=\"tfsechead rtl\"><span class=\"ltr\">3 3184:13</span></div><div class=\"rtl children\"><div class=\"contnr c0 trm rtl  \" ><div class=\"lbl c0 trm \" ><span class=\"nd\">239865</span> <span class=\"txtu hbo\"><span>$</span>x^{4} - {\\displaystyle\\strut {n^{3}x}\\over \\displaystyle\\strut 9} + {\\displaystyle\\strut n^{4}\\over \\displaystyle\\strut 54} = 0<span>$</span> </span></div></div></div>"
      ],
      "text/plain": [
       "<IPython.core.display.HTML object>"
      ]
     },
     "metadata": {},
     "output_type": "display_data"
    },
    {
     "data": {
      "text/html": [
       "<div class=\"tfsechead rtl\"><span class=\"ltr\">3 3188:5</span></div><div class=\"rtl children\"><div class=\"contnr c0 trm rtl  \" ><div class=\"lbl c0 trm \" ><span class=\"nd\">249280</span> <span class=\"txtu hbo\"><span>$</span>28{{1\\over 2}} - \\sqrt{263{{1\\over 4}}}<span>$</span> </span></div></div></div>"
      ],
      "text/plain": [
       "<IPython.core.display.HTML object>"
      ]
     },
     "metadata": {},
     "output_type": "display_data"
    },
    {
     "data": {
      "text/html": [
       "<div class=\"tfsechead rtl\"><span class=\"ltr\">3 3188:7</span></div><div class=\"rtl children\"><div class=\"contnr c0 trm rtl  \" ><div class=\"lbl c0 trm \" ><span class=\"nd\">249915</span> <span class=\"txtu hbo\"><span>$</span>28{{1\\over 2}} + \\sqrt{263{{1\\over 4}}}<span>$</span> </span></div></div></div>"
      ],
      "text/plain": [
       "<IPython.core.display.HTML object>"
      ]
     },
     "metadata": {},
     "output_type": "display_data"
    },
    {
     "data": {
      "text/html": [
       "<div class=\"tfsechead rtl\"><span class=\"ltr\">3 3188:7</span></div><div class=\"rtl children\"><div class=\"contnr c0 trm rtl  \" ><div class=\"lbl c0 trm \" ><span class=\"nd\">249918</span> <span class=\"txtu hbo\"><span>$</span>28{{1\\over 2}}- \\sqrt{263{{1\\over 4}}}<span>$</span> </span></div></div></div>"
      ],
      "text/plain": [
       "<IPython.core.display.HTML object>"
      ]
     },
     "metadata": {},
     "output_type": "display_data"
    },
    {
     "data": {
      "text/html": [
       "<div class=\"tfsechead rtl\"><span class=\"ltr\">3 3193:11</span></div><div class=\"rtl children\"><div class=\"contnr c0 trm rtl  \" ><div class=\"lbl c0 trm \" ><span class=\"nd\">262283</span> <span class=\"txtu hbo\"><span>$</span>{\\rm PV} = {\\displaystyle\\strut nb\\over \\displaystyle\\strut m}<span>$</span> </span></div></div></div>"
      ],
      "text/plain": [
       "<IPython.core.display.HTML object>"
      ]
     },
     "metadata": {},
     "output_type": "display_data"
    },
    {
     "data": {
      "text/html": [
       "<div class=\"tfsechead rtl\"><span class=\"ltr\">3 3193:11</span></div><div class=\"rtl children\"><div class=\"contnr c0 trm rtl  \" ><div class=\"lbl c0 trm \" ><span class=\"nd\">262286</span> <span class=\"txtu hbo\"><span>$</span>{\\rm RX} = {\\displaystyle\\strut {nb - b}\\over \\displaystyle\\strut m}<span>$</span> </span></div></div></div>"
      ],
      "text/plain": [
       "<IPython.core.display.HTML object>"
      ]
     },
     "metadata": {},
     "output_type": "display_data"
    },
    {
     "data": {
      "text/html": [
       "<div class=\"tfsechead rtl\"><span class=\"ltr\">3 3193:11</span></div><div class=\"rtl children\"><div class=\"contnr c0 trm rtl  \" ><div class=\"lbl c0 trm \" ><span class=\"nd\">262344</span> <span class=\"txtu hbo\"><span>$</span>{\\rm PV} = {{13\\over 16}}b<span>$</span> </span></div></div></div>"
      ],
      "text/plain": [
       "<IPython.core.display.HTML object>"
      ]
     },
     "metadata": {},
     "output_type": "display_data"
    },
    {
     "data": {
      "text/html": [
       "<div class=\"tfsechead rtl\"><span class=\"ltr\">3 3193:11</span></div><div class=\"rtl children\"><div class=\"contnr c0 trm rtl  \" ><div class=\"lbl c0 trm \" ><span class=\"nd\">262347</span> <span class=\"txtu hbo\"><span>$</span>{\\rm RX} = {{12\\over 16}}b<span>$</span> </span></div></div></div>"
      ],
      "text/plain": [
       "<IPython.core.display.HTML object>"
      ]
     },
     "metadata": {},
     "output_type": "display_data"
    },
    {
     "data": {
      "text/html": [
       "<div class=\"tfsechead rtl\"><span class=\"ltr\">3 3193:12</span></div><div class=\"rtl children\"><div class=\"contnr c0 trm rtl  \" ><div class=\"lbl c0 trm \" ><span class=\"nd\">262378</span> <span class=\"txtu hbo\"><span>$</span>{\\rm PV} = {\\displaystyle\\strut nb\\over \\displaystyle\\strut m}<span>$</span> </span></div></div></div>"
      ],
      "text/plain": [
       "<IPython.core.display.HTML object>"
      ]
     },
     "metadata": {},
     "output_type": "display_data"
    },
    {
     "data": {
      "text/html": [
       "<div class=\"tfsechead rtl\"><span class=\"ltr\">3 3193:12</span></div><div class=\"rtl children\"><div class=\"contnr c0 trm rtl  \" ><div class=\"lbl c0 trm \" ><span class=\"nd\">262389</span> <span class=\"txtu hbo\"><span>$</span>{\\rm FD} = {\\displaystyle\\strut nb\\over \\displaystyle\\strut m} - {\\displaystyle\\strut {n \\epsilon  }\\over \\displaystyle\\strut m}\\sqrt{2}<span>$</span> </span></div></div></div>"
      ],
      "text/plain": [
       "<IPython.core.display.HTML object>"
      ]
     },
     "metadata": {},
     "output_type": "display_data"
    },
    {
     "data": {
      "text/html": [
       "<div class=\"tfsechead rtl\"><span class=\"ltr\">3 3193:12</span></div><div class=\"rtl children\"><div class=\"contnr c0 trm rtl  \" ><div class=\"lbl c0 trm \" ><span class=\"nd\">262399</span> <span class=\"txtu hbo\"><span>$</span>{\\displaystyle\\strut {nb - b}\\over \\displaystyle\\strut m}<span>$</span> </span></div></div></div>"
      ],
      "text/plain": [
       "<IPython.core.display.HTML object>"
      ]
     },
     "metadata": {},
     "output_type": "display_data"
    },
    {
     "data": {
      "text/html": [
       "<div class=\"tfsechead rtl\"><span class=\"ltr\">3 3193:12</span></div><div class=\"rtl children\"><div class=\"contnr c0 trm rtl  \" ><div class=\"lbl c0 trm \" ><span class=\"nd\">262408</span> <span class=\"txtu hbo\"><span>$</span>{\\rm FD} = {\\displaystyle\\strut {nb - b}\\over \\displaystyle\\strut m} + {\\displaystyle\\strut {n \\omega  }\\over \\displaystyle\\strut {m\\sqrt{2}}} -  {\\displaystyle\\strut \\omega  \\over  \\displaystyle\\strut {m\\sqrt{2}}}<span>$</span> </span></div></div></div>"
      ],
      "text/plain": [
       "<IPython.core.display.HTML object>"
      ]
     },
     "metadata": {},
     "output_type": "display_data"
    },
    {
     "data": {
      "text/html": [
       "<div class=\"tfsechead rtl\"><span class=\"ltr\">3 3193:12</span></div><div class=\"rtl children\"><div class=\"contnr c0 trm rtl  \" ><div class=\"lbl c0 trm \" ><span class=\"nd\">262423</span> <span class=\"txtu hbo\"><span>$</span>{\\displaystyle\\strut b\\over \\displaystyle\\strut m} = {\\displaystyle\\strut {n \\omega   -  \\omega   + n \\epsilon  }\\over \\displaystyle\\strut m}\\sqrt{2}<span>$</span> </span></div></div></div>"
      ],
      "text/plain": [
       "<IPython.core.display.HTML object>"
      ]
     },
     "metadata": {},
     "output_type": "display_data"
    },
    {
     "data": {
      "text/html": [
       "<div class=\"tfsechead rtl\"><span class=\"ltr\">3 3193:12</span></div><div class=\"rtl children\"><div class=\"contnr c0 trm rtl  \" ><div class=\"lbl c0 trm \" ><span class=\"nd\">262453</span> <span class=\"txtu hbo\"><span>$</span>{\\displaystyle\\strut {b\\sqrt{2} +  \\omega  }\\over \\displaystyle\\strut n}<span>$</span> </span></div></div></div>"
      ],
      "text/plain": [
       "<IPython.core.display.HTML object>"
      ]
     },
     "metadata": {},
     "output_type": "display_data"
    },
    {
     "data": {
      "text/html": [
       "<div class=\"tfsechead rtl\"><span class=\"ltr\">3 3193:12</span></div><div class=\"rtl children\"><div class=\"contnr c0 trm rtl  \" ><div class=\"lbl c0 trm \" ><span class=\"nd\">262457</span> <span class=\"txtu hbo\"><span>$</span>{\\displaystyle\\strut {b\\sqrt{2} -  \\epsilon  }\\over \\displaystyle\\strut {n - 1}}<span>$</span> </span></div></div></div>"
      ],
      "text/plain": [
       "<IPython.core.display.HTML object>"
      ]
     },
     "metadata": {},
     "output_type": "display_data"
    },
    {
     "data": {
      "text/html": [
       "<div class=\"tfsechead rtl\"><span class=\"ltr\">3 3193:12</span></div><div class=\"rtl children\"><div class=\"contnr c0 trm rtl  \" ><div class=\"lbl c0 trm \" ><span class=\"nd\">262471</span> <span class=\"txtu hbo\"><span>$</span>b{\\displaystyle\\strut \\sqrt{2}\\over \\displaystyle\\strut n}<span>$</span> </span></div></div></div>"
      ],
      "text/plain": [
       "<IPython.core.display.HTML object>"
      ]
     },
     "metadata": {},
     "output_type": "display_data"
    },
    {
     "data": {
      "text/html": [
       "<div class=\"tfsechead rtl\"><span class=\"ltr\">3 3193:12</span></div><div class=\"rtl children\"><div class=\"contnr c0 trm rtl  \" ><div class=\"lbl c0 trm \" ><span class=\"nd\">262477</span> <span class=\"txtu hbo\"><span>$</span>{\\displaystyle\\strut {b\\sqrt{2}}\\over \\displaystyle\\strut {n - 1}}<span>$</span> </span></div></div></div>"
      ],
      "text/plain": [
       "<IPython.core.display.HTML object>"
      ]
     },
     "metadata": {},
     "output_type": "display_data"
    },
    {
     "data": {
      "text/html": [
       "<div class=\"tfsechead rtl\"><span class=\"ltr\">3 3193:12</span></div><div class=\"rtl children\"><div class=\"contnr c0 trm rtl  \" ><div class=\"lbl c0 trm \" ><span class=\"nd\">262498</span> <span class=\"txtu hbo\"><span>$</span>{\\displaystyle\\strut b\\over \\displaystyle\\strut n}<span>$</span> </span></div></div></div>"
      ],
      "text/plain": [
       "<IPython.core.display.HTML object>"
      ]
     },
     "metadata": {},
     "output_type": "display_data"
    },
    {
     "data": {
      "text/html": [
       "<div class=\"tfsechead rtl\"><span class=\"ltr\">3 3193:12</span></div><div class=\"rtl children\"><div class=\"contnr c0 trm rtl  \" ><div class=\"lbl c0 trm \" ><span class=\"nd\">262504</span> <span class=\"txtu hbo\"><span>$</span>{\\displaystyle\\strut b\\over \\displaystyle\\strut {n - 1}}<span>$</span> </span></div></div></div>"
      ],
      "text/plain": [
       "<IPython.core.display.HTML object>"
      ]
     },
     "metadata": {},
     "output_type": "display_data"
    },
    {
     "data": {
      "text/html": [
       "<div class=\"tfsechead rtl\"><span class=\"ltr\">3 3193:12</span></div><div class=\"rtl children\"><div class=\"contnr c0 trm rtl  \" ><div class=\"lbl c0 trm \" ><span class=\"nd\">262562</span> <span class=\"txtu hbo\"><span>$</span>{{3\\over 4}}b<span>$</span> </span></div></div></div>"
      ],
      "text/plain": [
       "<IPython.core.display.HTML object>"
      ]
     },
     "metadata": {},
     "output_type": "display_data"
    },
    {
     "data": {
      "text/html": [
       "<div class=\"tfsechead rtl\"><span class=\"ltr\">3 3193:12</span></div><div class=\"rtl children\"><div class=\"contnr c0 trm rtl  \" ><div class=\"lbl c0 trm \" ><span class=\"nd\">262570</span> <span class=\"txtu hbo\"><span>$</span>{{1\\over 8}}b + {{1\\over 7}}b<span>$</span> </span></div></div></div>"
      ],
      "text/plain": [
       "<IPython.core.display.HTML object>"
      ]
     },
     "metadata": {},
     "output_type": "display_data"
    },
    {
     "data": {
      "text/html": [
       "<div class=\"tfsechead rtl\"><span class=\"ltr\">3 3193:12</span></div><div class=\"rtl children\"><div class=\"contnr c0 trm rtl  \" ><div class=\"lbl c0 trm \" ><span class=\"nd\">262575</span> <span class=\"txtu hbo\"><span>$</span>{{1\\over 7}}b + {{1\\over 6}}b<span>$</span> </span></div></div></div>"
      ],
      "text/plain": [
       "<IPython.core.display.HTML object>"
      ]
     },
     "metadata": {},
     "output_type": "display_data"
    },
    {
     "data": {
      "text/html": [
       "<div class=\"tfsechead rtl\"><span class=\"ltr\">3 3193:12</span></div><div class=\"rtl children\"><div class=\"contnr c0 trm rtl  \" ><div class=\"lbl c0 trm \" ><span class=\"nd\">262593</span> <span class=\"txtu hbo\"><span>$</span>{{1\\over 16}}b + {{1\\over 15}}b + {{1\\over 14}}b + {{1\\over 13}}b<span>$</span> </span></div></div></div>"
      ],
      "text/plain": [
       "<IPython.core.display.HTML object>"
      ]
     },
     "metadata": {},
     "output_type": "display_data"
    },
    {
     "data": {
      "text/html": [
       "<div class=\"tfsechead rtl\"><span class=\"ltr\">3 3193:12</span></div><div class=\"rtl children\"><div class=\"contnr c0 trm rtl  \" ><div class=\"lbl c0 trm \" ><span class=\"nd\">262598</span> <span class=\"txtu hbo\"><span>$</span>{{1\\over 15}}b + {{1\\over 14}}b + + {{1\\over 13}}b + {{1\\over 12}}b<span>$</span> </span></div></div></div>"
      ],
      "text/plain": [
       "<IPython.core.display.HTML object>"
      ]
     },
     "metadata": {},
     "output_type": "display_data"
    },
    {
     "data": {
      "text/html": [
       "<div class=\"tfsechead rtl\"><span class=\"ltr\">3 3193:13</span></div><div class=\"rtl children\"><div class=\"contnr c0 trm rtl  \" ><div class=\"lbl c0 trm \" ><span class=\"nd\">262654</span> <span class=\"txtu hbo\"><span>$</span>{{1\\over 2}}b<span>$</span> </span></div></div></div>"
      ],
      "text/plain": [
       "<IPython.core.display.HTML object>"
      ]
     },
     "metadata": {},
     "output_type": "display_data"
    },
    {
     "data": {
      "text/html": [
       "<div class=\"tfsechead rtl\"><span class=\"ltr\">3 3193:13</span></div><div class=\"rtl children\"><div class=\"contnr c0 trm rtl  \" ><div class=\"lbl c0 trm \" ><span class=\"nd\">262788</span> <span class=\"txtu hbo\"><span>$</span>{{3\\over 4}}b<span>$</span> </span></div></div></div>"
      ],
      "text/plain": [
       "<IPython.core.display.HTML object>"
      ]
     },
     "metadata": {},
     "output_type": "display_data"
    },
    {
     "data": {
      "text/html": [
       "<div class=\"tfsechead rtl\"><span class=\"ltr\">3 3193:13</span></div><div class=\"rtl children\"><div class=\"contnr c0 trm rtl  \" ><div class=\"lbl c0 trm \" ><span class=\"nd\">262953</span> <span class=\"txtu hbo\"><span>$</span>{8\\over 7}<span>$</span> </span></div></div></div>"
      ],
      "text/plain": [
       "<IPython.core.display.HTML object>"
      ]
     },
     "metadata": {},
     "output_type": "display_data"
    },
    {
     "data": {
      "text/html": [
       "<div class=\"tfsechead rtl\"><span class=\"ltr\">3 3193:13</span></div><div class=\"rtl children\"><div class=\"contnr c0 trm rtl  \" ><div class=\"lbl c0 trm \" ><span class=\"nd\">262969</span> <span class=\"txtu hbo\"><span>$</span>{8\\over 6}<span>$</span> </span></div></div></div>"
      ],
      "text/plain": [
       "<IPython.core.display.HTML object>"
      ]
     },
     "metadata": {},
     "output_type": "display_data"
    },
    {
     "data": {
      "text/html": [
       "<div class=\"tfsechead rtl\"><span class=\"ltr\">3 3193:13</span></div><div class=\"rtl children\"><div class=\"contnr c0 trm rtl  \" ><div class=\"lbl c0 trm \" ><span class=\"nd\">262972</span> <span class=\"txtu hbo\"><span>$</span>{4\\over 3}<span>$</span> </span></div></div></div>"
      ],
      "text/plain": [
       "<IPython.core.display.HTML object>"
      ]
     },
     "metadata": {},
     "output_type": "display_data"
    },
    {
     "data": {
      "text/html": [
       "<div class=\"tfsechead rtl\"><span class=\"ltr\">3 3193:13</span></div><div class=\"rtl children\"><div class=\"contnr c0 trm rtl  \" ><div class=\"lbl c0 trm \" ><span class=\"nd\">262986</span> <span class=\"txtu hbo\"><span>$</span>{8\\over 5}<span>$</span> </span></div></div></div>"
      ],
      "text/plain": [
       "<IPython.core.display.HTML object>"
      ]
     },
     "metadata": {},
     "output_type": "display_data"
    },
    {
     "data": {
      "text/html": [
       "<div class=\"tfsechead rtl\"><span class=\"ltr\">3 3193:13</span></div><div class=\"rtl children\"><div class=\"contnr c0 trm rtl  \" ><div class=\"lbl c0 trm \" ><span class=\"nd\">262988</span> <span class=\"txtu hbo\"><span>$</span>{8\\over 4}<span>$</span> </span></div></div></div>"
      ],
      "text/plain": [
       "<IPython.core.display.HTML object>"
      ]
     },
     "metadata": {},
     "output_type": "display_data"
    },
    {
     "data": {
      "text/html": [
       "<div class=\"tfsechead rtl\"><span class=\"ltr\">3 3193:13</span></div><div class=\"rtl children\"><div class=\"contnr c0 trm rtl  \" ><div class=\"lbl c0 trm \" ><span class=\"nd\">262990</span> <span class=\"txtu hbo\"><span>$</span>{8\\over 3}<span>$</span> </span></div></div></div>"
      ],
      "text/plain": [
       "<IPython.core.display.HTML object>"
      ]
     },
     "metadata": {},
     "output_type": "display_data"
    },
    {
     "data": {
      "text/html": [
       "<div class=\"tfsechead rtl\"><span class=\"ltr\">3 3193:13</span></div><div class=\"rtl children\"><div class=\"contnr c0 trm rtl  \" ><div class=\"lbl c0 trm \" ><span class=\"nd\">262992</span> <span class=\"txtu hbo\"><span>$</span>{8\\over 2}<span>$</span> </span></div></div></div>"
      ],
      "text/plain": [
       "<IPython.core.display.HTML object>"
      ]
     },
     "metadata": {},
     "output_type": "display_data"
    },
    {
     "data": {
      "text/html": [
       "<div class=\"tfsechead rtl\"><span class=\"ltr\">3 3193:13</span></div><div class=\"rtl children\"><div class=\"contnr c0 trm rtl  \" ><div class=\"lbl c0 trm \" ><span class=\"nd\">263006</span> <span class=\"txtu hbo\"><span>$</span>{3\\over 8}<span>$</span> </span></div></div></div>"
      ],
      "text/plain": [
       "<IPython.core.display.HTML object>"
      ]
     },
     "metadata": {},
     "output_type": "display_data"
    },
    {
     "data": {
      "text/html": [
       "<div class=\"tfsechead rtl\"><span class=\"ltr\">3 3193:13</span></div><div class=\"rtl children\"><div class=\"contnr c0 trm rtl  \" ><div class=\"lbl c0 trm \" ><span class=\"nd\">263008</span> <span class=\"txtu hbo\"><span>$</span>{4\\over 8}<span>$</span> </span></div></div></div>"
      ],
      "text/plain": [
       "<IPython.core.display.HTML object>"
      ]
     },
     "metadata": {},
     "output_type": "display_data"
    },
    {
     "data": {
      "text/html": [
       "<div class=\"tfsechead rtl\"><span class=\"ltr\">3 3193:13</span></div><div class=\"rtl children\"><div class=\"contnr c0 trm rtl  \" ><div class=\"lbl c0 trm \" ><span class=\"nd\">263010</span> <span class=\"txtu hbo\"><span>$</span>{5\\over 8}<span>$</span> </span></div></div></div>"
      ],
      "text/plain": [
       "<IPython.core.display.HTML object>"
      ]
     },
     "metadata": {},
     "output_type": "display_data"
    },
    {
     "data": {
      "text/html": [
       "<div class=\"tfsechead rtl\"><span class=\"ltr\">3 3193:13</span></div><div class=\"rtl children\"><div class=\"contnr c0 trm rtl  \" ><div class=\"lbl c0 trm \" ><span class=\"nd\">263012</span> <span class=\"txtu hbo\"><span>$</span>{6\\over 8}<span>$</span> </span></div></div></div>"
      ],
      "text/plain": [
       "<IPython.core.display.HTML object>"
      ]
     },
     "metadata": {},
     "output_type": "display_data"
    },
    {
     "data": {
      "text/html": [
       "<div class=\"tfsechead rtl\"><span class=\"ltr\">3 3193:13</span></div><div class=\"rtl children\"><div class=\"contnr c0 trm rtl  \" ><div class=\"lbl c0 trm \" ><span class=\"nd\">263015</span> <span class=\"txtu hbo\"><span>$</span>{7\\over 8}<span>$</span> </span></div></div></div>"
      ],
      "text/plain": [
       "<IPython.core.display.HTML object>"
      ]
     },
     "metadata": {},
     "output_type": "display_data"
    },
    {
     "data": {
      "text/html": [
       "<div class=\"tfsechead rtl\"><span class=\"ltr\">3 3193:13</span></div><div class=\"rtl children\"><div class=\"contnr c0 trm rtl  \" ><div class=\"lbl c0 trm \" ><span class=\"nd\">263018</span> <span class=\"txtu hbo\"><span>$</span>{15\\over 16}<span>$</span> </span></div></div></div>"
      ],
      "text/plain": [
       "<IPython.core.display.HTML object>"
      ]
     },
     "metadata": {},
     "output_type": "display_data"
    },
    {
     "data": {
      "text/html": [
       "<div class=\"tfsechead rtl\"><span class=\"ltr\">3 3193:13</span></div><div class=\"rtl children\"><div class=\"contnr c0 trm rtl  \" ><div class=\"lbl c0 trm \" ><span class=\"nd\">263021</span> <span class=\"txtu hbo\"><span>$</span>{31\\over 32}<span>$</span> </span></div></div></div>"
      ],
      "text/plain": [
       "<IPython.core.display.HTML object>"
      ]
     },
     "metadata": {},
     "output_type": "display_data"
    },
    {
     "data": {
      "text/html": [
       "<div class=\"tfsechead rtl\"><span class=\"ltr\">3 3197:4</span></div><div class=\"rtl children\"><div class=\"contnr c0 trm rtl  \" ><div class=\"lbl c0 trm \" ><span class=\"nd\">265361</span> <span class=\"txtu hbo\"><span>$</span><span>$</span>\\displaylines{+ {{1\\over 9}}n^{2} \\cr\n",
       "- {{2\\over 3}}nx  \\cr\n",
       "- x^{2}}<span>$</span><span>$</span> </span></div></div></div>"
      ],
      "text/plain": [
       "<IPython.core.display.HTML object>"
      ]
     },
     "metadata": {},
     "output_type": "display_data"
    },
    {
     "data": {
      "text/html": [
       "<div class=\"tfsechead rtl\"><span class=\"ltr\">3 3197:4</span></div><div class=\"rtl children\"><div class=\"contnr c0 trm rtl  \" ><div class=\"lbl c0 trm \" ><span class=\"nd\">265380</span> <span class=\"txtu hbo\"><span>$</span><span>$</span>\\displaylines{+ {{1\\over 9}}n^{2} \\cr\n",
       "- {{2\\over 3}}nx  \\cr\n",
       "+ x^{2}}<span>$</span><span>$</span> </span></div></div></div>"
      ],
      "text/plain": [
       "<IPython.core.display.HTML object>"
      ]
     },
     "metadata": {},
     "output_type": "display_data"
    },
    {
     "data": {
      "text/html": [
       "<div class=\"tfsechead rtl\"><span class=\"ltr\">3 3198:15</span></div><div class=\"rtl children\"><div class=\"contnr c0 trm rtl  \" ><div class=\"lbl c0 trm \" ><span class=\"nd\">268146</span> <span class=\"txtu hbo\"><span>$</span>{\\displaystyle\\strut 2bb\\over \\displaystyle\\strut a}<span>$</span> </span></div></div></div>"
      ],
      "text/plain": [
       "<IPython.core.display.HTML object>"
      ]
     },
     "metadata": {},
     "output_type": "display_data"
    },
    {
     "data": {
      "text/html": [
       "<div class=\"tfsechead rtl\"><span class=\"ltr\">3 3198:15</span></div><div class=\"rtl children\"><div class=\"contnr c0 trm rtl  \" ><div class=\"lbl c0 trm \" ><span class=\"nd\">268152</span> <span class=\"txtu hbo\"><span>$</span>2b\\sqrt{{\\displaystyle\\strut 2b\\over \\displaystyle\\strut a}} - 1<span>$</span> </span></div></div></div>"
      ],
      "text/plain": [
       "<IPython.core.display.HTML object>"
      ]
     },
     "metadata": {},
     "output_type": "display_data"
    },
    {
     "data": {
      "text/html": [
       "<div class=\"tfsechead rtl\"><span class=\"ltr\">3 3198:15</span></div><div class=\"rtl children\"><div class=\"contnr c0 trm rtl  \" ><div class=\"lbl c0 trm \" ><span class=\"nd\">268178</span> <span class=\"txtu hbo\"><span>$</span>2b\\sqrt{{\\displaystyle\\strut 2b\\over \\displaystyle\\strut a}} - 1<span>$</span> </span></div></div></div>"
      ],
      "text/plain": [
       "<IPython.core.display.HTML object>"
      ]
     },
     "metadata": {},
     "output_type": "display_data"
    },
    {
     "data": {
      "text/html": [
       "<div class=\"tfsechead rtl\"><span class=\"ltr\">3 3198:15</span></div><div class=\"rtl children\"><div class=\"contnr c0 trm rtl  \" ><div class=\"lbl c0 trm \" ><span class=\"nd\">268197</span> <span class=\"txtu hbo\"><span>$</span>{\\displaystyle\\strut 2bb\\over \\displaystyle\\strut a}<span>$</span> </span></div></div></div>"
      ],
      "text/plain": [
       "<IPython.core.display.HTML object>"
      ]
     },
     "metadata": {},
     "output_type": "display_data"
    },
    {
     "data": {
      "text/html": [
       "<div class=\"tfsechead rtl\"><span class=\"ltr\">3 3198:15</span></div><div class=\"rtl children\"><div class=\"contnr c0 trm rtl  \" ><div class=\"lbl c0 trm \" ><span class=\"nd\">268225</span> <span class=\"txtu hbo\"><span>$</span>{\\displaystyle\\strut 2bb\\over \\displaystyle\\strut a}<span>$</span> </span></div></div></div>"
      ],
      "text/plain": [
       "<IPython.core.display.HTML object>"
      ]
     },
     "metadata": {},
     "output_type": "display_data"
    },
    {
     "data": {
      "text/html": [
       "<div class=\"tfsechead rtl\"><span class=\"ltr\">3 3198:15</span></div><div class=\"rtl children\"><div class=\"contnr c0 trm rtl  \" ><div class=\"lbl c0 trm \" ><span class=\"nd\">268227</span> <span class=\"txtu hbo\"><span>$</span>\\sqrt{{\\displaystyle\\strut 2b\\over \\displaystyle\\strut a}} - 1<span>$</span> </span></div></div></div>"
      ],
      "text/plain": [
       "<IPython.core.display.HTML object>"
      ]
     },
     "metadata": {},
     "output_type": "display_data"
    },
    {
     "data": {
      "text/html": [
       "<div class=\"tfsechead rtl\"><span class=\"ltr\">3 3198:15</span></div><div class=\"rtl children\"><div class=\"contnr c0 trm rtl  \" ><div class=\"lbl c0 trm \" ><span class=\"nd\">268239</span> <span class=\"txtu hbo\"><span>$</span>2b\\sqrt{{\\displaystyle\\strut 2b\\over \\displaystyle\\strut a}} - 1<span>$</span> </span></div></div></div>"
      ],
      "text/plain": [
       "<IPython.core.display.HTML object>"
      ]
     },
     "metadata": {},
     "output_type": "display_data"
    },
    {
     "data": {
      "text/html": [
       "<div class=\"tfsechead rtl\"><span class=\"ltr\">3 3227:6</span></div><div class=\"rtl children\"><div class=\"contnr c0 trm rtl  \" ><div class=\"lbl c0 trm \" ><span class=\"nd\">296866</span> <span class=\"txtu hbo\"><span>$</span>{1\\over 216} d<span>$</span> </span></div></div></div>"
      ],
      "text/plain": [
       "<IPython.core.display.HTML object>"
      ]
     },
     "metadata": {},
     "output_type": "display_data"
    },
    {
     "data": {
      "text/html": [
       "<div class=\"tfsechead rtl\"><span class=\"ltr\">3 3227:6</span></div><div class=\"rtl children\"><div class=\"contnr c0 trm rtl  \" ><div class=\"lbl c0 trm \" ><span class=\"nd\">296896</span> <span class=\"txtu hbo\"><span>$</span>{1\\over 1296} e<span>$</span> </span></div></div></div>"
      ],
      "text/plain": [
       "<IPython.core.display.HTML object>"
      ]
     },
     "metadata": {},
     "output_type": "display_data"
    },
    {
     "data": {
      "text/html": [
       "<div class=\"tfsechead rtl\"><span class=\"ltr\">3 3227bis:6</span></div><div class=\"rtl children\"><div class=\"contnr c0 trm rtl  \" ><div class=\"lbl c0 trm \" ><span class=\"nd\">297494</span> <span class=\"txtu hbo\"><span>$</span>{\\rm CD} = {{1\\over 2}}p<span>$</span> </span></div></div></div>"
      ],
      "text/plain": [
       "<IPython.core.display.HTML object>"
      ]
     },
     "metadata": {},
     "output_type": "display_data"
    },
    {
     "data": {
      "text/html": [
       "<div class=\"tfsechead rtl\"><span class=\"ltr\">4 4233:8</span></div><div class=\"rtl children\"><div class=\"contnr c0 trm rtl  \" ><div class=\"lbl c0 trm \" ><span class=\"nd\">305191</span> <span class=\"txtu hbo\"><span>$</span>{{1\\over 2}}n + {{\\displaystyle\\strut c\\over \\displaystyle\\strut 2n}}<span>$</span> </span></div></div></div>"
      ],
      "text/plain": [
       "<IPython.core.display.HTML object>"
      ]
     },
     "metadata": {},
     "output_type": "display_data"
    },
    {
     "data": {
      "text/html": [
       "<div class=\"tfsechead rtl\"><span class=\"ltr\">4 4233:8</span></div><div class=\"rtl children\"><div class=\"contnr c0 trm rtl  \" ><div class=\"lbl c0 trm \" ><span class=\"nd\">305202</span> <span class=\"txtu hbo\"><span>$</span>{{1\\over 2}}n - {{\\displaystyle\\strut c\\over \\displaystyle\\strut 2n}}<span>$</span> </span></div></div></div>"
      ],
      "text/plain": [
       "<IPython.core.display.HTML object>"
      ]
     },
     "metadata": {},
     "output_type": "display_data"
    },
    {
     "data": {
      "text/html": [
       "<div class=\"tfsechead rtl\"><span class=\"ltr\">4 4233:8</span></div><div class=\"rtl children\"><div class=\"contnr c0 trm rtl  \" ><div class=\"lbl c0 trm \" ><span class=\"nd\">305211</span> <span class=\"txtu hbo\"><span>$</span>{{1\\over 2}}n - {{\\displaystyle\\strut c\\over \\displaystyle\\strut 2n}}<span>$</span> </span></div></div></div>"
      ],
      "text/plain": [
       "<IPython.core.display.HTML object>"
      ]
     },
     "metadata": {},
     "output_type": "display_data"
    },
    {
     "data": {
      "text/html": [
       "<div class=\"tfsechead rtl\"><span class=\"ltr\">4 4233:8</span></div><div class=\"rtl children\"><div class=\"contnr c0 trm rtl  \" ><div class=\"lbl c0 trm \" ><span class=\"nd\">305215</span> <span class=\"txtu hbo\"><span>$</span>{{1\\over 4}}nn - {{1\\over 2}}c + {{\\displaystyle\\strut cc\\over \\displaystyle\\strut 4nn}}<span>$</span> </span></div></div></div>"
      ],
      "text/plain": [
       "<IPython.core.display.HTML object>"
      ]
     },
     "metadata": {},
     "output_type": "display_data"
    },
    {
     "data": {
      "text/html": [
       "<div class=\"tfsechead rtl\"><span class=\"ltr\">4 4233:8</span></div><div class=\"rtl children\"><div class=\"contnr c0 trm rtl  \" ><div class=\"lbl c0 trm \" ><span class=\"nd\">305222</span> <span class=\"txtu hbo\"><span>$</span>{{1\\over 2}}n + {{\\displaystyle\\strut c\\over \\displaystyle\\strut 2n}}<span>$</span> </span></div></div></div>"
      ],
      "text/plain": [
       "<IPython.core.display.HTML object>"
      ]
     },
     "metadata": {},
     "output_type": "display_data"
    },
    {
     "data": {
      "text/html": [
       "<div class=\"tfsechead rtl\"><span class=\"ltr\">4 4233:8</span></div><div class=\"rtl children\"><div class=\"contnr c0 trm rtl  \" ><div class=\"lbl c0 trm \" ><span class=\"nd\">305226</span> <span class=\"txtu hbo\"><span>$</span>{{1\\over 4}}nn + {{1\\over 2}}c + {{\\displaystyle\\strut cc\\over \\displaystyle\\strut 4nn}}<span>$</span> </span></div></div></div>"
      ],
      "text/plain": [
       "<IPython.core.display.HTML object>"
      ]
     },
     "metadata": {},
     "output_type": "display_data"
    },
    {
     "data": {
      "text/html": [
       "<div class=\"tfsechead rtl\"><span class=\"ltr\">4 4233:8</span></div><div class=\"rtl children\"><div class=\"contnr c0 trm rtl  \" ><div class=\"lbl c0 trm \" ><span class=\"nd\">305233</span> <span class=\"txtu hbo\"><span>$</span>n + {\\displaystyle\\strut c\\over \\displaystyle\\strut n}<span>$</span> </span></div></div></div>"
      ],
      "text/plain": [
       "<IPython.core.display.HTML object>"
      ]
     },
     "metadata": {},
     "output_type": "display_data"
    },
    {
     "data": {
      "text/html": [
       "<div class=\"tfsechead rtl\"><span class=\"ltr\">4 4233:8</span></div><div class=\"rtl children\"><div class=\"contnr c0 trm rtl  \" ><div class=\"lbl c0 trm \" ><span class=\"nd\">305300</span> <span class=\"txtu hbo\"><span>$</span>{1\\over 2}<span>$</span> </span></div></div></div>"
      ],
      "text/plain": [
       "<IPython.core.display.HTML object>"
      ]
     },
     "metadata": {},
     "output_type": "display_data"
    },
    {
     "data": {
      "text/html": [
       "<div class=\"tfsechead rtl\"><span class=\"ltr\">4 4233:8</span></div><div class=\"rtl children\"><div class=\"contnr c0 trm rtl  \" ><div class=\"lbl c0 trm \" ><span class=\"nd\">305324</span> <span class=\"txtu hbo\"><span>$</span>{\\displaystyle\\strut c\\over \\displaystyle\\strut n}<span>$</span> </span></div></div></div>"
      ],
      "text/plain": [
       "<IPython.core.display.HTML object>"
      ]
     },
     "metadata": {},
     "output_type": "display_data"
    },
    {
     "data": {
      "text/html": [
       "<div class=\"tfsechead rtl\"><span class=\"ltr\">4 4233:8</span></div><div class=\"rtl children\"><div class=\"contnr c0 trm rtl  \" ><div class=\"lbl c0 trm \" ><span class=\"nd\">305328</span> <span class=\"txtu hbo\"><span>$</span>{\\displaystyle\\strut c\\over \\displaystyle\\strut m}<span>$</span> </span></div></div></div>"
      ],
      "text/plain": [
       "<IPython.core.display.HTML object>"
      ]
     },
     "metadata": {},
     "output_type": "display_data"
    },
    {
     "data": {
      "text/html": [
       "<div class=\"tfsechead rtl\"><span class=\"ltr\">4 4233:8</span></div><div class=\"rtl children\"><div class=\"contnr c0 trm rtl  \" ><div class=\"lbl c0 trm \" ><span class=\"nd\">305346</span> <span class=\"txtu hbo\"><span>$</span>m + {\\displaystyle\\strut c\\over \\displaystyle\\strut m}<span>$</span> </span></div></div></div>"
      ],
      "text/plain": [
       "<IPython.core.display.HTML object>"
      ]
     },
     "metadata": {},
     "output_type": "display_data"
    },
    {
     "data": {
      "text/html": [
       "<div class=\"tfsechead rtl\"><span class=\"ltr\">4 4233:8</span></div><div class=\"rtl children\"><div class=\"contnr c0 trm rtl  \" ><div class=\"lbl c0 trm \" ><span class=\"nd\">305375</span> <span class=\"txtu hbo\"><span>$</span>+ {\\displaystyle\\strut c\\over \\displaystyle\\strut n}<span>$</span> </span></div></div></div>"
      ],
      "text/plain": [
       "<IPython.core.display.HTML object>"
      ]
     },
     "metadata": {},
     "output_type": "display_data"
    },
    {
     "data": {
      "text/html": [
       "<div class=\"tfsechead rtl\"><span class=\"ltr\">4 4233:8</span></div><div class=\"rtl children\"><div class=\"contnr c0 trm rtl  \" ><div class=\"lbl c0 trm \" ><span class=\"nd\">305405</span> <span class=\"txtu hbo\"><span>$</span>m + {\\displaystyle\\strut c\\over \\displaystyle\\strut m}<span>$</span> </span></div></div></div>"
      ],
      "text/plain": [
       "<IPython.core.display.HTML object>"
      ]
     },
     "metadata": {},
     "output_type": "display_data"
    },
    {
     "data": {
      "text/html": [
       "<div class=\"tfsechead rtl\"><span class=\"ltr\">4 4233:8</span></div><div class=\"rtl children\"><div class=\"contnr c0 trm rtl  \" ><div class=\"lbl c0 trm \" ><span class=\"nd\">305479</span> <span class=\"txtu hbo\"><span>$</span>3c + {\\displaystyle\\strut 2a\\over \\displaystyle\\strut z}<span>$</span> </span></div></div></div>"
      ],
      "text/plain": [
       "<IPython.core.display.HTML object>"
      ]
     },
     "metadata": {},
     "output_type": "display_data"
    },
    {
     "data": {
      "text/html": [
       "<div class=\"tfsechead rtl\"><span class=\"ltr\">4 4233:9</span></div><div class=\"rtl children\"><div class=\"contnr c0 trm rtl  \" ><div class=\"lbl c0 trm \" ><span class=\"nd\">305631</span> <span class=\"txtu hbo\"><span>$</span>{\\displaystyle\\strut c\\over \\displaystyle\\strut n}<span>$</span> </span></div></div></div>"
      ],
      "text/plain": [
       "<IPython.core.display.HTML object>"
      ]
     },
     "metadata": {},
     "output_type": "display_data"
    },
    {
     "data": {
      "text/html": [
       "<div class=\"tfsechead rtl\"><span class=\"ltr\">4 4233:9</span></div><div class=\"rtl children\"><div class=\"contnr c0 trm rtl  \" ><div class=\"lbl c0 trm \" ><span class=\"nd\">305635</span> <span class=\"txtu hbo\"><span>$</span>{\\displaystyle\\strut c\\over \\displaystyle\\strut m}<span>$</span> </span></div></div></div>"
      ],
      "text/plain": [
       "<IPython.core.display.HTML object>"
      ]
     },
     "metadata": {},
     "output_type": "display_data"
    },
    {
     "data": {
      "text/html": [
       "<div class=\"tfsechead rtl\"><span class=\"ltr\">4 4233:9</span></div><div class=\"rtl children\"><div class=\"contnr c0 trm rtl  \" ><div class=\"lbl c0 trm \" ><span class=\"nd\">305707</span> <span class=\"txtu hbo\"><span>$</span>{\\displaystyle\\strut c\\over \\displaystyle\\strut n}<span>$</span> </span></div></div></div>"
      ],
      "text/plain": [
       "<IPython.core.display.HTML object>"
      ]
     },
     "metadata": {},
     "output_type": "display_data"
    },
    {
     "data": {
      "text/html": [
       "<div class=\"tfsechead rtl\"><span class=\"ltr\">4 4233:9</span></div><div class=\"rtl children\"><div class=\"contnr c0 trm rtl  \" ><div class=\"lbl c0 trm \" ><span class=\"nd\">305725</span> <span class=\"txtu hbo\"><span>$</span>{1\\over 2}<span>$</span> </span></div></div></div>"
      ],
      "text/plain": [
       "<IPython.core.display.HTML object>"
      ]
     },
     "metadata": {},
     "output_type": "display_data"
    },
    {
     "data": {
      "text/html": [
       "<div class=\"tfsechead rtl\"><span class=\"ltr\">4 4233:9</span></div><div class=\"rtl children\"><div class=\"contnr c0 trm rtl  \" ><div class=\"lbl c0 trm \" ><span class=\"nd\">305772</span> <span class=\"txtu hbo\"><span>$</span>{\\displaystyle\\strut c\\over \\displaystyle\\strut m}<span>$</span> </span></div></div></div>"
      ],
      "text/plain": [
       "<IPython.core.display.HTML object>"
      ]
     },
     "metadata": {},
     "output_type": "display_data"
    },
    {
     "data": {
      "text/html": [
       "<div class=\"tfsechead rtl\"><span class=\"ltr\">4 4233:9</span></div><div class=\"rtl children\"><div class=\"contnr c0 trm rtl  \" ><div class=\"lbl c0 trm \" ><span class=\"nd\">305780</span> <span class=\"txtu hbo\"><span>$</span>{\\displaystyle\\strut c\\over \\displaystyle\\strut n}<span>$</span> </span></div></div></div>"
      ],
      "text/plain": [
       "<IPython.core.display.HTML object>"
      ]
     },
     "metadata": {},
     "output_type": "display_data"
    },
    {
     "data": {
      "text/html": [
       "<div class=\"tfsechead rtl\"><span class=\"ltr\">4 4251:21</span></div><div class=\"rtl children\"><div class=\"contnr c0 trm rtl  \" ><div class=\"lbl c0 trm \" ><span class=\"nd\">321753</span> <span class=\"txtu hbo\"><span>$</span>» {\\rm R}<span>$</span> </span></div></div></div>"
      ],
      "text/plain": [
       "<IPython.core.display.HTML object>"
      ]
     },
     "metadata": {},
     "output_type": "display_data"
    },
    {
     "data": {
      "text/html": [
       "<div class=\"tfsechead rtl\"><span class=\"ltr\">4 4255:5</span></div><div class=\"rtl children\"><div class=\"contnr c0 trm rtl  \" ><div class=\"lbl c0 trm \" ><span class=\"nd\">329716</span> <span class=\"txtu hbo\"><span>$</span>{2\\over 5}<span>$</span> </span></div></div></div>"
      ],
      "text/plain": [
       "<IPython.core.display.HTML object>"
      ]
     },
     "metadata": {},
     "output_type": "display_data"
    },
    {
     "data": {
      "text/html": [
       "<div class=\"tfsechead rtl\"><span class=\"ltr\">4 4255:5</span></div><div class=\"rtl children\"><div class=\"contnr c0 trm rtl  \" ><div class=\"lbl c0 trm \" ><span class=\"nd\">329740</span> <span class=\"txtu hbo\"><span>$</span>11 {3\\over 5}<span>$</span> </span></div></div></div>"
      ],
      "text/plain": [
       "<IPython.core.display.HTML object>"
      ]
     },
     "metadata": {},
     "output_type": "display_data"
    },
    {
     "data": {
      "text/html": [
       "<div class=\"tfsechead rtl\"><span class=\"ltr\">4 4303:19</span></div><div class=\"rtl children\"><div class=\"contnr c0 trm rtl  \" ><div class=\"lbl c0 trm \" ><span class=\"nd\">379871</span> <span class=\"txtu hbo\"><span>$</span>+ {{\\displaystyle\\strut aa\\over \\displaystyle\\strut b}}xx + crx - {{1\\over 4}}brr<span>$</span> </span></div></div></div>"
      ],
      "text/plain": [
       "<IPython.core.display.HTML object>"
      ]
     },
     "metadata": {},
     "output_type": "display_data"
    },
    {
     "data": {
      "text/html": [
       "<div class=\"tfsechead rtl\"><span class=\"ltr\">4 4303:19</span></div><div class=\"rtl children\"><div class=\"contnr c0 trm rtl  \" ><div class=\"lbl c0 trm \" ><span class=\"nd\">379873</span> <span class=\"txtu hbo\"><span>$</span>- {{\\displaystyle\\strut cc\\over \\displaystyle\\strut b}}xx<span>$</span> </span></div></div></div>"
      ],
      "text/plain": [
       "<IPython.core.display.HTML object>"
      ]
     },
     "metadata": {},
     "output_type": "display_data"
    },
    {
     "data": {
      "text/html": [
       "<div class=\"tfsechead rtl\"><span class=\"ltr\">5 5324:5</span></div><div class=\"rtl children\"><div class=\"contnr c0 trm rtl  \" ><div class=\"lbl c0 trm \" ><span class=\"nd\">400656</span> <span class=\"txtu hbo\"><span>$</span>{1\\over 9}<span>$</span> </span></div></div></div>"
      ],
      "text/plain": [
       "<IPython.core.display.HTML object>"
      ]
     },
     "metadata": {},
     "output_type": "display_data"
    },
    {
     "data": {
      "text/html": [
       "<div class=\"tfsechead rtl\"><span class=\"ltr\">5 5324:5</span></div><div class=\"rtl children\"><div class=\"contnr c0 trm rtl  \" ><div class=\"lbl c0 trm \" ><span class=\"nd\">400662</span> <span class=\"txtu hbo\"><span>$</span>{1\\over 27}<span>$</span> </span></div></div></div>"
      ],
      "text/plain": [
       "<IPython.core.display.HTML object>"
      ]
     },
     "metadata": {},
     "output_type": "display_data"
    },
    {
     "data": {
      "text/html": [
       "<div class=\"tfsechead rtl\"><span class=\"ltr\">5 5324:5</span></div><div class=\"rtl children\"><div class=\"contnr c0 trm rtl  \" ><div class=\"lbl c0 trm \" ><span class=\"nd\">400668</span> <span class=\"txtu hbo\"><span>$</span>{1\\over 81}<span>$</span> </span></div></div></div>"
      ],
      "text/plain": [
       "<IPython.core.display.HTML object>"
      ]
     },
     "metadata": {},
     "output_type": "display_data"
    },
    {
     "data": {
      "text/html": [
       "<div class=\"tfsechead rtl\"><span class=\"ltr\">5 5324:5</span></div><div class=\"rtl children\"><div class=\"contnr c0 trm rtl  \" ><div class=\"lbl c0 trm \" ><span class=\"nd\">400692</span> <span class=\"txtu hbo\"><span>$</span>4 {1\\over 4}<span>$</span> </span></div></div></div>"
      ],
      "text/plain": [
       "<IPython.core.display.HTML object>"
      ]
     },
     "metadata": {},
     "output_type": "display_data"
    },
    {
     "data": {
      "text/html": [
       "<div class=\"tfsechead rtl\"><span class=\"ltr\">5 5324:5</span></div><div class=\"rtl children\"><div class=\"contnr c0 trm rtl  \" ><div class=\"lbl c0 trm \" ><span class=\"nd\">400699</span> <span class=\"txtu hbo\"><span>$</span>4 {1\\over 3}<span>$</span> </span></div></div></div>"
      ],
      "text/plain": [
       "<IPython.core.display.HTML object>"
      ]
     },
     "metadata": {},
     "output_type": "display_data"
    },
    {
     "data": {
      "text/html": [
       "<div class=\"tfsechead rtl\"><span class=\"ltr\">5 5324:10</span></div><div class=\"rtl children\"><div class=\"contnr c0 trm rtl  \" ><div class=\"lbl c0 trm \" ><span class=\"nd\">401189</span> <span class=\"txtu hbo\"><span>$</span>78 {1\\over 2}<span>$</span> </span></div></div></div>"
      ],
      "text/plain": [
       "<IPython.core.display.HTML object>"
      ]
     },
     "metadata": {},
     "output_type": "display_data"
    },
    {
     "data": {
      "text/html": [
       "<div class=\"tfsechead rtl\"><span class=\"ltr\">5 5324:10</span></div><div class=\"rtl children\"><div class=\"contnr c0 trm rtl  \" ><div class=\"lbl c0 trm \" ><span class=\"nd\">401289</span> <span class=\"txtu hbo\"><span>$</span>72 {1\\over 2}<span>$</span> </span></div></div></div>"
      ],
      "text/plain": [
       "<IPython.core.display.HTML object>"
      ]
     },
     "metadata": {},
     "output_type": "display_data"
    },
    {
     "data": {
      "text/html": [
       "<div class=\"tfsechead rtl\"><span class=\"ltr\">5 5324:10</span></div><div class=\"rtl children\"><div class=\"contnr c0 trm rtl  \" ><div class=\"lbl c0 trm \" ><span class=\"nd\">401321</span> <span class=\"txtu hbo\"><span>$</span>{1\\over 2}<span>$</span> </span></div></div></div>"
      ],
      "text/plain": [
       "<IPython.core.display.HTML object>"
      ]
     },
     "metadata": {},
     "output_type": "display_data"
    },
    {
     "data": {
      "text/html": [
       "<div class=\"tfsechead rtl\"><span class=\"ltr\">5 5324:10</span></div><div class=\"rtl children\"><div class=\"contnr c0 trm rtl  \" ><div class=\"lbl c0 trm \" ><span class=\"nd\">401324</span> <span class=\"txtu hbo\"><span>$</span>72 {1\\over 2}<span>$</span> </span></div></div></div>"
      ],
      "text/plain": [
       "<IPython.core.display.HTML object>"
      ]
     },
     "metadata": {},
     "output_type": "display_data"
    },
    {
     "data": {
      "text/html": [
       "<div class=\"tfsechead rtl\"><span class=\"ltr\">5 5339:3</span></div><div class=\"rtl children\"><div class=\"contnr c0 trm rtl  \" ><div class=\"lbl c0 trm \" ><span class=\"nd\">414549</span> <span class=\"txtu hbo\"><span>$</span>x^{3} - {{1\\over 2}}cxx + px - q = nxx - nrx + ns<span>$</span> </span></div></div></div>"
      ],
      "text/plain": [
       "<IPython.core.display.HTML object>"
      ]
     },
     "metadata": {},
     "output_type": "display_data"
    },
    {
     "data": {
      "text/html": [
       "<div class=\"tfsechead rtl\"><span class=\"ltr\">6 6408:7</span></div><div class=\"rtl children\"><div class=\"contnr c0 trm rtl  \" ><div class=\"lbl c0 trm \" ><span class=\"nd\">459328</span> <span class=\"txtu hbo\"><span>$</span><span>$</span>\\displaylines{{\\rm AD} = a + x \\cr\n",
       "{\\rm BD} = b + x \\cr\n",
       "{\\rm CD} = c + x}<span>$</span><span>$</span> </span></div></div></div>"
      ],
      "text/plain": [
       "<IPython.core.display.HTML object>"
      ]
     },
     "metadata": {},
     "output_type": "display_data"
    },
    {
     "data": {
      "text/html": [
       "<div class=\"tfsechead rtl\"><span class=\"ltr\">6 6408:7</span></div><div class=\"rtl children\"><div class=\"contnr c0 trm rtl  \" ><div class=\"lbl c0 trm \" ><span class=\"nd\">459332</span> <span class=\"txtu hbo\"><span>$</span><span>$</span>\\displaylines{{\\rm AE} = d  {\\rm BE} = e  {\\rm CE} = f \\cr\n",
       "{\\rm DF}}<span>$</span><span>$</span> </span></div></div></div>"
      ],
      "text/plain": [
       "<IPython.core.display.HTML object>"
      ]
     },
     "metadata": {},
     "output_type": "display_data"
    },
    {
     "data": {
      "text/html": [
       "<div class=\"tfsechead rtl\"><span class=\"ltr\">6 6408:7</span></div><div class=\"rtl children\"><div class=\"contnr c0 trm rtl  \" ><div class=\"lbl c0 trm \" ><span class=\"nd\">459352</span> <span class=\"txtu hbo\"><span>$</span><span>$</span>\\displaylines{{\\rm AF} = d - z}<span>$</span><span>$</span> </span></div></div></div>"
      ],
      "text/plain": [
       "<IPython.core.display.HTML object>"
      ]
     },
     "metadata": {},
     "output_type": "display_data"
    },
    {
     "data": {
      "text/html": [
       "<div class=\"tfsechead rtl\"><span class=\"ltr\">6 6408:8</span></div><div class=\"rtl children\"><div class=\"contnr c0 trm rtl  \" ><div class=\"lbl c0 trm \" ><span class=\"nd\">459398</span> <span class=\"txtu hbo\"><span>$</span><span>$</span>\\displaylines{aa + 2ax + xx = dd - 2dz + zz + yy \\cr\n",
       "bb + 2bx + xx = ee - 2ey + yy + zz \\cr\n",
       "cc + 2cx + xx = ff - 2fz + zz + yy}<span>$</span><span>$</span> </span></div></div></div>"
      ],
      "text/plain": [
       "<IPython.core.display.HTML object>"
      ]
     },
     "metadata": {},
     "output_type": "display_data"
    },
    {
     "data": {
      "text/html": [
       "<div class=\"tfsechead rtl\"><span class=\"ltr\">6 6408:8</span></div><div class=\"rtl children\"><div class=\"contnr c0 trm rtl  \" ><div class=\"lbl c0 trm \" ><span class=\"nd\">459584</span> <span class=\"txtu hbo\"><span>$</span>z = {\\displaystyle\\strut {cc - aa + dd - ff + 2cx - 2ax}\\over \\displaystyle\\strut {2d + 2f}}<span>$</span> </span></div></div></div>"
      ],
      "text/plain": [
       "<IPython.core.display.HTML object>"
      ]
     },
     "metadata": {},
     "output_type": "display_data"
    },
    {
     "data": {
      "text/html": [
       "<div class=\"tfsechead rtl\"><span class=\"ltr\">6 6408:8</span></div><div class=\"rtl children\"><div class=\"contnr c0 trm rtl  \" ><div class=\"lbl c0 trm \" ><span class=\"nd\">459589</span> <span class=\"txtu hbo\"><span>$</span>{{1\\over 2}}d - {{1\\over 2}}f + {\\displaystyle\\strut {cc - aa + 2cx - 2ax}\\over \\displaystyle\\strut {2d + 2f}}<span>$</span> </span></div></div></div>"
      ],
      "text/plain": [
       "<IPython.core.display.HTML object>"
      ]
     },
     "metadata": {},
     "output_type": "display_data"
    },
    {
     "data": {
      "text/html": [
       "<div class=\"tfsechead rtl\"><span class=\"ltr\">6 6408:9</span></div><div class=\"rtl children\"><div class=\"contnr c0 trm rtl  \" ><div class=\"lbl c0 trm \" ><span class=\"nd\">459659</span> <span class=\"txtu hbo\"><span>$</span>2ey = ee + aa + 2ax - bb - 2bx - dd + dd - df + {\\displaystyle\\strut {ccd - aad - 2cdx - 2adx}\\over \\displaystyle\\strut {d + f}}<span>$</span> </span></div></div></div>"
      ],
      "text/plain": [
       "<IPython.core.display.HTML object>"
      ]
     },
     "metadata": {},
     "output_type": "display_data"
    },
    {
     "data": {
      "text/html": [
       "<div class=\"tfsechead rtl\"><span class=\"ltr\">6 6408:9</span></div><div class=\"rtl children\"><div class=\"contnr c0 trm rtl  \" ><div class=\"lbl c0 trm \" ><span class=\"nd\">459663</span> <span class=\"txtu hbo\"><span>$</span>y = {{1\\over 2}}e - {{\\displaystyle\\strut bb\\over \\displaystyle\\strut 2e}} - {{\\displaystyle\\strut bx\\over \\displaystyle\\strut e}} - {{\\displaystyle\\strut df\\over \\displaystyle\\strut 2e}} + {\\displaystyle\\strut {ccd + aaf + 2cdx + 2afx}\\over \\displaystyle\\strut {2ed + 2ef}}<span>$</span> </span></div></div></div>"
      ],
      "text/plain": [
       "<IPython.core.display.HTML object>"
      ]
     },
     "metadata": {},
     "output_type": "display_data"
    },
    {
     "data": {
      "text/html": [
       "<div class=\"tfsechead rtl\"><span class=\"ltr\">6 6414:7</span></div><div class=\"rtl children\"><div class=\"contnr c0 trm rtl  \" ><div class=\"lbl c0 trm \" ><span class=\"nd\">463360</span> <span class=\"txtu hbo\"><span>$</span>{\\rm AK} = {\\displaystyle\\strut {dd + df + dx - fx}\\over \\displaystyle\\strut {d + f}}<span>$</span> </span></div></div></div>"
      ],
      "text/plain": [
       "<IPython.core.display.HTML object>"
      ]
     },
     "metadata": {},
     "output_type": "display_data"
    },
    {
     "data": {
      "text/html": [
       "<div class=\"tfsechead rtl\"><span class=\"ltr\">6 6414:7</span></div><div class=\"rtl children\"><div class=\"contnr c0 trm rtl  \" ><div class=\"lbl c0 trm \" ><span class=\"nd\">463363</span> <span class=\"txtu hbo\"><span>$</span>{\\rm AD} = {\\displaystyle\\strut {dd + df + de - fe}\\over \\displaystyle\\strut {d + f}}<span>$</span> </span></div></div></div>"
      ],
      "text/plain": [
       "<IPython.core.display.HTML object>"
      ]
     },
     "metadata": {},
     "output_type": "display_data"
    },
    {
     "data": {
      "text/html": [
       "<div class=\"tfsechead rtl\"><span class=\"ltr\">6 6414:7</span></div><div class=\"rtl children\"><div class=\"contnr c0 trm rtl  \" ><div class=\"lbl c0 trm \" ><span class=\"nd\">463412</span> <span class=\"txtu hbo\"><span>$</span><span>$</span>\\displaylines{ddeeff = 2deffxx + 2deeffx\\cr\n",
       "+ ddeexx + 2deefxx + 2ddeffx\\cr\n",
       "+ ddffxx + 2ddefxx + 2ddeefx\\cr\n",
       "+eeffxx}<span>$</span><span>$</span> </span></div></div></div>"
      ],
      "text/plain": [
       "<IPython.core.display.HTML object>"
      ]
     },
     "metadata": {},
     "output_type": "display_data"
    },
    {
     "data": {
      "text/html": [
       "<div class=\"tfsechead rtl\"><span class=\"ltr\">6 6414:7</span></div><div class=\"rtl children\"><div class=\"contnr c0 trm rtl  \" ><div class=\"lbl c0 trm \" ><span class=\"nd\">463500</span> <span class=\"txtu hbo\"><span>$</span>{\\displaystyle\\strut d\\over \\displaystyle\\strut 2} {\\displaystyle\\strut e\\over \\displaystyle\\strut 3} {\\displaystyle\\strut f\\over \\displaystyle\\strut 4}<span>$</span> </span></div></div></div>"
      ],
      "text/plain": [
       "<IPython.core.display.HTML object>"
      ]
     },
     "metadata": {},
     "output_type": "display_data"
    },
    {
     "data": {
      "text/html": [
       "<div class=\"tfsechead rtl\"><span class=\"ltr\">6 6414:7</span></div><div class=\"rtl children\"><div class=\"contnr c0 trm rtl  \" ><div class=\"lbl c0 trm \" ><span class=\"nd\">463523</span> <span class=\"txtu hbo\"><span>$</span>x = - {{156\\over 47}} + \\sqrt{{31104\\over 2209}}<span>$</span> </span></div></div></div>"
      ],
      "text/plain": [
       "<IPython.core.display.HTML object>"
      ]
     },
     "metadata": {},
     "output_type": "display_data"
    },
    {
     "data": {
      "text/html": [
       "<div class=\"tfsechead rtl\"><span class=\"ltr\">7 7523:5</span></div><div class=\"rtl children\"><div class=\"contnr c0 trm rtl  \" ><div class=\"lbl c0 trm \" ><span class=\"nd\">533850</span> <span class=\"txtu hbo\"><span>$</span>[{\\rm AD}]<span>$</span> </span></div></div></div>"
      ],
      "text/plain": [
       "<IPython.core.display.HTML object>"
      ]
     },
     "metadata": {},
     "output_type": "display_data"
    },
    {
     "data": {
      "text/html": [
       "<div class=\"tfsechead rtl\"><span class=\"ltr\">8 8651:8</span></div><div class=\"rtl children\"><div class=\"contnr c0 trm rtl  \" ><div class=\"lbl c0 trm \" ><span class=\"nd\">640955</span> <span class=\"txtu hbo\"><span>$</span><span>$</span>\\displaylines{{\\rm BA} - {\\rm AA} \\cr\n",
       "+ {\\rm ZZ} + {\\rm DA} + {\\rm AA} \\cr\n",
       "+ {\\rm MA} \\cr\n",
       "+ {\\rm DD} - {\\rm AA} \\cr\n",
       "+ {\\rm RA} + {\\rm AA} \\cr\n",
       "+ {\\rm BB} + 2{\\rm BA} + {\\rm AA}}<span>$</span><span>$</span> </span></div></div></div>"
      ],
      "text/plain": [
       "<IPython.core.display.HTML object>"
      ]
     },
     "metadata": {},
     "output_type": "display_data"
    },
    {
     "data": {
      "text/html": [
       "<div class=\"tfsechead rtl\"><span class=\"ltr\">8 8663:5</span></div><div class=\"rtl children\"><div class=\"contnr c0 trm rtl  \" ><div class=\"lbl c0 trm \" ><span class=\"nd\">653305</span> <span class=\"txtu hbo\"><span>$</span>{\\displaystyle\\strut 12\\over \\displaystyle\\strut {3 - {\\rm Ve}3 - {\\rm Ve}2}}<span>$</span> </span></div></div></div>"
      ],
      "text/plain": [
       "<IPython.core.display.HTML object>"
      ]
     },
     "metadata": {},
     "output_type": "display_data"
    },
    {
     "data": {
      "text/html": [
       "<div class=\"tfsechead rtl\"><span class=\"ltr\">8 8670:3</span></div><div class=\"rtl children\"><div class=\"contnr c0 trm rtl  \" ><div class=\"lbl c0 trm \" ><span class=\"nd\">656246</span> <span class=\"txtu hbo\"><span>$</span>{23220\\over 3137} + {{11088\\over 3137}}Ve3 + {{12276\\over 3137}}Ve2 + {{5820\\over 3137}}Ve9 + {{7278\\over 3137}}  Ve4 + {{7788\\over 3137}}Ve6 + {{4536\\over 3137}}Ve18 + {{5022\\over 3137}}Ve12 + {{3186\\over 3137}}Ve36<span>$</span> </span></div></div></div>"
      ],
      "text/plain": [
       "<IPython.core.display.HTML object>"
      ]
     },
     "metadata": {},
     "output_type": "display_data"
    },
    {
     "data": {
      "text/html": [
       "<div class=\"tfsechead rtl\"><span class=\"ltr\">8 8679:4</span></div><div class=\"rtl children\"><div class=\"contnr c0 trm rtl  \" ><div class=\"lbl c0 trm \" ><span class=\"nd\">662520</span> <span class=\"txtu hbo\"><span>$</span>\\sqrt{a} + \\sqrt{b} + \\sqrt{c} = \\sqrt{d} + \\sqrt{e}<span>$</span> </span></div></div></div>"
      ],
      "text/plain": [
       "<IPython.core.display.HTML object>"
      ]
     },
     "metadata": {},
     "output_type": "display_data"
    },
    {
     "data": {
      "text/html": [
       "<div class=\"tfsechead rtl\"><span class=\"ltr\">8 8680:7</span></div><div class=\"rtl children\"><div class=\"contnr c0 trm rtl  \" ><div class=\"lbl c0 trm \" ><span class=\"nd\">663476</span> <span class=\"txtu hbo\"><span>$</span>\\sqrt{ba}<span>$</span> </span></div></div></div>"
      ],
      "text/plain": [
       "<IPython.core.display.HTML object>"
      ]
     },
     "metadata": {},
     "output_type": "display_data"
    },
    {
     "data": {
      "text/html": [
       "<div class=\"tfsechead rtl\"><span class=\"ltr\">8 8682:6</span></div><div class=\"rtl children\"><div class=\"contnr c0 trm rtl  \" ><div class=\"lbl c0 trm \" ><span class=\"nd\">666202</span> <span class=\"txtu hbo\"><span>$</span>\\sqrt{a} + \\sqrt{b} = \\sqrt{c} + \\sqrt{d}<span>$</span> </span></div></div></div>"
      ],
      "text/plain": [
       "<IPython.core.display.HTML object>"
      ]
     },
     "metadata": {},
     "output_type": "display_data"
    },
    {
     "data": {
      "text/html": [
       "<div class=\"tfsechead rtl\"><span class=\"ltr\">8 8682:6</span></div><div class=\"rtl children\"><div class=\"contnr c0 trm rtl  \" ><div class=\"lbl c0 trm \" ><span class=\"nd\">666207</span> <span class=\"txtu hbo\"><span>$</span>a + b + 2\\sqrt{ab} = c + d + 2\\sqrt{cd}<span>$</span> </span></div></div></div>"
      ],
      "text/plain": [
       "<IPython.core.display.HTML object>"
      ]
     },
     "metadata": {},
     "output_type": "display_data"
    },
    {
     "data": {
      "text/html": [
       "<div class=\"tfsechead rtl\"><span class=\"ltr\">8 8682:6</span></div><div class=\"rtl children\"><div class=\"contnr c0 trm rtl  \" ><div class=\"lbl c0 trm \" ><span class=\"nd\">666219</span> <span class=\"txtu hbo\"><span>$</span>\\sqrt{a} + \\sqrt{b} + \\sqrt{c} = \\sqrt{d} + \\sqrt{e} + \\sqrt{f}<span>$</span> </span></div></div></div>"
      ],
      "text/plain": [
       "<IPython.core.display.HTML object>"
      ]
     },
     "metadata": {},
     "output_type": "display_data"
    },
    {
     "data": {
      "text/html": [
       "<div class=\"tfsechead rtl\"><span class=\"ltr\">8 8682:6</span></div><div class=\"rtl children\"><div class=\"contnr c0 trm rtl  \" ><div class=\"lbl c0 trm \" ><span class=\"nd\">666224</span> <span class=\"txtu hbo\"><span>$</span>a + b + c + 2\\sqrt{ab} + 2\\sqrt{ac} + 2\\sqrt{bc} = d + e + f +  2\\sqrt{dc} + 2\\sqrt{df} + 2\\sqrt{ef}<span>$</span> </span></div></div></div>"
      ],
      "text/plain": [
       "<IPython.core.display.HTML object>"
      ]
     },
     "metadata": {},
     "output_type": "display_data"
    },
    {
     "data": {
      "text/html": [
       "<div class=\"tfsechead rtl\"><span class=\"ltr\">8 8687:12</span></div><div class=\"rtl children\"><div class=\"contnr c0 trm rtl  \" ><div class=\"lbl c0 trm \" ><span class=\"nd\">672682</span> <span class=\"txtu hbo\"><span>$</span>{\\rm IH} \\Vert  f \\vert  {\\displaystyle\\strut {da}\\over \\displaystyle\\strut b} - {\\displaystyle\\strut {cd}\\over \\displaystyle\\strut a} + g - {\\displaystyle\\strut a^{2}\\over \\displaystyle\\strut b} + c<span>$</span> </span></div></div></div>"
      ],
      "text/plain": [
       "<IPython.core.display.HTML object>"
      ]
     },
     "metadata": {},
     "output_type": "display_data"
    },
    {
     "data": {
      "text/html": [
       "<div class=\"tfsechead rtl\"><span class=\"ltr\">8 8687:12</span></div><div class=\"rtl children\"><div class=\"contnr c0 trm rtl  \" ><div class=\"lbl c0 trm \" ><span class=\"nd\">672711</span> <span class=\"txtu hbo\"><span>$</span><span>$</span>\\displaylines{+ b^{2}c^{2}d^{2} - 2b^{2}cdga + b^{2}g^{2}a^{2} + 2bdga^{3} - 2bga^{4}\\cr\n",
       " - 2da^{5} + a^{6} = 0 \\cr\n",
       "- 2b^{2}c^{2}da + b^{2}c^{2}a^{2} + 4bdca^{3} - 2bca^{4} \\cr\n",
       "- 2b^{2}cd^{2}a^{2} - 2b^{2}fa^{3} + d^{2}a^{4} \\cr\n",
       "+ 2b^{2}cga^{2} + b^{2}a^{4} \\cr\n",
       "+ b^{2}f^{2}a^{2} \\cr\n",
       "- b^{2}h^{2}a^{2}}<span>$</span><span>$</span> </span></div></div></div>"
      ],
      "text/plain": [
       "<IPython.core.display.HTML object>"
      ]
     },
     "metadata": {},
     "output_type": "display_data"
    },
    {
     "data": {
      "text/html": [
       "<div class=\"tfsechead rtl\"><span class=\"ltr\">8 8687:13</span></div><div class=\"rtl children\"><div class=\"contnr c0 trm rtl  \" ><div class=\"lbl c0 trm \" ><span class=\"nd\">672833</span> <span class=\"txtu hbo\"><span>$</span>\\sqrt{{671\\over 4}}<span>$</span> </span></div></div></div>"
      ],
      "text/plain": [
       "<IPython.core.display.HTML object>"
      ]
     },
     "metadata": {},
     "output_type": "display_data"
    },
    {
     "data": {
      "text/html": [
       "<div class=\"tfsechead rtl\"><span class=\"ltr\">8 8687:13</span></div><div class=\"rtl children\"><div class=\"contnr c0 trm rtl  \" ><div class=\"lbl c0 trm \" ><span class=\"nd\">672847</span> <span class=\"txtu hbo\"><span>$</span>{20736\\over 419375}<span>$</span> </span></div></div></div>"
      ],
      "text/plain": [
       "<IPython.core.display.HTML object>"
      ]
     },
     "metadata": {},
     "output_type": "display_data"
    },
    {
     "data": {
      "text/html": [
       "<div class=\"tfsechead rtl\"><span class=\"ltr\">8 8687:13</span></div><div class=\"rtl children\"><div class=\"contnr c0 trm rtl  \" ><div class=\"lbl c0 trm \" ><span class=\"nd\">672856</span> <span class=\"txtu hbo\"><span>$</span>12{{1\\over 2}}<span>$</span> </span></div></div></div>"
      ],
      "text/plain": [
       "<IPython.core.display.HTML object>"
      ]
     },
     "metadata": {},
     "output_type": "display_data"
    },
    {
     "data": {
      "text/html": [
       "<div class=\"tfsechead rtl\"><span class=\"ltr\">8 8687:13</span></div><div class=\"rtl children\"><div class=\"contnr c0 trm rtl  \" ><div class=\"lbl c0 trm \" ><span class=\"nd\">672863</span> <span class=\"txtu hbo\"><span>$</span>{409\\over 61}<span>$</span> </span></div></div></div>"
      ],
      "text/plain": [
       "<IPython.core.display.HTML object>"
      ]
     },
     "metadata": {},
     "output_type": "display_data"
    },
    {
     "data": {
      "text/html": [
       "<div class=\"tfsechead rtl\"><span class=\"ltr\">8 8687:13</span></div><div class=\"rtl children\"><div class=\"contnr c0 trm rtl  \" ><div class=\"lbl c0 trm \" ><span class=\"nd\">672873</span> <span class=\"txtu hbo\"><span>$</span>{1411200\\over 40931}<span>$</span> </span></div></div></div>"
      ],
      "text/plain": [
       "<IPython.core.display.HTML object>"
      ]
     },
     "metadata": {},
     "output_type": "display_data"
    },
    {
     "data": {
      "text/html": [
       "<div class=\"tfsechead rtl\"><span class=\"ltr\">8 8687:13</span></div><div class=\"rtl children\"><div class=\"contnr c0 trm rtl  \" ><div class=\"lbl c0 trm \" ><span class=\"nd\">672895</span> <span class=\"txtu hbo\"><span>$</span>39{{31\\over 50}}<span>$</span> </span></div></div></div>"
      ],
      "text/plain": [
       "<IPython.core.display.HTML object>"
      ]
     },
     "metadata": {},
     "output_type": "display_data"
    },
    {
     "data": {
      "text/html": [
       "<div class=\"tfsechead rtl\"><span class=\"ltr\">8 8687:14</span></div><div class=\"rtl children\"><div class=\"contnr c0 trm rtl  \" ><div class=\"lbl c0 trm \" ><span class=\"nd\">672958</span> <span class=\"txtu hbo\"><span>$</span>12{{1\\over 2}}<span>$</span> </span></div></div></div>"
      ],
      "text/plain": [
       "<IPython.core.display.HTML object>"
      ]
     },
     "metadata": {},
     "output_type": "display_data"
    }
   ],
   "source": [
    "for n in F.otype.s(\"word\"):\n",
    "    if F.typ.v(n) != \"formula\":\n",
    "        continue\n",
    "    text = F.trans.v(n)\n",
    "    if \"$\" not in text:\n",
    "        continue\n",
    "    A.pretty(n, withNodes=True)"
   ]
  },
  {
   "cell_type": "markdown",
   "metadata": {},
   "source": [
    "### The output\n",
    "\n",
    "The output shows some statistics about the images found in the Uruk data.\n",
    "\n",
    "Then there are links to the documentation.\n",
    "\n",
    "**Tip:** open them, and have a quick look.\n",
    "\n",
    "Every notebook that you set up with `Cunei` will have such links.\n",
    "\n",
    "**GitHub and NBViewer**\n",
    "\n",
    "If you have made your own notebook, and used this incantation,\n",
    "and pushed the notebook to GitHub, links to the online version\n",
    "of *your* notebook on GitHub and NBViewer will be generated and displayed.\n",
    "\n",
    "By the way, GitHub shows notebooks nicely.\n",
    "Sometimes NBViewer does it better, although it fetches exactly the same notebook from GitHub.\n",
    "\n",
    "NBViewer is handy to navigate all the notebooks of a particular organization.\n",
    "Try the [Nino-cunei starting point](http://nbviewer.jupyter.org/github/Nino-cunei/).\n",
    "\n",
    "These links you can share with colleagues."
   ]
  },
  {
   "cell_type": "markdown",
   "metadata": {},
   "source": [
    "## Test\n",
    "\n",
    "We perform a quick test to see that everything works.\n",
    "\n",
    "### Count the signs\n",
    "\n",
    "We count how many signs there are in the corpus.\n",
    "In a next notebook we'll explain code like this."
   ]
  },
  {
   "cell_type": "code",
   "execution_count": null,
   "metadata": {
    "ExecuteTime": {
     "end_time": "2018-05-17T09:33:55.756471Z",
     "start_time": "2018-05-17T09:33:55.746000Z"
    }
   },
   "outputs": [],
   "source": [
    "len(F.otype.s(\"sign\"))"
   ]
  },
  {
   "cell_type": "markdown",
   "metadata": {},
   "source": [
    "### Show photos and lineart\n",
    "\n",
    "We show the photo and lineart of a tablet, to whet your appetite."
   ]
  },
  {
   "cell_type": "code",
   "execution_count": null,
   "metadata": {
    "ExecuteTime": {
     "end_time": "2018-05-17T09:34:09.968339Z",
     "start_time": "2018-05-17T09:34:09.963447Z"
    }
   },
   "outputs": [],
   "source": [
    "example = T.nodeFromSection((\"P005381\",))"
   ]
  },
  {
   "cell_type": "code",
   "execution_count": null,
   "metadata": {
    "ExecuteTime": {
     "end_time": "2018-05-17T09:34:39.740281Z",
     "start_time": "2018-05-17T09:34:39.732573Z"
    }
   },
   "outputs": [],
   "source": [
    "A.photo(example)"
   ]
  },
  {
   "cell_type": "markdown",
   "metadata": {},
   "source": [
    "Note that you can click on the photo to see a better version on CDLI.\n",
    "\n",
    "Here comes the lineart:"
   ]
  },
  {
   "cell_type": "code",
   "execution_count": null,
   "metadata": {
    "ExecuteTime": {
     "end_time": "2018-05-17T09:34:52.818587Z",
     "start_time": "2018-05-17T09:34:52.803184Z"
    }
   },
   "outputs": [],
   "source": [
    "A.lineart(example)"
   ]
  },
  {
   "cell_type": "markdown",
   "metadata": {},
   "source": [
    "A pretty representation of the transcription with embedded lineart for quads and signs:"
   ]
  },
  {
   "cell_type": "code",
   "execution_count": null,
   "metadata": {
    "ExecuteTime": {
     "end_time": "2018-05-17T09:39:55.059912Z",
     "start_time": "2018-05-17T09:39:55.044710Z"
    }
   },
   "outputs": [],
   "source": [
    "A.pretty(example, withNodes=True)"
   ]
  },
  {
   "cell_type": "markdown",
   "metadata": {},
   "source": [
    "We can suppress the lineart:"
   ]
  },
  {
   "cell_type": "code",
   "execution_count": null,
   "metadata": {
    "ExecuteTime": {
     "end_time": "2018-05-09T16:53:12.266894Z",
     "start_time": "2018-05-09T16:53:12.256212Z"
    }
   },
   "outputs": [],
   "source": [
    "A.pretty(example, showGraphics=False)"
   ]
  },
  {
   "cell_type": "markdown",
   "metadata": {},
   "source": [
    "The transliteration:"
   ]
  },
  {
   "cell_type": "code",
   "execution_count": null,
   "metadata": {
    "ExecuteTime": {
     "end_time": "2018-05-17T09:37:28.755437Z",
     "start_time": "2018-05-17T09:37:28.742473Z"
    }
   },
   "outputs": [],
   "source": [
    "A.getSource(example)"
   ]
  },
  {
   "cell_type": "markdown",
   "metadata": {},
   "source": [
    "Now the lines ans cases of this tablet in a table:"
   ]
  },
  {
   "cell_type": "code",
   "execution_count": null,
   "metadata": {},
   "outputs": [],
   "source": [
    "table = []\n",
    "for sub in L.d(example):\n",
    "    if F.otype.v(sub) in {\"line\", \"case\"}:\n",
    "        table.append((sub,))"
   ]
  },
  {
   "cell_type": "code",
   "execution_count": null,
   "metadata": {},
   "outputs": [],
   "source": [
    "A.table(table, showGraphics=False)"
   ]
  },
  {
   "cell_type": "markdown",
   "metadata": {},
   "source": [
    "We can include the lineart in plain displays:"
   ]
  },
  {
   "cell_type": "code",
   "execution_count": null,
   "metadata": {},
   "outputs": [],
   "source": [
    "A.table(table, showGraphics=True)"
   ]
  },
  {
   "cell_type": "markdown",
   "metadata": {},
   "source": [
    "This is just the beginning.\n",
    "\n",
    "In the next chapters we show you how to\n",
    "* fine-tune tablet displays,\n",
    "* step and jump around in the corpus,\n",
    "* search for patterns,\n",
    "* drill down to quads and signs,\n",
    "* and study frequency distributions of signs in subcases."
   ]
  },
  {
   "cell_type": "markdown",
   "metadata": {},
   "source": [
    "# Next\n",
    "\n",
    "[imagery](imagery.ipynb)\n",
    "\n",
    "*Get the big picture ...*\n",
    "\n",
    "All chapters:\n",
    "**start**\n",
    "[imagery](imagery.ipynb)\n",
    "[steps](steps.ipynb)\n",
    "[search](search.ipynb)\n",
    "[calc](calc.ipynb)\n",
    "[signs](signs.ipynb)\n",
    "[quads](quads.ipynb)\n",
    "[jumps](jumps.ipynb)\n",
    "[cases](cases.ipynb)\n",
    "\n",
    "---\n",
    "\n",
    "CC-BY Dirk Roorda"
   ]
  }
 ],
 "metadata": {
  "kernelspec": {
   "display_name": "Python 3 (ipykernel)",
   "language": "python",
   "name": "python3"
  },
  "language_info": {
   "codemirror_mode": {
    "name": "ipython",
    "version": 3
   },
   "file_extension": ".py",
   "mimetype": "text/x-python",
   "name": "python",
   "nbconvert_exporter": "python",
   "pygments_lexer": "ipython3",
   "version": "3.11.1"
  },
  "toc": {
   "base_numbering": 1,
   "nav_menu": {},
   "number_sections": true,
   "sideBar": true,
   "skip_h1_title": true,
   "title_cell": "Table of Contents",
   "title_sidebar": "Contents",
   "toc_cell": true,
   "toc_position": {
    "height": "607px",
    "left": "0px",
    "right": "983px",
    "top": "110px",
    "width": "297px"
   },
   "toc_section_display": "block",
   "toc_window_display": false
  },
  "widgets": {
   "application/vnd.jupyter.widget-state+json": {
    "state": {},
    "version_major": 2,
    "version_minor": 0
   }
  }
 },
 "nbformat": 4,
 "nbformat_minor": 4
}
